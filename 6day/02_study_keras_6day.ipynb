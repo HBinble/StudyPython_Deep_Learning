{
 "cells": [
  {
   "cell_type": "markdown",
   "metadata": {},
   "source": [
    "## Summary"
   ]
  },
  {
   "cell_type": "markdown",
   "metadata": {},
   "source": [
    "### function"
   ]
  },
  {
   "cell_type": "code",
   "execution_count": 387,
   "metadata": {},
   "outputs": [],
   "source": [
    "import numpy as np\n",
    "\n",
    "def sigmoid(x):\n",
    "    return 1/(1+np.exp(-x))\n",
    "\n",
    "def relu(x):\n",
    "    return np.maximum(0,x)\n",
    "\n",
    "def softmax(x):\n",
    "    c = np.max(x,axis=1).reshape(-1,1)\n",
    "    x = x-c\n",
    "    return np.exp(x)/np.sum(np.exp(x),axis=1).reshape(-1,1)\n",
    "\n",
    "def categorical_crossentropy(t,y):\n",
    "    return np.mean(-t*np.log(y+0.0001))\n",
    "\n",
    "def make_one(x):\n",
    "    result = np.zeros((x.size, np.unique(x).size))\n",
    "    for idx1,idx2 in enumerate(x):\n",
    "        result[idx1,idx2] = 1\n",
    "    return result"
   ]
  },
  {
   "cell_type": "markdown",
   "metadata": {},
   "source": [
    "### Relu, Sigmoid, Affine, Loss"
   ]
  },
  {
   "cell_type": "code",
   "execution_count": 364,
   "metadata": {},
   "outputs": [],
   "source": [
    "import numpy as np\n",
    "class Relu:\n",
    "    def __init__(self):\n",
    "        self.mask = None\n",
    "    def forward(self,x):\n",
    "        self.mask = (x <=0)\n",
    "        out = x.copy()\n",
    "        out[self.mask] = 0\n",
    "        return out\n",
    "    def backward(self,dout):\n",
    "        dout[self.mask] = 0\n",
    "        dx = dout\n",
    "        return dx\n",
    "        \n",
    "class Sigmoid:\n",
    "    def __init__(self):\n",
    "        self.out = None\n",
    "    \n",
    "    def forward(self,x):\n",
    "        out = sigmoid(x)\n",
    "        self.out = out\n",
    "        return out\n",
    "    \n",
    "    def backward(self,dout):\n",
    "        dx = ((1-self.out)*self.out)*dout\n",
    "        return dx\n",
    "\n",
    "class Affine:\n",
    "    def __init__(self,W,b):\n",
    "        self.W = W\n",
    "        self.b = b\n",
    "        self.x = None\n",
    "        self.origin_shape = None\n",
    "        self.dW = None\n",
    "        self.db = None\n",
    "    \n",
    "    def forward(self,x):\n",
    "        self.origin_shape = x.shape\n",
    "        self.x = x\n",
    "        out = np.dot(x,self.W) + self.b\n",
    "        return out\n",
    "    \n",
    "    def backward(self,dout):\n",
    "        dx = np.dot(dout,self.W.T)\n",
    "        self.dW = np.dot(self.x.T,dout)\n",
    "        self.db = np.sum(dout,axis=0)\n",
    "        dx = dx.reshape(self.origin_shape)\n",
    "        return dx\n",
    "\n",
    "class Loss:\n",
    "    def __init__(self):\n",
    "        self.loss = None\n",
    "        self.y = None\n",
    "        self.t = None\n",
    "    \n",
    "    def forward(self,t,y):\n",
    "        self.y = softmax(y)\n",
    "        self.t = t\n",
    "        self.loss = categorical_crossentropy(self.t, self.y)\n",
    "        return self.loss\n",
    "    \n",
    "    def backward(self,dout=1):\n",
    "        dx = (self.y - self.t)*dout\n",
    "        return dx"
   ]
  },
  {
   "cell_type": "markdown",
   "metadata": {},
   "source": [
    "### Network => Layers"
   ]
  },
  {
   "cell_type": "code",
   "execution_count": 365,
   "metadata": {},
   "outputs": [],
   "source": [
    "class Layers:\n",
    "    def __init__(self):\n",
    "        self.layers = {}\n",
    "        \n",
    "    def add(self,x1,x2,activation):\n",
    "        activation_dict = {\n",
    "            'sigmoid':Sigmoid,\n",
    "            'relu':Relu,\n",
    "            'softmax':Loss\n",
    "        }\n",
    "        w = np.random.randn(x1,x2)\n",
    "        b = np.zeros(x2)\n",
    "        activation_layer = 'activation'+str((int(len(self.layers)/2+1))) \n",
    "        Affine_layer = 'Affine'+str((int(len(self.layers)/2+1)))\n",
    "        self.layers[Affine_layer] = Affine(w,b)\n",
    "        self.layers[activation_layer] = activation_dict[activation]()\n",
    "        \n",
    "    \n",
    "    def predict(self,x):\n",
    "        out = x.copy()\n",
    "        ind = 1 \n",
    "        layer_len = len(self.layers)\n",
    "        for key, layer in self.layers.items():\n",
    "            if ind < layer_len :\n",
    "                out = layer.forward(out)\n",
    "            ind += 1\n",
    "        return out\n",
    "            \n",
    "    \n",
    "    def loss(self,x,t):\n",
    "        y = self.predict(x)\n",
    "        out = list(self.layers.values())[-1].forward(t,y)\n",
    "        return out\n",
    "    \n",
    "    def accuracy(self,x,t):\n",
    "        y = self.predict(x)\n",
    "        y = np.argmax(y,axis=1)\n",
    "        t = np.argmax(t,axis=1)\n",
    "        self.acc = np.sum(y==t)/t.size\n",
    "        return self.acc\n",
    "    \n",
    "    def gradient(self,x,t):\n",
    "        self.loss(x,t)\n",
    "        lr = 1e-4\n",
    "        dout = 1\n",
    "        dout = list(self.layers.values())[-1].backward(dout)\n",
    "        layers = list(self.layers.values())[::-1][1:]\n",
    "        self.layers_key = list(self.layers.keys())[::-1][1:]\n",
    "        for layer in layers:\n",
    "            dout = layer.backward(dout)\n",
    "        self.grads = {}\n",
    "        for layer_key in self.layers_key:\n",
    "            if 'Affine' in layer_key:\n",
    "                self.grads[layer_key] = [self.layers[layer_key].dW, self.layers[layer_key].db]\n",
    "        for layer_key in self.layers_key:\n",
    "            if 'Affine' in layer_key:\n",
    "                self.layers[layer_key].W -= lr*self.grads[layer_key][0]\n",
    "                self.layers[layer_key].b -= lr*self.grads[layer_key][1]\n",
    "        result = self.loss(x,t)       \n",
    "        return result\n",
    "    \n",
    "    def fit(self,x,t,epochs,lr):\n",
    "        self.lr = lr\n",
    "        self.history = {}\n",
    "        accuracy = []\n",
    "        loss = []\n",
    "        for epoch in range(epochs):\n",
    "            self.gradient(x,t)\n",
    "            loss.append(self.err)\n",
    "            accuracy.append(self.accuracy(x,t))\n",
    "            if epoch % 100 == 0:\n",
    "                print(f'loss : {self.err} === accuracy : {self.accuracy(x,t)}')\n",
    "        self.history['accuracy'] = accuracy\n",
    "        self.history['loss'] = loss\n",
    "                "
   ]
  },
  {
   "cell_type": "code",
   "execution_count": 366,
   "metadata": {},
   "outputs": [],
   "source": [
    "network = Layers()"
   ]
  },
  {
   "cell_type": "code",
   "execution_count": 367,
   "metadata": {},
   "outputs": [],
   "source": [
    "network.add(4,10,\"relu\")"
   ]
  },
  {
   "cell_type": "code",
   "execution_count": 368,
   "metadata": {},
   "outputs": [],
   "source": [
    "network.add(10,3,\"sigmoid\")"
   ]
  },
  {
   "cell_type": "code",
   "execution_count": 369,
   "metadata": {},
   "outputs": [],
   "source": [
    "network.add(3,4,\"softmax\")"
   ]
  },
  {
   "cell_type": "code",
   "execution_count": 370,
   "metadata": {},
   "outputs": [],
   "source": [
    "x = np.random.randn(100,4)"
   ]
  },
  {
   "cell_type": "code",
   "execution_count": 371,
   "metadata": {},
   "outputs": [
    {
     "data": {
      "text/plain": [
       "(100, 4)"
      ]
     },
     "execution_count": 371,
     "metadata": {},
     "output_type": "execute_result"
    }
   ],
   "source": [
    "network.predict(x).shape"
   ]
  },
  {
   "cell_type": "code",
   "execution_count": 372,
   "metadata": {},
   "outputs": [
    {
     "data": {
      "text/plain": [
       "(100, 4)"
      ]
     },
     "execution_count": 372,
     "metadata": {},
     "output_type": "execute_result"
    }
   ],
   "source": [
    "t = make_one(np.random.randint(0,4,100))\n",
    "t.shape"
   ]
  },
  {
   "cell_type": "code",
   "execution_count": 373,
   "metadata": {},
   "outputs": [
    {
     "data": {
      "text/plain": [
       "0.4697572029696209"
      ]
     },
     "execution_count": 373,
     "metadata": {},
     "output_type": "execute_result"
    }
   ],
   "source": [
    "network.loss(x,t)"
   ]
  },
  {
   "cell_type": "code",
   "execution_count": 374,
   "metadata": {},
   "outputs": [
    {
     "data": {
      "text/plain": [
       "0.4684668781838815"
      ]
     },
     "execution_count": 374,
     "metadata": {},
     "output_type": "execute_result"
    }
   ],
   "source": [
    "network.gradient(x,t)"
   ]
  },
  {
   "cell_type": "code",
   "execution_count": 375,
   "metadata": {},
   "outputs": [
    {
     "name": "stdout",
     "output_type": "stream",
     "text": [
      "0.4671913282017486\n",
      "0.46593037428593276\n",
      "0.464683839970117\n",
      "0.4634515510334303\n",
      "0.46223333547382967\n",
      "0.46102902348053315\n",
      "0.45983844740564306\n",
      "0.45866144173509676\n",
      "0.45749776921769514\n",
      "0.45634707622749815\n",
      "0.45520946136908236\n",
      "0.4540847676451251\n",
      "0.45297284004211674\n",
      "0.45187352549953674\n",
      "0.4507866728791619\n",
      "0.44971213293459655\n",
      "0.44864975828110404\n",
      "0.4475994033658153\n",
      "0.44656092443838136\n",
      "0.4455341795221274\n",
      "0.4445190283857613\n",
      "0.44351533251568126\n",
      "0.4425229550889178\n",
      "0.44154176094674347\n",
      "0.44057161656897065\n",
      "0.43961239004895697\n",
      "0.43866395106932915\n",
      "0.4377261708784301\n",
      "0.43679892226749084\n",
      "0.4358820795485218\n",
      "0.43497551853291616\n",
      "0.434079116510751\n",
      "0.4331927522307708\n",
      "0.432316693947785\n",
      "0.43145176990072087\n",
      "0.4305965340178686\n",
      "0.4297508703991951\n",
      "0.4289146645140157\n",
      "0.42808843720868395\n",
      "0.42727502122326777\n",
      "0.42647065453614025\n",
      "0.425675229314576\n",
      "0.42488908280358456\n",
      "0.42411262247003506\n",
      "0.42334476670483256\n",
      "0.42258541242844344\n",
      "0.4218344578008103\n",
      "0.42109180220826004\n",
      "0.4203573462506353\n",
      "0.4196309917286326\n",
      "0.4189126416313278\n",
      "0.4182022001238756\n",
      "0.4174995725353668\n",
      "0.41680466534683225\n",
      "0.4161173861793808\n",
      "0.415437643782462\n",
      "0.4147653480222441\n",
      "0.41410040987010055\n",
      "0.41344274139119813\n",
      "0.41279225573318046\n",
      "0.41214886711494414\n",
      "0.4115124908155026\n",
      "0.41088304316293417\n",
      "0.4102604415234141\n",
      "0.4096446042903274\n",
      "0.40903545087346077\n",
      "0.4084329016882747\n",
      "0.4078368781452535\n",
      "0.4072473026393336\n",
      "0.4066640985394096\n",
      "0.4060871901779191\n",
      "0.4055165028405046\n",
      "0.404951962755753\n",
      "0.40439349708501365\n",
      "0.40384103391229287\n",
      "0.403294346583968\n",
      "0.40275335824122105\n",
      "0.4022182073790674\n",
      "0.4016889025514041\n",
      "0.40116518520772004\n",
      "0.40064699015158867\n",
      "0.4001342530411541\n",
      "0.39962691037898834\n",
      "0.3991249991216143\n",
      "0.39862916070502785\n",
      "0.3981385025209258\n",
      "0.39765296499474523\n",
      "0.39717248933461763\n",
      "0.39669701752181574\n",
      "0.3962264923012518\n",
      "0.39576072098269366\n",
      "0.3952994692980117\n",
      "0.39484298986963146\n",
      "0.39439122857613923\n",
      "0.39394413201295164\n",
      "0.3935016474830389\n",
      "0.39306372298768283\n",
      "0.39263030721726694\n",
      "0.39220134954209757\n",
      "0.3917768000032538\n"
     ]
    }
   ],
   "source": [
    "epochs = 100\n",
    "for epoch in range(epochs):\n",
    "    print(network.gradient(x,t))"
   ]
  },
  {
   "cell_type": "markdown",
   "metadata": {},
   "source": [
    "## tensorflow, keras"
   ]
  },
  {
   "cell_type": "code",
   "execution_count": 376,
   "metadata": {},
   "outputs": [],
   "source": [
    "## 데이터 정리\n",
    "## network 설계 X 데이터의 shape, y 데이터의 shape\n",
    "## 모델학습"
   ]
  },
  {
   "cell_type": "code",
   "execution_count": 377,
   "metadata": {},
   "outputs": [],
   "source": [
    "## 필요한 모듈 호출\n",
    "from tensorflow import keras\n",
    "from keras.datasets import mnist\n",
    "from keras.utils import to_categorical\n",
    "import matplotlib.pyplot as plt"
   ]
  },
  {
   "cell_type": "code",
   "execution_count": 378,
   "metadata": {},
   "outputs": [],
   "source": [
    "## 데이터 정리\n",
    "(X_train, y_train), (X_test, y_test) = mnist.load_data()"
   ]
  },
  {
   "cell_type": "code",
   "execution_count": 379,
   "metadata": {},
   "outputs": [
    {
     "name": "stdout",
     "output_type": "stream",
     "text": [
      "(60000, 28, 28)\n",
      "(10000, 28, 28)\n"
     ]
    }
   ],
   "source": [
    "## 데이터 확인\n",
    "print(X_train.shape)\n",
    "print(X_test.shape)"
   ]
  },
  {
   "cell_type": "code",
   "execution_count": 380,
   "metadata": {},
   "outputs": [
    {
     "data": {
      "text/plain": [
       "(60000, 784)"
      ]
     },
     "execution_count": 380,
     "metadata": {},
     "output_type": "execute_result"
    }
   ],
   "source": [
    "## X 데이터 변환\n",
    "X_train = X_train.reshape(-1,28*28)\n",
    "X_train.shape"
   ]
  },
  {
   "cell_type": "code",
   "execution_count": 381,
   "metadata": {},
   "outputs": [
    {
     "data": {
      "text/plain": [
       "(60000, 10)"
      ]
     },
     "execution_count": 381,
     "metadata": {},
     "output_type": "execute_result"
    }
   ],
   "source": [
    "## y 데이터 변환\n",
    "y_train.shape\n",
    "# 정수 인코딩 되어 있음\n",
    "np.unique(y_train).size\n",
    "#  -> one-hot 인코딩으로 필요\n",
    "y_train = to_categorical(y_train)\n",
    "y_train.shape ##(60000,10)"
   ]
  },
  {
   "cell_type": "code",
   "execution_count": 382,
   "metadata": {},
   "outputs": [],
   "source": [
    "model = Layers()"
   ]
  },
  {
   "cell_type": "code",
   "execution_count": 383,
   "metadata": {},
   "outputs": [],
   "source": [
    "model.add(784,2048,'relu')\n",
    "model.add(2048,1024,'relu')\n",
    "model.add(1024,512,'relu')\n",
    "model.add(512,10,'softmax')"
   ]
  },
  {
   "cell_type": "code",
   "execution_count": 384,
   "metadata": {},
   "outputs": [
    {
     "data": {
      "text/plain": [
       "(784, 2048)"
      ]
     },
     "execution_count": 384,
     "metadata": {},
     "output_type": "execute_result"
    }
   ],
   "source": [
    "model.layers[\"Affine1\"].W.shape"
   ]
  },
  {
   "cell_type": "code",
   "execution_count": 385,
   "metadata": {},
   "outputs": [],
   "source": [
    "# model.predict(X_train).shape"
   ]
  },
  {
   "cell_type": "code",
   "execution_count": 386,
   "metadata": {},
   "outputs": [
    {
     "name": "stdout",
     "output_type": "stream",
     "text": [
      "0.832045836293497\n"
     ]
    },
    {
     "ename": "KeyboardInterrupt",
     "evalue": "",
     "output_type": "error",
     "traceback": [
      "\u001b[1;31m---------------------------------------------------------------------------\u001b[0m",
      "\u001b[1;31mKeyboardInterrupt\u001b[0m                         Traceback (most recent call last)",
      "\u001b[1;32mc:\\Users\\admin\\STUDY\\StudyPython_Deep_Learning\\6day\\02_study_keras_6day.ipynb 셀 29\u001b[0m in \u001b[0;36m<cell line: 1>\u001b[1;34m()\u001b[0m\n\u001b[0;32m      <a href='vscode-notebook-cell:/c%3A/Users/admin/STUDY/StudyPython_Deep_Learning/6day/02_study_keras_6day.ipynb#X63sZmlsZQ%3D%3D?line=0'>1</a>\u001b[0m \u001b[39mfor\u001b[39;00m i \u001b[39min\u001b[39;00m \u001b[39mrange\u001b[39m(\u001b[39m10\u001b[39m):\n\u001b[1;32m----> <a href='vscode-notebook-cell:/c%3A/Users/admin/STUDY/StudyPython_Deep_Learning/6day/02_study_keras_6day.ipynb#X63sZmlsZQ%3D%3D?line=1'>2</a>\u001b[0m     \u001b[39mprint\u001b[39m(model\u001b[39m.\u001b[39;49mgradient(X_train,y_train))\n",
      "\u001b[1;32mc:\\Users\\admin\\STUDY\\StudyPython_Deep_Learning\\6day\\02_study_keras_6day.ipynb 셀 29\u001b[0m in \u001b[0;36mLayers.gradient\u001b[1;34m(self, x, t)\u001b[0m\n\u001b[0;32m     <a href='vscode-notebook-cell:/c%3A/Users/admin/STUDY/StudyPython_Deep_Learning/6day/02_study_keras_6day.ipynb#X63sZmlsZQ%3D%3D?line=56'>57</a>\u001b[0m         \u001b[39mself\u001b[39m\u001b[39m.\u001b[39mlayers[layer_key]\u001b[39m.\u001b[39mW \u001b[39m-\u001b[39m\u001b[39m=\u001b[39m lr\u001b[39m*\u001b[39m\u001b[39mself\u001b[39m\u001b[39m.\u001b[39mgrads[layer_key][\u001b[39m0\u001b[39m]\n\u001b[0;32m     <a href='vscode-notebook-cell:/c%3A/Users/admin/STUDY/StudyPython_Deep_Learning/6day/02_study_keras_6day.ipynb#X63sZmlsZQ%3D%3D?line=57'>58</a>\u001b[0m         \u001b[39mself\u001b[39m\u001b[39m.\u001b[39mlayers[layer_key]\u001b[39m.\u001b[39mb \u001b[39m-\u001b[39m\u001b[39m=\u001b[39m lr\u001b[39m*\u001b[39m\u001b[39mself\u001b[39m\u001b[39m.\u001b[39mgrads[layer_key][\u001b[39m1\u001b[39m]\n\u001b[1;32m---> <a href='vscode-notebook-cell:/c%3A/Users/admin/STUDY/StudyPython_Deep_Learning/6day/02_study_keras_6day.ipynb#X63sZmlsZQ%3D%3D?line=58'>59</a>\u001b[0m result \u001b[39m=\u001b[39m \u001b[39mself\u001b[39;49m\u001b[39m.\u001b[39;49mloss(x,t)       \n\u001b[0;32m     <a href='vscode-notebook-cell:/c%3A/Users/admin/STUDY/StudyPython_Deep_Learning/6day/02_study_keras_6day.ipynb#X63sZmlsZQ%3D%3D?line=59'>60</a>\u001b[0m \u001b[39mreturn\u001b[39;00m result\n",
      "\u001b[1;32mc:\\Users\\admin\\STUDY\\StudyPython_Deep_Learning\\6day\\02_study_keras_6day.ipynb 셀 29\u001b[0m in \u001b[0;36mLayers.loss\u001b[1;34m(self, x, t)\u001b[0m\n\u001b[0;32m     <a href='vscode-notebook-cell:/c%3A/Users/admin/STUDY/StudyPython_Deep_Learning/6day/02_study_keras_6day.ipynb#X63sZmlsZQ%3D%3D?line=29'>30</a>\u001b[0m \u001b[39mdef\u001b[39;00m \u001b[39mloss\u001b[39m(\u001b[39mself\u001b[39m,x,t):\n\u001b[1;32m---> <a href='vscode-notebook-cell:/c%3A/Users/admin/STUDY/StudyPython_Deep_Learning/6day/02_study_keras_6day.ipynb#X63sZmlsZQ%3D%3D?line=30'>31</a>\u001b[0m     y \u001b[39m=\u001b[39m \u001b[39mself\u001b[39;49m\u001b[39m.\u001b[39;49mpredict(x)\n\u001b[0;32m     <a href='vscode-notebook-cell:/c%3A/Users/admin/STUDY/StudyPython_Deep_Learning/6day/02_study_keras_6day.ipynb#X63sZmlsZQ%3D%3D?line=31'>32</a>\u001b[0m     out \u001b[39m=\u001b[39m \u001b[39mlist\u001b[39m(\u001b[39mself\u001b[39m\u001b[39m.\u001b[39mlayers\u001b[39m.\u001b[39mvalues())[\u001b[39m-\u001b[39m\u001b[39m1\u001b[39m]\u001b[39m.\u001b[39mforward(t,y)\n\u001b[0;32m     <a href='vscode-notebook-cell:/c%3A/Users/admin/STUDY/StudyPython_Deep_Learning/6day/02_study_keras_6day.ipynb#X63sZmlsZQ%3D%3D?line=32'>33</a>\u001b[0m     \u001b[39mreturn\u001b[39;00m out\n",
      "\u001b[1;32mc:\\Users\\admin\\STUDY\\StudyPython_Deep_Learning\\6day\\02_study_keras_6day.ipynb 셀 29\u001b[0m in \u001b[0;36mLayers.predict\u001b[1;34m(self, x)\u001b[0m\n\u001b[0;32m     <a href='vscode-notebook-cell:/c%3A/Users/admin/STUDY/StudyPython_Deep_Learning/6day/02_study_keras_6day.ipynb#X63sZmlsZQ%3D%3D?line=22'>23</a>\u001b[0m \u001b[39mfor\u001b[39;00m key, layer \u001b[39min\u001b[39;00m \u001b[39mself\u001b[39m\u001b[39m.\u001b[39mlayers\u001b[39m.\u001b[39mitems():\n\u001b[0;32m     <a href='vscode-notebook-cell:/c%3A/Users/admin/STUDY/StudyPython_Deep_Learning/6day/02_study_keras_6day.ipynb#X63sZmlsZQ%3D%3D?line=23'>24</a>\u001b[0m     \u001b[39mif\u001b[39;00m ind \u001b[39m<\u001b[39m layer_len :\n\u001b[1;32m---> <a href='vscode-notebook-cell:/c%3A/Users/admin/STUDY/StudyPython_Deep_Learning/6day/02_study_keras_6day.ipynb#X63sZmlsZQ%3D%3D?line=24'>25</a>\u001b[0m         out \u001b[39m=\u001b[39m layer\u001b[39m.\u001b[39;49mforward(out)\n\u001b[0;32m     <a href='vscode-notebook-cell:/c%3A/Users/admin/STUDY/StudyPython_Deep_Learning/6day/02_study_keras_6day.ipynb#X63sZmlsZQ%3D%3D?line=25'>26</a>\u001b[0m     ind \u001b[39m+\u001b[39m\u001b[39m=\u001b[39m \u001b[39m1\u001b[39m\n\u001b[0;32m     <a href='vscode-notebook-cell:/c%3A/Users/admin/STUDY/StudyPython_Deep_Learning/6day/02_study_keras_6day.ipynb#X63sZmlsZQ%3D%3D?line=26'>27</a>\u001b[0m \u001b[39mreturn\u001b[39;00m out\n",
      "\u001b[1;32mc:\\Users\\admin\\STUDY\\StudyPython_Deep_Learning\\6day\\02_study_keras_6day.ipynb 셀 29\u001b[0m in \u001b[0;36mAffine.forward\u001b[1;34m(self, x)\u001b[0m\n\u001b[0;32m     <a href='vscode-notebook-cell:/c%3A/Users/admin/STUDY/StudyPython_Deep_Learning/6day/02_study_keras_6day.ipynb#X63sZmlsZQ%3D%3D?line=37'>38</a>\u001b[0m \u001b[39mself\u001b[39m\u001b[39m.\u001b[39morigin_shape \u001b[39m=\u001b[39m x\u001b[39m.\u001b[39mshape\n\u001b[0;32m     <a href='vscode-notebook-cell:/c%3A/Users/admin/STUDY/StudyPython_Deep_Learning/6day/02_study_keras_6day.ipynb#X63sZmlsZQ%3D%3D?line=38'>39</a>\u001b[0m \u001b[39mself\u001b[39m\u001b[39m.\u001b[39mx \u001b[39m=\u001b[39m x\n\u001b[1;32m---> <a href='vscode-notebook-cell:/c%3A/Users/admin/STUDY/StudyPython_Deep_Learning/6day/02_study_keras_6day.ipynb#X63sZmlsZQ%3D%3D?line=39'>40</a>\u001b[0m out \u001b[39m=\u001b[39m np\u001b[39m.\u001b[39;49mdot(x,\u001b[39mself\u001b[39;49m\u001b[39m.\u001b[39;49mW) \u001b[39m+\u001b[39m \u001b[39mself\u001b[39m\u001b[39m.\u001b[39mb\n\u001b[0;32m     <a href='vscode-notebook-cell:/c%3A/Users/admin/STUDY/StudyPython_Deep_Learning/6day/02_study_keras_6day.ipynb#X63sZmlsZQ%3D%3D?line=40'>41</a>\u001b[0m \u001b[39mreturn\u001b[39;00m out\n",
      "File \u001b[1;32m<__array_function__ internals>:5\u001b[0m, in \u001b[0;36mdot\u001b[1;34m(*args, **kwargs)\u001b[0m\n",
      "\u001b[1;31mKeyboardInterrupt\u001b[0m: "
     ]
    }
   ],
   "source": [
    "for i in range(100):\n",
    "    print(model.gradient(X_train,y_train))"
   ]
  },
  {
   "cell_type": "code",
   "execution_count": null,
   "metadata": {},
   "outputs": [],
   "source": [
    "pred = model.predict(X_test.reshape(-1,28*28))"
   ]
  },
  {
   "cell_type": "code",
   "execution_count": null,
   "metadata": {},
   "outputs": [],
   "source": [
    "pred = np.argmax(pred, axis=1)"
   ]
  },
  {
   "cell_type": "code",
   "execution_count": null,
   "metadata": {},
   "outputs": [
    {
     "data": {
      "text/plain": [
       "0.0963"
      ]
     },
     "execution_count": 359,
     "metadata": {},
     "output_type": "execute_result"
    }
   ],
   "source": [
    "np.sum(pred == y_test)/y_test.size"
   ]
  },
  {
   "cell_type": "code",
   "execution_count": null,
   "metadata": {},
   "outputs": [
    {
     "data": {
      "text/plain": [
       "array([7, 2, 1, ..., 4, 5, 6], dtype=uint8)"
      ]
     },
     "execution_count": 360,
     "metadata": {},
     "output_type": "execute_result"
    }
   ],
   "source": [
    "y_test"
   ]
  }
 ],
 "metadata": {
  "kernelspec": {
   "display_name": "ml_kernel",
   "language": "python",
   "name": "ml"
  },
  "language_info": {
   "codemirror_mode": {
    "name": "ipython",
    "version": 3
   },
   "file_extension": ".py",
   "mimetype": "text/x-python",
   "name": "python",
   "nbconvert_exporter": "python",
   "pygments_lexer": "ipython3",
   "version": "3.9.12"
  },
  "orig_nbformat": 4,
  "vscode": {
   "interpreter": {
    "hash": "05c03c084d6fbf40f52fefc6f13b3f69bfd7974636660a41db226d0342de17f7"
   }
  }
 },
 "nbformat": 4,
 "nbformat_minor": 2
}
