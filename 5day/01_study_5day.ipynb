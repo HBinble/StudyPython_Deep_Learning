{
 "cells": [
  {
   "cell_type": "markdown",
   "metadata": {},
   "source": [
    "## 오차역전파법(Backpropagation)"
   ]
  },
  {
   "cell_type": "code",
   "execution_count": 2,
   "metadata": {},
   "outputs": [],
   "source": [
    "class AddNode:\n",
    "    def __init__(self):\n",
    "        pass\n",
    "    \n",
    "    def forward(self,x,y):\n",
    "        self.x = x\n",
    "        self.y = y\n",
    "        out = self.x+self.y\n",
    "        return out\n",
    "    \n",
    "    def backward(self, dout):\n",
    "        dx = dout*1\n",
    "        dy = dout*1\n",
    "        return dx, dy\n",
    "    \n",
    "class MulNode:\n",
    "    def __init__(self):\n",
    "        self.x = None\n",
    "        self.y = None\n",
    "        \n",
    "    def forward(self,x,y):\n",
    "        self.x = x\n",
    "        self.y = y\n",
    "        out = self.x*self.y\n",
    "        return out\n",
    "    \n",
    "    def backward(self, dout):\n",
    "        dx = self.y*dout\n",
    "        dy = self.x*dout\n",
    "        return dx, dy\n",
    "        "
   ]
  },
  {
   "cell_type": "code",
   "execution_count": 3,
   "metadata": {},
   "outputs": [],
   "source": [
    "apple = 100\n",
    "apple_num = 2\n",
    "banana = 300\n",
    "banana_num = 5\n",
    "tax = 1.1"
   ]
  },
  {
   "cell_type": "code",
   "execution_count": 4,
   "metadata": {},
   "outputs": [],
   "source": [
    "### 흐름\n",
    "# ### forward\n",
    "# apple_buy_result = apple_buy.forward(apple_price,apple_num)\n",
    "# banana_buy_result = banana_buy.forward(banana_price,banana_num)\n",
    "# apple_total = MulNode(apple_buy_result,tax)\n",
    "# apple_total_price = apple_total.forward(apple_buy_result,tax)\n",
    "# banana_total = MulNode(banana_buy,tax)\n",
    "# banana_total_price = banana_total.forward(banana_buy_result,tax)\n",
    "\n",
    "# total_price = AddNode()\n",
    "# total_price_result = total_price.forward(apple_total_price,banana_total_price)\n",
    "# total_price_result\n",
    "\n",
    "# ### backward\n",
    "# total_price.backward(total_price_result)\n",
    "# print(apple_total_price)\n",
    "# print(banana_total_price)"
   ]
  },
  {
   "cell_type": "code",
   "execution_count": 5,
   "metadata": {},
   "outputs": [],
   "source": [
    "# mul_apple_layer = MulNode()\n",
    "# mul_banana_layer = MulNode()\n",
    "\n",
    "# apple_price = mul_apple_layer.forward(apple_price, apple_num)\n",
    "# banana_price = mul_banana_layer.forward(banana_price, banana_num)\n",
    "\n",
    "# apple_total_price = mul_apple_layer.forward(apple_price,tax)\n",
    "# banana_total_price = mul_banana_layer.forward(banana_price,tax)\n",
    "\n",
    "# dout = 1\n",
    "# dx, dy = mul_apple_layer.backward(dout)"
   ]
  },
  {
   "cell_type": "code",
   "execution_count": 6,
   "metadata": {},
   "outputs": [],
   "source": [
    "mul_apple_layer = MulNode()\n",
    "mul_apple_tax_layer = MulNode()"
   ]
  },
  {
   "cell_type": "code",
   "execution_count": 7,
   "metadata": {},
   "outputs": [],
   "source": [
    "apple_price = mul_apple_layer.forward(apple, apple_num)"
   ]
  },
  {
   "cell_type": "code",
   "execution_count": 8,
   "metadata": {},
   "outputs": [],
   "source": [
    "apple_total_price = mul_apple_tax_layer.forward(apple_price, tax)"
   ]
  },
  {
   "cell_type": "code",
   "execution_count": 9,
   "metadata": {},
   "outputs": [
    {
     "data": {
      "text/plain": [
       "220.00000000000003"
      ]
     },
     "execution_count": 9,
     "metadata": {},
     "output_type": "execute_result"
    }
   ],
   "source": [
    "apple_total_price"
   ]
  },
  {
   "cell_type": "code",
   "execution_count": 10,
   "metadata": {},
   "outputs": [],
   "source": [
    "dout = 1\n",
    "dapple, dtax = mul_apple_tax_layer.backward(dout)"
   ]
  },
  {
   "cell_type": "code",
   "execution_count": 11,
   "metadata": {},
   "outputs": [
    {
     "name": "stdout",
     "output_type": "stream",
     "text": [
      "1.1\n",
      "200\n"
     ]
    }
   ],
   "source": [
    "print(dapple)\n",
    "print(dtax)"
   ]
  },
  {
   "cell_type": "code",
   "execution_count": 12,
   "metadata": {},
   "outputs": [],
   "source": [
    "mul_banana_layer = MulNode()\n",
    "mul_banana_tax_layer = MulNode()"
   ]
  },
  {
   "cell_type": "code",
   "execution_count": 13,
   "metadata": {},
   "outputs": [],
   "source": [
    "banana_price = mul_banana_layer.forward(banana,banana_num)\n",
    "banana_total_price = mul_banana_tax_layer.forward(banana_price,tax)"
   ]
  },
  {
   "cell_type": "code",
   "execution_count": 14,
   "metadata": {},
   "outputs": [],
   "source": [
    "dout = 1\n",
    "dbanana, dtax = mul_banana_tax_layer.backward(dout)"
   ]
  },
  {
   "cell_type": "code",
   "execution_count": 15,
   "metadata": {},
   "outputs": [
    {
     "name": "stdout",
     "output_type": "stream",
     "text": [
      "1.1\n",
      "1500\n"
     ]
    }
   ],
   "source": [
    "print(dbanana)\n",
    "print(dtax)"
   ]
  },
  {
   "cell_type": "code",
   "execution_count": 16,
   "metadata": {},
   "outputs": [],
   "source": [
    "total_layer = AddNode()"
   ]
  },
  {
   "cell_type": "code",
   "execution_count": 17,
   "metadata": {},
   "outputs": [
    {
     "data": {
      "text/plain": [
       "1870.0000000000002"
      ]
     },
     "execution_count": 17,
     "metadata": {},
     "output_type": "execute_result"
    }
   ],
   "source": [
    "total_layer.forward(apple_total_price,banana_total_price)"
   ]
  },
  {
   "cell_type": "code",
   "execution_count": 18,
   "metadata": {},
   "outputs": [
    {
     "data": {
      "text/plain": [
       "(1, 1)"
      ]
     },
     "execution_count": 18,
     "metadata": {},
     "output_type": "execute_result"
    }
   ],
   "source": [
    "total_layer.backward(dout=1)"
   ]
  },
  {
   "cell_type": "code",
   "execution_count": 19,
   "metadata": {},
   "outputs": [
    {
     "name": "stdout",
     "output_type": "stream",
     "text": [
      "220.00000000000003\n",
      "1650.0000000000002\n"
     ]
    }
   ],
   "source": [
    "print(total_layer.x)\n",
    "print(total_layer.y)"
   ]
  },
  {
   "cell_type": "code",
   "execution_count": 20,
   "metadata": {},
   "outputs": [],
   "source": [
    "mul_apple_layer = MulNode()\n",
    "mul_banana_layer = MulNode()\n",
    "add_apple_banana_layer = AddNode()\n",
    "mul_tax_layer = MulNode()"
   ]
  },
  {
   "cell_type": "code",
   "execution_count": 21,
   "metadata": {},
   "outputs": [],
   "source": [
    "apple_price = mul_apple_layer.forward(apple, apple_num)\n",
    "banana_price = mul_banana_layer.forward(banana, banana_num)"
   ]
  },
  {
   "cell_type": "code",
   "execution_count": 22,
   "metadata": {},
   "outputs": [],
   "source": [
    "all_price = add_apple_banana_layer.forward(apple_price, banana_price)"
   ]
  },
  {
   "cell_type": "code",
   "execution_count": 23,
   "metadata": {},
   "outputs": [],
   "source": [
    "total_price = mul_tax_layer.forward(all_price,tax)"
   ]
  },
  {
   "cell_type": "code",
   "execution_count": 24,
   "metadata": {},
   "outputs": [
    {
     "name": "stdout",
     "output_type": "stream",
     "text": [
      "apple_price = 200\n",
      "banana_price = 1500\n",
      "all_price = 1700\n",
      "total_price = 1870.0000000000002\n"
     ]
    }
   ],
   "source": [
    "print(f'apple_price = {apple_price}')\n",
    "print(f'banana_price = {banana_price}')\n",
    "print(f'all_price = {all_price}')\n",
    "print(f'total_price = {total_price}')\n"
   ]
  },
  {
   "cell_type": "code",
   "execution_count": 25,
   "metadata": {},
   "outputs": [],
   "source": [
    "### 역전파(backward)"
   ]
  },
  {
   "cell_type": "code",
   "execution_count": 26,
   "metadata": {},
   "outputs": [],
   "source": [
    "dout = 1\n",
    "dall_price,dtax = mul_tax_layer.backward(dout)"
   ]
  },
  {
   "cell_type": "code",
   "execution_count": 27,
   "metadata": {},
   "outputs": [
    {
     "data": {
      "text/plain": [
       "1.1"
      ]
     },
     "execution_count": 27,
     "metadata": {},
     "output_type": "execute_result"
    }
   ],
   "source": [
    "dall_price"
   ]
  },
  {
   "cell_type": "code",
   "execution_count": 28,
   "metadata": {},
   "outputs": [],
   "source": [
    "dapple_price, dbanana_price = add_apple_banana_layer.backward(dall_price)"
   ]
  },
  {
   "cell_type": "code",
   "execution_count": 29,
   "metadata": {},
   "outputs": [
    {
     "data": {
      "text/plain": [
       "1.1"
      ]
     },
     "execution_count": 29,
     "metadata": {},
     "output_type": "execute_result"
    }
   ],
   "source": [
    "dapple_price"
   ]
  },
  {
   "cell_type": "code",
   "execution_count": 30,
   "metadata": {},
   "outputs": [],
   "source": [
    "dapple, dapple_num = mul_apple_layer.backward(dapple_price)\n"
   ]
  },
  {
   "cell_type": "code",
   "execution_count": 31,
   "metadata": {},
   "outputs": [
    {
     "name": "stdout",
     "output_type": "stream",
     "text": [
      "2.2\n",
      "110.00000000000001\n"
     ]
    }
   ],
   "source": [
    "print(dapple)\n",
    "print(dapple_num)"
   ]
  },
  {
   "cell_type": "code",
   "execution_count": 32,
   "metadata": {},
   "outputs": [],
   "source": [
    "dbanana, dbanana_num = mul_banana_layer.backward(dbanana_price)"
   ]
  },
  {
   "cell_type": "code",
   "execution_count": 33,
   "metadata": {},
   "outputs": [
    {
     "name": "stdout",
     "output_type": "stream",
     "text": [
      "5.5\n",
      "330.0\n"
     ]
    }
   ],
   "source": [
    "print(dbanana)\n",
    "print(dbanana_num)"
   ]
  },
  {
   "cell_type": "markdown",
   "metadata": {},
   "source": [
    "## Relu, Sigmoid, Affine, Loss"
   ]
  },
  {
   "cell_type": "code",
   "execution_count": 34,
   "metadata": {},
   "outputs": [],
   "source": [
    "import numpy as np\n",
    "\n",
    "def sigmoid(x):\n",
    "    return 1/(1+np.exp(-x))\n",
    "\n",
    "def relu(x):\n",
    "    return np.maximum(0,x)\n",
    "\n",
    "def softmax(x):\n",
    "    c = np.max(x,axis=1).reshape(-1,1)\n",
    "    x = x-c\n",
    "    return np.exp(x)/np.sum(np.exp(x),axis=1).reshape(-1,1)\n",
    "\n",
    "def categorical_crossentropy(y,t):\n",
    "    return np.mean(-t*np.log(y))"
   ]
  },
  {
   "cell_type": "code",
   "execution_count": 35,
   "metadata": {},
   "outputs": [],
   "source": [
    "### Relu, Sigmoid, Affine, Loss\n",
    "\n",
    "class Relu:\n",
    "    def __init__(self):\n",
    "        self.mask = None    \n",
    "        \n",
    "    def forward(self,x):\n",
    "        self.mask = (x <=0)\n",
    "        out = x.copy()\n",
    "        out[self.mask] = 0\n",
    "        return out\n",
    "    \n",
    "    def backward(self,dout):\n",
    "        dout[self.mask] = 0\n",
    "        dx = dout\n",
    "        return dx\n",
    "    \n",
    "class Sigmoid:\n",
    "    def __init__(self):\n",
    "        self.out = None\n",
    "    \n",
    "    def forward(self,x):\n",
    "        out = sigmoid(x)\n",
    "        self.out = out\n",
    "        return self.out\n",
    "    def backward(self,dout):\n",
    "        dx = ((1-self.out)*self.out)*dout\n",
    "        return dx\n",
    "    \n",
    "class Affine:\n",
    "    def __init__(self,W,b):\n",
    "        self.W = W\n",
    "        self.b = b\n",
    "        self.x = None\n",
    "        self.origin_shape = None\n",
    "        self.dW = None\n",
    "        self.db = None\n",
    "    \n",
    "    def forward(self,x):\n",
    "        self.origin_shape = x.shape\n",
    "        self.x = x\n",
    "        out = np.dot(x, self.W) + self.b\n",
    "        return out\n",
    "    \n",
    "    def backward(self,dout):\n",
    "        dx = np.dot(dout, self.W.T)\n",
    "        self.dW = np.dot(self.x.T,dout)\n",
    "        self.db = np.sum(dout, axis=0)\n",
    "        dx = dx.reshape(self.origin_shape)\n",
    "        return dx, self.dW, self.db\n",
    "    \n",
    "class Loss:\n",
    "    def __init__(self):\n",
    "        self.loss = None\n",
    "        self.y = None\n",
    "        self.t = None\n",
    "    \n",
    "    def forward(self,y,t):\n",
    "        self.y = y\n",
    "        self.t = t    \n",
    "        self.loss = categorical_crossentropy(self.y, self.t)\n",
    "        return self.loss\n",
    "    \n",
    "    def backward(self,dout=1):\n",
    "        dx = (self.y - self.t)*dout\n",
    "        return dx"
   ]
  },
  {
   "cell_type": "code",
   "execution_count": 36,
   "metadata": {},
   "outputs": [],
   "source": [
    "### Loss"
   ]
  },
  {
   "cell_type": "code",
   "execution_count": 37,
   "metadata": {},
   "outputs": [],
   "source": [
    "y = softmax(np.random.randn(10,3))"
   ]
  },
  {
   "cell_type": "code",
   "execution_count": 38,
   "metadata": {},
   "outputs": [],
   "source": [
    "t = np.random.randn(10,3)"
   ]
  },
  {
   "cell_type": "code",
   "execution_count": 39,
   "metadata": {},
   "outputs": [],
   "source": [
    "x = np.argmax(t, axis=1)"
   ]
  },
  {
   "cell_type": "code",
   "execution_count": 40,
   "metadata": {},
   "outputs": [],
   "source": [
    "t = np.zeros((10,3))"
   ]
  },
  {
   "cell_type": "code",
   "execution_count": 41,
   "metadata": {},
   "outputs": [],
   "source": [
    "for i,k in enumerate(x):\n",
    "    t[i,k] = 1"
   ]
  },
  {
   "cell_type": "code",
   "execution_count": 42,
   "metadata": {},
   "outputs": [
    {
     "data": {
      "text/plain": [
       "array([[0., 0., 1.],\n",
       "       [0., 1., 0.],\n",
       "       [0., 0., 1.],\n",
       "       [1., 0., 0.],\n",
       "       [0., 1., 0.],\n",
       "       [1., 0., 0.],\n",
       "       [0., 1., 0.],\n",
       "       [0., 0., 1.],\n",
       "       [0., 0., 1.],\n",
       "       [0., 0., 1.]])"
      ]
     },
     "execution_count": 42,
     "metadata": {},
     "output_type": "execute_result"
    }
   ],
   "source": [
    "t"
   ]
  },
  {
   "cell_type": "code",
   "execution_count": 43,
   "metadata": {},
   "outputs": [],
   "source": [
    "loss = Loss()"
   ]
  },
  {
   "cell_type": "code",
   "execution_count": 44,
   "metadata": {},
   "outputs": [
    {
     "data": {
      "text/plain": [
       "0.4467397593773725"
      ]
     },
     "execution_count": 44,
     "metadata": {},
     "output_type": "execute_result"
    }
   ],
   "source": [
    "loss.forward(y,t)"
   ]
  },
  {
   "cell_type": "code",
   "execution_count": 45,
   "metadata": {},
   "outputs": [
    {
     "data": {
      "text/plain": [
       "array([[ 0.09179273,  0.37997585, -0.47176858],\n",
       "       [ 0.26314346, -0.86044518,  0.59730172],\n",
       "       [ 0.15898581,  0.09182098, -0.25080679],\n",
       "       [-0.76920511,  0.2528827 ,  0.51632241],\n",
       "       [ 0.55685033, -0.78211035,  0.22526002],\n",
       "       [-0.44170283,  0.40343413,  0.0382687 ],\n",
       "       [ 0.60360181, -0.77511555,  0.17151374],\n",
       "       [ 0.06443593,  0.9195728 , -0.98400872],\n",
       "       [ 0.11116678,  0.12398089, -0.23514766],\n",
       "       [ 0.40199243,  0.24352868, -0.64552111]])"
      ]
     },
     "execution_count": 45,
     "metadata": {},
     "output_type": "execute_result"
    }
   ],
   "source": [
    "loss.backward()"
   ]
  },
  {
   "cell_type": "code",
   "execution_count": 46,
   "metadata": {},
   "outputs": [],
   "source": [
    "### Affine\n",
    "x = np.random.randn(5,3)"
   ]
  },
  {
   "cell_type": "code",
   "execution_count": 47,
   "metadata": {},
   "outputs": [
    {
     "data": {
      "text/plain": [
       "(5, 3)"
      ]
     },
     "execution_count": 47,
     "metadata": {},
     "output_type": "execute_result"
    }
   ],
   "source": [
    "x.shape"
   ]
  },
  {
   "cell_type": "code",
   "execution_count": 48,
   "metadata": {},
   "outputs": [],
   "source": [
    "Affine1 = Affine(np.random.randn(5,3), np.zeros(3))"
   ]
  },
  {
   "cell_type": "code",
   "execution_count": 49,
   "metadata": {},
   "outputs": [
    {
     "data": {
      "text/plain": [
       "array([[-2.63090643,  0.68956378,  1.31813763],\n",
       "       [ 2.10518517,  5.87112935,  7.18932288],\n",
       "       [ 1.33635876, -0.36513064, -1.11591854],\n",
       "       [-2.64766777, -1.40175049, -2.00041305],\n",
       "       [-0.70559529, -2.04566188, -3.44760226],\n",
       "       [ 0.90943562,  0.66384302, -0.15792078],\n",
       "       [ 0.31740652,  1.34774451,  2.23343871],\n",
       "       [-1.86961775,  0.64238883,  1.4028191 ],\n",
       "       [-1.83042134,  0.83924837,  1.75027077],\n",
       "       [ 2.21539459,  0.87230628,  0.30926659]])"
      ]
     },
     "execution_count": 49,
     "metadata": {},
     "output_type": "execute_result"
    }
   ],
   "source": [
    "Affine1.forward(np.random.randn(10,5))"
   ]
  },
  {
   "cell_type": "code",
   "execution_count": 50,
   "metadata": {},
   "outputs": [
    {
     "data": {
      "text/plain": [
       "(array([[-2.69196838, -0.46197011,  1.92793711, -0.45324269, -0.40030777],\n",
       "        [-0.98071876, -1.39884737, -1.04416644,  1.85949241,  1.0247664 ],\n",
       "        [ 0.80803602, -1.19693151, -2.38291547,  2.26697361,  1.41127749],\n",
       "        [ 1.18069562,  1.4972208 ,  1.89908576, -2.591407  , -0.85175898],\n",
       "        [-1.47489614,  0.05220074,  1.23918945, -0.56840663, -0.56612962],\n",
       "        [-3.70103194, -3.02399912, -1.94995174,  4.18778083,  1.44978144],\n",
       "        [ 2.94261411,  2.87046178,  2.19786019, -4.08629221, -1.59930356],\n",
       "        [ 3.4957845 , -1.18563612, -5.71412808,  4.01845104,  2.06619647],\n",
       "        [ 0.9431248 ,  0.17508733, -0.71870632,  0.1821647 ,  0.11368873],\n",
       "        [ 3.14362002,  0.47069881, -1.6503601 ,  0.13402762,  0.69015966]]),\n",
       " array([[ 1.98634406,  1.64852775,  1.37577383],\n",
       "        [ 3.77198861,  0.4547168 ,  0.25803468],\n",
       "        [ 0.81268599,  3.8457226 , -0.62262711],\n",
       "        [ 9.59820683,  1.94855397,  3.07705193],\n",
       "        [-5.72467085,  1.7504034 , -0.57453625]]),\n",
       " array([-1.50466468, -0.08324582, -2.6606709 ]))"
      ]
     },
     "execution_count": 50,
     "metadata": {},
     "output_type": "execute_result"
    }
   ],
   "source": [
    "Affine1.backward(np.random.randn(10,3))"
   ]
  },
  {
   "cell_type": "code",
   "execution_count": 51,
   "metadata": {},
   "outputs": [],
   "source": [
    "### Relu\n",
    "x = np.array([[-1,0],[1,2],[2,0]])\n",
    "y = np.array([[7,6],[-2,5],[4,1]])"
   ]
  },
  {
   "cell_type": "code",
   "execution_count": 52,
   "metadata": {},
   "outputs": [
    {
     "data": {
      "text/plain": [
       "array([[0, 0],\n",
       "       [1, 2],\n",
       "       [2, 0]])"
      ]
     },
     "execution_count": 52,
     "metadata": {},
     "output_type": "execute_result"
    }
   ],
   "source": [
    "x[x <= 0] = 0\n",
    "x"
   ]
  },
  {
   "cell_type": "code",
   "execution_count": 53,
   "metadata": {},
   "outputs": [
    {
     "data": {
      "text/plain": [
       "array([[0, 0],\n",
       "       [1, 2],\n",
       "       [2, 0]])"
      ]
     },
     "execution_count": 53,
     "metadata": {},
     "output_type": "execute_result"
    }
   ],
   "source": [
    "relu_d = Relu()\n",
    "relu_d.forward(x)"
   ]
  },
  {
   "cell_type": "code",
   "execution_count": 54,
   "metadata": {},
   "outputs": [
    {
     "data": {
      "text/plain": [
       "array([[ 0,  0],\n",
       "       [-2,  5],\n",
       "       [ 4,  0]])"
      ]
     },
     "execution_count": 54,
     "metadata": {},
     "output_type": "execute_result"
    }
   ],
   "source": [
    "relu_d.backward(y)"
   ]
  },
  {
   "cell_type": "code",
   "execution_count": 55,
   "metadata": {},
   "outputs": [],
   "source": [
    "### Sigmoid\n",
    "xx = Sigmoid()"
   ]
  },
  {
   "cell_type": "code",
   "execution_count": 56,
   "metadata": {},
   "outputs": [
    {
     "data": {
      "text/plain": [
       "array([[0.88878197, 0.20736302, 0.38558998],\n",
       "       [0.83827747, 0.30434422, 0.68464343]])"
      ]
     },
     "execution_count": 56,
     "metadata": {},
     "output_type": "execute_result"
    }
   ],
   "source": [
    "xx.forward(np.random.randn(2,3))"
   ]
  },
  {
   "cell_type": "code",
   "execution_count": 57,
   "metadata": {},
   "outputs": [
    {
     "data": {
      "text/plain": [
       "array([[ 0.08034092,  0.1189563 , -0.07759364],\n",
       "       [-0.07579505, -0.2286068 , -0.12595433]])"
      ]
     },
     "execution_count": 57,
     "metadata": {},
     "output_type": "execute_result"
    }
   ],
   "source": [
    "xx.backward(np.random.randn(2,3))"
   ]
  }
 ],
 "metadata": {
  "kernelspec": {
   "display_name": "ml_kernel",
   "language": "python",
   "name": "ml"
  },
  "language_info": {
   "codemirror_mode": {
    "name": "ipython",
    "version": 3
   },
   "file_extension": ".py",
   "mimetype": "text/x-python",
   "name": "python",
   "nbconvert_exporter": "python",
   "pygments_lexer": "ipython3",
   "version": "3.9.12"
  },
  "orig_nbformat": 4,
  "vscode": {
   "interpreter": {
    "hash": "38ae1ba9371524da054e8e3fbefd778d16b5a8ac7937a3f395010f627bb73919"
   }
  }
 },
 "nbformat": 4,
 "nbformat_minor": 2
}
