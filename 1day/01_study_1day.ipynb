{
 "cells": [
  {
   "cell_type": "code",
   "execution_count": 1,
   "metadata": {},
   "outputs": [],
   "source": [
    "l1 = [1,2,3]"
   ]
  },
  {
   "cell_type": "code",
   "execution_count": 2,
   "metadata": {},
   "outputs": [],
   "source": [
    "l2 = l1.copy()"
   ]
  },
  {
   "cell_type": "code",
   "execution_count": 3,
   "metadata": {},
   "outputs": [
    {
     "data": {
      "text/plain": [
       "[1, 2, 3]"
      ]
     },
     "execution_count": 3,
     "metadata": {},
     "output_type": "execute_result"
    }
   ],
   "source": [
    "l2"
   ]
  },
  {
   "cell_type": "code",
   "execution_count": 4,
   "metadata": {},
   "outputs": [],
   "source": [
    "l1[0] = 3"
   ]
  },
  {
   "cell_type": "code",
   "execution_count": 5,
   "metadata": {},
   "outputs": [
    {
     "data": {
      "text/plain": [
       "[1, 2, 3]"
      ]
     },
     "execution_count": 5,
     "metadata": {},
     "output_type": "execute_result"
    }
   ],
   "source": [
    "l2"
   ]
  },
  {
   "cell_type": "code",
   "execution_count": 6,
   "metadata": {},
   "outputs": [],
   "source": [
    "import numpy as np"
   ]
  },
  {
   "cell_type": "code",
   "execution_count": 7,
   "metadata": {},
   "outputs": [
    {
     "data": {
      "text/plain": [
       "numpy.float32"
      ]
     },
     "execution_count": 7,
     "metadata": {},
     "output_type": "execute_result"
    }
   ],
   "source": [
    "np.float32"
   ]
  },
  {
   "cell_type": "code",
   "execution_count": 8,
   "metadata": {},
   "outputs": [],
   "source": [
    "x = np.arange(1,10)"
   ]
  },
  {
   "cell_type": "code",
   "execution_count": 9,
   "metadata": {},
   "outputs": [],
   "source": [
    "x = x.astype(\"int16\")"
   ]
  },
  {
   "cell_type": "code",
   "execution_count": 10,
   "metadata": {},
   "outputs": [],
   "source": [
    "x = x.astype(np.int32)"
   ]
  },
  {
   "cell_type": "code",
   "execution_count": 11,
   "metadata": {},
   "outputs": [
    {
     "data": {
      "text/plain": [
       "dtype('int32')"
      ]
     },
     "execution_count": 11,
     "metadata": {},
     "output_type": "execute_result"
    }
   ],
   "source": [
    "x.dtype"
   ]
  },
  {
   "cell_type": "code",
   "execution_count": 12,
   "metadata": {},
   "outputs": [],
   "source": [
    "x = np.random.randn(5)\n",
    "y = np.random.randn(5)"
   ]
  },
  {
   "cell_type": "code",
   "execution_count": 13,
   "metadata": {},
   "outputs": [
    {
     "data": {
      "text/plain": [
       "(5,)"
      ]
     },
     "execution_count": 13,
     "metadata": {},
     "output_type": "execute_result"
    }
   ],
   "source": [
    "(x+y).shape"
   ]
  },
  {
   "cell_type": "code",
   "execution_count": 14,
   "metadata": {},
   "outputs": [
    {
     "data": {
      "text/plain": [
       "(5,)"
      ]
     },
     "execution_count": 14,
     "metadata": {},
     "output_type": "execute_result"
    }
   ],
   "source": [
    "x.shape"
   ]
  },
  {
   "cell_type": "code",
   "execution_count": 15,
   "metadata": {},
   "outputs": [
    {
     "data": {
      "text/plain": [
       "(5,)"
      ]
     },
     "execution_count": 15,
     "metadata": {},
     "output_type": "execute_result"
    }
   ],
   "source": [
    "y.shape"
   ]
  },
  {
   "cell_type": "code",
   "execution_count": 16,
   "metadata": {},
   "outputs": [],
   "source": [
    "y1 = np.random.randn(4)"
   ]
  },
  {
   "cell_type": "code",
   "execution_count": 17,
   "metadata": {},
   "outputs": [],
   "source": [
    "# x + y1"
   ]
  },
  {
   "cell_type": "code",
   "execution_count": 18,
   "metadata": {},
   "outputs": [],
   "source": [
    "x = np.random.randn(3,4)\n",
    "y = np.random.randn(3,4)\n",
    "y1 = np.random.randn(3,5)"
   ]
  },
  {
   "cell_type": "code",
   "execution_count": 19,
   "metadata": {},
   "outputs": [
    {
     "data": {
      "text/plain": [
       "array([[ 0.84701625,  0.68847351,  3.29368326, -0.87199119],\n",
       "       [ 0.78985574, -0.52865608,  0.0272221 , -1.35040729],\n",
       "       [ 0.17184237, -3.6471687 , -1.76469809, -2.33410686]])"
      ]
     },
     "execution_count": 19,
     "metadata": {},
     "output_type": "execute_result"
    }
   ],
   "source": [
    "x+y"
   ]
  },
  {
   "cell_type": "code",
   "execution_count": 20,
   "metadata": {},
   "outputs": [],
   "source": [
    "x = range(10)"
   ]
  },
  {
   "cell_type": "code",
   "execution_count": 21,
   "metadata": {},
   "outputs": [
    {
     "data": {
      "text/plain": [
       "range(0, 10)"
      ]
     },
     "execution_count": 21,
     "metadata": {},
     "output_type": "execute_result"
    }
   ],
   "source": [
    "x"
   ]
  },
  {
   "cell_type": "code",
   "execution_count": 22,
   "metadata": {},
   "outputs": [
    {
     "data": {
      "text/plain": [
       "[0, 1, 2, 3, 4, 5, 6, 7, 8, 9]"
      ]
     },
     "execution_count": 22,
     "metadata": {},
     "output_type": "execute_result"
    }
   ],
   "source": [
    "list(x)"
   ]
  },
  {
   "cell_type": "code",
   "execution_count": 23,
   "metadata": {},
   "outputs": [],
   "source": [
    "x1 = np.arange(10)"
   ]
  },
  {
   "cell_type": "code",
   "execution_count": 24,
   "metadata": {},
   "outputs": [
    {
     "data": {
      "text/plain": [
       "array([0, 1, 2, 3, 4, 5, 6, 7, 8, 9])"
      ]
     },
     "execution_count": 24,
     "metadata": {},
     "output_type": "execute_result"
    }
   ],
   "source": [
    "x1"
   ]
  },
  {
   "cell_type": "code",
   "execution_count": 25,
   "metadata": {},
   "outputs": [
    {
     "name": "stdout",
     "output_type": "stream",
     "text": [
      "CPU times: total: 156 ms\n",
      "Wall time: 174 ms\n"
     ]
    }
   ],
   "source": [
    "%%time\n",
    "x = list(range(10000000))"
   ]
  },
  {
   "cell_type": "code",
   "execution_count": 26,
   "metadata": {},
   "outputs": [
    {
     "name": "stdout",
     "output_type": "stream",
     "text": [
      "CPU times: total: 15.6 ms\n",
      "Wall time: 15 ms\n"
     ]
    }
   ],
   "source": [
    "%%time\n",
    "x1 = np.arange(10000000)"
   ]
  },
  {
   "cell_type": "code",
   "execution_count": 27,
   "metadata": {},
   "outputs": [],
   "source": [
    "x = np.random.randint(1,10,100)"
   ]
  },
  {
   "cell_type": "code",
   "execution_count": 28,
   "metadata": {},
   "outputs": [],
   "source": [
    "x = x.reshape(20, -1)"
   ]
  },
  {
   "cell_type": "code",
   "execution_count": 29,
   "metadata": {},
   "outputs": [
    {
     "data": {
      "text/plain": [
       "array([[3, 6, 8, 7, 3],\n",
       "       [4, 2, 4, 8, 3],\n",
       "       [4, 4, 8, 5, 2],\n",
       "       [1, 1, 3, 7, 8],\n",
       "       [6, 9, 7, 6, 1],\n",
       "       [1, 2, 2, 9, 8],\n",
       "       [5, 5, 5, 6, 4],\n",
       "       [8, 1, 7, 7, 3],\n",
       "       [3, 2, 8, 7, 7],\n",
       "       [7, 8, 9, 8, 5],\n",
       "       [8, 4, 6, 6, 7],\n",
       "       [1, 9, 5, 4, 9],\n",
       "       [3, 1, 5, 6, 4],\n",
       "       [3, 7, 6, 9, 1],\n",
       "       [2, 3, 4, 8, 9],\n",
       "       [8, 1, 4, 1, 5],\n",
       "       [6, 5, 5, 4, 2],\n",
       "       [1, 3, 6, 4, 9],\n",
       "       [4, 7, 8, 1, 6],\n",
       "       [2, 5, 8, 5, 4]])"
      ]
     },
     "execution_count": 29,
     "metadata": {},
     "output_type": "execute_result"
    }
   ],
   "source": [
    "x"
   ]
  },
  {
   "cell_type": "code",
   "execution_count": 30,
   "metadata": {},
   "outputs": [
    {
     "data": {
      "text/plain": [
       "array([[1869497120,        531, 1868804064,        531, 1701994784],\n",
       "       [1633907488, 1936875884, 1158285870, 1886216568,  175334764],\n",
       "       [ 757935405,  757935405, 1044266506,  779120160, 1869642088],\n",
       "       [ 707995764, 1865314414,  678651246,  539767592,  740895027],\n",
       "       [1848259616, 1852780144,  673739621,  857746483,  170469673],\n",
       "       [1634890337, 1532700793,  741225760,  775233568,  891297836],\n",
       "       [ 170679598,  538976288, 1528832032,  741225760,  775233568],\n",
       "       [ 891297836,  170679598,  538976288, 1528832032,  741225760],\n",
       "       [ 775233568,  891297836,  693984558, 2017790474, 1819307361],\n",
       "       [1752375397, 1852405615, 1919033447, 1667522927,  544502625],\n",
       "       [1931503215, 1634492771, 1768710002, 1629513067, 1836410738],\n",
       "       [ 980708965, 1044253194, 1886265406, 1887004718,  858289263],\n",
       "       [ 779120170, 1936027247,  741550120,  690565920,  878387244],\n",
       "       [1628055901, 2036429426,  542858024,  539766325,  741225760],\n",
       "       [ 775233568,  537537629,  538976288,  542842912,  539766325],\n",
       "       [ 741225760,  775233568,  537537629,  538976288,  542842912],\n",
       "       [ 539766325,  741225760,  775233568,    2710877,  779120160],\n",
       "       [1768386412,   83886085,    3275940, 1869469360,        531],\n",
       "       [1779871696,        531,  679043442, 1411406683,  744846706],\n",
       "       [1818314272,  744318323,  538976266,  538976288, 1818314331]])"
      ]
     },
     "execution_count": 30,
     "metadata": {},
     "output_type": "execute_result"
    }
   ],
   "source": [
    "np.empty_like(x)"
   ]
  },
  {
   "cell_type": "code",
   "execution_count": 31,
   "metadata": {},
   "outputs": [
    {
     "data": {
      "text/plain": [
       "array([[0, 0, 0, 0, 0],\n",
       "       [0, 0, 0, 0, 0],\n",
       "       [0, 0, 0, 0, 0],\n",
       "       [0, 0, 0, 0, 0],\n",
       "       [0, 0, 0, 0, 0],\n",
       "       [0, 0, 0, 0, 0],\n",
       "       [0, 0, 0, 0, 0],\n",
       "       [0, 0, 0, 0, 0],\n",
       "       [0, 0, 0, 0, 0],\n",
       "       [0, 0, 0, 0, 0],\n",
       "       [0, 0, 0, 0, 0],\n",
       "       [0, 0, 0, 0, 0],\n",
       "       [0, 0, 0, 0, 0],\n",
       "       [0, 0, 0, 0, 0],\n",
       "       [0, 0, 0, 0, 0],\n",
       "       [0, 0, 0, 0, 0],\n",
       "       [0, 0, 0, 0, 0],\n",
       "       [0, 0, 0, 0, 0],\n",
       "       [0, 0, 0, 0, 0],\n",
       "       [0, 0, 0, 0, 0]])"
      ]
     },
     "execution_count": 31,
     "metadata": {},
     "output_type": "execute_result"
    }
   ],
   "source": [
    "np.zeros_like(x)"
   ]
  },
  {
   "cell_type": "code",
   "execution_count": 32,
   "metadata": {},
   "outputs": [
    {
     "data": {
      "text/plain": [
       "array([[0., 0., 0., 0.],\n",
       "       [0., 0., 0., 0.],\n",
       "       [0., 0., 0., 0.]])"
      ]
     },
     "execution_count": 32,
     "metadata": {},
     "output_type": "execute_result"
    }
   ],
   "source": [
    "np.zeros((3,4))"
   ]
  },
  {
   "cell_type": "code",
   "execution_count": 33,
   "metadata": {},
   "outputs": [
    {
     "data": {
      "text/plain": [
       "array([[0., 0., 0., 0.],\n",
       "       [0., 0., 0., 0.],\n",
       "       [0., 0., 0., 0.]])"
      ]
     },
     "execution_count": 33,
     "metadata": {},
     "output_type": "execute_result"
    }
   ],
   "source": [
    "np.zeros_like(np.random.randn(3,4))"
   ]
  },
  {
   "cell_type": "code",
   "execution_count": 34,
   "metadata": {},
   "outputs": [
    {
     "data": {
      "text/plain": [
       "array([[ 1.48315104, -1.54671116, -0.91853402,  0.36338819],\n",
       "       [-1.20288555,  1.0948352 , -0.63017856,  1.48236145],\n",
       "       [-0.99191741, -0.05927179,  0.19527461, -0.45571392]])"
      ]
     },
     "execution_count": 34,
     "metadata": {},
     "output_type": "execute_result"
    }
   ],
   "source": [
    "np.random.randn(3,4)"
   ]
  },
  {
   "cell_type": "code",
   "execution_count": 35,
   "metadata": {},
   "outputs": [
    {
     "data": {
      "text/plain": [
       "array([[0.1, 0.1],\n",
       "       [0.1, 0.1]])"
      ]
     },
     "execution_count": 35,
     "metadata": {},
     "output_type": "execute_result"
    }
   ],
   "source": [
    "np.full((2,2), 0.1)"
   ]
  },
  {
   "cell_type": "code",
   "execution_count": 36,
   "metadata": {},
   "outputs": [
    {
     "data": {
      "text/plain": [
       "array([[0.1, 0.1],\n",
       "       [0.1, 0.1]])"
      ]
     },
     "execution_count": 36,
     "metadata": {},
     "output_type": "execute_result"
    }
   ],
   "source": [
    "np.zeros((2,2)) + 0.1"
   ]
  },
  {
   "cell_type": "code",
   "execution_count": 37,
   "metadata": {},
   "outputs": [
    {
     "data": {
      "text/plain": [
       "array([[ True,  True],\n",
       "       [ True,  True]])"
      ]
     },
     "execution_count": 37,
     "metadata": {},
     "output_type": "execute_result"
    }
   ],
   "source": [
    "# 모양은 같아도, dtype은 다르다.\n",
    "np.full((2,2),0) == np.zeros((2,2))"
   ]
  },
  {
   "cell_type": "code",
   "execution_count": 38,
   "metadata": {},
   "outputs": [
    {
     "data": {
      "text/plain": [
       "dtype('int32')"
      ]
     },
     "execution_count": 38,
     "metadata": {},
     "output_type": "execute_result"
    }
   ],
   "source": [
    "np.full((2,2),0).dtype"
   ]
  },
  {
   "cell_type": "code",
   "execution_count": 39,
   "metadata": {},
   "outputs": [
    {
     "data": {
      "text/plain": [
       "dtype('float64')"
      ]
     },
     "execution_count": 39,
     "metadata": {},
     "output_type": "execute_result"
    }
   ],
   "source": [
    "np.zeros((2,2)).dtype"
   ]
  },
  {
   "cell_type": "code",
   "execution_count": 40,
   "metadata": {},
   "outputs": [],
   "source": [
    "np.random.seed(10)\n",
    "x = np.random.randn(2,3)\n",
    "y = np.random.normal(3.,2.,(2,3))"
   ]
  },
  {
   "cell_type": "code",
   "execution_count": 41,
   "metadata": {},
   "outputs": [
    {
     "data": {
      "text/plain": [
       "0.3943317496597166"
      ]
     },
     "execution_count": 41,
     "metadata": {},
     "output_type": "execute_result"
    }
   ],
   "source": [
    "np.sum(x)"
   ]
  },
  {
   "cell_type": "code",
   "execution_count": 42,
   "metadata": {},
   "outputs": [
    {
     "data": {
      "text/plain": [
       "21.67962979102798"
      ]
     },
     "execution_count": 42,
     "metadata": {},
     "output_type": "execute_result"
    }
   ],
   "source": [
    "np.sum(y)"
   ]
  },
  {
   "cell_type": "code",
   "execution_count": 43,
   "metadata": {},
   "outputs": [],
   "source": [
    "x = 3*x + 2"
   ]
  },
  {
   "cell_type": "code",
   "execution_count": 44,
   "metadata": {},
   "outputs": [
    {
     "data": {
      "text/plain": [
       "13.182995248979148"
      ]
     },
     "execution_count": 44,
     "metadata": {},
     "output_type": "execute_result"
    }
   ],
   "source": [
    "np.sum(x)"
   ]
  },
  {
   "cell_type": "code",
   "execution_count": 45,
   "metadata": {},
   "outputs": [],
   "source": [
    "x = np.array([2,2,1,3])\n",
    "y = np.array([5,5,3,7])\n",
    "a_ = np.linspace(-5,10,100)"
   ]
  },
  {
   "cell_type": "code",
   "execution_count": 46,
   "metadata": {},
   "outputs": [],
   "source": [
    "a_ = np.linspace(-5,10,100)"
   ]
  },
  {
   "cell_type": "code",
   "execution_count": 47,
   "metadata": {},
   "outputs": [],
   "source": [
    "errs = []\n",
    "\n",
    "for a in a_ : \n",
    "    y_hat = a*x\n",
    "    err = abs((y_hat - y)).mean()\n",
    "    errs.append(err)"
   ]
  },
  {
   "cell_type": "code",
   "execution_count": 48,
   "metadata": {},
   "outputs": [
    {
     "data": {
      "text/plain": [
       "[15.0,\n",
       " 14.696969696969697,\n",
       " 14.393939393939394,\n",
       " 14.09090909090909,\n",
       " 13.787878787878787,\n",
       " 13.484848484848484,\n",
       " 13.181818181818182,\n",
       " 12.878787878787879,\n",
       " 12.575757575757576,\n",
       " 12.272727272727273,\n",
       " 11.969696969696969,\n",
       " 11.666666666666666,\n",
       " 11.363636363636363,\n",
       " 11.06060606060606,\n",
       " 10.757575757575758,\n",
       " 10.454545454545453,\n",
       " 10.151515151515152,\n",
       " 9.848484848484848,\n",
       " 9.545454545454545,\n",
       " 9.242424242424242,\n",
       " 8.93939393939394,\n",
       " 8.636363636363637,\n",
       " 8.333333333333332,\n",
       " 8.030303030303031,\n",
       " 7.727272727272727,\n",
       " 7.424242424242424,\n",
       " 7.121212121212121,\n",
       " 6.818181818181818,\n",
       " 6.515151515151516,\n",
       " 6.212121212121211,\n",
       " 5.909090909090908,\n",
       " 5.6060606060606055,\n",
       " 5.303030303030303,\n",
       " 5.0,\n",
       " 4.696969696969697,\n",
       " 4.3939393939393945,\n",
       " 4.09090909090909,\n",
       " 3.787878787878787,\n",
       " 3.4848484848484844,\n",
       " 3.1818181818181817,\n",
       " 2.878787878787879,\n",
       " 2.575757575757576,\n",
       " 2.2727272727272716,\n",
       " 1.9696969696969688,\n",
       " 1.666666666666666,\n",
       " 1.3636363636363633,\n",
       " 1.0606060606060606,\n",
       " 0.7575757575757578,\n",
       " 0.45454545454545325,\n",
       " 0.2878787878787876,\n",
       " 0.3636363636363642,\n",
       " 0.5909090909090915,\n",
       " 0.8181818181818183,\n",
       " 1.0606060606060623,\n",
       " 1.3636363636363633,\n",
       " 1.6666666666666679,\n",
       " 1.9696969696969688,\n",
       " 2.2727272727272734,\n",
       " 2.575757575757578,\n",
       " 2.878787878787879,\n",
       " 3.1818181818181834,\n",
       " 3.4848484848484844,\n",
       " 3.787878787878789,\n",
       " 4.09090909090909,\n",
       " 4.3939393939393945,\n",
       " 4.696969696969699,\n",
       " 5.0,\n",
       " 5.3030303030303045,\n",
       " 5.6060606060606055,\n",
       " 5.90909090909091,\n",
       " 6.212121212121211,\n",
       " 6.515151515151516,\n",
       " 6.81818181818182,\n",
       " 7.121212121212121,\n",
       " 7.424242424242426,\n",
       " 7.727272727272727,\n",
       " 8.030303030303031,\n",
       " 8.333333333333336,\n",
       " 8.636363636363637,\n",
       " 8.939393939393941,\n",
       " 9.242424242424242,\n",
       " 9.545454545454547,\n",
       " 9.848484848484848,\n",
       " 10.151515151515152,\n",
       " 10.454545454545457,\n",
       " 10.757575757575758,\n",
       " 11.060606060606062,\n",
       " 11.363636363636363,\n",
       " 11.666666666666668,\n",
       " 11.969696969696969,\n",
       " 12.272727272727273,\n",
       " 12.575757575757578,\n",
       " 12.878787878787879,\n",
       " 13.181818181818183,\n",
       " 13.484848484848484,\n",
       " 13.787878787878789,\n",
       " 14.090909090909093,\n",
       " 14.393939393939394,\n",
       " 14.696969696969699,\n",
       " 15.0]"
      ]
     },
     "execution_count": 48,
     "metadata": {},
     "output_type": "execute_result"
    }
   ],
   "source": [
    "errs"
   ]
  },
  {
   "cell_type": "code",
   "execution_count": 49,
   "metadata": {},
   "outputs": [
    {
     "data": {
      "text/plain": [
       "[<matplotlib.lines.Line2D at 0x2130110bc10>]"
      ]
     },
     "execution_count": 49,
     "metadata": {},
     "output_type": "execute_result"
    },
    {
     "data": {
      "image/png": "[encoded data removed]",
      "text/plain": [
       "<Figure size 432x288 with 1 Axes>"
      ]
     },
     "metadata": {
      "needs_background": "light"
     },
     "output_type": "display_data"
    }
   ],
   "source": [
    "import matplotlib.pyplot as plt\n",
    "plt.plot(a_, errs)"
   ]
  },
  {
   "cell_type": "code",
   "execution_count": 50,
   "metadata": {},
   "outputs": [],
   "source": [
    "import matplotlib.pyplot as plt"
   ]
  },
  {
   "cell_type": "code",
   "execution_count": 51,
   "metadata": {},
   "outputs": [],
   "source": [
    "x = np.random.randint(1,10,1000)"
   ]
  },
  {
   "cell_type": "code",
   "execution_count": 52,
   "metadata": {},
   "outputs": [],
   "source": [
    "y = x*6 + np.random.normal(0,4,1000)"
   ]
  },
  {
   "cell_type": "code",
   "execution_count": 53,
   "metadata": {},
   "outputs": [
    {
     "data": {
      "text/plain": [
       "<matplotlib.collections.PathCollection at 0x2130120cfa0>"
      ]
     },
     "execution_count": 53,
     "metadata": {},
     "output_type": "execute_result"
    },
    {
     "data": {
      "image/png": "[encoded data removed]",
      "text/plain": [
       "<Figure size 432x288 with 1 Axes>"
      ]
     },
     "metadata": {
      "needs_background": "light"
     },
     "output_type": "display_data"
    }
   ],
   "source": [
    "plt.scatter(x, y)"
   ]
  },
  {
   "cell_type": "code",
   "execution_count": 54,
   "metadata": {},
   "outputs": [],
   "source": [
    "x = np.array([2,2,1,3])\n",
    "y = np.array([5,5,3,7])\n",
    "a_ = np.linspace(-5,10,100)"
   ]
  },
  {
   "cell_type": "code",
   "execution_count": 55,
   "metadata": {},
   "outputs": [],
   "source": [
    "errs=[]\n",
    "for a in a_:\n",
    "    y_hat = a*x\n",
    "    err = ((y_hat - y)**2).mean()\n",
    "    errs.append(err)"
   ]
  },
  {
   "cell_type": "code",
   "execution_count": 56,
   "metadata": {},
   "outputs": [
    {
     "data": {
      "text/plain": [
       "[<matplotlib.lines.Line2D at 0x21301291c40>]"
      ]
     },
     "execution_count": 56,
     "metadata": {},
     "output_type": "execute_result"
    },
    {
     "data": {
      "image/png": "[encoded data removed]",
      "text/plain": [
       "<Figure size 432x288 with 1 Axes>"
      ]
     },
     "metadata": {
      "needs_background": "light"
     },
     "output_type": "display_data"
    }
   ],
   "source": [
    "# a의 변화량에 따른 error의 변화량\n",
    "plt.plot(a_, errs)"
   ]
  },
  {
   "cell_type": "code",
   "execution_count": 57,
   "metadata": {},
   "outputs": [],
   "source": [
    "x = np.random.randint(1,10,100)\n",
    "a = 5\n",
    "b = 100\n",
    "y = x*a + b"
   ]
  },
  {
   "cell_type": "code",
   "execution_count": 59,
   "metadata": {},
   "outputs": [],
   "source": [
    "a_hat = 70\n",
    "b_hat = 0\n",
    "lr = 1e-3\n",
    "for i in np.arange(10000):\n",
    "    y_hat = a_hat*x + b_hat\n",
    "    a_hat -= lr*((y_hat - y)*x).mean()\n",
    "    b_hat -= lr*(y_hat - y).mean()\n",
    "    err = ((y_hat - y)**2).mean()"
   ]
  },
  {
   "cell_type": "code",
   "execution_count": 60,
   "metadata": {},
   "outputs": [],
   "source": [
    "x1 = np.random.randint(1,10,100)\n",
    "x2 = np.random.randint(1,10,100)\n",
    "a1 = 5\n",
    "a2 = 7\n",
    "b = 100\n",
    "y = x1*a1 + x2*a2 + b"
   ]
  },
  {
   "cell_type": "code",
   "execution_count": 61,
   "metadata": {},
   "outputs": [],
   "source": [
    "a1_hat = 70\n",
    "a2_hat = 70\n",
    "b_hat = 0\n",
    "lr = 1e-3\n",
    "for i in np.arange(20000):\n",
    "    y_hat = a1_hat*x1 + a2_hat*x2 + b_hat\n",
    "    a1_hat -= lr*((y_hat - y)*x1).mean()\n",
    "    a2_hat -= lr*((y_hat - y)*x2).mean()\n",
    "    b_hat -= lr*(y_hat - y).mean()\n",
    "    err = ((y_hat - y)**2).mean()"
   ]
  },
  {
   "cell_type": "code",
   "execution_count": 62,
   "metadata": {},
   "outputs": [
    {
     "data": {
      "text/plain": [
       "6.0840704720276895"
      ]
     },
     "execution_count": 62,
     "metadata": {},
     "output_type": "execute_result"
    }
   ],
   "source": [
    "a1_hat"
   ]
  },
  {
   "cell_type": "code",
   "execution_count": 63,
   "metadata": {},
   "outputs": [
    {
     "data": {
      "text/plain": [
       "8.102847279980733"
      ]
     },
     "execution_count": 63,
     "metadata": {},
     "output_type": "execute_result"
    }
   ],
   "source": [
    "a2_hat"
   ]
  },
  {
   "cell_type": "code",
   "execution_count": 64,
   "metadata": {},
   "outputs": [
    {
     "data": {
      "text/plain": [
       "87.52396399796358"
      ]
     },
     "execution_count": 64,
     "metadata": {},
     "output_type": "execute_result"
    }
   ],
   "source": [
    "b_hat"
   ]
  },
  {
   "cell_type": "code",
   "execution_count": 65,
   "metadata": {},
   "outputs": [],
   "source": [
    "x1 = np.random.randint(1,10,100)\n",
    "x2 = np.random.randint(1,10,100)\n",
    "X = np.c_[x1,x2]"
   ]
  },
  {
   "cell_type": "code",
   "execution_count": 66,
   "metadata": {},
   "outputs": [],
   "source": [
    "y = x1*a1 + x2*a2 + b"
   ]
  },
  {
   "cell_type": "code",
   "execution_count": 67,
   "metadata": {},
   "outputs": [
    {
     "data": {
      "text/plain": [
       "array([126, 177, 139, 179, 122, 191, 166, 163, 145, 142, 131, 177, 171,\n",
       "       180, 154, 187, 143, 138, 161, 180, 164, 149, 169, 156, 157, 182,\n",
       "       189, 172, 157, 140, 168, 176, 146, 117, 127, 122, 133, 193, 178,\n",
       "       187, 149, 179, 198, 194, 189, 154, 141, 147, 145, 143, 173, 163,\n",
       "       173, 143, 150, 161, 189, 133, 168, 186, 162, 124, 170, 163, 147,\n",
       "       160, 148, 131, 159, 182, 139, 129, 172, 129, 150, 126, 159, 168,\n",
       "       133, 156, 203, 147, 146, 177, 161, 112, 126, 117, 174, 159, 178,\n",
       "       194, 112, 126, 119, 180, 137, 159, 142, 146])"
      ]
     },
     "execution_count": 67,
     "metadata": {},
     "output_type": "execute_result"
    }
   ],
   "source": [
    "y"
   ]
  },
  {
   "cell_type": "code",
   "execution_count": 68,
   "metadata": {},
   "outputs": [],
   "source": [
    "a1 = 5\n",
    "a2 = 7\n",
    "b = 100"
   ]
  },
  {
   "cell_type": "code",
   "execution_count": 69,
   "metadata": {},
   "outputs": [
    {
     "name": "stdout",
     "output_type": "stream",
     "text": [
      "[[5 7]]\n",
      "[[5]\n",
      " [7]]\n"
     ]
    }
   ],
   "source": [
    "w = np.c_[a1, a2]\n",
    "print(w)\n",
    "w = w.T\n",
    "print(w)\n"
   ]
  },
  {
   "cell_type": "code",
   "execution_count": 70,
   "metadata": {},
   "outputs": [
    {
     "data": {
      "text/plain": [
       "(100, 2)"
      ]
     },
     "execution_count": 70,
     "metadata": {},
     "output_type": "execute_result"
    }
   ],
   "source": [
    "X.shape"
   ]
  },
  {
   "cell_type": "code",
   "execution_count": 71,
   "metadata": {},
   "outputs": [
    {
     "data": {
      "text/plain": [
       "array([[126],\n",
       "       [177],\n",
       "       [139],\n",
       "       [179],\n",
       "       [122],\n",
       "       [191],\n",
       "       [166],\n",
       "       [163],\n",
       "       [145],\n",
       "       [142],\n",
       "       [131],\n",
       "       [177],\n",
       "       [171],\n",
       "       [180],\n",
       "       [154],\n",
       "       [187],\n",
       "       [143],\n",
       "       [138],\n",
       "       [161],\n",
       "       [180],\n",
       "       [164],\n",
       "       [149],\n",
       "       [169],\n",
       "       [156],\n",
       "       [157],\n",
       "       [182],\n",
       "       [189],\n",
       "       [172],\n",
       "       [157],\n",
       "       [140],\n",
       "       [168],\n",
       "       [176],\n",
       "       [146],\n",
       "       [117],\n",
       "       [127],\n",
       "       [122],\n",
       "       [133],\n",
       "       [193],\n",
       "       [178],\n",
       "       [187],\n",
       "       [149],\n",
       "       [179],\n",
       "       [198],\n",
       "       [194],\n",
       "       [189],\n",
       "       [154],\n",
       "       [141],\n",
       "       [147],\n",
       "       [145],\n",
       "       [143],\n",
       "       [173],\n",
       "       [163],\n",
       "       [173],\n",
       "       [143],\n",
       "       [150],\n",
       "       [161],\n",
       "       [189],\n",
       "       [133],\n",
       "       [168],\n",
       "       [186],\n",
       "       [162],\n",
       "       [124],\n",
       "       [170],\n",
       "       [163],\n",
       "       [147],\n",
       "       [160],\n",
       "       [148],\n",
       "       [131],\n",
       "       [159],\n",
       "       [182],\n",
       "       [139],\n",
       "       [129],\n",
       "       [172],\n",
       "       [129],\n",
       "       [150],\n",
       "       [126],\n",
       "       [159],\n",
       "       [168],\n",
       "       [133],\n",
       "       [156],\n",
       "       [203],\n",
       "       [147],\n",
       "       [146],\n",
       "       [177],\n",
       "       [161],\n",
       "       [112],\n",
       "       [126],\n",
       "       [117],\n",
       "       [174],\n",
       "       [159],\n",
       "       [178],\n",
       "       [194],\n",
       "       [112],\n",
       "       [126],\n",
       "       [119],\n",
       "       [180],\n",
       "       [137],\n",
       "       [159],\n",
       "       [142],\n",
       "       [146]])"
      ]
     },
     "execution_count": 71,
     "metadata": {},
     "output_type": "execute_result"
    }
   ],
   "source": [
    "y = np.dot(X,w) + b\n",
    "y"
   ]
  },
  {
   "cell_type": "code",
   "execution_count": 72,
   "metadata": {},
   "outputs": [],
   "source": [
    "### RE"
   ]
  },
  {
   "cell_type": "code",
   "execution_count": 73,
   "metadata": {},
   "outputs": [],
   "source": [
    "x1 = np.random.randint(1,100,1000)\n",
    "x2 = np.random.randint(1,100,1000)\n",
    "X = np.c_[x1,x2]"
   ]
  },
  {
   "cell_type": "code",
   "execution_count": 74,
   "metadata": {},
   "outputs": [],
   "source": [
    "w = np.array([[5],[7]])\n",
    "a1 = 5\n",
    "a2 = 7\n",
    "b = 100\n",
    "y = np.dot(X, w) + b"
   ]
  },
  {
   "cell_type": "code",
   "execution_count": 75,
   "metadata": {},
   "outputs": [],
   "source": [
    "a1_ = -5\n",
    "a2_ = -5\n",
    "w_ = np.array([[-5.],[-5.]])\n",
    "b_ = 0"
   ]
  },
  {
   "cell_type": "code",
   "execution_count": 76,
   "metadata": {},
   "outputs": [],
   "source": [
    "learning_rate = 1e-5\n",
    "y_hat = a1_*x1 + a2_*x2 + b_\n",
    "a1_ -= learning_rate * ((y_hat-y)*x1).mean()\n",
    "a2_ -= learning_rate * ((y_hat-y)*x2).mean()\n",
    "b_ -= learning_rate * (y_hat - y).mean()"
   ]
  },
  {
   "cell_type": "code",
   "execution_count": 77,
   "metadata": {},
   "outputs": [
    {
     "data": {
      "text/plain": [
       "-4.34868291812"
      ]
     },
     "execution_count": 77,
     "metadata": {},
     "output_type": "execute_result"
    }
   ],
   "source": [
    "a1_"
   ]
  },
  {
   "cell_type": "code",
   "execution_count": 78,
   "metadata": {},
   "outputs": [
    {
     "data": {
      "text/plain": [
       "-4.33685541332"
      ]
     },
     "execution_count": 78,
     "metadata": {},
     "output_type": "execute_result"
    }
   ],
   "source": [
    "a2_"
   ]
  },
  {
   "cell_type": "code",
   "execution_count": 79,
   "metadata": {},
   "outputs": [
    {
     "data": {
      "text/plain": [
       "0.012172260000000002"
      ]
     },
     "execution_count": 79,
     "metadata": {},
     "output_type": "execute_result"
    }
   ],
   "source": [
    "b_"
   ]
  },
  {
   "cell_type": "code",
   "execution_count": 80,
   "metadata": {},
   "outputs": [],
   "source": [
    "learning_rate = 1e-5\n",
    "y_hat = np.dot(X,w_) + b_\n",
    "w_ -= learning_rate*(np.mean(np.dot(X.T,(y_hat - y)),axis=1)).reshape(2,1)\n",
    "b_ -= learning_rate*(y_hat-y).mean() "
   ]
  },
  {
   "cell_type": "code",
   "execution_count": 81,
   "metadata": {},
   "outputs": [
    {
     "data": {
      "text/plain": [
       "array([[684.41269699],\n",
       "       [715.23702987]])"
      ]
     },
     "execution_count": 81,
     "metadata": {},
     "output_type": "execute_result"
    }
   ],
   "source": [
    "w_"
   ]
  },
  {
   "cell_type": "code",
   "execution_count": 82,
   "metadata": {},
   "outputs": [
    {
     "data": {
      "text/plain": [
       "-0.612295071768052"
      ]
     },
     "execution_count": 82,
     "metadata": {},
     "output_type": "execute_result"
    }
   ],
   "source": [
    "learning_rate*(((y_hat-y)*x1).mean())"
   ]
  },
  {
   "cell_type": "code",
   "execution_count": 83,
   "metadata": {},
   "outputs": [
    {
     "data": {
      "text/plain": [
       "-62300.65534521639"
      ]
     },
     "execution_count": 83,
     "metadata": {},
     "output_type": "execute_result"
    }
   ],
   "source": [
    "((y_hat-y)*x2).mean()"
   ]
  },
  {
   "cell_type": "code",
   "execution_count": 84,
   "metadata": {},
   "outputs": [
    {
     "data": {
      "text/plain": [
       "array([-689.41269699, -720.23702987])"
      ]
     },
     "execution_count": 84,
     "metadata": {},
     "output_type": "execute_result"
    }
   ],
   "source": [
    "learning_rate*(np.mean(np.dot(X.T,(y_hat - y)),axis=1))"
   ]
  },
  {
   "cell_type": "code",
   "execution_count": 85,
   "metadata": {},
   "outputs": [
    {
     "ename": "ValueError",
     "evalue": "non-broadcastable output operand with shape (1,) doesn't match the broadcast shape (1000,1)",
     "output_type": "error",
     "traceback": [
      "\u001b[1;31m---------------------------------------------------------------------------\u001b[0m",
      "\u001b[1;31mValueError\u001b[0m                                Traceback (most recent call last)",
      "\u001b[1;32mc:\\Users\\admin\\STUDY\\StudyPython_Deep_Learning\\01_day1.ipynb 셀 84\u001b[0m in \u001b[0;36m<cell line: 7>\u001b[1;34m()\u001b[0m\n\u001b[0;32m     <a href='vscode-notebook-cell:/c%3A/Users/admin/STUDY/StudyPython_Deep_Learning/01_day1.ipynb#Y146sZmlsZQ%3D%3D?line=10'>11</a>\u001b[0m db \u001b[39m=\u001b[39m loss\n\u001b[0;32m     <a href='vscode-notebook-cell:/c%3A/Users/admin/STUDY/StudyPython_Deep_Learning/01_day1.ipynb#Y146sZmlsZQ%3D%3D?line=11'>12</a>\u001b[0m w_ \u001b[39m-\u001b[39m\u001b[39m=\u001b[39m learning_rate\u001b[39m*\u001b[39mdw\n\u001b[1;32m---> <a href='vscode-notebook-cell:/c%3A/Users/admin/STUDY/StudyPython_Deep_Learning/01_day1.ipynb#Y146sZmlsZQ%3D%3D?line=12'>13</a>\u001b[0m b_ \u001b[39m-\u001b[39m\u001b[39m=\u001b[39m learning_rate\u001b[39m*\u001b[39mdb\n\u001b[0;32m     <a href='vscode-notebook-cell:/c%3A/Users/admin/STUDY/StudyPython_Deep_Learning/01_day1.ipynb#Y146sZmlsZQ%3D%3D?line=13'>14</a>\u001b[0m cost\u001b[39m.\u001b[39mappend(loss)\n",
      "\u001b[1;31mValueError\u001b[0m: non-broadcastable output operand with shape (1,) doesn't match the broadcast shape (1000,1)"
     ]
    }
   ],
   "source": [
    "w_ = np.random.randn(2,1)\n",
    "b_ =  np.random.randn(1)\n",
    "learning_rate = 1e-3\n",
    "epochs = 20000\n",
    "cost = []\n",
    "\n",
    "for epoch in range(epochs):\n",
    "    y_hat = np.dot(X,w_) + b_\n",
    "    loss = (y_hat - y)\n",
    "    dw = np.dot(X.T, loss)/2*100\n",
    "    db = loss\n",
    "    w_ -= learning_rate*dw\n",
    "    b_ -= learning_rate*db\n",
    "    cost.append(loss)"
   ]
  },
  {
   "cell_type": "code",
   "execution_count": 86,
   "metadata": {},
   "outputs": [],
   "source": [
    "def sigmoid(x) :\n",
    "    return 1/(1+np.exp(-x))"
   ]
  },
  {
   "cell_type": "code",
   "execution_count": 87,
   "metadata": {},
   "outputs": [],
   "source": [
    "x = np.linspace(-5,5,100)"
   ]
  },
  {
   "cell_type": "code",
   "execution_count": 88,
   "metadata": {},
   "outputs": [
    {
     "data": {
      "text/plain": [
       "[<matplotlib.lines.Line2D at 0x21301414580>]"
      ]
     },
     "execution_count": 88,
     "metadata": {},
     "output_type": "execute_result"
    },
    {
     "data": {
      "image/png": "[encoded data removed]",
      "text/plain": [
       "<Figure size 432x288 with 1 Axes>"
      ]
     },
     "metadata": {
      "needs_background": "light"
     },
     "output_type": "display_data"
    }
   ],
   "source": [
    "plt.plot(x, sigmoid(x))\n",
    "plt.plot(x, np.full(100,0.5))\n",
    "plt.plot(np.full(100,0),np.linspace(0,1,100))"
   ]
  },
  {
   "cell_type": "code",
   "execution_count": 89,
   "metadata": {},
   "outputs": [
    {
     "data": {
      "image/png": "[encoded data removed]",
      "text/plain": [
       "<Figure size 432x288 with 1 Axes>"
      ]
     },
     "metadata": {
      "needs_background": "light"
     },
     "output_type": "display_data"
    }
   ],
   "source": [
    "x1 = sigmoid(x)\n",
    "x2 = np.linspace(1e-4,10,100)\n",
    "# plt.plot(x1, np.log(x1))\n",
    "plt.plot(x1, -np.log(x1))\n",
    "plt.show()"
   ]
  },
  {
   "cell_type": "markdown",
   "metadata": {},
   "source": [
    "### AND, OR, NAND"
   ]
  },
  {
   "cell_type": "code",
   "execution_count": 93,
   "metadata": {},
   "outputs": [],
   "source": [
    "def AND(x1,x2):\n",
    "    w1 = 0.5\n",
    "    w2 = 0.5\n",
    "    theta = 0.6\n",
    "    return np.where(x1*w1 + x2*w2 > theta,1,0)"
   ]
  },
  {
   "cell_type": "code",
   "execution_count": 94,
   "metadata": {},
   "outputs": [
    {
     "data": {
      "text/plain": [
       "array(1)"
      ]
     },
     "execution_count": 94,
     "metadata": {},
     "output_type": "execute_result"
    }
   ],
   "source": [
    "AND(1,1)"
   ]
  },
  {
   "cell_type": "code",
   "execution_count": 95,
   "metadata": {},
   "outputs": [],
   "source": [
    "#np.where(condition,'d','x')"
   ]
  },
  {
   "cell_type": "code",
   "execution_count": 119,
   "metadata": {},
   "outputs": [
    {
     "name": "stdout",
     "output_type": "stream",
     "text": [
      "0.1 0.1 0.1\n",
      "0.1 0.2 0.2\n",
      "0.1 0.30000000000000004 0.30000000000000004\n",
      "0.1 0.4 0.4\n",
      "0.1 0.5 0.5\n",
      "0.1 0.6 0.6\n",
      "0.1 0.7000000000000001 0.7000000000000001\n",
      "0.1 0.8 0.8\n",
      "0.1 0.9 0.9\n",
      "0.1 1.0 1.0\n",
      "0.2 0.1 0.2\n",
      "0.2 0.2 0.2\n",
      "0.2 0.2 0.30000000000000004\n",
      "0.2 0.30000000000000004 0.30000000000000004\n",
      "0.2 0.30000000000000004 0.4\n",
      "0.2 0.4 0.4\n",
      "0.2 0.4 0.5\n",
      "0.2 0.4 0.6\n",
      "0.2 0.5 0.5\n",
      "0.2 0.5 0.6\n",
      "0.2 0.6 0.6\n",
      "0.2 0.6 0.7000000000000001\n",
      "0.2 0.7000000000000001 0.7000000000000001\n",
      "0.2 0.7000000000000001 0.8\n",
      "0.2 0.7000000000000001 0.9\n",
      "0.2 0.8 0.8\n",
      "0.2 0.8 0.9\n",
      "0.2 0.9 0.9\n",
      "0.2 0.9 1.0\n",
      "0.2 1.0 1.0\n",
      "0.30000000000000004 0.1 0.30000000000000004\n",
      "0.30000000000000004 0.2 0.30000000000000004\n",
      "0.30000000000000004 0.2 0.4\n",
      "0.30000000000000004 0.30000000000000004 0.30000000000000004\n",
      "0.30000000000000004 0.30000000000000004 0.4\n",
      "0.30000000000000004 0.30000000000000004 0.5\n",
      "0.30000000000000004 0.30000000000000004 0.6\n",
      "0.30000000000000004 0.4 0.4\n",
      "0.30000000000000004 0.4 0.5\n",
      "0.30000000000000004 0.4 0.6\n",
      "0.30000000000000004 0.5 0.5\n",
      "0.30000000000000004 0.5 0.6\n",
      "0.30000000000000004 0.5 0.7000000000000001\n",
      "0.30000000000000004 0.6 0.6\n",
      "0.30000000000000004 0.6 0.7000000000000001\n",
      "0.30000000000000004 0.6 0.8\n",
      "0.30000000000000004 0.7000000000000001 0.7000000000000001\n",
      "0.30000000000000004 0.7000000000000001 0.8\n",
      "0.30000000000000004 0.7000000000000001 0.9\n",
      "0.30000000000000004 0.8 0.8\n",
      "0.30000000000000004 0.8 0.9\n",
      "0.30000000000000004 0.8 1.0\n",
      "0.30000000000000004 0.9 0.9\n",
      "0.30000000000000004 0.9 1.0\n",
      "0.30000000000000004 1.0 1.0\n",
      "0.4 0.1 0.4\n",
      "0.4 0.2 0.4\n",
      "0.4 0.2 0.5\n",
      "0.4 0.2 0.6\n",
      "0.4 0.30000000000000004 0.4\n",
      "0.4 0.30000000000000004 0.5\n",
      "0.4 0.30000000000000004 0.6\n",
      "0.4 0.4 0.4\n",
      "0.4 0.4 0.5\n",
      "0.4 0.4 0.6\n",
      "0.4 0.4 0.7000000000000001\n",
      "0.4 0.5 0.5\n",
      "0.4 0.5 0.6\n",
      "0.4 0.5 0.7000000000000001\n",
      "0.4 0.5 0.8\n",
      "0.4 0.6 0.6\n",
      "0.4 0.6 0.7000000000000001\n",
      "0.4 0.6 0.8\n",
      "0.4 0.6 0.9\n",
      "0.4 0.7000000000000001 0.7000000000000001\n",
      "0.4 0.7000000000000001 0.8\n",
      "0.4 0.7000000000000001 0.9\n",
      "0.4 0.7000000000000001 1.0\n",
      "0.4 0.8 0.8\n",
      "0.4 0.8 0.9\n",
      "0.4 0.8 1.0\n",
      "0.4 0.9 0.9\n",
      "0.4 0.9 1.0\n",
      "0.4 1.0 1.0\n",
      "0.5 0.1 0.5\n",
      "0.5 0.2 0.5\n",
      "0.5 0.2 0.6\n",
      "0.5 0.30000000000000004 0.5\n",
      "0.5 0.30000000000000004 0.6\n",
      "0.5 0.30000000000000004 0.7000000000000001\n",
      "0.5 0.4 0.5\n",
      "0.5 0.4 0.6\n",
      "0.5 0.4 0.7000000000000001\n",
      "0.5 0.4 0.8\n",
      "0.5 0.5 0.5\n",
      "0.5 0.5 0.6\n",
      "0.5 0.5 0.7000000000000001\n",
      "0.5 0.5 0.8\n",
      "0.5 0.5 0.9\n",
      "0.5 0.6 0.6\n",
      "0.5 0.6 0.7000000000000001\n",
      "0.5 0.6 0.8\n",
      "0.5 0.6 0.9\n",
      "0.5 0.6 1.0\n",
      "0.5 0.7000000000000001 0.7000000000000001\n",
      "0.5 0.7000000000000001 0.8\n",
      "0.5 0.7000000000000001 0.9\n",
      "0.5 0.7000000000000001 1.0\n",
      "0.5 0.8 0.8\n",
      "0.5 0.8 0.9\n",
      "0.5 0.8 1.0\n",
      "0.5 0.9 0.9\n",
      "0.5 0.9 1.0\n",
      "0.5 1.0 1.0\n",
      "0.6 0.1 0.6\n",
      "0.6 0.2 0.6\n",
      "0.6 0.2 0.7000000000000001\n",
      "0.6 0.30000000000000004 0.6\n",
      "0.6 0.30000000000000004 0.7000000000000001\n",
      "0.6 0.30000000000000004 0.8\n",
      "0.6 0.4 0.6\n",
      "0.6 0.4 0.7000000000000001\n",
      "0.6 0.4 0.8\n",
      "0.6 0.4 0.9\n",
      "0.6 0.5 0.6\n",
      "0.6 0.5 0.7000000000000001\n",
      "0.6 0.5 0.8\n",
      "0.6 0.5 0.9\n",
      "0.6 0.5 1.0\n",
      "0.6 0.6 0.6\n",
      "0.6 0.6 0.7000000000000001\n",
      "0.6 0.6 0.8\n",
      "0.6 0.6 0.9\n",
      "0.6 0.6 1.0\n",
      "0.6 0.7000000000000001 0.7000000000000001\n",
      "0.6 0.7000000000000001 0.8\n",
      "0.6 0.7000000000000001 0.9\n",
      "0.6 0.7000000000000001 1.0\n",
      "0.6 0.8 0.8\n",
      "0.6 0.8 0.9\n",
      "0.6 0.8 1.0\n",
      "0.6 0.9 0.9\n",
      "0.6 0.9 1.0\n",
      "0.6 1.0 1.0\n",
      "0.7000000000000001 0.1 0.7000000000000001\n",
      "0.7000000000000001 0.2 0.7000000000000001\n",
      "0.7000000000000001 0.2 0.8\n",
      "0.7000000000000001 0.2 0.9\n",
      "0.7000000000000001 0.30000000000000004 0.7000000000000001\n",
      "0.7000000000000001 0.30000000000000004 0.8\n",
      "0.7000000000000001 0.30000000000000004 0.9\n",
      "0.7000000000000001 0.4 0.7000000000000001\n",
      "0.7000000000000001 0.4 0.8\n",
      "0.7000000000000001 0.4 0.9\n",
      "0.7000000000000001 0.4 1.0\n",
      "0.7000000000000001 0.5 0.7000000000000001\n",
      "0.7000000000000001 0.5 0.8\n",
      "0.7000000000000001 0.5 0.9\n",
      "0.7000000000000001 0.5 1.0\n",
      "0.7000000000000001 0.6 0.7000000000000001\n",
      "0.7000000000000001 0.6 0.8\n",
      "0.7000000000000001 0.6 0.9\n",
      "0.7000000000000001 0.6 1.0\n",
      "0.7000000000000001 0.7000000000000001 0.7000000000000001\n",
      "0.7000000000000001 0.7000000000000001 0.8\n",
      "0.7000000000000001 0.7000000000000001 0.9\n",
      "0.7000000000000001 0.7000000000000001 1.0\n",
      "0.7000000000000001 0.8 0.8\n",
      "0.7000000000000001 0.8 0.9\n",
      "0.7000000000000001 0.8 1.0\n",
      "0.7000000000000001 0.9 0.9\n",
      "0.7000000000000001 0.9 1.0\n",
      "0.7000000000000001 1.0 1.0\n",
      "0.8 0.1 0.8\n",
      "0.8 0.2 0.8\n",
      "0.8 0.2 0.9\n",
      "0.8 0.30000000000000004 0.8\n",
      "0.8 0.30000000000000004 0.9\n",
      "0.8 0.30000000000000004 1.0\n",
      "0.8 0.4 0.8\n",
      "0.8 0.4 0.9\n",
      "0.8 0.4 1.0\n",
      "0.8 0.5 0.8\n",
      "0.8 0.5 0.9\n",
      "0.8 0.5 1.0\n",
      "0.8 0.6 0.8\n",
      "0.8 0.6 0.9\n",
      "0.8 0.6 1.0\n",
      "0.8 0.7000000000000001 0.8\n",
      "0.8 0.7000000000000001 0.9\n",
      "0.8 0.7000000000000001 1.0\n",
      "0.8 0.8 0.8\n",
      "0.8 0.8 0.9\n",
      "0.8 0.8 1.0\n",
      "0.8 0.9 0.9\n",
      "0.8 0.9 1.0\n",
      "0.8 1.0 1.0\n",
      "0.9 0.1 0.9\n",
      "0.9 0.2 0.9\n",
      "0.9 0.2 1.0\n",
      "0.9 0.30000000000000004 0.9\n",
      "0.9 0.30000000000000004 1.0\n",
      "0.9 0.4 0.9\n",
      "0.9 0.4 1.0\n",
      "0.9 0.5 0.9\n",
      "0.9 0.5 1.0\n",
      "0.9 0.6 0.9\n",
      "0.9 0.6 1.0\n",
      "0.9 0.7000000000000001 0.9\n",
      "0.9 0.7000000000000001 1.0\n",
      "0.9 0.8 0.9\n",
      "0.9 0.8 1.0\n",
      "0.9 0.9 0.9\n",
      "0.9 0.9 1.0\n",
      "0.9 1.0 1.0\n",
      "1.0 0.1 1.0\n",
      "1.0 0.2 1.0\n",
      "1.0 0.30000000000000004 1.0\n",
      "1.0 0.4 1.0\n",
      "1.0 0.5 1.0\n",
      "1.0 0.6 1.0\n",
      "1.0 0.7000000000000001 1.0\n",
      "1.0 0.8 1.0\n",
      "1.0 0.9 1.0\n",
      "1.0 1.0 1.0\n"
     ]
    }
   ],
   "source": [
    "# AND\n",
    "w1s = np.linspace(0.1,1,10)\n",
    "w2s = np.linspace(0.1,1,10)\n",
    "thetas = np.linspace(0.1,1,10)\n",
    "x1 = np.array([0,1,0,1])\n",
    "x2 = np.array([0,0,1,1])\n",
    "\n",
    "for w1 in w1s :\n",
    "    for w2 in w2s:\n",
    "        for theta in thetas:\n",
    "            result = np.sum(np.where(x1*w1 + x2*w2 > theta,1,0) == np.array([0,0,0,1]))\n",
    "            if result == 4:\n",
    "                print(w1,w2,theta)"
   ]
  },
  {
   "cell_type": "code",
   "execution_count": 120,
   "metadata": {},
   "outputs": [],
   "source": [
    "def AND(x1,x2):\n",
    "    w1 = 0.1\n",
    "    w2 = 0.1\n",
    "    theta = 0.14545454545454545\n",
    "    return np.where(x1*w1 + x2*w2 > theta,1,0)"
   ]
  },
  {
   "cell_type": "code",
   "execution_count": 121,
   "metadata": {},
   "outputs": [],
   "source": [
    "x1 = np.array([0,1,0,1])\n",
    "x2 = np.array([0,0,1,1])"
   ]
  },
  {
   "cell_type": "code",
   "execution_count": 122,
   "metadata": {},
   "outputs": [
    {
     "data": {
      "text/plain": [
       "array([0, 0, 0, 1])"
      ]
     },
     "execution_count": 122,
     "metadata": {},
     "output_type": "execute_result"
    }
   ],
   "source": [
    "AND(x1, x2)"
   ]
  },
  {
   "cell_type": "code",
   "execution_count": 123,
   "metadata": {},
   "outputs": [
    {
     "name": "stdout",
     "output_type": "stream",
     "text": [
      "0.2 0.2 0.1\n",
      "0.2 0.30000000000000004 0.1\n",
      "0.2 0.4 0.1\n",
      "0.2 0.5 0.1\n",
      "0.2 0.6 0.1\n",
      "0.2 0.7000000000000001 0.1\n",
      "0.2 0.8 0.1\n",
      "0.2 0.9 0.1\n",
      "0.2 1.0 0.1\n",
      "0.30000000000000004 0.2 0.1\n",
      "0.30000000000000004 0.30000000000000004 0.1\n",
      "0.30000000000000004 0.30000000000000004 0.2\n",
      "0.30000000000000004 0.4 0.1\n",
      "0.30000000000000004 0.4 0.2\n",
      "0.30000000000000004 0.5 0.1\n",
      "0.30000000000000004 0.5 0.2\n",
      "0.30000000000000004 0.6 0.1\n",
      "0.30000000000000004 0.6 0.2\n",
      "0.30000000000000004 0.7000000000000001 0.1\n",
      "0.30000000000000004 0.7000000000000001 0.2\n",
      "0.30000000000000004 0.8 0.1\n",
      "0.30000000000000004 0.8 0.2\n",
      "0.30000000000000004 0.9 0.1\n",
      "0.30000000000000004 0.9 0.2\n",
      "0.30000000000000004 1.0 0.1\n",
      "0.30000000000000004 1.0 0.2\n",
      "0.4 0.2 0.1\n",
      "0.4 0.30000000000000004 0.1\n",
      "0.4 0.30000000000000004 0.2\n",
      "0.4 0.4 0.1\n",
      "0.4 0.4 0.2\n",
      "0.4 0.4 0.30000000000000004\n",
      "0.4 0.5 0.1\n",
      "0.4 0.5 0.2\n",
      "0.4 0.5 0.30000000000000004\n",
      "0.4 0.6 0.1\n",
      "0.4 0.6 0.2\n",
      "0.4 0.6 0.30000000000000004\n",
      "0.4 0.7000000000000001 0.1\n",
      "0.4 0.7000000000000001 0.2\n",
      "0.4 0.7000000000000001 0.30000000000000004\n",
      "0.4 0.8 0.1\n",
      "0.4 0.8 0.2\n",
      "0.4 0.8 0.30000000000000004\n",
      "0.4 0.9 0.1\n",
      "0.4 0.9 0.2\n",
      "0.4 0.9 0.30000000000000004\n",
      "0.4 1.0 0.1\n",
      "0.4 1.0 0.2\n",
      "0.4 1.0 0.30000000000000004\n",
      "0.5 0.2 0.1\n",
      "0.5 0.30000000000000004 0.1\n",
      "0.5 0.30000000000000004 0.2\n",
      "0.5 0.4 0.1\n",
      "0.5 0.4 0.2\n",
      "0.5 0.4 0.30000000000000004\n",
      "0.5 0.5 0.1\n",
      "0.5 0.5 0.2\n",
      "0.5 0.5 0.30000000000000004\n",
      "0.5 0.5 0.4\n",
      "0.5 0.6 0.1\n",
      "0.5 0.6 0.2\n",
      "0.5 0.6 0.30000000000000004\n",
      "0.5 0.6 0.4\n",
      "0.5 0.7000000000000001 0.1\n",
      "0.5 0.7000000000000001 0.2\n",
      "0.5 0.7000000000000001 0.30000000000000004\n",
      "0.5 0.7000000000000001 0.4\n",
      "0.5 0.8 0.1\n",
      "0.5 0.8 0.2\n",
      "0.5 0.8 0.30000000000000004\n",
      "0.5 0.8 0.4\n",
      "0.5 0.9 0.1\n",
      "0.5 0.9 0.2\n",
      "0.5 0.9 0.30000000000000004\n",
      "0.5 0.9 0.4\n",
      "0.5 1.0 0.1\n",
      "0.5 1.0 0.2\n",
      "0.5 1.0 0.30000000000000004\n",
      "0.5 1.0 0.4\n",
      "0.6 0.2 0.1\n",
      "0.6 0.30000000000000004 0.1\n",
      "0.6 0.30000000000000004 0.2\n",
      "0.6 0.4 0.1\n",
      "0.6 0.4 0.2\n",
      "0.6 0.4 0.30000000000000004\n",
      "0.6 0.5 0.1\n",
      "0.6 0.5 0.2\n",
      "0.6 0.5 0.30000000000000004\n",
      "0.6 0.5 0.4\n",
      "0.6 0.6 0.1\n",
      "0.6 0.6 0.2\n",
      "0.6 0.6 0.30000000000000004\n",
      "0.6 0.6 0.4\n",
      "0.6 0.6 0.5\n",
      "0.6 0.7000000000000001 0.1\n",
      "0.6 0.7000000000000001 0.2\n",
      "0.6 0.7000000000000001 0.30000000000000004\n",
      "0.6 0.7000000000000001 0.4\n",
      "0.6 0.7000000000000001 0.5\n",
      "0.6 0.8 0.1\n",
      "0.6 0.8 0.2\n",
      "0.6 0.8 0.30000000000000004\n",
      "0.6 0.8 0.4\n",
      "0.6 0.8 0.5\n",
      "0.6 0.9 0.1\n",
      "0.6 0.9 0.2\n",
      "0.6 0.9 0.30000000000000004\n",
      "0.6 0.9 0.4\n",
      "0.6 0.9 0.5\n",
      "0.6 1.0 0.1\n",
      "0.6 1.0 0.2\n",
      "0.6 1.0 0.30000000000000004\n",
      "0.6 1.0 0.4\n",
      "0.6 1.0 0.5\n",
      "0.7000000000000001 0.2 0.1\n",
      "0.7000000000000001 0.30000000000000004 0.1\n",
      "0.7000000000000001 0.30000000000000004 0.2\n",
      "0.7000000000000001 0.4 0.1\n",
      "0.7000000000000001 0.4 0.2\n",
      "0.7000000000000001 0.4 0.30000000000000004\n",
      "0.7000000000000001 0.5 0.1\n",
      "0.7000000000000001 0.5 0.2\n",
      "0.7000000000000001 0.5 0.30000000000000004\n",
      "0.7000000000000001 0.5 0.4\n",
      "0.7000000000000001 0.6 0.1\n",
      "0.7000000000000001 0.6 0.2\n",
      "0.7000000000000001 0.6 0.30000000000000004\n",
      "0.7000000000000001 0.6 0.4\n",
      "0.7000000000000001 0.6 0.5\n",
      "0.7000000000000001 0.7000000000000001 0.1\n",
      "0.7000000000000001 0.7000000000000001 0.2\n",
      "0.7000000000000001 0.7000000000000001 0.30000000000000004\n",
      "0.7000000000000001 0.7000000000000001 0.4\n",
      "0.7000000000000001 0.7000000000000001 0.5\n",
      "0.7000000000000001 0.7000000000000001 0.6\n",
      "0.7000000000000001 0.8 0.1\n",
      "0.7000000000000001 0.8 0.2\n",
      "0.7000000000000001 0.8 0.30000000000000004\n",
      "0.7000000000000001 0.8 0.4\n",
      "0.7000000000000001 0.8 0.5\n",
      "0.7000000000000001 0.8 0.6\n",
      "0.7000000000000001 0.9 0.1\n",
      "0.7000000000000001 0.9 0.2\n",
      "0.7000000000000001 0.9 0.30000000000000004\n",
      "0.7000000000000001 0.9 0.4\n",
      "0.7000000000000001 0.9 0.5\n",
      "0.7000000000000001 0.9 0.6\n",
      "0.7000000000000001 1.0 0.1\n",
      "0.7000000000000001 1.0 0.2\n",
      "0.7000000000000001 1.0 0.30000000000000004\n",
      "0.7000000000000001 1.0 0.4\n",
      "0.7000000000000001 1.0 0.5\n",
      "0.7000000000000001 1.0 0.6\n",
      "0.8 0.2 0.1\n",
      "0.8 0.30000000000000004 0.1\n",
      "0.8 0.30000000000000004 0.2\n",
      "0.8 0.4 0.1\n",
      "0.8 0.4 0.2\n",
      "0.8 0.4 0.30000000000000004\n",
      "0.8 0.5 0.1\n",
      "0.8 0.5 0.2\n",
      "0.8 0.5 0.30000000000000004\n",
      "0.8 0.5 0.4\n",
      "0.8 0.6 0.1\n",
      "0.8 0.6 0.2\n",
      "0.8 0.6 0.30000000000000004\n",
      "0.8 0.6 0.4\n",
      "0.8 0.6 0.5\n",
      "0.8 0.7000000000000001 0.1\n",
      "0.8 0.7000000000000001 0.2\n",
      "0.8 0.7000000000000001 0.30000000000000004\n",
      "0.8 0.7000000000000001 0.4\n",
      "0.8 0.7000000000000001 0.5\n",
      "0.8 0.7000000000000001 0.6\n",
      "0.8 0.8 0.1\n",
      "0.8 0.8 0.2\n",
      "0.8 0.8 0.30000000000000004\n",
      "0.8 0.8 0.4\n",
      "0.8 0.8 0.5\n",
      "0.8 0.8 0.6\n",
      "0.8 0.8 0.7000000000000001\n",
      "0.8 0.9 0.1\n",
      "0.8 0.9 0.2\n",
      "0.8 0.9 0.30000000000000004\n",
      "0.8 0.9 0.4\n",
      "0.8 0.9 0.5\n",
      "0.8 0.9 0.6\n",
      "0.8 0.9 0.7000000000000001\n",
      "0.8 1.0 0.1\n",
      "0.8 1.0 0.2\n",
      "0.8 1.0 0.30000000000000004\n",
      "0.8 1.0 0.4\n",
      "0.8 1.0 0.5\n",
      "0.8 1.0 0.6\n",
      "0.8 1.0 0.7000000000000001\n",
      "0.9 0.2 0.1\n",
      "0.9 0.30000000000000004 0.1\n",
      "0.9 0.30000000000000004 0.2\n",
      "0.9 0.4 0.1\n",
      "0.9 0.4 0.2\n",
      "0.9 0.4 0.30000000000000004\n",
      "0.9 0.5 0.1\n",
      "0.9 0.5 0.2\n",
      "0.9 0.5 0.30000000000000004\n",
      "0.9 0.5 0.4\n",
      "0.9 0.6 0.1\n",
      "0.9 0.6 0.2\n",
      "0.9 0.6 0.30000000000000004\n",
      "0.9 0.6 0.4\n",
      "0.9 0.6 0.5\n",
      "0.9 0.7000000000000001 0.1\n",
      "0.9 0.7000000000000001 0.2\n",
      "0.9 0.7000000000000001 0.30000000000000004\n",
      "0.9 0.7000000000000001 0.4\n",
      "0.9 0.7000000000000001 0.5\n",
      "0.9 0.7000000000000001 0.6\n",
      "0.9 0.8 0.1\n",
      "0.9 0.8 0.2\n",
      "0.9 0.8 0.30000000000000004\n",
      "0.9 0.8 0.4\n",
      "0.9 0.8 0.5\n",
      "0.9 0.8 0.6\n",
      "0.9 0.8 0.7000000000000001\n",
      "0.9 0.9 0.1\n",
      "0.9 0.9 0.2\n",
      "0.9 0.9 0.30000000000000004\n",
      "0.9 0.9 0.4\n",
      "0.9 0.9 0.5\n",
      "0.9 0.9 0.6\n",
      "0.9 0.9 0.7000000000000001\n",
      "0.9 0.9 0.8\n",
      "0.9 1.0 0.1\n",
      "0.9 1.0 0.2\n",
      "0.9 1.0 0.30000000000000004\n",
      "0.9 1.0 0.4\n",
      "0.9 1.0 0.5\n",
      "0.9 1.0 0.6\n",
      "0.9 1.0 0.7000000000000001\n",
      "0.9 1.0 0.8\n",
      "1.0 0.2 0.1\n",
      "1.0 0.30000000000000004 0.1\n",
      "1.0 0.30000000000000004 0.2\n",
      "1.0 0.4 0.1\n",
      "1.0 0.4 0.2\n",
      "1.0 0.4 0.30000000000000004\n",
      "1.0 0.5 0.1\n",
      "1.0 0.5 0.2\n",
      "1.0 0.5 0.30000000000000004\n",
      "1.0 0.5 0.4\n",
      "1.0 0.6 0.1\n",
      "1.0 0.6 0.2\n",
      "1.0 0.6 0.30000000000000004\n",
      "1.0 0.6 0.4\n",
      "1.0 0.6 0.5\n",
      "1.0 0.7000000000000001 0.1\n",
      "1.0 0.7000000000000001 0.2\n",
      "1.0 0.7000000000000001 0.30000000000000004\n",
      "1.0 0.7000000000000001 0.4\n",
      "1.0 0.7000000000000001 0.5\n",
      "1.0 0.7000000000000001 0.6\n",
      "1.0 0.8 0.1\n",
      "1.0 0.8 0.2\n",
      "1.0 0.8 0.30000000000000004\n",
      "1.0 0.8 0.4\n",
      "1.0 0.8 0.5\n",
      "1.0 0.8 0.6\n",
      "1.0 0.8 0.7000000000000001\n",
      "1.0 0.9 0.1\n",
      "1.0 0.9 0.2\n",
      "1.0 0.9 0.30000000000000004\n",
      "1.0 0.9 0.4\n",
      "1.0 0.9 0.5\n",
      "1.0 0.9 0.6\n",
      "1.0 0.9 0.7000000000000001\n",
      "1.0 0.9 0.8\n",
      "1.0 1.0 0.1\n",
      "1.0 1.0 0.2\n",
      "1.0 1.0 0.30000000000000004\n",
      "1.0 1.0 0.4\n",
      "1.0 1.0 0.5\n",
      "1.0 1.0 0.6\n",
      "1.0 1.0 0.7000000000000001\n",
      "1.0 1.0 0.8\n",
      "1.0 1.0 0.9\n"
     ]
    }
   ],
   "source": [
    "# OR\n",
    "w1s = np.linspace(0.1,1,10)\n",
    "w2s = np.linspace(0.1,1,10)\n",
    "thetas = np.linspace(0.1,1,10)\n",
    "x1 = np.array([0,1,0,1])\n",
    "x2 = np.array([0,0,1,1])\n",
    "\n",
    "for w1 in w1s :\n",
    "    for w2 in w2s:\n",
    "        for theta in thetas:\n",
    "            result = np.sum(np.where(x1*w1 + x2*w2 > theta,1,0) == np.array([0,1,1,1]))\n",
    "            if result == 4:\n",
    "                print(w1,w2,theta)"
   ]
  },
  {
   "cell_type": "code",
   "execution_count": 124,
   "metadata": {},
   "outputs": [],
   "source": [
    "def OR(x1,x2):\n",
    "    w1 = 0.1090909090909091\n",
    "    w2 = 0.16363636363636364\n",
    "    theta = 0.1\n",
    "    return np.where(x1*w1 + x2*w2 > theta,1,0)"
   ]
  },
  {
   "cell_type": "code",
   "execution_count": 125,
   "metadata": {},
   "outputs": [],
   "source": [
    "x1 = np.array([0,1,0,1])\n",
    "x2 = np.array([0,0,1,1])"
   ]
  },
  {
   "cell_type": "code",
   "execution_count": 126,
   "metadata": {},
   "outputs": [
    {
     "data": {
      "text/plain": [
       "array([0, 1, 1, 1])"
      ]
     },
     "execution_count": 126,
     "metadata": {},
     "output_type": "execute_result"
    }
   ],
   "source": [
    "OR(x1,x2)"
   ]
  },
  {
   "cell_type": "code",
   "execution_count": 127,
   "metadata": {},
   "outputs": [
    {
     "name": "stdout",
     "output_type": "stream",
     "text": [
      "0.1 0.1 0.2\n",
      "0.1 0.2 0.30000000000000004\n",
      "0.1 0.30000000000000004 0.4\n",
      "0.1 0.4 0.5\n",
      "0.1 0.5 0.6\n",
      "0.1 0.7000000000000001 0.8\n",
      "0.1 0.8 0.9\n",
      "0.1 0.9 1.0\n",
      "0.2 0.1 0.30000000000000004\n",
      "0.2 0.2 0.30000000000000004\n",
      "0.2 0.2 0.4\n",
      "0.2 0.30000000000000004 0.4\n",
      "0.2 0.30000000000000004 0.5\n",
      "0.2 0.4 0.5\n",
      "0.2 0.4 0.6\n",
      "0.2 0.5 0.6\n",
      "0.2 0.6 0.7000000000000001\n",
      "0.2 0.6 0.8\n",
      "0.2 0.7000000000000001 0.8\n",
      "0.2 0.7000000000000001 0.9\n",
      "0.2 0.8 0.9\n",
      "0.2 0.8 1.0\n",
      "0.2 0.9 1.0\n",
      "0.30000000000000004 0.1 0.4\n",
      "0.30000000000000004 0.2 0.4\n",
      "0.30000000000000004 0.2 0.5\n",
      "0.30000000000000004 0.30000000000000004 0.4\n",
      "0.30000000000000004 0.30000000000000004 0.5\n",
      "0.30000000000000004 0.30000000000000004 0.6\n",
      "0.30000000000000004 0.4 0.5\n",
      "0.30000000000000004 0.4 0.6\n",
      "0.30000000000000004 0.4 0.7000000000000001\n",
      "0.30000000000000004 0.5 0.6\n",
      "0.30000000000000004 0.5 0.7000000000000001\n",
      "0.30000000000000004 0.5 0.8\n",
      "0.30000000000000004 0.6 0.7000000000000001\n",
      "0.30000000000000004 0.6 0.8\n",
      "0.30000000000000004 0.6 0.9\n",
      "0.30000000000000004 0.7000000000000001 0.8\n",
      "0.30000000000000004 0.7000000000000001 0.9\n",
      "0.30000000000000004 0.7000000000000001 1.0\n",
      "0.30000000000000004 0.8 0.9\n",
      "0.30000000000000004 0.8 1.0\n",
      "0.30000000000000004 0.9 1.0\n",
      "0.4 0.1 0.5\n",
      "0.4 0.2 0.5\n",
      "0.4 0.2 0.6\n",
      "0.4 0.30000000000000004 0.5\n",
      "0.4 0.30000000000000004 0.6\n",
      "0.4 0.30000000000000004 0.7000000000000001\n",
      "0.4 0.4 0.5\n",
      "0.4 0.4 0.6\n",
      "0.4 0.4 0.7000000000000001\n",
      "0.4 0.4 0.8\n",
      "0.4 0.5 0.6\n",
      "0.4 0.5 0.7000000000000001\n",
      "0.4 0.5 0.8\n",
      "0.4 0.5 0.9\n",
      "0.4 0.6 0.7000000000000001\n",
      "0.4 0.6 0.8\n",
      "0.4 0.6 0.9\n",
      "0.4 0.6 1.0\n",
      "0.4 0.7000000000000001 0.8\n",
      "0.4 0.7000000000000001 0.9\n",
      "0.4 0.7000000000000001 1.0\n",
      "0.4 0.8 0.9\n",
      "0.4 0.8 1.0\n",
      "0.4 0.9 1.0\n",
      "0.5 0.1 0.6\n",
      "0.5 0.2 0.6\n",
      "0.5 0.30000000000000004 0.6\n",
      "0.5 0.30000000000000004 0.7000000000000001\n",
      "0.5 0.30000000000000004 0.8\n",
      "0.5 0.4 0.6\n",
      "0.5 0.4 0.7000000000000001\n",
      "0.5 0.4 0.8\n",
      "0.5 0.4 0.9\n",
      "0.5 0.5 0.6\n",
      "0.5 0.5 0.7000000000000001\n",
      "0.5 0.5 0.8\n",
      "0.5 0.5 0.9\n",
      "0.5 0.5 1.0\n",
      "0.5 0.6 0.7000000000000001\n",
      "0.5 0.6 0.8\n",
      "0.5 0.6 0.9\n",
      "0.5 0.6 1.0\n",
      "0.5 0.7000000000000001 0.8\n",
      "0.5 0.7000000000000001 0.9\n",
      "0.5 0.7000000000000001 1.0\n",
      "0.5 0.8 0.9\n",
      "0.5 0.8 1.0\n",
      "0.5 0.9 1.0\n",
      "0.6 0.2 0.7000000000000001\n",
      "0.6 0.2 0.8\n",
      "0.6 0.30000000000000004 0.7000000000000001\n",
      "0.6 0.30000000000000004 0.8\n",
      "0.6 0.30000000000000004 0.9\n",
      "0.6 0.4 0.7000000000000001\n",
      "0.6 0.4 0.8\n",
      "0.6 0.4 0.9\n",
      "0.6 0.4 1.0\n",
      "0.6 0.5 0.7000000000000001\n",
      "0.6 0.5 0.8\n",
      "0.6 0.5 0.9\n",
      "0.6 0.5 1.0\n",
      "0.6 0.6 0.7000000000000001\n",
      "0.6 0.6 0.8\n",
      "0.6 0.6 0.9\n",
      "0.6 0.6 1.0\n",
      "0.6 0.7000000000000001 0.8\n",
      "0.6 0.7000000000000001 0.9\n",
      "0.6 0.7000000000000001 1.0\n",
      "0.6 0.8 0.9\n",
      "0.6 0.8 1.0\n",
      "0.6 0.9 1.0\n",
      "0.7000000000000001 0.1 0.8\n",
      "0.7000000000000001 0.2 0.8\n",
      "0.7000000000000001 0.2 0.9\n",
      "0.7000000000000001 0.30000000000000004 0.8\n",
      "0.7000000000000001 0.30000000000000004 0.9\n",
      "0.7000000000000001 0.30000000000000004 1.0\n",
      "0.7000000000000001 0.4 0.8\n",
      "0.7000000000000001 0.4 0.9\n",
      "0.7000000000000001 0.4 1.0\n",
      "0.7000000000000001 0.5 0.8\n",
      "0.7000000000000001 0.5 0.9\n",
      "0.7000000000000001 0.5 1.0\n",
      "0.7000000000000001 0.6 0.8\n",
      "0.7000000000000001 0.6 0.9\n",
      "0.7000000000000001 0.6 1.0\n",
      "0.7000000000000001 0.7000000000000001 0.8\n",
      "0.7000000000000001 0.7000000000000001 0.9\n",
      "0.7000000000000001 0.7000000000000001 1.0\n",
      "0.7000000000000001 0.8 0.9\n",
      "0.7000000000000001 0.8 1.0\n",
      "0.7000000000000001 0.9 1.0\n",
      "0.8 0.1 0.9\n",
      "0.8 0.2 0.9\n",
      "0.8 0.2 1.0\n",
      "0.8 0.30000000000000004 0.9\n",
      "0.8 0.30000000000000004 1.0\n",
      "0.8 0.4 0.9\n",
      "0.8 0.4 1.0\n",
      "0.8 0.5 0.9\n",
      "0.8 0.5 1.0\n",
      "0.8 0.6 0.9\n",
      "0.8 0.6 1.0\n",
      "0.8 0.7000000000000001 0.9\n",
      "0.8 0.7000000000000001 1.0\n",
      "0.8 0.8 0.9\n",
      "0.8 0.8 1.0\n",
      "0.8 0.9 1.0\n",
      "0.9 0.1 1.0\n",
      "0.9 0.2 1.0\n",
      "0.9 0.30000000000000004 1.0\n",
      "0.9 0.4 1.0\n",
      "0.9 0.5 1.0\n",
      "0.9 0.6 1.0\n",
      "0.9 0.7000000000000001 1.0\n",
      "0.9 0.8 1.0\n",
      "0.9 0.9 1.0\n"
     ]
    }
   ],
   "source": [
    "# NAND\n",
    "w1s = np.linspace(0.1,1,10)\n",
    "w2s = np.linspace(0.1,1,10)\n",
    "thetas = np.linspace(0.1,1,10)\n",
    "x1 = np.array([0,1,0,1])\n",
    "x2 = np.array([0,0,1,1])\n",
    "\n",
    "for w1 in w1s :\n",
    "    for w2 in w2s:\n",
    "        for theta in thetas:\n",
    "            result = np.sum(np.where(x1*w1 + x2*w2 < theta,1,0) == np.array([1,1,1,0]))\n",
    "            if result == 4:\n",
    "                print(w1,w2,theta)"
   ]
  },
  {
   "cell_type": "code",
   "execution_count": 128,
   "metadata": {},
   "outputs": [],
   "source": [
    "def NAND(x1,x2):\n",
    "    w1 = 0.1090909090909091\n",
    "    w2 = 0.16363636363636364\n",
    "    theta = 0.1\n",
    "    return np.where(x1*w1 + x2*w2 > theta,1,0)"
   ]
  },
  {
   "cell_type": "code",
   "execution_count": 129,
   "metadata": {},
   "outputs": [],
   "source": [
    "x1 = np.array([0,1,0,1])\n",
    "x2 = np.array([0,0,1,1])"
   ]
  },
  {
   "cell_type": "code",
   "execution_count": 130,
   "metadata": {},
   "outputs": [
    {
     "data": {
      "text/plain": [
       "array([0, 1, 1, 1])"
      ]
     },
     "execution_count": 130,
     "metadata": {},
     "output_type": "execute_result"
    }
   ],
   "source": [
    "NAND(x1,x2)"
   ]
  },
  {
   "cell_type": "code",
   "execution_count": 134,
   "metadata": {},
   "outputs": [],
   "source": [
    "### 정답\n",
    "\n",
    "def AND(x1,x2):\n",
    "    w1 = 0.1\n",
    "    w2 = 0.1\n",
    "    theta = 0.1\n",
    "    return np.where(x1*w1 + x2*w2 > theta,1,0)\n",
    "def OR(x1,x2):\n",
    "    w1 = 0.2\n",
    "    w2 = 0.2\n",
    "    theta = 0.1\n",
    "    return np.where(x1*w1 + x2*w2 > theta,1,0)\n",
    "def NAND(x1,x2):\n",
    "    w1 = 0.1\n",
    "    w2 = 0.1\n",
    "    theta = 0.2\n",
    "    return np.where(x1*w1 + x2*w2 < theta,1,0)"
   ]
  },
  {
   "cell_type": "code",
   "execution_count": 135,
   "metadata": {},
   "outputs": [],
   "source": [
    "x1 = np.array([0,1,0,1])\n",
    "x2 = np.array([0,0,1,1])"
   ]
  },
  {
   "cell_type": "code",
   "execution_count": 136,
   "metadata": {},
   "outputs": [
    {
     "name": "stdout",
     "output_type": "stream",
     "text": [
      "[0 0 0 1]\n",
      "[0 1 1 1]\n",
      "[1 1 1 0]\n"
     ]
    }
   ],
   "source": [
    "print(AND(x1,x2))\n",
    "print(OR(x1,x2))\n",
    "print(NAND(x1,x2))"
   ]
  },
  {
   "cell_type": "code",
   "execution_count": null,
   "metadata": {},
   "outputs": [
    {
     "data": {
      "text/plain": [
       "['T',\n",
       " '__abs__',\n",
       " '__add__',\n",
       " '__and__',\n",
       " '__array__',\n",
       " '__array_finalize__',\n",
       " '__array_function__',\n",
       " '__array_interface__',\n",
       " '__array_prepare__',\n",
       " '__array_priority__',\n",
       " '__array_struct__',\n",
       " '__array_ufunc__',\n",
       " '__array_wrap__',\n",
       " '__bool__',\n",
       " '__class__',\n",
       " '__complex__',\n",
       " '__contains__',\n",
       " '__copy__',\n",
       " '__deepcopy__',\n",
       " '__delattr__',\n",
       " '__delitem__',\n",
       " '__dir__',\n",
       " '__divmod__',\n",
       " '__doc__',\n",
       " '__eq__',\n",
       " '__float__',\n",
       " '__floordiv__',\n",
       " '__format__',\n",
       " '__ge__',\n",
       " '__getattribute__',\n",
       " '__getitem__',\n",
       " '__gt__',\n",
       " '__hash__',\n",
       " '__iadd__',\n",
       " '__iand__',\n",
       " '__ifloordiv__',\n",
       " '__ilshift__',\n",
       " '__imatmul__',\n",
       " '__imod__',\n",
       " '__imul__',\n",
       " '__index__',\n",
       " '__init__',\n",
       " '__init_subclass__',\n",
       " '__int__',\n",
       " '__invert__',\n",
       " '__ior__',\n",
       " '__ipow__',\n",
       " '__irshift__',\n",
       " '__isub__',\n",
       " '__iter__',\n",
       " '__itruediv__',\n",
       " '__ixor__',\n",
       " '__le__',\n",
       " '__len__',\n",
       " '__lshift__',\n",
       " '__lt__',\n",
       " '__matmul__',\n",
       " '__mod__',\n",
       " '__mul__',\n",
       " '__ne__',\n",
       " '__neg__',\n",
       " '__new__',\n",
       " '__or__',\n",
       " '__pos__',\n",
       " '__pow__',\n",
       " '__radd__',\n",
       " '__rand__',\n",
       " '__rdivmod__',\n",
       " '__reduce__',\n",
       " '__reduce_ex__',\n",
       " '__repr__',\n",
       " '__rfloordiv__',\n",
       " '__rlshift__',\n",
       " '__rmatmul__',\n",
       " '__rmod__',\n",
       " '__rmul__',\n",
       " '__ror__',\n",
       " '__rpow__',\n",
       " '__rrshift__',\n",
       " '__rshift__',\n",
       " '__rsub__',\n",
       " '__rtruediv__',\n",
       " '__rxor__',\n",
       " '__setattr__',\n",
       " '__setitem__',\n",
       " '__setstate__',\n",
       " '__sizeof__',\n",
       " '__str__',\n",
       " '__sub__',\n",
       " '__subclasshook__',\n",
       " '__truediv__',\n",
       " '__xor__',\n",
       " 'all',\n",
       " 'any',\n",
       " 'argmax',\n",
       " 'argmin',\n",
       " 'argpartition',\n",
       " 'argsort',\n",
       " 'astype',\n",
       " 'base',\n",
       " 'byteswap',\n",
       " 'choose',\n",
       " 'clip',\n",
       " 'compress',\n",
       " 'conj',\n",
       " 'conjugate',\n",
       " 'copy',\n",
       " 'ctypes',\n",
       " 'cumprod',\n",
       " 'cumsum',\n",
       " 'data',\n",
       " 'diagonal',\n",
       " 'dot',\n",
       " 'dtype',\n",
       " 'dump',\n",
       " 'dumps',\n",
       " 'fill',\n",
       " 'flags',\n",
       " 'flat',\n",
       " 'flatten',\n",
       " 'getfield',\n",
       " 'imag',\n",
       " 'item',\n",
       " 'itemset',\n",
       " 'itemsize',\n",
       " 'max',\n",
       " 'mean',\n",
       " 'min',\n",
       " 'nbytes',\n",
       " 'ndim',\n",
       " 'newbyteorder',\n",
       " 'nonzero',\n",
       " 'partition',\n",
       " 'prod',\n",
       " 'ptp',\n",
       " 'put',\n",
       " 'ravel',\n",
       " 'real',\n",
       " 'repeat',\n",
       " 'reshape',\n",
       " 'resize',\n",
       " 'round',\n",
       " 'searchsorted',\n",
       " 'setfield',\n",
       " 'setflags',\n",
       " 'shape',\n",
       " 'size',\n",
       " 'sort',\n",
       " 'squeeze',\n",
       " 'std',\n",
       " 'strides',\n",
       " 'sum',\n",
       " 'swapaxes',\n",
       " 'take',\n",
       " 'tobytes',\n",
       " 'tofile',\n",
       " 'tolist',\n",
       " 'tostring',\n",
       " 'trace',\n",
       " 'transpose',\n",
       " 'var',\n",
       " 'view']"
      ]
     },
     "execution_count": 838,
     "metadata": {},
     "output_type": "execute_result"
    }
   ],
   "source": [
    "dir(x)"
   ]
  },
  {
   "cell_type": "code",
   "execution_count": null,
   "metadata": {},
   "outputs": [
    {
     "data": {
      "text/plain": [
       "4"
      ]
     },
     "execution_count": 826,
     "metadata": {},
     "output_type": "execute_result"
    }
   ],
   "source": [
    "x1 = np.array([0,1,0,1])\n",
    "x2 = np.array([0,0,1,1])\n",
    "w1 = 0.1\n",
    "w2 = 0.2\n",
    "theta = 0.3\n",
    "np.sum(np.where(x1*w1 + x2*w2 > theta,1,0) == np.array([0,0,0,1]))\n"
   ]
  },
  {
   "cell_type": "code",
   "execution_count": null,
   "metadata": {},
   "outputs": [],
   "source": [
    "# Ross Function 3가지\n",
    "### 1. mse\n",
    "# - a 값을 반복해서 +, - 를 학습시키다보면 기울기가 0에 가까운 값 발견(가우스)\n",
    "### 2. 엔트로피\n",
    "# - \n",
    "### 3. 로지스틱 회귀\n",
    "# - log 함수 사용"
   ]
  },
  {
   "cell_type": "code",
   "execution_count": null,
   "metadata": {},
   "outputs": [],
   "source": []
  },
  {
   "cell_type": "code",
   "execution_count": null,
   "metadata": {},
   "outputs": [],
   "source": []
  }
 ],
 "metadata": {
  "kernelspec": {
   "display_name": "Python 3.9.12 ('base')",
   "language": "python",
   "name": "python3"
  },
  "language_info": {
   "codemirror_mode": {
    "name": "ipython",
    "version": 3
   },
   "file_extension": ".py",
   "mimetype": "text/x-python",
   "name": "python",
   "nbconvert_exporter": "python",
   "pygments_lexer": "ipython3",
   "version": "3.9.12"
  },
  "orig_nbformat": 4,
  "vscode": {
   "interpreter": {
    "hash": "610a6f344c2137faf927ea819c63f6cee33a2c04455044b28099f39fe9722347"
   }
  }
 },
 "nbformat": 4,
 "nbformat_minor": 2
}
