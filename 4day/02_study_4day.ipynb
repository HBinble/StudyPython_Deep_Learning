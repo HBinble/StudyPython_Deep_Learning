{
 "cells": [
  {
   "cell_type": "code",
   "execution_count": 224,
   "metadata": {},
   "outputs": [],
   "source": [
    "import numpy as np"
   ]
  },
  {
   "cell_type": "code",
   "execution_count": 225,
   "metadata": {},
   "outputs": [],
   "source": [
    "from sklearn.datasets import load_iris"
   ]
  },
  {
   "cell_type": "code",
   "execution_count": 226,
   "metadata": {},
   "outputs": [],
   "source": [
    "X = load_iris()[\"data\"]\n",
    "y = load_iris()[\"target\"]"
   ]
  },
  {
   "cell_type": "code",
   "execution_count": 227,
   "metadata": {},
   "outputs": [],
   "source": [
    "def sigmoid(x):\n",
    "    return 1/(1+np.exp(-x))"
   ]
  },
  {
   "cell_type": "code",
   "execution_count": 228,
   "metadata": {},
   "outputs": [],
   "source": [
    "def relu(x):\n",
    "    return np.maximum(0,x)"
   ]
  },
  {
   "cell_type": "code",
   "execution_count": 229,
   "metadata": {},
   "outputs": [],
   "source": [
    "# def softmax(x):\n",
    "#     c = np.max(x)\n",
    "#     x = x-c\n",
    "#     return np.exp(x)/np.sum(np.exp(x))"
   ]
  },
  {
   "cell_type": "code",
   "execution_count": 230,
   "metadata": {},
   "outputs": [],
   "source": [
    "def softmax(x):\n",
    "    c = np.max(x,axis=1).reshape(-1,1)\n",
    "    x = x-c\n",
    "    return np.exp(x)/np.sum(np.exp(x),axis=1).reshape(-1,1)"
   ]
  },
  {
   "cell_type": "code",
   "execution_count": 231,
   "metadata": {},
   "outputs": [],
   "source": [
    "def categorical_crossentropy(t,y):\n",
    "    return np.mean(-t*np.log(y))"
   ]
  },
  {
   "cell_type": "code",
   "execution_count": 232,
   "metadata": {},
   "outputs": [],
   "source": [
    "def make_one(x):\n",
    "    result = np.zeros((x.size, np.unique(x).size))\n",
    "    for idx1,idx2 in enumerate(x):\n",
    "        result[idx1,idx2] = 1\n",
    "    return result"
   ]
  },
  {
   "cell_type": "code",
   "execution_count": 233,
   "metadata": {},
   "outputs": [
    {
     "data": {
      "text/plain": [
       "(150, 4)"
      ]
     },
     "execution_count": 233,
     "metadata": {},
     "output_type": "execute_result"
    }
   ],
   "source": [
    "X.shape"
   ]
  },
  {
   "cell_type": "code",
   "execution_count": 234,
   "metadata": {},
   "outputs": [],
   "source": [
    "y = make_one(y)"
   ]
  },
  {
   "cell_type": "code",
   "execution_count": 235,
   "metadata": {},
   "outputs": [],
   "source": [
    "input_shape = X.shape[1:]\n",
    "output_shape = y.shape[1:]"
   ]
  },
  {
   "cell_type": "code",
   "execution_count": 236,
   "metadata": {},
   "outputs": [],
   "source": [
    "W1 = np.random.randn(4,50)\n",
    "b1 = np.zeros(50)\n",
    "W2 = np.random.randn(50,3)\n",
    "b2 = np.zeros(3)"
   ]
  },
  {
   "cell_type": "code",
   "execution_count": 237,
   "metadata": {},
   "outputs": [],
   "source": [
    "def predict(x):\n",
    "    W1 = np.random.randn(4,50)\n",
    "    b1 = np.zeros(50)\n",
    "    W2 = np.random.randn(50,3)\n",
    "    b2 = np.zeros(3)\n",
    "    layer1 = np.dot(x,W1) + b1\n",
    "    z1 = sigmoid(layer1)\n",
    "    layer2 = np.dot(z1,W2) + b2\n",
    "    out = softmax(layer2)\n",
    "    return out"
   ]
  },
  {
   "cell_type": "code",
   "execution_count": 238,
   "metadata": {},
   "outputs": [
    {
     "data": {
      "text/plain": [
       "1.3445492253165467"
      ]
     },
     "execution_count": 238,
     "metadata": {},
     "output_type": "execute_result"
    }
   ],
   "source": [
    "categorical_crossentropy(y,y_hat)"
   ]
  },
  {
   "cell_type": "code",
   "execution_count": 239,
   "metadata": {},
   "outputs": [],
   "source": [
    "def numerical_gradient(f,x):\n",
    "    h = 1e-4\n",
    "    grad = np.zeros_like(x)\n",
    "    it = np.nditer(x, flags=[\"multi_index\"],op_flags=[\"readwrite\"])\n",
    "    \n",
    "    while not it.finished:\n",
    "        idx = it.multi_index\n",
    "        tmp_val = x[idx]\n",
    "        x[idx] = tmp_val + h\n",
    "        fxh = f(x)\n",
    "        x[idx] = tmp_val\n",
    "        fx = f(x)\n",
    "        grad[idx] = (fxh-fx)/h\n",
    "        it.iternext()\n",
    "    return grad"
   ]
  },
  {
   "cell_type": "markdown",
   "metadata": {},
   "source": [
    "## ex)"
   ]
  },
  {
   "cell_type": "code",
   "execution_count": 240,
   "metadata": {},
   "outputs": [
    {
     "data": {
      "text/plain": [
       "{'w': array([0, 1, 2, 3, 4, 5, 6, 7, 8, 9])}"
      ]
     },
     "execution_count": 240,
     "metadata": {},
     "output_type": "execute_result"
    }
   ],
   "source": [
    "a = {}\n",
    "a[\"w\"] = np.arange(10)\n",
    "a"
   ]
  },
  {
   "cell_type": "code",
   "execution_count": 241,
   "metadata": {},
   "outputs": [
    {
     "data": {
      "text/plain": [
       "1"
      ]
     },
     "execution_count": 241,
     "metadata": {},
     "output_type": "execute_result"
    }
   ],
   "source": [
    "a = {}\n",
    "a[\"w1\"] = \"a\"\n",
    "len(a)"
   ]
  },
  {
   "cell_type": "markdown",
   "metadata": {},
   "source": [
    "# Class 생성"
   ]
  },
  {
   "cell_type": "code",
   "execution_count": 242,
   "metadata": {},
   "outputs": [],
   "source": [
    "class Network:\n",
    "    def __init__(self):\n",
    "        self.layer = {}\n",
    "    \n",
    "    def add(self,x1,x2,activation):\n",
    "        activation_dict = {\n",
    "            \"sigmoid\" : sigmoid,\n",
    "            \"relu\" : relu,\n",
    "            \"softmax\" : softmax\n",
    "        }\n",
    "        w = \"W\"+str(int(len(self.layer)/3+1))\n",
    "        b = \"b\"+str(int(len(self.layer)/3+1))\n",
    "        a = \"activation\"+str(int(len(self.layer)/3+1))\n",
    "        self.layer[w] = np.random.randn(x1,x2)\n",
    "        self.layer[b] = np.zeros(x2)\n",
    "        self.layer[a] = activation_dict[activation]\n",
    "        \n",
    "    def predict(self,x):\n",
    "        y = np.dot(x,self.W1) + self.b1\n",
    "        y = relu(y)\n",
    "        y = np.dot(y,self.W2) + self.b2\n",
    "        y = softmax(y)\n",
    "        return y\n",
    "    \n",
    "    def loss(self,x,t):\n",
    "        y = self.predict(x)\n",
    "        err = categorical_crossentropy(t,y) \n",
    "        self.err = err\n",
    "        return self.err\n",
    "    \n",
    "    def accuracy(self,x,t):\n",
    "        y = self.predict(x)\n",
    "        y = np.argmax(y,axis=1)\n",
    "        t = np.argmax(t,axis=1)\n",
    "        self.acc = np.sum(y==t)/t.size\n",
    "        return self.acc\n",
    "    \n",
    "    def gradient(self,x,t):\n",
    "        #self.loss(x,t)\n",
    "        lr = 1e-4\n",
    "        W_loss = lambda W : self.loss(x,t)\n",
    "        dW1 = numerical_gradient(W_loss,self.W1)\n",
    "        db1 = numerical_gradient(W_loss,self.b1)\n",
    "        dW2 = numerical_gradient(W_loss,self.W2)\n",
    "        db2 = numerical_gradient(W_loss,self.b2)\n",
    "        self.W1 -= dW1*lr\n",
    "        self.b1 -= db1*lr\n",
    "        self.W2 -= dW2*lr\n",
    "        self.b2 -= db2*lr\n",
    "        \n",
    "    def fit(self,x,t,epochs):\n",
    "        for epoch in range(epochs):\n",
    "            self.gradient(x,t)\n",
    "            if epoch % 100 == 0:\n",
    "                print(f'loss : {self.err} === accuracy : {self.accuracy(x,t)}')"
   ]
  },
  {
   "cell_type": "code",
   "execution_count": 243,
   "metadata": {},
   "outputs": [],
   "source": [
    "model = Network()"
   ]
  },
  {
   "cell_type": "code",
   "execution_count": 244,
   "metadata": {},
   "outputs": [],
   "source": [
    "model.add(4,50,\"sigmoid\")"
   ]
  },
  {
   "cell_type": "code",
   "execution_count": 245,
   "metadata": {},
   "outputs": [],
   "source": [
    "model.add(50,3,\"softmax\")"
   ]
  },
  {
   "cell_type": "code",
   "execution_count": 246,
   "metadata": {},
   "outputs": [
    {
     "data": {
      "text/plain": [
       "0.9999546021312976"
      ]
     },
     "execution_count": 246,
     "metadata": {},
     "output_type": "execute_result"
    }
   ],
   "source": [
    "model.layer[\"activation1\"](10)"
   ]
  },
  {
   "cell_type": "code",
   "execution_count": 247,
   "metadata": {},
   "outputs": [],
   "source": [
    "# for _,v in model.layer.items():\n",
    "#     print(v)\n",
    "# for k,v in model.layer.key():\n",
    "#     print(k)"
   ]
  },
  {
   "cell_type": "code",
   "execution_count": 248,
   "metadata": {},
   "outputs": [],
   "source": [
    "# model.fit(X,y,10000)"
   ]
  },
  {
   "cell_type": "code",
   "execution_count": 249,
   "metadata": {},
   "outputs": [
    {
     "ename": "AttributeError",
     "evalue": "'Network' object has no attribute 'W1'",
     "output_type": "error",
     "traceback": [
      "\u001b[1;31m---------------------------------------------------------------------------\u001b[0m",
      "\u001b[1;31mAttributeError\u001b[0m                            Traceback (most recent call last)",
      "\u001b[1;32mc:\\Users\\admin\\STUDY\\StudyPython_Deep_Learning\\4day\\02_study_4day.ipynb 셀 28\u001b[0m in \u001b[0;36m<cell line: 1>\u001b[1;34m()\u001b[0m\n\u001b[1;32m----> <a href='vscode-notebook-cell:/c%3A/Users/admin/STUDY/StudyPython_Deep_Learning/4day/02_study_4day.ipynb#X35sZmlsZQ%3D%3D?line=0'>1</a>\u001b[0m model\u001b[39m.\u001b[39;49mpredict(X[\u001b[39m0\u001b[39;49m:\u001b[39m1\u001b[39;49m])\n",
      "\u001b[1;32mc:\\Users\\admin\\STUDY\\StudyPython_Deep_Learning\\4day\\02_study_4day.ipynb 셀 28\u001b[0m in \u001b[0;36mNetwork.predict\u001b[1;34m(self, x)\u001b[0m\n\u001b[0;32m     <a href='vscode-notebook-cell:/c%3A/Users/admin/STUDY/StudyPython_Deep_Learning/4day/02_study_4day.ipynb#X35sZmlsZQ%3D%3D?line=17'>18</a>\u001b[0m \u001b[39mdef\u001b[39;00m \u001b[39mpredict\u001b[39m(\u001b[39mself\u001b[39m,x):\n\u001b[1;32m---> <a href='vscode-notebook-cell:/c%3A/Users/admin/STUDY/StudyPython_Deep_Learning/4day/02_study_4day.ipynb#X35sZmlsZQ%3D%3D?line=18'>19</a>\u001b[0m     y \u001b[39m=\u001b[39m np\u001b[39m.\u001b[39mdot(x,\u001b[39mself\u001b[39;49m\u001b[39m.\u001b[39;49mW1) \u001b[39m+\u001b[39m \u001b[39mself\u001b[39m\u001b[39m.\u001b[39mb1\n\u001b[0;32m     <a href='vscode-notebook-cell:/c%3A/Users/admin/STUDY/StudyPython_Deep_Learning/4day/02_study_4day.ipynb#X35sZmlsZQ%3D%3D?line=19'>20</a>\u001b[0m     y \u001b[39m=\u001b[39m relu(y)\n\u001b[0;32m     <a href='vscode-notebook-cell:/c%3A/Users/admin/STUDY/StudyPython_Deep_Learning/4day/02_study_4day.ipynb#X35sZmlsZQ%3D%3D?line=20'>21</a>\u001b[0m     y \u001b[39m=\u001b[39m np\u001b[39m.\u001b[39mdot(y,\u001b[39mself\u001b[39m\u001b[39m.\u001b[39mW2) \u001b[39m+\u001b[39m \u001b[39mself\u001b[39m\u001b[39m.\u001b[39mb2\n",
      "\u001b[1;31mAttributeError\u001b[0m: 'Network' object has no attribute 'W1'"
     ]
    }
   ],
   "source": [
    "model.predict(X[0:1])"
   ]
  },
  {
   "cell_type": "code",
   "execution_count": null,
   "metadata": {},
   "outputs": [
    {
     "data": {
      "text/plain": [
       "1"
      ]
     },
     "execution_count": 151,
     "metadata": {},
     "output_type": "execute_result"
    }
   ],
   "source": [
    "np.argmax(model.predict(X[0:1]))"
   ]
  },
  {
   "cell_type": "code",
   "execution_count": null,
   "metadata": {},
   "outputs": [
    {
     "data": {
      "text/plain": [
       "13.67638397404389"
      ]
     },
     "execution_count": 152,
     "metadata": {},
     "output_type": "execute_result"
    }
   ],
   "source": [
    "model.loss(X,y)"
   ]
  },
  {
   "cell_type": "code",
   "execution_count": null,
   "metadata": {},
   "outputs": [],
   "source": [
    "model.gradient(X,y)"
   ]
  },
  {
   "cell_type": "code",
   "execution_count": null,
   "metadata": {},
   "outputs": [
    {
     "name": "stdout",
     "output_type": "stream",
     "text": [
      "loss : 13.665600786821658 === accuracy : 0.3333333333333333\n",
      "loss : 12.770010759363242 === accuracy : 0.3333333333333333\n",
      "loss : 11.98516958054729 === accuracy : 0.3333333333333333\n",
      "loss : 11.214640863054386 === accuracy : 0.3333333333333333\n",
      "loss : 10.450813360515575 === accuracy : 0.3333333333333333\n",
      "loss : 9.695745851150892 === accuracy : 0.3333333333333333\n",
      "loss : 8.965239931675825 === accuracy : 0.3466666666666667\n",
      "loss : 8.407512376184082 === accuracy : 0.4666666666666667\n",
      "loss : 8.039188808330472 === accuracy : 0.5266666666666666\n",
      "loss : 7.718532977884472 === accuracy : 0.5533333333333333\n",
      "loss : 7.411097051776952 === accuracy : 0.5733333333333334\n",
      "loss : 7.110147177182449 === accuracy : 0.5933333333333334\n",
      "loss : 6.814328375812549 === accuracy : 0.5933333333333334\n",
      "loss : 6.523041670108632 === accuracy : 0.6\n",
      "loss : 6.234782740253026 === accuracy : 0.6\n",
      "loss : 5.948469106215778 === accuracy : 0.6\n",
      "loss : 5.663499709844925 === accuracy : 0.6\n",
      "loss : 5.380784028907326 === accuracy : 0.6\n",
      "loss : 5.100601556976506 === accuracy : 0.6\n",
      "loss : 4.822623558426412 === accuracy : 0.5933333333333334\n",
      "loss : 4.546683453612227 === accuracy : 0.5933333333333334\n",
      "loss : 4.273166390113244 === accuracy : 0.5933333333333334\n",
      "loss : 4.00224238727902 === accuracy : 0.6\n",
      "loss : 3.7338925316514766 === accuracy : 0.6\n",
      "loss : 3.467261304986496 === accuracy : 0.6\n",
      "loss : 3.2026922646401252 === accuracy : 0.6\n",
      "loss : 2.940056995749003 === accuracy : 0.6\n",
      "loss : 2.6804392869703295 === accuracy : 0.6\n",
      "loss : 2.423042225041858 === accuracy : 0.5933333333333334\n",
      "loss : 2.168270570087135 === accuracy : 0.5933333333333334\n",
      "loss : 1.920300463231241 === accuracy : 0.5933333333333334\n",
      "loss : 1.68215176809919 === accuracy : 0.5933333333333334\n",
      "loss : 1.461021651387994 === accuracy : 0.5933333333333334\n",
      "loss : 1.2545192269047905 === accuracy : 0.5933333333333334\n",
      "loss : 1.0626291867069744 === accuracy : 0.5933333333333334\n",
      "loss : 0.8758124209742287 === accuracy : 0.5933333333333334\n",
      "loss : 0.6916551023615062 === accuracy : 0.6\n",
      "loss : 0.5115548497368676 === accuracy : 0.6066666666666667\n",
      "loss : 0.3462705569066876 === accuracy : 0.6066666666666667\n",
      "loss : 0.2198568815409154 === accuracy : 0.64\n",
      "loss : 0.14340876727989896 === accuracy : 0.78\n"
     ]
    },
    {
     "ename": "KeyboardInterrupt",
     "evalue": "",
     "output_type": "error",
     "traceback": [
      "\u001b[1;31m---------------------------------------------------------------------------\u001b[0m",
      "\u001b[1;31mKeyboardInterrupt\u001b[0m                         Traceback (most recent call last)",
      "\u001b[1;32mc:\\Users\\admin\\STUDY\\StudyPython_Deep_Learning\\4day\\02_study_4day.ipynb 셀 30\u001b[0m in \u001b[0;36m<cell line: 2>\u001b[1;34m()\u001b[0m\n\u001b[0;32m      <a href='vscode-notebook-cell:/c%3A/Users/admin/STUDY/StudyPython_Deep_Learning/4day/02_study_4day.ipynb#X42sZmlsZQ%3D%3D?line=0'>1</a>\u001b[0m epochs \u001b[39m=\u001b[39m \u001b[39m10000\u001b[39m\n\u001b[0;32m      <a href='vscode-notebook-cell:/c%3A/Users/admin/STUDY/StudyPython_Deep_Learning/4day/02_study_4day.ipynb#X42sZmlsZQ%3D%3D?line=1'>2</a>\u001b[0m \u001b[39mfor\u001b[39;00m epoch \u001b[39min\u001b[39;00m \u001b[39mrange\u001b[39m(epochs): \n\u001b[1;32m----> <a href='vscode-notebook-cell:/c%3A/Users/admin/STUDY/StudyPython_Deep_Learning/4day/02_study_4day.ipynb#X42sZmlsZQ%3D%3D?line=2'>3</a>\u001b[0m     model\u001b[39m.\u001b[39;49mgradient(X,y)\n\u001b[0;32m      <a href='vscode-notebook-cell:/c%3A/Users/admin/STUDY/StudyPython_Deep_Learning/4day/02_study_4day.ipynb#X42sZmlsZQ%3D%3D?line=3'>4</a>\u001b[0m     \u001b[39mif\u001b[39;00m epoch \u001b[39m%\u001b[39m \u001b[39m100\u001b[39m \u001b[39m==\u001b[39m \u001b[39m0\u001b[39m:\n\u001b[0;32m      <a href='vscode-notebook-cell:/c%3A/Users/admin/STUDY/StudyPython_Deep_Learning/4day/02_study_4day.ipynb#X42sZmlsZQ%3D%3D?line=4'>5</a>\u001b[0m         \u001b[39mprint\u001b[39m(\u001b[39mf\u001b[39m\u001b[39m'\u001b[39m\u001b[39mloss : \u001b[39m\u001b[39m{\u001b[39;00mmodel\u001b[39m.\u001b[39merr\u001b[39m}\u001b[39;00m\u001b[39m === accuracy : \u001b[39m\u001b[39m{\u001b[39;00mmodel\u001b[39m.\u001b[39maccuracy(X,y)\u001b[39m}\u001b[39;00m\u001b[39m'\u001b[39m)\n",
      "\u001b[1;32mc:\\Users\\admin\\STUDY\\StudyPython_Deep_Learning\\4day\\02_study_4day.ipynb 셀 30\u001b[0m in \u001b[0;36mNetwork.gradient\u001b[1;34m(self, x, t)\u001b[0m\n\u001b[0;32m     <a href='vscode-notebook-cell:/c%3A/Users/admin/STUDY/StudyPython_Deep_Learning/4day/02_study_4day.ipynb#X42sZmlsZQ%3D%3D?line=30'>31</a>\u001b[0m lr \u001b[39m=\u001b[39m \u001b[39m1e-4\u001b[39m\n\u001b[0;32m     <a href='vscode-notebook-cell:/c%3A/Users/admin/STUDY/StudyPython_Deep_Learning/4day/02_study_4day.ipynb#X42sZmlsZQ%3D%3D?line=31'>32</a>\u001b[0m W_loss \u001b[39m=\u001b[39m \u001b[39mlambda\u001b[39;00m W : \u001b[39mself\u001b[39m\u001b[39m.\u001b[39mloss(x,t)\n\u001b[1;32m---> <a href='vscode-notebook-cell:/c%3A/Users/admin/STUDY/StudyPython_Deep_Learning/4day/02_study_4day.ipynb#X42sZmlsZQ%3D%3D?line=32'>33</a>\u001b[0m dW1 \u001b[39m=\u001b[39m numerical_gradient(W_loss,\u001b[39mself\u001b[39;49m\u001b[39m.\u001b[39;49mW1)\n\u001b[0;32m     <a href='vscode-notebook-cell:/c%3A/Users/admin/STUDY/StudyPython_Deep_Learning/4day/02_study_4day.ipynb#X42sZmlsZQ%3D%3D?line=33'>34</a>\u001b[0m db1 \u001b[39m=\u001b[39m numerical_gradient(W_loss,\u001b[39mself\u001b[39m\u001b[39m.\u001b[39mb1)\n\u001b[0;32m     <a href='vscode-notebook-cell:/c%3A/Users/admin/STUDY/StudyPython_Deep_Learning/4day/02_study_4day.ipynb#X42sZmlsZQ%3D%3D?line=34'>35</a>\u001b[0m dW2 \u001b[39m=\u001b[39m numerical_gradient(W_loss,\u001b[39mself\u001b[39m\u001b[39m.\u001b[39mW2)\n",
      "\u001b[1;32mc:\\Users\\admin\\STUDY\\StudyPython_Deep_Learning\\4day\\02_study_4day.ipynb 셀 30\u001b[0m in \u001b[0;36mnumerical_gradient\u001b[1;34m(f, x)\u001b[0m\n\u001b[0;32m     <a href='vscode-notebook-cell:/c%3A/Users/admin/STUDY/StudyPython_Deep_Learning/4day/02_study_4day.ipynb#X42sZmlsZQ%3D%3D?line=9'>10</a>\u001b[0m fxh \u001b[39m=\u001b[39m f(x)\n\u001b[0;32m     <a href='vscode-notebook-cell:/c%3A/Users/admin/STUDY/StudyPython_Deep_Learning/4day/02_study_4day.ipynb#X42sZmlsZQ%3D%3D?line=10'>11</a>\u001b[0m x[idx] \u001b[39m=\u001b[39m tmp_val\n\u001b[1;32m---> <a href='vscode-notebook-cell:/c%3A/Users/admin/STUDY/StudyPython_Deep_Learning/4day/02_study_4day.ipynb#X42sZmlsZQ%3D%3D?line=11'>12</a>\u001b[0m fx \u001b[39m=\u001b[39m f(x)\n\u001b[0;32m     <a href='vscode-notebook-cell:/c%3A/Users/admin/STUDY/StudyPython_Deep_Learning/4day/02_study_4day.ipynb#X42sZmlsZQ%3D%3D?line=12'>13</a>\u001b[0m grad[idx] \u001b[39m=\u001b[39m (fxh\u001b[39m-\u001b[39mfx)\u001b[39m/\u001b[39mh\n\u001b[0;32m     <a href='vscode-notebook-cell:/c%3A/Users/admin/STUDY/StudyPython_Deep_Learning/4day/02_study_4day.ipynb#X42sZmlsZQ%3D%3D?line=13'>14</a>\u001b[0m it\u001b[39m.\u001b[39miternext()\n",
      "\u001b[1;32mc:\\Users\\admin\\STUDY\\StudyPython_Deep_Learning\\4day\\02_study_4day.ipynb 셀 30\u001b[0m in \u001b[0;36mNetwork.gradient.<locals>.<lambda>\u001b[1;34m(W)\u001b[0m\n\u001b[0;32m     <a href='vscode-notebook-cell:/c%3A/Users/admin/STUDY/StudyPython_Deep_Learning/4day/02_study_4day.ipynb#X42sZmlsZQ%3D%3D?line=28'>29</a>\u001b[0m \u001b[39mdef\u001b[39;00m \u001b[39mgradient\u001b[39m(\u001b[39mself\u001b[39m,x,t):\n\u001b[0;32m     <a href='vscode-notebook-cell:/c%3A/Users/admin/STUDY/StudyPython_Deep_Learning/4day/02_study_4day.ipynb#X42sZmlsZQ%3D%3D?line=29'>30</a>\u001b[0m     \u001b[39m#self.loss(x,t)\u001b[39;00m\n\u001b[0;32m     <a href='vscode-notebook-cell:/c%3A/Users/admin/STUDY/StudyPython_Deep_Learning/4day/02_study_4day.ipynb#X42sZmlsZQ%3D%3D?line=30'>31</a>\u001b[0m     lr \u001b[39m=\u001b[39m \u001b[39m1e-4\u001b[39m\n\u001b[1;32m---> <a href='vscode-notebook-cell:/c%3A/Users/admin/STUDY/StudyPython_Deep_Learning/4day/02_study_4day.ipynb#X42sZmlsZQ%3D%3D?line=31'>32</a>\u001b[0m     W_loss \u001b[39m=\u001b[39m \u001b[39mlambda\u001b[39;00m W : \u001b[39mself\u001b[39;49m\u001b[39m.\u001b[39;49mloss(x,t)\n\u001b[0;32m     <a href='vscode-notebook-cell:/c%3A/Users/admin/STUDY/StudyPython_Deep_Learning/4day/02_study_4day.ipynb#X42sZmlsZQ%3D%3D?line=32'>33</a>\u001b[0m     dW1 \u001b[39m=\u001b[39m numerical_gradient(W_loss,\u001b[39mself\u001b[39m\u001b[39m.\u001b[39mW1)\n\u001b[0;32m     <a href='vscode-notebook-cell:/c%3A/Users/admin/STUDY/StudyPython_Deep_Learning/4day/02_study_4day.ipynb#X42sZmlsZQ%3D%3D?line=33'>34</a>\u001b[0m     db1 \u001b[39m=\u001b[39m numerical_gradient(W_loss,\u001b[39mself\u001b[39m\u001b[39m.\u001b[39mb1)\n",
      "\u001b[1;32mc:\\Users\\admin\\STUDY\\StudyPython_Deep_Learning\\4day\\02_study_4day.ipynb 셀 30\u001b[0m in \u001b[0;36mNetwork.loss\u001b[1;34m(self, x, t)\u001b[0m\n\u001b[0;32m     <a href='vscode-notebook-cell:/c%3A/Users/admin/STUDY/StudyPython_Deep_Learning/4day/02_study_4day.ipynb#X42sZmlsZQ%3D%3D?line=15'>16</a>\u001b[0m \u001b[39mdef\u001b[39;00m \u001b[39mloss\u001b[39m(\u001b[39mself\u001b[39m,x,t):\n\u001b[1;32m---> <a href='vscode-notebook-cell:/c%3A/Users/admin/STUDY/StudyPython_Deep_Learning/4day/02_study_4day.ipynb#X42sZmlsZQ%3D%3D?line=16'>17</a>\u001b[0m     y \u001b[39m=\u001b[39m \u001b[39mself\u001b[39;49m\u001b[39m.\u001b[39;49mpredict(x)\n\u001b[0;32m     <a href='vscode-notebook-cell:/c%3A/Users/admin/STUDY/StudyPython_Deep_Learning/4day/02_study_4day.ipynb#X42sZmlsZQ%3D%3D?line=17'>18</a>\u001b[0m     err \u001b[39m=\u001b[39m categorical_crossentropy(t,y) \n\u001b[0;32m     <a href='vscode-notebook-cell:/c%3A/Users/admin/STUDY/StudyPython_Deep_Learning/4day/02_study_4day.ipynb#X42sZmlsZQ%3D%3D?line=18'>19</a>\u001b[0m     \u001b[39mself\u001b[39m\u001b[39m.\u001b[39merr \u001b[39m=\u001b[39m err\n",
      "\u001b[1;32mc:\\Users\\admin\\STUDY\\StudyPython_Deep_Learning\\4day\\02_study_4day.ipynb 셀 30\u001b[0m in \u001b[0;36mNetwork.predict\u001b[1;34m(self, x)\u001b[0m\n\u001b[0;32m      <a href='vscode-notebook-cell:/c%3A/Users/admin/STUDY/StudyPython_Deep_Learning/4day/02_study_4day.ipynb#X42sZmlsZQ%3D%3D?line=8'>9</a>\u001b[0m \u001b[39mdef\u001b[39;00m \u001b[39mpredict\u001b[39m(\u001b[39mself\u001b[39m,x):\n\u001b[1;32m---> <a href='vscode-notebook-cell:/c%3A/Users/admin/STUDY/StudyPython_Deep_Learning/4day/02_study_4day.ipynb#X42sZmlsZQ%3D%3D?line=9'>10</a>\u001b[0m     y \u001b[39m=\u001b[39m np\u001b[39m.\u001b[39;49mdot(x,\u001b[39mself\u001b[39;49m\u001b[39m.\u001b[39;49mW1) \u001b[39m+\u001b[39m \u001b[39mself\u001b[39m\u001b[39m.\u001b[39mb1\n\u001b[0;32m     <a href='vscode-notebook-cell:/c%3A/Users/admin/STUDY/StudyPython_Deep_Learning/4day/02_study_4day.ipynb#X42sZmlsZQ%3D%3D?line=10'>11</a>\u001b[0m     y \u001b[39m=\u001b[39m relu(y)\n\u001b[0;32m     <a href='vscode-notebook-cell:/c%3A/Users/admin/STUDY/StudyPython_Deep_Learning/4day/02_study_4day.ipynb#X42sZmlsZQ%3D%3D?line=11'>12</a>\u001b[0m     y \u001b[39m=\u001b[39m np\u001b[39m.\u001b[39mdot(y,\u001b[39mself\u001b[39m\u001b[39m.\u001b[39mW2) \u001b[39m+\u001b[39m \u001b[39mself\u001b[39m\u001b[39m.\u001b[39mb2\n",
      "File \u001b[1;32m<__array_function__ internals>:5\u001b[0m, in \u001b[0;36mdot\u001b[1;34m(*args, **kwargs)\u001b[0m\n",
      "\u001b[1;31mKeyboardInterrupt\u001b[0m: "
     ]
    }
   ],
   "source": [
    "epochs = 10000\n",
    "for epoch in range(epochs): \n",
    "    model.gradient(X,y)\n",
    "    if epoch % 100 == 0:\n",
    "        print(f'loss : {model.err} === accuracy : {model.accuracy(X,y)}')"
   ]
  },
  {
   "cell_type": "code",
   "execution_count": null,
   "metadata": {},
   "outputs": [
    {
     "data": {
      "text/plain": [
       "array([[4.4, 2.9, 1.4, 0.2]])"
      ]
     },
     "execution_count": 156,
     "metadata": {},
     "output_type": "execute_result"
    }
   ],
   "source": [
    "X[[8]]"
   ]
  },
  {
   "cell_type": "code",
   "execution_count": null,
   "metadata": {},
   "outputs": [
    {
     "data": {
      "text/plain": [
       "array([1., 0., 0.])"
      ]
     },
     "execution_count": 159,
     "metadata": {},
     "output_type": "execute_result"
    }
   ],
   "source": [
    "y[8]"
   ]
  },
  {
   "cell_type": "code",
   "execution_count": null,
   "metadata": {},
   "outputs": [
    {
     "data": {
      "text/plain": [
       "0"
      ]
     },
     "execution_count": 163,
     "metadata": {},
     "output_type": "execute_result"
    }
   ],
   "source": [
    "np.argmax(model.predict(X[[8]]))"
   ]
  },
  {
   "cell_type": "code",
   "execution_count": null,
   "metadata": {},
   "outputs": [
    {
     "data": {
      "text/plain": [
       "0"
      ]
     },
     "execution_count": 164,
     "metadata": {},
     "output_type": "execute_result"
    }
   ],
   "source": [
    "np.argmax(y[8])"
   ]
  },
  {
   "cell_type": "code",
   "execution_count": null,
   "metadata": {},
   "outputs": [],
   "source": []
  }
 ],
 "metadata": {
  "kernelspec": {
   "display_name": "ml_kernel",
   "language": "python",
   "name": "ml"
  },
  "language_info": {
   "codemirror_mode": {
    "name": "ipython",
    "version": 3
   },
   "file_extension": ".py",
   "mimetype": "text/x-python",
   "name": "python",
   "nbconvert_exporter": "python",
   "pygments_lexer": "ipython3",
   "version": "3.9.12"
  },
  "orig_nbformat": 4,
  "vscode": {
   "interpreter": {
    "hash": "38ae1ba9371524da054e8e3fbefd778d16b5a8ac7937a3f395010f627bb73919"
   }
  }
 },
 "nbformat": 4,
 "nbformat_minor": 2
}
