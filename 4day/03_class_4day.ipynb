{
 "cells": [
  {
   "cell_type": "code",
   "execution_count": 460,
   "metadata": {},
   "outputs": [],
   "source": [
    "import numpy as np"
   ]
  },
  {
   "cell_type": "code",
   "execution_count": 461,
   "metadata": {},
   "outputs": [],
   "source": [
    "from sklearn.datasets import load_iris"
   ]
  },
  {
   "cell_type": "code",
   "execution_count": 462,
   "metadata": {},
   "outputs": [],
   "source": [
    "X = load_iris()[\"data\"]\n",
    "y = load_iris()[\"target\"]"
   ]
  },
  {
   "cell_type": "code",
   "execution_count": 463,
   "metadata": {},
   "outputs": [],
   "source": [
    "def sigmoid(x):\n",
    "    return 1/(1+np.exp(-x))"
   ]
  },
  {
   "cell_type": "code",
   "execution_count": 464,
   "metadata": {},
   "outputs": [],
   "source": [
    "def relu(x):\n",
    "    return np.maximum(0,x)"
   ]
  },
  {
   "cell_type": "code",
   "execution_count": 465,
   "metadata": {},
   "outputs": [],
   "source": [
    "# def softmax(x):\n",
    "#     c = np.max(x)\n",
    "#     x = x-c\n",
    "#     return np.exp(x)/np.sum(np.exp(x))"
   ]
  },
  {
   "cell_type": "code",
   "execution_count": 466,
   "metadata": {},
   "outputs": [],
   "source": [
    "def softmax(x):\n",
    "    c = np.max(x,axis=1).reshape(-1,1)\n",
    "    x = x-c\n",
    "    return np.exp(x)/np.sum(np.exp(x),axis=1).reshape(-1,1)"
   ]
  },
  {
   "cell_type": "code",
   "execution_count": 467,
   "metadata": {},
   "outputs": [],
   "source": [
    "def prob(x):\n",
    "    return x/np.sum(x,axis=1).reshape(-1,1)"
   ]
  },
  {
   "cell_type": "code",
   "execution_count": 468,
   "metadata": {},
   "outputs": [],
   "source": [
    "def categorical_crossentropy(t,y):\n",
    "    return np.mean(-t*np.log(y))"
   ]
  },
  {
   "cell_type": "code",
   "execution_count": 469,
   "metadata": {},
   "outputs": [],
   "source": [
    "def make_one(x):\n",
    "    result = np.zeros((x.size, np.unique(x).size))\n",
    "    for idx1,idx2 in enumerate(x):\n",
    "        result[idx1,idx2] = 1\n",
    "    return result"
   ]
  },
  {
   "cell_type": "code",
   "execution_count": 470,
   "metadata": {},
   "outputs": [
    {
     "data": {
      "text/plain": [
       "(150, 4)"
      ]
     },
     "execution_count": 470,
     "metadata": {},
     "output_type": "execute_result"
    }
   ],
   "source": [
    "X.shape"
   ]
  },
  {
   "cell_type": "code",
   "execution_count": 471,
   "metadata": {},
   "outputs": [],
   "source": [
    "y = make_one(y)"
   ]
  },
  {
   "cell_type": "code",
   "execution_count": 472,
   "metadata": {},
   "outputs": [],
   "source": [
    "input_shape = X.shape[1:]\n",
    "output_shape = y.shape[1:]"
   ]
  },
  {
   "cell_type": "code",
   "execution_count": 473,
   "metadata": {},
   "outputs": [],
   "source": [
    "W1 = np.random.randn(4,50)\n",
    "b1 = np.zeros(50)\n",
    "W2 = np.random.randn(50,3)\n",
    "b2 = np.zeros(3)"
   ]
  },
  {
   "cell_type": "code",
   "execution_count": 474,
   "metadata": {},
   "outputs": [],
   "source": [
    "def predict(x):\n",
    "    W1 = np.random.randn(4,50)\n",
    "    b1 = np.zeros(50)\n",
    "    W2 = np.random.randn(50,3)\n",
    "    b2 = np.zeros(3)\n",
    "    layer1 = np.dot(x,W1) + b1\n",
    "    z1 = sigmoid(layer1)\n",
    "    layer2 = np.dot(z1,W2) + b2\n",
    "    out = softmax(layer2)\n",
    "    return out"
   ]
  },
  {
   "cell_type": "code",
   "execution_count": 475,
   "metadata": {},
   "outputs": [],
   "source": [
    "def numerical_gradient(f,x):\n",
    "    h = 1e-4\n",
    "    grad = np.zeros_like(x)\n",
    "    it = np.nditer(x, flags=[\"multi_index\"],op_flags=[\"readwrite\"])\n",
    "    \n",
    "    while not it.finished:\n",
    "        idx = it.multi_index\n",
    "        tmp_val = x[idx]\n",
    "        x[idx] = tmp_val + h\n",
    "        fxh = f(x)\n",
    "        x[idx] = tmp_val\n",
    "        fx = f(x)\n",
    "        grad[idx] = (fxh-fx)/h\n",
    "        it.iternext()\n",
    "    return grad"
   ]
  },
  {
   "cell_type": "markdown",
   "metadata": {},
   "source": [
    "# Class 추가"
   ]
  },
  {
   "cell_type": "code",
   "execution_count": 555,
   "metadata": {},
   "outputs": [],
   "source": [
    "class Network:\n",
    "    def __init__(self, weight_decay):\n",
    "        self.layer = {}\n",
    "        self.weight_decay = weight_decay\n",
    "    \n",
    "    def add(self,x1,x2,activation):\n",
    "        activation_dict = {\n",
    "            \"sigmoid\" : sigmoid,\n",
    "            \"relu\" : relu,\n",
    "            \"softmax\" : softmax,\n",
    "            \"prob\" : prob\n",
    "        }\n",
    "        w = \"W\"+str(int(len(self.layer)/3+1))\n",
    "        b = \"b\"+str(int(len(self.layer)/3+1))\n",
    "        a = \"activation\"+str(int(len(self.layer)/3+1))\n",
    "        \n",
    "        self.layer[w] = np.random.randn(x1,x2) * self.weight_decay\n",
    "        self.layer[b] = np.zeros(x2)\n",
    "        self.layer[a] = activation_dict[activation]\n",
    "        \n",
    "    def predict(self,x):\n",
    "        length = int(len(self.layer)/3)+1\n",
    "        y = x.copy()\n",
    "        for i in range(1,length):\n",
    "            w = \"W\"+str(i)\n",
    "            b = \"b\"+str(i)\n",
    "            a = \"activation\"+str(i)\n",
    "            y = np.dot(y,self.layer[w]) + self.layer[b]\n",
    "            y = self.layer[a](y)\n",
    "        return y\n",
    "    \n",
    "    def loss(self,x,t):\n",
    "        y = self.predict(x)\n",
    "        err = categorical_crossentropy(t,y) \n",
    "        self.err = err\n",
    "        return self.err\n",
    "    \n",
    "    def accuracy(self,x,t):\n",
    "        y = self.predict(x)\n",
    "        y = np.argmax(y,axis=1)\n",
    "        t = np.argmax(t,axis=1)\n",
    "        self.acc = np.sum(y==t)/t.size\n",
    "        return self.acc\n",
    "    \n",
    "    def gradient(self,x,t):\n",
    "        lr = self.lr\n",
    "        W_loss = lambda W : self.loss(x,t)\n",
    "        length = int(len(self.layer)/3)+1\n",
    "        y = x.copy()\n",
    "        for i in range(1,length):\n",
    "            w = \"W\"+str(i)\n",
    "            b = \"b\"+str(i)\n",
    "            dW = numerical_gradient(W_loss,self.layer[w])\n",
    "            db = numerical_gradient(W_loss,self.layer[b])\n",
    "            self.layer[w] -= dW*lr\n",
    "            self.layer[b] -= db*lr\n",
    "        \n",
    "    def fit(self,x,t,epochs,lr):\n",
    "        self.lr = lr\n",
    "        self.history = {}\n",
    "        loss = []\n",
    "        accuracy = []\n",
    "        for epoch in range(epochs):\n",
    "            self.gradient(x,t)\n",
    "            loss.append(self.err)\n",
    "            accuracy.append(self.accuracy(x,t))\n",
    "            if epoch % 100 == 0:\n",
    "                print(f'loss : {self.err} === accuracy : {self.accuracy(x,t)}')\n",
    "        self.history[\"loss\"] = loss\n",
    "        self.history[\"accuracy\"] = accuracy"
   ]
  },
  {
   "cell_type": "code",
   "execution_count": 556,
   "metadata": {},
   "outputs": [],
   "source": [
    "model1 = Network(weight_decay=0.5)\n",
    "model2 = Network(weight_decay=1.)"
   ]
  },
  {
   "cell_type": "code",
   "execution_count": 557,
   "metadata": {},
   "outputs": [],
   "source": [
    "model1.add(4,10,\"relu\")\n",
    "model1.add(10,3,\"softmax\")"
   ]
  },
  {
   "cell_type": "code",
   "execution_count": 559,
   "metadata": {},
   "outputs": [],
   "source": [
    "model2.add(4,10,\"relu\")\n",
    "model2.add(10,3,\"softmax\")"
   ]
  },
  {
   "cell_type": "code",
   "execution_count": 560,
   "metadata": {},
   "outputs": [],
   "source": [
    "# model2.layer[\"W1\"] = model1.layer[\"W1\"].copy()\n",
    "# model2.layer[\"W2\"] = model1.layer[\"W2\"].copy()"
   ]
  },
  {
   "cell_type": "code",
   "execution_count": 561,
   "metadata": {},
   "outputs": [],
   "source": [
    "model2.layer[\"W1\"] = model1.layer[\"W1\"] * 2.\n",
    "model2.layer[\"W2\"] = model1.layer[\"W2\"] * 2."
   ]
  },
  {
   "cell_type": "code",
   "execution_count": 562,
   "metadata": {},
   "outputs": [
    {
     "name": "stdout",
     "output_type": "stream",
     "text": [
      "loss : 3.8389568467074646 === accuracy : 0.3333333333333333\n",
      "loss : 3.5961639052218115 === accuracy : 0.3333333333333333\n",
      "loss : 3.360450964754684 === accuracy : 0.3333333333333333\n",
      "loss : 3.132080931275088 === accuracy : 0.3333333333333333\n",
      "loss : 2.9118055057042986 === accuracy : 0.3333333333333333\n",
      "loss : 2.7002187973641947 === accuracy : 0.3333333333333333\n",
      "loss : 2.4992489164695466 === accuracy : 0.3333333333333333\n",
      "loss : 2.312778647400666 === accuracy : 0.3333333333333333\n",
      "loss : 2.1470351455118144 === accuracy : 0.3333333333333333\n",
      "loss : 2.0082112663379963 === accuracy : 0.3333333333333333\n",
      "CPU times: total: 13 s\n",
      "Wall time: 13.1 s\n"
     ]
    }
   ],
   "source": [
    "%%time\n",
    "model1.fit(X,y,1000, 1e-4)"
   ]
  },
  {
   "cell_type": "code",
   "execution_count": 564,
   "metadata": {},
   "outputs": [
    {
     "name": "stdout",
     "output_type": "stream",
     "text": [
      "loss : 15.35528065444099 === accuracy : 0.3333333333333333\n",
      "loss : 14.385096394008299 === accuracy : 0.3333333333333333\n",
      "loss : 13.441905096769542 === accuracy : 0.3333333333333333\n",
      "loss : 12.525368151577494 === accuracy : 0.3333333333333333\n",
      "loss : 11.635784332388127 === accuracy : 0.3333333333333333\n",
      "loss : 10.770058631281492 === accuracy : 0.3333333333333333\n",
      "loss : 9.925441353432547 === accuracy : 0.3333333333333333\n",
      "loss : 9.09931210332977 === accuracy : 0.3333333333333333\n",
      "loss : 8.29039463859742 === accuracy : 0.3333333333333333\n",
      "loss : 7.5029530584124045 === accuracy : 0.3333333333333333\n",
      "CPU times: total: 13 s\n",
      "Wall time: 13.1 s\n"
     ]
    }
   ],
   "source": [
    "%%time\n",
    "model2.fit(X,y,1000, 1e-4)"
   ]
  },
  {
   "cell_type": "code",
   "execution_count": 565,
   "metadata": {},
   "outputs": [
    {
     "data": {
      "image/png": "[encoded data removed]",
      "text/plain": [
       "<Figure size 432x288 with 1 Axes>"
      ]
     },
     "metadata": {
      "needs_background": "light"
     },
     "output_type": "display_data"
    }
   ],
   "source": [
    "import matplotlib.pyplot as plt\n",
    "plt.plot(np.arange(1000),model1.history['loss'])\n",
    "plt.show()"
   ]
  },
  {
   "cell_type": "code",
   "execution_count": 566,
   "metadata": {},
   "outputs": [
    {
     "data": {
      "image/png": "[encoded data removed]",
      "text/plain": [
       "<Figure size 432x288 with 1 Axes>"
      ]
     },
     "metadata": {
      "needs_background": "light"
     },
     "output_type": "display_data"
    }
   ],
   "source": [
    "import matplotlib.pyplot as plt\n",
    "plt.plot(np.arange(1000),model2.history['loss'])\n",
    "plt.show()"
   ]
  },
  {
   "cell_type": "code",
   "execution_count": null,
   "metadata": {},
   "outputs": [],
   "source": []
  }
 ],
 "metadata": {
  "kernelspec": {
   "display_name": "ml_kernel",
   "language": "python",
   "name": "ml"
  },
  "language_info": {
   "codemirror_mode": {
    "name": "ipython",
    "version": 3
   },
   "file_extension": ".py",
   "mimetype": "text/x-python",
   "name": "python",
   "nbconvert_exporter": "python",
   "pygments_lexer": "ipython3",
   "version": "3.9.12"
  },
  "orig_nbformat": 4,
  "vscode": {
   "interpreter": {
    "hash": "38ae1ba9371524da054e8e3fbefd778d16b5a8ac7937a3f395010f627bb73919"
   }
  }
 },
 "nbformat": 4,
 "nbformat_minor": 2
}
