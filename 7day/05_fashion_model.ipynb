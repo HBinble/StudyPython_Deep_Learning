{
 "cells": [
  {
   "cell_type": "code",
   "execution_count": 2,
   "metadata": {},
   "outputs": [],
   "source": [
    "## 기본 모듈\n",
    "import numpy as np\n",
    "import pandas as pd\n",
    "import matplotlib.pyplot as plt\n",
    "import seaborn as sns\n",
    "from sklearn.model_selection import train_test_split\n",
    "\n",
    "## 모듈 import\n",
    "from tensorflow import keras\n",
    "from keras.models import Sequential, Model\n",
    "from keras.layers import Dense, Input\n",
    "from keras.utils import to_categorical, plot_model\n",
    "from keras.datasets import mnist\n",
    "from keras.optimizers import RMSprop\n",
    "from keras.losses import CategoricalCrossentropy"
   ]
  },
  {
   "cell_type": "code",
   "execution_count": 23,
   "metadata": {},
   "outputs": [],
   "source": [
    "###\n",
    "from keras.datasets import fashion_mnist"
   ]
  },
  {
   "cell_type": "code",
   "execution_count": 24,
   "metadata": {},
   "outputs": [],
   "source": [
    "fashion_dict = {0 : \"T-shirt/top\",\n",
    "1 : \"Trouser\",\n",
    "2 : \"Pullover\",\n",
    "3 : \"Dress\",\n",
    "4 : \"Coat\",\n",
    "5 : \"Sandal\",\n",
    "6 : \"Shirt\",\n",
    "7 : \"Sneaker\",\n",
    "8 : \"Bag\",\n",
    "9 : \"Ankel boot\",\n",
    "}"
   ]
  },
  {
   "cell_type": "code",
   "execution_count": 25,
   "metadata": {},
   "outputs": [],
   "source": [
    "(X_train_full, y_train_full), (X_test, y_test) = fashion_mnist.load_data()"
   ]
  },
  {
   "cell_type": "code",
   "execution_count": 26,
   "metadata": {},
   "outputs": [],
   "source": [
    "X_train, X_val, y_train, y_val = train_test_split(X_train_full, y_train_full)"
   ]
  },
  {
   "cell_type": "code",
   "execution_count": 27,
   "metadata": {},
   "outputs": [
    {
     "name": "stdout",
     "output_type": "stream",
     "text": [
      "Dress\n"
     ]
    },
    {
     "data": {
      "image/png": "[encoded data removed]",
      "text/plain": [
       "<Figure size 432x288 with 1 Axes>"
      ]
     },
     "metadata": {
      "needs_background": "light"
     },
     "output_type": "display_data"
    }
   ],
   "source": [
    "plt.imshow(X_train[0])\n",
    "print(fashion_dict[y_train[0]])"
   ]
  },
  {
   "cell_type": "code",
   "execution_count": 28,
   "metadata": {},
   "outputs": [
    {
     "data": {
      "text/plain": [
       "(45000, 28, 28)"
      ]
     },
     "execution_count": 28,
     "metadata": {},
     "output_type": "execute_result"
    }
   ],
   "source": [
    "X_train.shape"
   ]
  },
  {
   "cell_type": "code",
   "execution_count": 29,
   "metadata": {},
   "outputs": [],
   "source": [
    "from keras.layers import Flatten"
   ]
  },
  {
   "cell_type": "markdown",
   "metadata": {},
   "source": [
    "### X_train --> Flatten --> Dense --> Dense --> Dense --> Dense(output)"
   ]
  },
  {
   "cell_type": "code",
   "execution_count": 30,
   "metadata": {},
   "outputs": [],
   "source": [
    "y_train = to_categorical(y_train)\n",
    "y_val = to_categorical(y_val)\n",
    "y_test = to_categorical(y_test)"
   ]
  },
  {
   "cell_type": "code",
   "execution_count": 32,
   "metadata": {},
   "outputs": [],
   "source": [
    "input_shape = X_train.shape[1:]\n",
    "output_shape = y_train.shape[1]\n",
    "\n",
    "model1 = Sequential(\n",
    "    [\n",
    "        Flatten(input_shape=input_shape),\n",
    "        Dense(2048,activation=\"relu\"),\n",
    "        Dense(1024,activation=\"relu\"),\n",
    "        Dense(512,activation=\"relu\"),\n",
    "        Dense(output_shape,activation=\"softmax\")\n",
    "    ]\n",
    ")\n",
    "\n",
    "model2 = Sequential(\n",
    "    [\n",
    "        Flatten(input_shape=input_shape),\n",
    "        Dense(2048,activation=\"sigmoid\"),\n",
    "        Dense(1024,activation=\"sigmoid\"),\n",
    "        Dense(512,activation=\"sigmoid\"),\n",
    "        Dense(output_shape,activation=\"softmax\")\n",
    "    ]\n",
    ")"
   ]
  },
  {
   "cell_type": "code",
   "execution_count": 36,
   "metadata": {},
   "outputs": [
    {
     "data": {
      "text/plain": [
       "True"
      ]
     },
     "execution_count": 36,
     "metadata": {},
     "output_type": "execute_result"
    }
   ],
   "source": [
    "for i in range(1,len(model1.layers)):\n",
    "    model2.layers[i].set_weights([model1.layers[i].get_weights()[0],\n",
    "                                model1.layers[i].get_weights()[1]])\n",
    "np.sum(model1.layers[1].get_weights()[0]) == np.sum(model2.layers[1].get_weights()[0])"
   ]
  },
  {
   "cell_type": "code",
   "execution_count": 38,
   "metadata": {},
   "outputs": [
    {
     "data": {
      "text/plain": [
       "<keras.callbacks.History at 0x18145dbd450>"
      ]
     },
     "execution_count": 38,
     "metadata": {},
     "output_type": "execute_result"
    }
   ],
   "source": [
    "optimizer = \"adam\"\n",
    "loss = \"categorical_crossentropy\"\n",
    "metrics = [\"accuracy\"]\n",
    "\n",
    "model1.compile(optimizer=optimizer,\n",
    "            loss =loss,\n",
    "            metrics=metrics)\n",
    "model2.compile(optimizer=optimizer,\n",
    "            loss =loss,\n",
    "            metrics=metrics)\n",
    "\n",
    "model1.fit(X_train,\n",
    "        y_train,\n",
    "        epochs=10,\n",
    "        batch_size=400,\n",
    "        verbose=0\n",
    "        )\n",
    "model2.fit(X_train,\n",
    "        y_train,\n",
    "        epochs=10,\n",
    "        batch_size=400,\n",
    "        verbose=0\n",
    "        )"
   ]
  },
  {
   "cell_type": "code",
   "execution_count": 40,
   "metadata": {},
   "outputs": [
    {
     "name": "stdout",
     "output_type": "stream",
     "text": [
      "313/313 [==============================] - 2s 8ms/step - loss: 0.3894 - accuracy: 0.8776\n",
      "relu [0.389365017414093, 0.8776000142097473]\n",
      "313/313 [==============================] - 2s 7ms/step - loss: 0.5281 - accuracy: 0.8007\n",
      "sigmoid [0.5280756950378418, 0.8007000088691711]\n"
     ]
    }
   ],
   "source": [
    "print(\"relu\", model1.evaluate(X_test,y_test))\n",
    "print(\"sigmoid\", model2.evaluate(X_test,y_test))"
   ]
  },
  {
   "cell_type": "code",
   "execution_count": 44,
   "metadata": {},
   "outputs": [],
   "source": [
    "### 분포 값 변경 (relu)"
   ]
  },
  {
   "cell_type": "code",
   "execution_count": 47,
   "metadata": {},
   "outputs": [],
   "source": [
    "input_shape = X_train.shape[1:]\n",
    "output_shape = y_train.shape[1]"
   ]
  },
  {
   "cell_type": "code",
   "execution_count": 51,
   "metadata": {},
   "outputs": [],
   "source": [
    "model1 = Sequential(\n",
    "    [\n",
    "        Flatten(input_shape=input_shape),\n",
    "        Dense(1024,activation=\"relu\"),\n",
    "        Dense(512,activation=\"relu\"),\n",
    "        Dense(256,activation=\"relu\"),\n",
    "        Dense(output_shape,activation=\"softmax\")\n",
    "    ]\n",
    ")\n",
    "\n",
    "model2 = Sequential(\n",
    "    [\n",
    "        Flatten(input_shape=input_shape),\n",
    "        Dense(2048,activation=\"relu\"),\n",
    "        Dense(1024,activation=\"relu\"),\n",
    "        Dense(512,activation=\"relu\"),\n",
    "        Dense(output_shape,activation=\"softmax\")\n",
    "    ]\n",
    ")"
   ]
  },
  {
   "cell_type": "code",
   "execution_count": 53,
   "metadata": {},
   "outputs": [
    {
     "data": {
      "text/plain": [
       "<keras.callbacks.History at 0x1814bdef760>"
      ]
     },
     "execution_count": 53,
     "metadata": {},
     "output_type": "execute_result"
    }
   ],
   "source": [
    "optimizer = \"adam\"\n",
    "loss = \"categorical_crossentropy\"\n",
    "metrics = [\"accuracy\"]\n",
    "\n",
    "model1.compile(optimizer=optimizer,\n",
    "            loss =loss,\n",
    "            metrics=metrics)\n",
    "model2.compile(optimizer=optimizer,\n",
    "            loss =loss,\n",
    "            metrics=metrics)\n",
    "\n",
    "model1.fit(X_train,\n",
    "        y_train,\n",
    "        epochs=10,\n",
    "        batch_size=400,\n",
    "        verbose=0\n",
    "        )\n",
    "model2.fit(X_train,\n",
    "        y_train,\n",
    "        epochs=10,\n",
    "        batch_size=400,\n",
    "        verbose=0\n",
    "        )"
   ]
  },
  {
   "cell_type": "code",
   "execution_count": 54,
   "metadata": {},
   "outputs": [
    {
     "name": "stdout",
     "output_type": "stream",
     "text": [
      "313/313 [==============================] - 1s 4ms/step - loss: 0.4655 - accuracy: 0.8549\n",
      "relu1 [0.4655281603336334, 0.8549000024795532]\n",
      "313/313 [==============================] - 3s 7ms/step - loss: 0.3615 - accuracy: 0.8766\n",
      "relu2 [0.3614659011363983, 0.8766000270843506]\n"
     ]
    }
   ],
   "source": [
    "print(\"relu1\", model1.evaluate(X_test,y_test))\n",
    "print(\"relu2\", model2.evaluate(X_test,y_test))"
   ]
  },
  {
   "cell_type": "code",
   "execution_count": 56,
   "metadata": {},
   "outputs": [],
   "source": [
    "### optimizer = \"rmsprop\""
   ]
  },
  {
   "cell_type": "code",
   "execution_count": 57,
   "metadata": {},
   "outputs": [],
   "source": [
    "model1 = Sequential(\n",
    "    [\n",
    "        Flatten(input_shape=input_shape),\n",
    "        Dense(2048,activation=\"relu\"),\n",
    "        Dense(1024,activation=\"relu\"),\n",
    "        Dense(512,activation=\"relu\"),\n",
    "        Dense(output_shape,activation=\"softmax\")\n",
    "    ]\n",
    ")\n",
    "\n",
    "model2 = Sequential(\n",
    "    [\n",
    "        Flatten(input_shape=input_shape),\n",
    "        Dense(2048,activation=\"relu\"),\n",
    "        Dense(1024,activation=\"relu\"),\n",
    "        Dense(512,activation=\"relu\"),\n",
    "        Dense(256,activation=\"relu\"),\n",
    "        Dense(128,activation=\"relu\"),\n",
    "        Dense(output_shape,activation=\"softmax\")\n",
    "    ]\n",
    ")"
   ]
  },
  {
   "cell_type": "code",
   "execution_count": 64,
   "metadata": {},
   "outputs": [
    {
     "data": {
      "text/plain": [
       "<keras.callbacks.History at 0x18147b37430>"
      ]
     },
     "execution_count": 64,
     "metadata": {},
     "output_type": "execute_result"
    }
   ],
   "source": [
    "optimizer = \"rmsprop\"\n",
    "loss = \"categorical_crossentropy\"\n",
    "metrics = [\"accuracy\"]\n",
    "\n",
    "model1.compile(optimizer=optimizer,\n",
    "            loss =loss,\n",
    "            metrics=metrics)\n",
    "model2.compile(optimizer=optimizer,\n",
    "            loss =loss,\n",
    "            metrics=metrics)\n",
    "\n",
    "model1.fit(X_train,\n",
    "        y_train,\n",
    "        epochs=10,\n",
    "        batch_size=400,\n",
    "        verbose=0\n",
    "        )\n",
    "model2.fit(X_train,\n",
    "        y_train,\n",
    "        epochs=10,\n",
    "        batch_size=400,\n",
    "        verbose=0\n",
    "        )"
   ]
  },
  {
   "cell_type": "code",
   "execution_count": 65,
   "metadata": {},
   "outputs": [
    {
     "name": "stdout",
     "output_type": "stream",
     "text": [
      "313/313 [==============================] - 1s 3ms/step - loss: 0.4523 - accuracy: 0.8490\n",
      "rmsprop short [0.4523293077945709, 0.8489999771118164]\n",
      "313/313 [==============================] - 1s 4ms/step - loss: 0.4532 - accuracy: 0.8558\n",
      "rmsprop long [0.4532102048397064, 0.8557999730110168]\n"
     ]
    }
   ],
   "source": [
    "print(\"rmsprop short\", model1.evaluate(X_test,y_test))\n",
    "print(\"rmsprop long\", model2.evaluate(X_test,y_test))"
   ]
  },
  {
   "cell_type": "code",
   "execution_count": null,
   "metadata": {},
   "outputs": [],
   "source": [
    "###"
   ]
  },
  {
   "cell_type": "code",
   "execution_count": 72,
   "metadata": {},
   "outputs": [],
   "source": [
    "model1 = Sequential()\n",
    "model1.add(Flatten(input_shape=input_shape))\n",
    "model1.add(Dense(1024,activation=\"relu\"))\n",
    "model1.add(Dense(512,activation=\"relu\"))\n",
    "model1.add(Dense(256,activation=\"relu\"))\n",
    "model1.add(Dense(output_shape,activation=\"softmax\"))\n",
    "\n",
    "model2 = Sequential()\n",
    "model2.add(Flatten(input_shape=input_shape))\n",
    "model2.add(Dense(1024,activation=\"relu\"))\n",
    "model2.add(Dense(512,activation=\"relu\"))\n",
    "model2.add(Dense(256,activation=\"relu\"))\n",
    "model2.add(Dense(output_shape,activation=\"softmax\"))"
   ]
  },
  {
   "cell_type": "code",
   "execution_count": 73,
   "metadata": {},
   "outputs": [],
   "source": [
    "optimizer = \"adam\"\n",
    "loss = \"categorical_crossentropy\"\n",
    "metrics = [\"accuracy\"]\n",
    "\n",
    "model1.compile(optimizer=optimizer,\n",
    "            loss =loss,\n",
    "            metrics=metrics)\n",
    "model2.compile(optimizer=optimizer,\n",
    "            loss =loss,\n",
    "            metrics=metrics)"
   ]
  },
  {
   "cell_type": "code",
   "execution_count": 77,
   "metadata": {},
   "outputs": [],
   "source": [
    "from datetime import datetime"
   ]
  },
  {
   "cell_type": "code",
   "execution_count": 76,
   "metadata": {},
   "outputs": [
    {
     "name": "stdout",
     "output_type": "stream",
     "text": [
      "313/313 [==============================] - 2s 4ms/step - loss: 6.5948 - accuracy: 0.6668\n",
      "adam1 [6.594831943511963, 0.6668000221252441]\n",
      "313/313 [==============================] - 2s 5ms/step - loss: 0.4306 - accuracy: 0.8689\n",
      "adam2 [0.4305586516857147, 0.8689000010490417]\n",
      "CPU times: total: 10min 38s\n",
      "Wall time: 1min 50s\n"
     ]
    }
   ],
   "source": [
    "model1.fit(X_train,\n",
    "        y_train,\n",
    "        epochs=20,\n",
    "        batch_size=len(X_train),\n",
    "        verbose=0\n",
    "        )\n",
    "model2.fit(X_train,\n",
    "        y_train,\n",
    "        epochs=20,\n",
    "        batch_size=400,\n",
    "        verbose=0\n",
    "        )\n",
    "\n",
    "print(\"adam1\", model1.evaluate(X_test,y_test))\n",
    "print(\"adam2\", model2.evaluate(X_test,y_test))"
   ]
  },
  {
   "cell_type": "code",
   "execution_count": 81,
   "metadata": {},
   "outputs": [
    {
     "name": "stdout",
     "output_type": "stream",
     "text": [
      "313/313 [==============================] - 1s 5ms/step - loss: 0.7744 - accuracy: 0.8196\n",
      "adam1 [0.7743507623672485, 0.819599986076355]\n",
      "313/313 [==============================] - 1s 4ms/step - loss: 0.6334 - accuracy: 0.8821\n",
      "adam2 [0.6333572864532471, 0.882099986076355]\n",
      "\n",
      "\n",
      "0:00:53.044490 \n",
      "\n",
      "0:01:37.790548\n"
     ]
    }
   ],
   "source": [
    "model1_s = datetime.now()\n",
    "model1.fit(X_train,\n",
    "        y_train,\n",
    "        epochs=30,\n",
    "        batch_size=len(X_train),\n",
    "        verbose=0\n",
    "        )\n",
    "model1_e = datetime.now()\n",
    "model1_t = model1_e - model1_s\n",
    "\n",
    "model2_s = datetime.now()\n",
    "model2.fit(X_train,\n",
    "        y_train,\n",
    "        epochs=30,\n",
    "        batch_size=400,\n",
    "        verbose=0\n",
    "        )\n",
    "model2_e = datetime.now()\n",
    "model2_t = model2_e - model2_s\n",
    "\n",
    "\n",
    "print(\"adam1\", model1.evaluate(X_test,y_test))\n",
    "print(\"adam2\", model2.evaluate(X_test,y_test))\n",
    "print(\"\\n\")\n",
    "print(model1_t, \"\\n\")\n",
    "print(model2_t)"
   ]
  },
  {
   "cell_type": "code",
   "execution_count": 86,
   "metadata": {},
   "outputs": [
    {
     "name": "stdout",
     "output_type": "stream",
     "text": [
      "313/313 [==============================] - 1s 3ms/step\n",
      "313/313 [==============================] - 1s 4ms/step\n",
      "313/313 [==============================] - 2s 5ms/step\n",
      "313/313 [==============================] - 2s 5ms/step\n",
      "313/313 [==============================] - 2s 5ms/step\n"
     ]
    },
    {
     "data": {
      "text/plain": [
       "{'batch_size': [45000, 22500, 11250, 5625, 2812],\n",
       " 'time': [datetime.timedelta(seconds=33, microseconds=909947),\n",
       "  datetime.timedelta(seconds=41, microseconds=268141),\n",
       "  datetime.timedelta(seconds=44, microseconds=543682),\n",
       "  datetime.timedelta(seconds=47, microseconds=124798),\n",
       "  datetime.timedelta(seconds=47, microseconds=239441)],\n",
       " 'accuracy': [0.6536, 0.7615, 0.7941, 0.829, 0.7438]}"
      ]
     },
     "execution_count": 86,
     "metadata": {},
     "output_type": "execute_result"
    }
   ],
   "source": [
    "model = Sequential(\n",
    "    [Flatten(input_shape=input_shape),\n",
    "    Dense(1024,activation=\"relu\"),\n",
    "    Dense(512,activation=\"relu\"),\n",
    "    Dense(256,activation=\"relu\"),\n",
    "    Dense(output_shape,activation=\"softmax\")]\n",
    ")\n",
    "\n",
    "batch_size = [len(X_train), int(len(X_train)/2), int(len(X_train)/4),\n",
    "            int(len(X_train)/8), int(len(X_train)/16)]\n",
    "\n",
    "elapse_time = []\n",
    "accuracy = []\n",
    "l1 = [model.layers[1].get_weights()[0], model.layers[1].get_weights()[1]] \n",
    "l2 = [model.layers[2].get_weights()[0], model.layers[2].get_weights()[1]] \n",
    "l3 = [model.layers[3].get_weights()[0], model.layers[3].get_weights()[1]] \n",
    "l4 = [model.layers[4].get_weights()[0], model.layers[4].get_weights()[1]] \n",
    "\n",
    "for i in range(len(batch_size)):\n",
    "    model.layers[1].set_weights(l1)\n",
    "    model.layers[2].set_weights(l2)\n",
    "    model.layers[3].set_weights(l3)\n",
    "    model.layers[4].set_weights(l4)\n",
    "    \n",
    "    optimizer = \"adam\"\n",
    "    loss = \"categorical_crossentropy\"\n",
    "    metrics = [\"accuracy\"]\n",
    "\n",
    "    model.compile(optimizer=optimizer,\n",
    "            loss =loss,\n",
    "            metrics=metrics)\n",
    "    \n",
    "    st_time = datetime.now()\n",
    "    model.fit(X_train, \n",
    "            y_train,\n",
    "            epochs=20,\n",
    "            batch_size = batch_size[i],\n",
    "            verbose=0)\n",
    "    ed_time = datetime.now()\n",
    "    elapse_time.append(ed_time - st_time)\n",
    "    \n",
    "    acc = np.sum(np.argmax(model.predict(X_test),axis=1) == np.argmax(y_test, axis=1)) / len(y_test)\n",
    "    accuracy.append(acc)\n",
    "    \n",
    "result = {\"batch_size\":batch_size, \"time\":elapse_time, \"accuracy\":accuracy}\n",
    "\n",
    "result"
   ]
  },
  {
   "cell_type": "code",
   "execution_count": 87,
   "metadata": {},
   "outputs": [
    {
     "data": {
      "text/html": [
       "<div>\n",
       "<style scoped>\n",
       "    .dataframe tbody tr th:only-of-type {\n",
       "        vertical-align: middle;\n",
       "    }\n",
       "\n",
       "    .dataframe tbody tr th {\n",
       "        vertical-align: top;\n",
       "    }\n",
       "\n",
       "    .dataframe thead th {\n",
       "        text-align: right;\n",
       "    }\n",
       "</style>\n",
       "<table border=\"1\" class=\"dataframe\">\n",
       "  <thead>\n",
       "    <tr style=\"text-align: right;\">\n",
       "      <th></th>\n",
       "      <th>batch_size</th>\n",
       "      <th>time</th>\n",
       "      <th>accuracy</th>\n",
       "    </tr>\n",
       "  </thead>\n",
       "  <tbody>\n",
       "    <tr>\n",
       "      <th>0</th>\n",
       "      <td>45000</td>\n",
       "      <td>0 days 00:00:33.909947</td>\n",
       "      <td>0.6536</td>\n",
       "    </tr>\n",
       "    <tr>\n",
       "      <th>1</th>\n",
       "      <td>22500</td>\n",
       "      <td>0 days 00:00:41.268141</td>\n",
       "      <td>0.7615</td>\n",
       "    </tr>\n",
       "    <tr>\n",
       "      <th>2</th>\n",
       "      <td>11250</td>\n",
       "      <td>0 days 00:00:44.543682</td>\n",
       "      <td>0.7941</td>\n",
       "    </tr>\n",
       "    <tr>\n",
       "      <th>3</th>\n",
       "      <td>5625</td>\n",
       "      <td>0 days 00:00:47.124798</td>\n",
       "      <td>0.8290</td>\n",
       "    </tr>\n",
       "    <tr>\n",
       "      <th>4</th>\n",
       "      <td>2812</td>\n",
       "      <td>0 days 00:00:47.239441</td>\n",
       "      <td>0.7438</td>\n",
       "    </tr>\n",
       "  </tbody>\n",
       "</table>\n",
       "</div>"
      ],
      "text/plain": [
       "   batch_size                   time  accuracy\n",
       "0       45000 0 days 00:00:33.909947    0.6536\n",
       "1       22500 0 days 00:00:41.268141    0.7615\n",
       "2       11250 0 days 00:00:44.543682    0.7941\n",
       "3        5625 0 days 00:00:47.124798    0.8290\n",
       "4        2812 0 days 00:00:47.239441    0.7438"
      ]
     },
     "execution_count": 87,
     "metadata": {},
     "output_type": "execute_result"
    }
   ],
   "source": [
    "pd.DataFrame(result)"
   ]
  },
  {
   "cell_type": "code",
   "execution_count": 1,
   "metadata": {},
   "outputs": [],
   "source": [
    "# model.layers[1].set_weights(l1)\n",
    "# model.layers[2].set_weights(l2)\n",
    "# model.layers[3].set_weights(l3)\n",
    "# model.layers[4].set_weights(l4)\n",
    "\n",
    "# optimizer = \"adam\"\n",
    "# loss = \"categorical_crossentropy\"\n",
    "# metrics = [\"accuracy\"]\n",
    "\n",
    "# model.compile(optimizer=optimizer,\n",
    "#         loss =loss,\n",
    "#         metrics=metrics)\n",
    "\n",
    "# st_time = datetime.now()\n",
    "# model.fit(X_train, \n",
    "#         y_train,\n",
    "#         epochs=20,\n",
    "#         batch_size = 1,\n",
    "#         verbose=0)\n",
    "# ed_time = datetime.now()\n",
    "# elapse = ed_time - st_time"
   ]
  },
  {
   "cell_type": "code",
   "execution_count": 2,
   "metadata": {},
   "outputs": [],
   "source": [
    "# elapse"
   ]
  },
  {
   "cell_type": "code",
   "execution_count": null,
   "metadata": {},
   "outputs": [],
   "source": []
  },
  {
   "cell_type": "code",
   "execution_count": null,
   "metadata": {},
   "outputs": [],
   "source": [
    "input_shape = X_train.shape[1:]\n",
    "output_shape = y_train.shape[1]\n",
    "\n",
    "model = Sequential(\n",
    "    [\n",
    "        Flatten(input_shape=input_shape),\n",
    "        Dense(1024,activation=\"relu\"),\n",
    "        Dense(512,activation=\"relu\"),\n",
    "        Dense(256,activation=\"relu\"),\n",
    "        Dense(128,activation=\"relu\"),\n",
    "        Dense(output_shape,activation=\"softmax\")\n",
    "    ]\n",
    ")"
   ]
  },
  {
   "cell_type": "code",
   "execution_count": null,
   "metadata": {},
   "outputs": [],
   "source": [
    "optimizer = \"adam\"\n",
    "loss = \"categorical_crossentropy\"\n",
    "metrics = [\"accuracy\"]\n",
    "\n",
    "model.compile(optimizer=optimizer,\n",
    "            loss =loss,\n",
    "            metrics=metrics)"
   ]
  },
  {
   "cell_type": "code",
   "execution_count": null,
   "metadata": {},
   "outputs": [],
   "source": [
    "model.fit(X_train,\n",
    "        y_train,\n",
    "        epochs=30,\n",
    "        validation_data=(X_val,y_val),\n",
    "        batch_size=1000\n",
    "        )"
   ]
  },
  {
   "cell_type": "code",
   "execution_count": null,
   "metadata": {},
   "outputs": [],
   "source": [
    "### history.history(overfitting 판단시 사용) - dict 형태"
   ]
  },
  {
   "cell_type": "code",
   "execution_count": null,
   "metadata": {},
   "outputs": [],
   "source": [
    "plt.plot(np.arange(1,31),model.history.history[\"loss\"])\n",
    "plt.plot(np.arange(1,31),model.history.history[\"val_loss\"])\n",
    "plt.show()"
   ]
  },
  {
   "cell_type": "code",
   "execution_count": null,
   "metadata": {},
   "outputs": [],
   "source": [
    "plt.plot(np.arange(1,31),model.history.history[\"accuracy\"])\n",
    "plt.plot(np.arange(1,31),model.history.history[\"val_accuracy\"])\n",
    "plt.show()"
   ]
  },
  {
   "cell_type": "code",
   "execution_count": null,
   "metadata": {},
   "outputs": [],
   "source": []
  }
 ],
 "metadata": {
  "kernelspec": {
   "display_name": "keras1",
   "language": "python",
   "name": "keras1"
  },
  "language_info": {
   "codemirror_mode": {
    "name": "ipython",
    "version": 3
   },
   "file_extension": ".py",
   "mimetype": "text/x-python",
   "name": "python",
   "nbconvert_exporter": "python",
   "pygments_lexer": "ipython3",
   "version": "3.10.4"
  },
  "orig_nbformat": 4
 },
 "nbformat": 4,
 "nbformat_minor": 2
}
