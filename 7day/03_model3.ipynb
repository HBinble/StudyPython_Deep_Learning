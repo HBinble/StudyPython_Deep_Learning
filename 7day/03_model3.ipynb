{
 "cells": [
  {
   "cell_type": "code",
   "execution_count": 56,
   "metadata": {},
   "outputs": [],
   "source": [
    "## 기본 모듈\n",
    "import numpy as np\n",
    "import pandas as pd\n",
    "import matplotlib.pyplot as plt\n",
    "import seaborn as sns\n",
    "from sklearn.model_selection import train_test_split\n",
    "\n",
    "## 모듈 import\n",
    "from tensorflow import keras\n",
    "from keras.models import Sequential\n",
    "from keras.layers import Dense\n",
    "from keras.utils import to_categorical, plot_model\n",
    "from keras.datasets import mnist"
   ]
  },
  {
   "cell_type": "markdown",
   "metadata": {},
   "source": [
    "## Model 3"
   ]
  },
  {
   "cell_type": "code",
   "execution_count": 57,
   "metadata": {},
   "outputs": [],
   "source": [
    "from tensorflow import keras\n",
    "from keras.models import Sequential, Model\n",
    "from keras.layers import Dense, Input\n",
    "from keras.optimizers import RMSprop\n",
    "from keras.losses import CategoricalCrossentropy"
   ]
  },
  {
   "cell_type": "code",
   "execution_count": 58,
   "metadata": {},
   "outputs": [],
   "source": [
    "# 데이터 수집\n",
    "(X_train_full, y_train_full), (X_test, y_test) = mnist.load_data()"
   ]
  },
  {
   "cell_type": "code",
   "execution_count": 59,
   "metadata": {},
   "outputs": [
    {
     "name": "stdout",
     "output_type": "stream",
     "text": [
      "(60000, 28, 28)\n",
      "(60000,)\n",
      "10\n"
     ]
    }
   ],
   "source": [
    "print(X_train_full.shape)\n",
    "print(y_train_full.shape)\n",
    "print(np.unique(y_train_full).size)"
   ]
  },
  {
   "cell_type": "code",
   "execution_count": 60,
   "metadata": {},
   "outputs": [],
   "source": [
    "X_train, X_val, y_train, y_val = train_test_split(X_train_full, y_train_full)"
   ]
  },
  {
   "cell_type": "code",
   "execution_count": 61,
   "metadata": {},
   "outputs": [],
   "source": [
    "x1 = X_train.shape[1]\n",
    "x2 = X_train.shape[2]\n",
    "X_train = X_train.reshape(-1,x1*x2)\n",
    "X_val = X_val.reshape(-1,x1*x2)\n",
    "X_test = X_test.reshape(-1,x1*x2)"
   ]
  },
  {
   "cell_type": "code",
   "execution_count": 62,
   "metadata": {},
   "outputs": [],
   "source": [
    "y_train = to_categorical(y_train)\n",
    "y_test = to_categorical(y_test)\n",
    "y_val = to_categorical(y_val)"
   ]
  },
  {
   "cell_type": "code",
   "execution_count": 63,
   "metadata": {},
   "outputs": [
    {
     "name": "stdout",
     "output_type": "stream",
     "text": [
      "(784,)\n",
      "10\n"
     ]
    }
   ],
   "source": [
    "input_shape = X_train.shape[1:]\n",
    "output_shape = y_train.shape[1]\n",
    "print(input_shape)\n",
    "print(output_shape)"
   ]
  },
  {
   "cell_type": "code",
   "execution_count": 64,
   "metadata": {},
   "outputs": [],
   "source": [
    "model1 = Sequential()\n",
    "model1.add(Dense(1024,activation='relu',input_shape=input_shape))\n",
    "model1.add(Dense(512,activation='relu'))\n",
    "model1.add(Dense(output_shape,activation='softmax'))"
   ]
  },
  {
   "cell_type": "code",
   "execution_count": 65,
   "metadata": {},
   "outputs": [],
   "source": [
    "model2 = Sequential(\n",
    "    [\n",
    "        Dense(1024,activation='relu',input_shape=input_shape),\n",
    "        Dense(512,activation='relu'),\n",
    "        Dense(output_shape,activation='softmax')\n",
    "    ]\n",
    ")"
   ]
  },
  {
   "cell_type": "code",
   "execution_count": 66,
   "metadata": {},
   "outputs": [],
   "source": [
    "input_ = Input(shape=input_shape)\n",
    "l1 = Dense(1024,activation='relu')(input_)\n",
    "l2 = Dense(512,activation='relu')(l1)\n",
    "output_ = Dense(output_shape,activation='softmax')(l2)\n",
    "\n",
    "model3 = Model(inputs=[input_],outputs=[output_])"
   ]
  },
  {
   "cell_type": "code",
   "execution_count": 67,
   "metadata": {},
   "outputs": [],
   "source": [
    "optimizer = RMSprop()\n",
    "loss = CategoricalCrossentropy()\n",
    "metrics = ['accuracy']"
   ]
  },
  {
   "cell_type": "code",
   "execution_count": 68,
   "metadata": {},
   "outputs": [],
   "source": [
    "model1.compile(optimizer=optimizer,\n",
    "              loss =loss,\n",
    "              metrics=metrics)\n",
    "model2.compile(optimizer=optimizer,\n",
    "              loss =loss,\n",
    "              metrics=metrics)\n",
    "model3.compile(optimizer=optimizer,\n",
    "              loss =loss,\n",
    "              metrics=metrics)"
   ]
  },
  {
   "cell_type": "code",
   "execution_count": 70,
   "metadata": {},
   "outputs": [
    {
     "name": "stdout",
     "output_type": "stream",
     "text": [
      "Epoch 1/10\n",
      "113/113 [==============================] - 4s 33ms/step - loss: 0.1196 - accuracy: 0.9857 - val_loss: 0.4321 - val_accuracy: 0.9693\n",
      "Epoch 2/10\n",
      "113/113 [==============================] - 4s 31ms/step - loss: 0.1287 - accuracy: 0.9858 - val_loss: 0.4538 - val_accuracy: 0.9711\n",
      "Epoch 3/10\n",
      "113/113 [==============================] - 3s 30ms/step - loss: 0.1020 - accuracy: 0.9873 - val_loss: 0.5346 - val_accuracy: 0.9664\n",
      "Epoch 4/10\n",
      "113/113 [==============================] - 3s 30ms/step - loss: 0.1042 - accuracy: 0.9885 - val_loss: 0.5639 - val_accuracy: 0.9694\n",
      "Epoch 5/10\n",
      "113/113 [==============================] - 4s 31ms/step - loss: 0.0982 - accuracy: 0.9902 - val_loss: 0.6275 - val_accuracy: 0.9699\n",
      "Epoch 6/10\n",
      "113/113 [==============================] - 3s 31ms/step - loss: 0.0925 - accuracy: 0.9911 - val_loss: 0.6022 - val_accuracy: 0.9691\n",
      "Epoch 7/10\n",
      "113/113 [==============================] - 4s 32ms/step - loss: 0.0903 - accuracy: 0.9915 - val_loss: 0.7734 - val_accuracy: 0.9679\n",
      "Epoch 8/10\n",
      "113/113 [==============================] - 4s 36ms/step - loss: 0.0901 - accuracy: 0.9915 - val_loss: 0.6661 - val_accuracy: 0.9748\n",
      "Epoch 9/10\n",
      "113/113 [==============================] - 4s 36ms/step - loss: 0.0888 - accuracy: 0.9926 - val_loss: 0.7587 - val_accuracy: 0.9720\n",
      "Epoch 10/10\n",
      "113/113 [==============================] - 4s 36ms/step - loss: 0.0936 - accuracy: 0.9924 - val_loss: 0.7343 - val_accuracy: 0.9737\n",
      "Epoch 1/10\n",
      "113/113 [==============================] - 4s 39ms/step - loss: 0.1320 - accuracy: 0.9845 - val_loss: 0.3878 - val_accuracy: 0.9695\n",
      "Epoch 2/10\n",
      "113/113 [==============================] - 4s 39ms/step - loss: 0.1284 - accuracy: 0.9859 - val_loss: 0.5813 - val_accuracy: 0.9708\n",
      "Epoch 3/10\n",
      "113/113 [==============================] - 5s 40ms/step - loss: 0.1145 - accuracy: 0.9876 - val_loss: 0.4266 - val_accuracy: 0.9733\n",
      "Epoch 4/10\n",
      "113/113 [==============================] - 5s 40ms/step - loss: 0.1118 - accuracy: 0.9887 - val_loss: 0.7186 - val_accuracy: 0.9659\n",
      "Epoch 5/10\n",
      "113/113 [==============================] - 5s 40ms/step - loss: 0.1073 - accuracy: 0.9892 - val_loss: 0.5971 - val_accuracy: 0.9691\n",
      "Epoch 6/10\n",
      "113/113 [==============================] - 5s 41ms/step - loss: 0.1154 - accuracy: 0.9894 - val_loss: 0.6311 - val_accuracy: 0.9682\n",
      "Epoch 7/10\n",
      "113/113 [==============================] - 4s 39ms/step - loss: 0.1054 - accuracy: 0.9907 - val_loss: 0.8193 - val_accuracy: 0.9666\n",
      "Epoch 8/10\n",
      "113/113 [==============================] - 4s 39ms/step - loss: 0.1048 - accuracy: 0.9911 - val_loss: 0.6287 - val_accuracy: 0.9732\n",
      "Epoch 9/10\n",
      "113/113 [==============================] - 4s 38ms/step - loss: 0.1021 - accuracy: 0.9915 - val_loss: 0.7703 - val_accuracy: 0.9707\n",
      "Epoch 10/10\n",
      "113/113 [==============================] - 4s 37ms/step - loss: 0.1077 - accuracy: 0.9926 - val_loss: 0.5835 - val_accuracy: 0.9754\n",
      "Epoch 1/10\n",
      "113/113 [==============================] - 4s 40ms/step - loss: 0.1045 - accuracy: 0.9857 - val_loss: 0.4599 - val_accuracy: 0.9675\n",
      "Epoch 2/10\n",
      "113/113 [==============================] - 4s 38ms/step - loss: 0.1226 - accuracy: 0.9864 - val_loss: 0.5095 - val_accuracy: 0.9691\n",
      "Epoch 3/10\n",
      "113/113 [==============================] - 4s 38ms/step - loss: 0.0989 - accuracy: 0.9884 - val_loss: 0.6029 - val_accuracy: 0.9651\n",
      "Epoch 4/10\n",
      "113/113 [==============================] - 4s 38ms/step - loss: 0.0970 - accuracy: 0.9892 - val_loss: 0.5625 - val_accuracy: 0.9716\n",
      "Epoch 5/10\n",
      "113/113 [==============================] - 4s 39ms/step - loss: 0.0898 - accuracy: 0.9911 - val_loss: 0.6257 - val_accuracy: 0.9673\n",
      "Epoch 6/10\n",
      "113/113 [==============================] - 4s 38ms/step - loss: 0.0919 - accuracy: 0.9904 - val_loss: 0.6851 - val_accuracy: 0.9673\n",
      "Epoch 7/10\n",
      "113/113 [==============================] - 4s 39ms/step - loss: 0.0876 - accuracy: 0.9913 - val_loss: 0.7048 - val_accuracy: 0.9725\n",
      "Epoch 8/10\n",
      "113/113 [==============================] - 4s 38ms/step - loss: 0.0990 - accuracy: 0.9915 - val_loss: 0.7160 - val_accuracy: 0.9722\n",
      "Epoch 9/10\n",
      "113/113 [==============================] - 4s 38ms/step - loss: 0.0973 - accuracy: 0.9922 - val_loss: 0.6107 - val_accuracy: 0.9746\n",
      "Epoch 10/10\n",
      "113/113 [==============================] - 4s 39ms/step - loss: 0.0886 - accuracy: 0.9925 - val_loss: 1.3017 - val_accuracy: 0.9489\n",
      "313/313 [==============================] - 1s 5ms/step - loss: 0.7079 - accuracy: 0.9744\n",
      "313/313 [==============================] - 1s 5ms/step - loss: 0.7079 - accuracy: 0.9744\n",
      "313/313 [==============================] - 2s 5ms/step - loss: 0.7079 - accuracy: 0.9744\n"
     ]
    }
   ],
   "source": [
    "model1.fit(X_train,\n",
    "          y_train,\n",
    "          epochs=10,\n",
    "          batch_size=400,\n",
    "          validation_data=(X_val,y_val))\n",
    "model2.fit(X_train,\n",
    "          y_train,\n",
    "          epochs=10,\n",
    "          batch_size=400,\n",
    "          validation_data=(X_val,y_val))\n",
    "model3.fit(X_train,\n",
    "          y_train,\n",
    "          epochs=10,\n",
    "          batch_size=400,\n",
    "          validation_data=(X_val,y_val))\n",
    "model1_result = model1.evaluate(X_test,y_test)\n",
    "model2_result = model1.evaluate(X_test,y_test)\n",
    "model3_result = model1.evaluate(X_test,y_test)"
   ]
  },
  {
   "cell_type": "code",
   "execution_count": 71,
   "metadata": {},
   "outputs": [],
   "source": [
    "###"
   ]
  },
  {
   "cell_type": "code",
   "execution_count": 72,
   "metadata": {},
   "outputs": [],
   "source": [
    "input_shape = X_train.shape[1:]\n",
    "output_shape = y_train.shape[1]\n",
    "model1 = Sequential()\n",
    "l1 = Dense(1024, input_shape=input_shape,activation=\"sigmoid\")\n",
    "l2 = Dense(512, activation=\"sigmoid\")\n",
    "out = Dense(output_shape, activation=\"softmax\")\n",
    "model1.add(l1)\n",
    "model1.add(l2)\n",
    "model1.add(out)\n",
    "\n",
    "model2 = Sequential(\n",
    "    [\n",
    "        l1,\n",
    "        l2,\n",
    "        out\n",
    "    ]\n",
    ")\n",
    "\n",
    "input_ = Input(shape=input_shape)\n",
    "layer1 = l1(input_)\n",
    "layer2 = l2(layer1)\n",
    "output = out(layer2)\n",
    "\n",
    "model3 = Model(inputs=[input_], outputs=[output])"
   ]
  },
  {
   "cell_type": "code",
   "execution_count": 73,
   "metadata": {},
   "outputs": [
    {
     "data": {
      "text/plain": [
       "[array([[-0.05511282,  0.05182935,  0.04001231, ...,  0.04286797,\n",
       "         -0.00123573,  0.0173491 ],\n",
       "        [-0.01552247,  0.00656395,  0.05506997, ...,  0.02350266,\n",
       "          0.0071324 , -0.02750515],\n",
       "        [ 0.04100437,  0.05607471, -0.01209064, ..., -0.03764543,\n",
       "         -0.02763249, -0.01645544],\n",
       "        ...,\n",
       "        [-0.00907568,  0.00154361,  0.05586578, ...,  0.03946963,\n",
       "         -0.01340834,  0.00897998],\n",
       "        [-0.03277729,  0.04320396,  0.03473543, ...,  0.02305657,\n",
       "         -0.0567803 , -0.01304537],\n",
       "        [-0.02578737, -0.04938987, -0.03621328, ...,  0.04572746,\n",
       "         -0.0167908 , -0.01160265]], dtype=float32),\n",
       " array([0., 0., 0., ..., 0., 0., 0.], dtype=float32)]"
      ]
     },
     "execution_count": 73,
     "metadata": {},
     "output_type": "execute_result"
    }
   ],
   "source": [
    "model1.layers[0].get_weights()"
   ]
  },
  {
   "cell_type": "code",
   "execution_count": 74,
   "metadata": {},
   "outputs": [],
   "source": [
    "model2.layers[0].set_weights([model1.layers[0].get_weights()[0],\n",
    "                            model1.layers[0].get_weights()[1]])"
   ]
  },
  {
   "cell_type": "code",
   "execution_count": 75,
   "metadata": {},
   "outputs": [],
   "source": [
    "for i in range(len(model1.layers)):\n",
    "    model2.layers[i].set_weights([model1.layers[i].get_weights()[0],\n",
    "                                model1.layers[i].get_weights()[1]])\n",
    "    model3.layers[i+1].set_weights([model1.layers[i].get_weights()[0],\n",
    "                            model1.layers[i].get_weights()[1]])"
   ]
  },
  {
   "cell_type": "code",
   "execution_count": 76,
   "metadata": {},
   "outputs": [],
   "source": [
    "optimizer = \"rmsprop\"\n",
    "loss = \"categorical_crossentropy\"\n",
    "model1.compile(optimizer=optimizer,\n",
    "                loss = loss)\n",
    "model2.compile(optimizer=optimizer,\n",
    "                loss = loss)\n",
    "model3.compile(optimizer=optimizer,\n",
    "                loss = loss)"
   ]
  },
  {
   "cell_type": "code",
   "execution_count": 77,
   "metadata": {},
   "outputs": [
    {
     "name": "stdout",
     "output_type": "stream",
     "text": [
      "313/313 [==============================] - 1s 4ms/step - loss: 0.0982\n",
      "0.09824632108211517\n",
      "313/313 [==============================] - 2s 5ms/step - loss: 0.0982\n",
      "0.09824632108211517\n",
      "313/313 [==============================] - 2s 5ms/step - loss: 0.0982\n",
      "0.09824632108211517\n"
     ]
    }
   ],
   "source": [
    "model1.fit(X_train, y_train, epochs=10, batch_size=100, verbose=0)\n",
    "model2.fit(X_train, y_train, epochs=10, batch_size=100, verbose=0)\n",
    "model3.fit(X_train, y_train, epochs=10, batch_size=100, verbose=0)\n",
    "\n",
    "print(model1.evaluate(X_test,y_test))\n",
    "print(model2.evaluate(X_test,y_test))\n",
    "print(model3.evaluate(X_test,y_test))"
   ]
  },
  {
   "cell_type": "code",
   "execution_count": 78,
   "metadata": {},
   "outputs": [
    {
     "name": "stdout",
     "output_type": "stream",
     "text": [
      "313/313 [==============================] - 1s 3ms/step\n",
      "0.9736\n",
      "313/313 [==============================] - 1s 3ms/step\n",
      "0.9736\n",
      "313/313 [==============================] - 1s 3ms/step\n",
      "0.9736\n"
     ]
    }
   ],
   "source": [
    "print(np.sum(np.argmax(model1.predict(X_test),axis=1) == np.argmax(y_test, axis=1))/len(y_test))\n",
    "print(np.sum(np.argmax(model2.predict(X_test),axis=1) == np.argmax(y_test, axis=1))/len(y_test))\n",
    "print(np.sum(np.argmax(model3.predict(X_test),axis=1) == np.argmax(y_test, axis=1))/len(y_test))"
   ]
  },
  {
   "cell_type": "code",
   "execution_count": 80,
   "metadata": {},
   "outputs": [],
   "source": [
    "l_1_w = model1.layers[0].get_weights()[0]\n",
    "l_1_b = model1.layers[0].get_weights()[1]\n",
    "# sigmoid\n",
    "l_2_w = model1.layers[1].get_weights()[0]\n",
    "l_2_b = model1.layers[1].get_weights()[1]\n",
    "# sigmoid\n",
    "l_3_w = model1.layers[2].get_weights()[0]\n",
    "l_3_b = model1.layers[2].get_weights()[1]"
   ]
  },
  {
   "cell_type": "code",
   "execution_count": 81,
   "metadata": {},
   "outputs": [
    {
     "name": "stderr",
     "output_type": "stream",
     "text": [
      "C:\\Users\\admin\\AppData\\Local\\Temp\\ipykernel_9576\\1610975817.py:3: RuntimeWarning: overflow encountered in exp\n",
      "  a = 1/(1+np.exp(-a))\n"
     ]
    }
   ],
   "source": [
    "a = np.dot(X_test,l_1_w) + l_1_b\n",
    "### sigmoid\n",
    "a = 1/(1+np.exp(-a))\n",
    "a = np.dot(a, l_2_w) + l_2_b\n",
    "### sigmoid\n",
    "a = 1/(1+np.exp(-a))\n",
    "a = np.dot(a, l_3_w) + l_3_b"
   ]
  },
  {
   "cell_type": "code",
   "execution_count": 82,
   "metadata": {},
   "outputs": [
    {
     "data": {
      "text/plain": [
       "(10000, 10)"
      ]
     },
     "execution_count": 82,
     "metadata": {},
     "output_type": "execute_result"
    }
   ],
   "source": [
    "a.shape"
   ]
  },
  {
   "cell_type": "code",
   "execution_count": 88,
   "metadata": {},
   "outputs": [
    {
     "data": {
      "text/plain": [
       "0.9736"
      ]
     },
     "execution_count": 88,
     "metadata": {},
     "output_type": "execute_result"
    }
   ],
   "source": [
    "np.sum(np.argmax(a,axis=1) == np.argmax(y_test, axis=1)) / len(y_test)"
   ]
  },
  {
   "cell_type": "markdown",
   "metadata": {},
   "source": [
    "### Model 저장"
   ]
  },
  {
   "cell_type": "code",
   "execution_count": 86,
   "metadata": {},
   "outputs": [],
   "source": [
    "from keras.models import load_model, save_model"
   ]
  },
  {
   "cell_type": "code",
   "execution_count": 92,
   "metadata": {},
   "outputs": [
    {
     "name": "stdout",
     "output_type": "stream",
     "text": [
      " C ����̺��� ����: OS\n",
      " ���� �Ϸ� ��ȣ: E4F9-A6B2\n",
      "\n",
      " c:\\Users\\admin\\STUDY\\StudyPython_Deep_Learning\\7day ���͸�\n",
      "\n",
      "2022-08-24  ���� 02:27    <DIR>          .\n",
      "2022-08-24  ���� 02:27    <DIR>          ..\n",
      "2022-08-24  ���� 02:27            76,133 01_model1.ipynb\n",
      "2022-08-24  ���� 02:29           138,478 02_model2.ipynb\n",
      "2022-08-24  ���� 02:46            18,373 03_model3.ipynb\n",
      "2022-08-24  ���� 02:31           163,629 04_model_total.ipynb\n",
      "               4�� ����             396,613 ����Ʈ\n",
      "               2�� ���͸�  120,420,634,624 ����Ʈ ����\n"
     ]
    }
   ],
   "source": [
    "!dir"
   ]
  },
  {
   "cell_type": "code",
   "execution_count": 93,
   "metadata": {},
   "outputs": [
    {
     "name": "stdout",
     "output_type": "stream",
     "text": [
      "INFO:tensorflow:Assets written to: model1.h6\\assets\n"
     ]
    }
   ],
   "source": [
    "### h6, h5, h7(h5가 가장 좋음)\n",
    "save_model(model1, \"model1.h6\")\n",
    "save_model(model2, \"model2.h5\")"
   ]
  },
  {
   "cell_type": "code",
   "execution_count": 95,
   "metadata": {},
   "outputs": [],
   "source": [
    "model1_1 = load_model(\"model1.h6\")\n",
    "model2_1 = load_model(\"model2.h5\")"
   ]
  },
  {
   "cell_type": "code",
   "execution_count": 96,
   "metadata": {},
   "outputs": [
    {
     "name": "stdout",
     "output_type": "stream",
     "text": [
      "313/313 [==============================] - 1s 4ms/step - loss: 0.0982\n"
     ]
    },
    {
     "data": {
      "text/plain": [
       "0.09824632108211517"
      ]
     },
     "execution_count": 96,
     "metadata": {},
     "output_type": "execute_result"
    }
   ],
   "source": [
    "model1_1.evaluate(X_test,y_test)"
   ]
  },
  {
   "cell_type": "code",
   "execution_count": 97,
   "metadata": {},
   "outputs": [
    {
     "name": "stdout",
     "output_type": "stream",
     "text": [
      "313/313 [==============================] - 1s 4ms/step - loss: 0.0982\n"
     ]
    },
    {
     "data": {
      "text/plain": [
       "0.09824632108211517"
      ]
     },
     "execution_count": 97,
     "metadata": {},
     "output_type": "execute_result"
    }
   ],
   "source": [
    "model2_1.evaluate(X_test,y_test)"
   ]
  },
  {
   "cell_type": "code",
   "execution_count": 98,
   "metadata": {},
   "outputs": [
    {
     "name": "stdout",
     "output_type": "stream",
     "text": [
      "INFO:tensorflow:Assets written to: model.h7\\assets\n"
     ]
    }
   ],
   "source": [
    "# h7\n",
    "save_model(model3, \"model.h7\")"
   ]
  }
 ],
 "metadata": {
  "kernelspec": {
   "display_name": "Python 3.10.4 ('keras1')",
   "language": "python",
   "name": "python3"
  },
  "language_info": {
   "codemirror_mode": {
    "name": "ipython",
    "version": 3
   },
   "file_extension": ".py",
   "mimetype": "text/x-python",
   "name": "python",
   "nbconvert_exporter": "python",
   "pygments_lexer": "ipython3",
   "version": "3.10.4"
  },
  "orig_nbformat": 4,
  "vscode": {
   "interpreter": {
    "hash": "97d615c32c382542d37f2f9f703f3c770d4a36deabb2babf3fd797ec770d93cb"
   }
  }
 },
 "nbformat": 4,
 "nbformat_minor": 2
}
