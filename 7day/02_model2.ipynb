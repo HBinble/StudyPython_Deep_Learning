{
 "cells": [
  {
   "cell_type": "code",
   "execution_count": 97,
   "metadata": {},
   "outputs": [],
   "source": [
    "## 기본 모듈\n",
    "import numpy as np\n",
    "import pandas as pd\n",
    "import matplotlib.pyplot as plt\n",
    "import seaborn as sns\n",
    "from sklearn.model_selection import train_test_split\n",
    "\n",
    "## 모듈 import\n",
    "from tensorflow import keras\n",
    "from keras.models import Sequential\n",
    "from keras.layers import Dense\n",
    "from keras.utils import to_categorical, plot_model\n",
    "from keras.datasets import mnist"
   ]
  },
  {
   "cell_type": "markdown",
   "metadata": {},
   "source": [
    "## Model 1"
   ]
  },
  {
   "cell_type": "code",
   "execution_count": 98,
   "metadata": {},
   "outputs": [],
   "source": [
    "# dir(keras.datasets)\n",
    "# dir(keras.layers)\n",
    "# dir(keras.losses)"
   ]
  },
  {
   "cell_type": "code",
   "execution_count": 99,
   "metadata": {},
   "outputs": [],
   "source": [
    "## dataset 정리\n",
    "(X_train_full, y_train_full), (X_test, y_test) = mnist.load_data()\n",
    "X_train, X_val, y_train, y_val = train_test_split(X_train_full, y_train_full, test_size=.2)"
   ]
  },
  {
   "cell_type": "code",
   "execution_count": 100,
   "metadata": {},
   "outputs": [
    {
     "name": "stdout",
     "output_type": "stream",
     "text": [
      "(48000, 28, 28)\n",
      "(48000,)\n"
     ]
    }
   ],
   "source": [
    "print(X_train.shape)\n",
    "print(y_train.shape)"
   ]
  },
  {
   "cell_type": "code",
   "execution_count": 101,
   "metadata": {},
   "outputs": [
    {
     "data": {
      "text/plain": [
       "6"
      ]
     },
     "execution_count": 101,
     "metadata": {},
     "output_type": "execute_result"
    },
    {
     "data": {
      "image/png": "[encoded data removed]",
      "text/plain": [
       "<Figure size 432x288 with 1 Axes>"
      ]
     },
     "metadata": {
      "needs_background": "light"
     },
     "output_type": "display_data"
    }
   ],
   "source": [
    "plt.imshow(X_train[0])\n",
    "y_train[0]"
   ]
  },
  {
   "cell_type": "code",
   "execution_count": 102,
   "metadata": {},
   "outputs": [
    {
     "data": {
      "text/plain": [
       "(48000, 28, 28)"
      ]
     },
     "execution_count": 102,
     "metadata": {},
     "output_type": "execute_result"
    }
   ],
   "source": [
    "X_train.shape"
   ]
  },
  {
   "cell_type": "code",
   "execution_count": 103,
   "metadata": {},
   "outputs": [],
   "source": [
    "# reshape를 하더라도 데이터 변화는 없다.\n",
    "x = X_train.reshape(-1,784*1000)"
   ]
  },
  {
   "cell_type": "code",
   "execution_count": 104,
   "metadata": {},
   "outputs": [],
   "source": [
    "y = x.reshape(48000,28,28)"
   ]
  },
  {
   "cell_type": "code",
   "execution_count": 105,
   "metadata": {},
   "outputs": [
    {
     "data": {
      "text/plain": [
       "<matplotlib.image.AxesImage at 0x2cad6f84940>"
      ]
     },
     "execution_count": 105,
     "metadata": {},
     "output_type": "execute_result"
    },
    {
     "data": {
      "image/png": "[encoded data removed]",
      "text/plain": [
       "<Figure size 432x288 with 1 Axes>"
      ]
     },
     "metadata": {
      "needs_background": "light"
     },
     "output_type": "display_data"
    }
   ],
   "source": [
    "plt.imshow(y[0])"
   ]
  },
  {
   "cell_type": "code",
   "execution_count": 106,
   "metadata": {},
   "outputs": [],
   "source": [
    "# X 데이터 정리\n",
    "X_train = X_train.reshape(-1,784)\n",
    "X_val = X_val.reshape(-1,784)\n",
    "X_test = X_test.reshape(-1,784)"
   ]
  },
  {
   "cell_type": "code",
   "execution_count": 107,
   "metadata": {},
   "outputs": [],
   "source": [
    "# y 데이터 확인 및 정리\n",
    "np.unique(y_train)\n",
    "np.unique(y_train).size\n",
    "# categorical 데이터 확인\n",
    "# one-hot 변환\n",
    "y_train = to_categorical(y_train)\n",
    "y_val = to_categorical(y_val)\n",
    "y_test = to_categorical(y_test)"
   ]
  },
  {
   "cell_type": "code",
   "execution_count": 108,
   "metadata": {},
   "outputs": [],
   "source": [
    "# np.unique(y_train, return_counts=True)"
   ]
  },
  {
   "cell_type": "code",
   "execution_count": 109,
   "metadata": {},
   "outputs": [],
   "source": [
    "## 모델 생성\n",
    "model1 = Sequential()\n",
    "model1.add(Dense(1024,activation=\"relu\",input_dim=784))\n",
    "model1.add(Dense(512,activation=\"sigmoid\"))\n",
    "model1.add(Dense(10,activation=\"softmax\"))"
   ]
  },
  {
   "cell_type": "code",
   "execution_count": 110,
   "metadata": {},
   "outputs": [
    {
     "name": "stdout",
     "output_type": "stream",
     "text": [
      "Model: \"sequential_4\"\n",
      "_________________________________________________________________\n",
      " Layer (type)                Output Shape              Param #   \n",
      "=================================================================\n",
      " dense_9 (Dense)             (None, 1024)              803840    \n",
      "                                                                 \n",
      " dense_10 (Dense)            (None, 512)               524800    \n",
      "                                                                 \n",
      " dense_11 (Dense)            (None, 10)                5130      \n",
      "                                                                 \n",
      "=================================================================\n",
      "Total params: 1,333,770\n",
      "Trainable params: 1,333,770\n",
      "Non-trainable params: 0\n",
      "_________________________________________________________________\n"
     ]
    }
   ],
   "source": [
    "model1.summary()\n"
   ]
  },
  {
   "cell_type": "code",
   "execution_count": 111,
   "metadata": {},
   "outputs": [],
   "source": [
    "## 모델 설정\n",
    "optimizer = \"sgd\"\n",
    "loss = \"categorical_crossentropy\"\n",
    "metrics = [\"accuracy\"]\n",
    "model1.compile(\n",
    "    optimizer=optimizer,\n",
    "    loss=loss,\n",
    "    metrics=metrics\n",
    ")"
   ]
  },
  {
   "cell_type": "code",
   "execution_count": 112,
   "metadata": {},
   "outputs": [
    {
     "name": "stdout",
     "output_type": "stream",
     "text": [
      "Epoch 1/10\n",
      "1500/1500 [==============================] - 13s 8ms/step - loss: 0.4079 - accuracy: 0.8910 - val_loss: 0.2563 - val_accuracy: 0.9266\n",
      "Epoch 2/10\n",
      "1500/1500 [==============================] - 13s 9ms/step - loss: 0.2041 - accuracy: 0.9429 - val_loss: 0.1891 - val_accuracy: 0.9448\n",
      "Epoch 3/10\n",
      "1500/1500 [==============================] - 13s 8ms/step - loss: 0.1525 - accuracy: 0.9567 - val_loss: 0.1568 - val_accuracy: 0.9518\n",
      "Epoch 4/10\n",
      "1500/1500 [==============================] - 13s 9ms/step - loss: 0.1189 - accuracy: 0.9662 - val_loss: 0.1387 - val_accuracy: 0.9583\n",
      "Epoch 5/10\n",
      "1500/1500 [==============================] - 13s 9ms/step - loss: 0.0964 - accuracy: 0.9731 - val_loss: 0.1162 - val_accuracy: 0.9646\n",
      "Epoch 6/10\n",
      "1500/1500 [==============================] - 14s 10ms/step - loss: 0.0787 - accuracy: 0.9778 - val_loss: 0.1089 - val_accuracy: 0.9683\n",
      "Epoch 7/10\n",
      "1500/1500 [==============================] - 14s 10ms/step - loss: 0.0658 - accuracy: 0.9814 - val_loss: 0.1008 - val_accuracy: 0.9703\n",
      "Epoch 8/10\n",
      "1500/1500 [==============================] - 16s 11ms/step - loss: 0.0539 - accuracy: 0.9859 - val_loss: 0.0942 - val_accuracy: 0.9731\n",
      "Epoch 9/10\n",
      "1500/1500 [==============================] - 17s 11ms/step - loss: 0.0446 - accuracy: 0.9889 - val_loss: 0.0881 - val_accuracy: 0.9728\n",
      "Epoch 10/10\n",
      "1500/1500 [==============================] - 16s 11ms/step - loss: 0.0349 - accuracy: 0.9916 - val_loss: 0.0886 - val_accuracy: 0.9735\n"
     ]
    },
    {
     "data": {
      "text/plain": [
       "<keras.callbacks.History at 0x2cad82f3640>"
      ]
     },
     "execution_count": 112,
     "metadata": {},
     "output_type": "execute_result"
    }
   ],
   "source": [
    "## 모델 학습\n",
    "model1.fit(\n",
    "    X_train,\n",
    "    y_train,\n",
    "    epochs = 10,\n",
    "    # batch_size=32,\n",
    "    validation_data = (X_val,y_val)\n",
    ")\n",
    "# batch_size = 32 -> 48000/32 = 1500"
   ]
  },
  {
   "cell_type": "code",
   "execution_count": 113,
   "metadata": {},
   "outputs": [
    {
     "name": "stdout",
     "output_type": "stream",
     "text": [
      "313/313 [==============================] - 1s 4ms/step - loss: 0.0794 - accuracy: 0.9757\n"
     ]
    },
    {
     "data": {
      "text/plain": [
       "[0.07935802638530731, 0.9757000207901001]"
      ]
     },
     "execution_count": 113,
     "metadata": {},
     "output_type": "execute_result"
    }
   ],
   "source": [
    "## test 정확도 검증\n",
    "model1.evaluate(X_test, y_test)"
   ]
  },
  {
   "cell_type": "code",
   "execution_count": 114,
   "metadata": {},
   "outputs": [],
   "source": [
    "# np.sum((np.argmax(model1.predict(X_test),axis=1) == np.argmax(y_test,axis=1))/y_test.size)"
   ]
  },
  {
   "cell_type": "code",
   "execution_count": 115,
   "metadata": {},
   "outputs": [
    {
     "name": "stdout",
     "output_type": "stream",
     "text": [
      "313/313 [==============================] - 1s 4ms/step\n"
     ]
    },
    {
     "data": {
      "text/plain": [
       "0.9757"
      ]
     },
     "execution_count": 115,
     "metadata": {},
     "output_type": "execute_result"
    }
   ],
   "source": [
    "np.sum(np.argmax(y_test,axis=1) == np.argmax(model1.predict(X_test),axis=1))/len(y_test)"
   ]
  },
  {
   "cell_type": "code",
   "execution_count": 116,
   "metadata": {},
   "outputs": [],
   "source": [
    "## 활용\n",
    "def mnist_test(x):\n",
    "    ind = np.random.choice(np.arange(len(X_test)),x, replace=False)\n",
    "    size = x\n",
    "    score = 0\n",
    "    for i in ind:\n",
    "        plt.imshow(X_test[i].reshape(28,28))\n",
    "        pred = np.argmax(model1.predict(X_test[[i]]))\n",
    "        real = np.argmax(y_test[i])\n",
    "        if pred == real:\n",
    "            result = \"맞음\"\n",
    "            score += 1\n",
    "        else:\n",
    "            result = \"틀림\"\n",
    "        score = (score/size)*100\n",
    "        print(f\"정답은 ===> {real}  예측은 ===> {pred}  결과는 ===> {result} \")\n",
    "        plt.show()\n",
    "    print(\"\\n\",f\"총 {size}를 예측한 결과 예측률은{score} %\")"
   ]
  },
  {
   "cell_type": "code",
   "execution_count": 117,
   "metadata": {},
   "outputs": [
    {
     "name": "stdout",
     "output_type": "stream",
     "text": [
      "1/1 [==============================] - 0s 24ms/step\n",
      "정답은 ===> 0  예측은 ===> 0  결과는 ===> 맞음 \n"
     ]
    },
    {
     "data": {
      "image/png": "[encoded data removed]",
      "text/plain": [
       "<Figure size 432x288 with 1 Axes>"
      ]
     },
     "metadata": {
      "needs_background": "light"
     },
     "output_type": "display_data"
    },
    {
     "name": "stdout",
     "output_type": "stream",
     "text": [
      "1/1 [==============================] - 0s 21ms/step\n",
      "정답은 ===> 9  예측은 ===> 9  결과는 ===> 맞음 \n"
     ]
    },
    {
     "data": {
      "image/png": "[encoded data removed]",
      "text/plain": [
       "<Figure size 432x288 with 1 Axes>"
      ]
     },
     "metadata": {
      "needs_background": "light"
     },
     "output_type": "display_data"
    },
    {
     "name": "stdout",
     "output_type": "stream",
     "text": [
      "1/1 [==============================] - 0s 20ms/step\n",
      "정답은 ===> 5  예측은 ===> 5  결과는 ===> 맞음 \n"
     ]
    },
    {
     "data": {
      "image/png": "[encoded data removed]",
      "text/plain": [
       "<Figure size 432x288 with 1 Axes>"
      ]
     },
     "metadata": {
      "needs_background": "light"
     },
     "output_type": "display_data"
    },
    {
     "name": "stdout",
     "output_type": "stream",
     "text": [
      "1/1 [==============================] - 0s 19ms/step\n",
      "정답은 ===> 6  예측은 ===> 6  결과는 ===> 맞음 \n"
     ]
    },
    {
     "data": {
      "image/png": "[encoded data removed]",
      "text/plain": [
       "<Figure size 432x288 with 1 Axes>"
      ]
     },
     "metadata": {
      "needs_background": "light"
     },
     "output_type": "display_data"
    },
    {
     "name": "stdout",
     "output_type": "stream",
     "text": [
      "1/1 [==============================] - 0s 20ms/step\n",
      "정답은 ===> 6  예측은 ===> 6  결과는 ===> 맞음 \n"
     ]
    },
    {
     "data": {
      "image/png": "[encoded data removed]",
      "text/plain": [
       "<Figure size 432x288 with 1 Axes>"
      ]
     },
     "metadata": {
      "needs_background": "light"
     },
     "output_type": "display_data"
    },
    {
     "name": "stdout",
     "output_type": "stream",
     "text": [
      "1/1 [==============================] - 0s 26ms/step\n",
      "정답은 ===> 0  예측은 ===> 0  결과는 ===> 맞음 \n"
     ]
    },
    {
     "data": {
      "image/png": "[encoded data removed]",
      "text/plain": [
       "<Figure size 432x288 with 1 Axes>"
      ]
     },
     "metadata": {
      "needs_background": "light"
     },
     "output_type": "display_data"
    },
    {
     "name": "stdout",
     "output_type": "stream",
     "text": [
      "1/1 [==============================] - 0s 19ms/step\n",
      "정답은 ===> 7  예측은 ===> 7  결과는 ===> 맞음 \n"
     ]
    },
    {
     "data": {
      "image/png": "[encoded data removed]",
      "text/plain": [
       "<Figure size 432x288 with 1 Axes>"
      ]
     },
     "metadata": {
      "needs_background": "light"
     },
     "output_type": "display_data"
    },
    {
     "name": "stdout",
     "output_type": "stream",
     "text": [
      "1/1 [==============================] - 0s 25ms/step\n",
      "정답은 ===> 0  예측은 ===> 0  결과는 ===> 맞음 \n"
     ]
    },
    {
     "data": {
      "image/png": "[encoded data removed]",
      "text/plain": [
       "<Figure size 432x288 with 1 Axes>"
      ]
     },
     "metadata": {
      "needs_background": "light"
     },
     "output_type": "display_data"
    },
    {
     "name": "stdout",
     "output_type": "stream",
     "text": [
      "1/1 [==============================] - 0s 21ms/step\n",
      "정답은 ===> 0  예측은 ===> 0  결과는 ===> 맞음 \n"
     ]
    },
    {
     "data": {
      "image/png": "[encoded data removed]",
      "text/plain": [
       "<Figure size 432x288 with 1 Axes>"
      ]
     },
     "metadata": {
      "needs_background": "light"
     },
     "output_type": "display_data"
    },
    {
     "name": "stdout",
     "output_type": "stream",
     "text": [
      "1/1 [==============================] - 0s 18ms/step\n",
      "정답은 ===> 8  예측은 ===> 8  결과는 ===> 맞음 \n"
     ]
    },
    {
     "data": {
      "image/png": "[encoded data removed]",
      "text/plain": [
       "<Figure size 432x288 with 1 Axes>"
      ]
     },
     "metadata": {
      "needs_background": "light"
     },
     "output_type": "display_data"
    },
    {
     "name": "stdout",
     "output_type": "stream",
     "text": [
      "\n",
      " 총 10를 예측한 결과 예측률은11111111110.000002 %\n"
     ]
    }
   ],
   "source": [
    "mnist_test(10)"
   ]
  },
  {
   "cell_type": "markdown",
   "metadata": {},
   "source": [
    "## Model 2"
   ]
  },
  {
   "cell_type": "code",
   "execution_count": 180,
   "metadata": {},
   "outputs": [],
   "source": [
    "## dataset 정리\n",
    "(X_train_full, y_train_full), (X_test, y_test) = mnist.load_data()"
   ]
  },
  {
   "cell_type": "code",
   "execution_count": 181,
   "metadata": {},
   "outputs": [],
   "source": [
    "y_train_full = np.where((y_train_full == 1) | (y_train_full == 7) | (y_train_full == 9)\n",
    "                        ,1,0)"
   ]
  },
  {
   "cell_type": "code",
   "execution_count": 182,
   "metadata": {},
   "outputs": [],
   "source": [
    "y_test = np.where((y_test == 1) | (y_test == 7) | (y_test == 9)\n",
    "                    ,1,0)"
   ]
  },
  {
   "cell_type": "code",
   "execution_count": 183,
   "metadata": {},
   "outputs": [],
   "source": [
    "X_train, X_val, y_train, y_val = train_test_split(X_train_full, y_train_full, test_size=.2)"
   ]
  },
  {
   "cell_type": "code",
   "execution_count": 184,
   "metadata": {},
   "outputs": [
    {
     "name": "stdout",
     "output_type": "stream",
     "text": [
      "(48000, 28, 28)\n",
      "(12000, 28, 28)\n",
      "(48000,)\n",
      "(12000,)\n"
     ]
    }
   ],
   "source": [
    "print(X_train.shape)\n",
    "print(X_val.shape)\n",
    "print(y_train.shape)\n",
    "print(y_val.shape)"
   ]
  },
  {
   "cell_type": "code",
   "execution_count": 185,
   "metadata": {},
   "outputs": [],
   "source": [
    "X_train = X_train.reshape(-1,28*28)\n",
    "X_val = X_val.reshape(-1,28*28)\n",
    "X_test = X_test.reshape(-1,28*28)"
   ]
  },
  {
   "cell_type": "code",
   "execution_count": 186,
   "metadata": {},
   "outputs": [
    {
     "data": {
      "text/plain": [
       "array([0, 1])"
      ]
     },
     "execution_count": 186,
     "metadata": {},
     "output_type": "execute_result"
    }
   ],
   "source": [
    "np.unique(y_train)"
   ]
  },
  {
   "cell_type": "code",
   "execution_count": 187,
   "metadata": {},
   "outputs": [],
   "source": [
    "model2 = Sequential()\n",
    "model2.add(Dense(1024,activation=\"relu\",input_shape=(784,)))\n",
    "model2.add(keras.layers.BatchNormalization())\n",
    "model2.add(keras.layers.Dense(512,activation=\"sigmoid\"))\n",
    "model2.add(keras.layers.Dense(1,activation=\"sigmoid\"))"
   ]
  },
  {
   "cell_type": "code",
   "execution_count": 188,
   "metadata": {},
   "outputs": [
    {
     "name": "stdout",
     "output_type": "stream",
     "text": [
      "Model: \"sequential_15\"\n",
      "_________________________________________________________________\n",
      " Layer (type)                Output Shape              Param #   \n",
      "=================================================================\n",
      " dense_38 (Dense)            (None, 1024)              803840    \n",
      "                                                                 \n",
      " batch_normalization_1 (Batc  (None, 1024)             4096      \n",
      " hNormalization)                                                 \n",
      "                                                                 \n",
      " dense_39 (Dense)            (None, 512)               524800    \n",
      "                                                                 \n",
      " dense_40 (Dense)            (None, 1)                 513       \n",
      "                                                                 \n",
      "=================================================================\n",
      "Total params: 1,333,249\n",
      "Trainable params: 1,331,201\n",
      "Non-trainable params: 2,048\n",
      "_________________________________________________________________\n"
     ]
    }
   ],
   "source": [
    "model2.summary()"
   ]
  },
  {
   "cell_type": "code",
   "execution_count": 189,
   "metadata": {},
   "outputs": [],
   "source": [
    "## 모델 설정\n",
    "model2.compile(optimizer=\"sgd\",\n",
    "                loss=\"binary_crossentropy\",\n",
    "                metrics=[\"accuracy\"])\n",
    "\n",
    "# model2.compile(optimizer=keras.optimizers.SGD(),\n",
    "#                 loss=keras.losses.BinaryCrossentropy(),\n",
    "#                 metrics=[\"accuracy\"])"
   ]
  },
  {
   "cell_type": "code",
   "execution_count": 190,
   "metadata": {},
   "outputs": [
    {
     "data": {
      "text/plain": [
       "(12000, 784)"
      ]
     },
     "execution_count": 190,
     "metadata": {},
     "output_type": "execute_result"
    }
   ],
   "source": [
    "X_val.shape"
   ]
  },
  {
   "cell_type": "code",
   "execution_count": 191,
   "metadata": {},
   "outputs": [
    {
     "name": "stdout",
     "output_type": "stream",
     "text": [
      "Epoch 1/10\n",
      "120/120 [==============================] - 4s 29ms/step - loss: 0.3641 - accuracy: 0.8605 - val_loss: 0.2461 - val_accuracy: 0.9052\n",
      "Epoch 2/10\n",
      "120/120 [==============================] - 4s 31ms/step - loss: 0.2102 - accuracy: 0.9402 - val_loss: 0.1823 - val_accuracy: 0.9425\n",
      "Epoch 3/10\n",
      "120/120 [==============================] - 3s 29ms/step - loss: 0.1669 - accuracy: 0.9518 - val_loss: 0.1575 - val_accuracy: 0.9496\n",
      "Epoch 4/10\n",
      "120/120 [==============================] - 4s 29ms/step - loss: 0.1446 - accuracy: 0.9569 - val_loss: 0.1419 - val_accuracy: 0.9542\n",
      "Epoch 5/10\n",
      "120/120 [==============================] - 4s 30ms/step - loss: 0.1306 - accuracy: 0.9598 - val_loss: 0.1311 - val_accuracy: 0.9571\n",
      "Epoch 6/10\n",
      "120/120 [==============================] - 4s 30ms/step - loss: 0.1208 - accuracy: 0.9630 - val_loss: 0.1233 - val_accuracy: 0.9592\n",
      "Epoch 7/10\n",
      "120/120 [==============================] - 3s 29ms/step - loss: 0.1133 - accuracy: 0.9644 - val_loss: 0.1163 - val_accuracy: 0.9614\n",
      "Epoch 8/10\n",
      "120/120 [==============================] - 3s 28ms/step - loss: 0.1067 - accuracy: 0.9664 - val_loss: 0.1110 - val_accuracy: 0.9624\n",
      "Epoch 9/10\n",
      "120/120 [==============================] - 3s 29ms/step - loss: 0.1013 - accuracy: 0.9680 - val_loss: 0.1063 - val_accuracy: 0.9643\n",
      "Epoch 10/10\n",
      "120/120 [==============================] - 4s 33ms/step - loss: 0.0970 - accuracy: 0.9692 - val_loss: 0.1022 - val_accuracy: 0.9655\n"
     ]
    },
    {
     "data": {
      "text/plain": [
       "<keras.callbacks.History at 0x2cad822d960>"
      ]
     },
     "execution_count": 191,
     "metadata": {},
     "output_type": "execute_result"
    }
   ],
   "source": [
    "## 모델 학습\n",
    "model2.fit(\n",
    "    X_train,\n",
    "    y_train,\n",
    "    epochs = 10,\n",
    "    batch_size=400,\n",
    "    validation_data = (X_val,y_val),\n",
    "    verbose=1\n",
    ")"
   ]
  },
  {
   "cell_type": "code",
   "execution_count": 192,
   "metadata": {},
   "outputs": [
    {
     "name": "stdout",
     "output_type": "stream",
     "text": [
      "313/313 [==============================] - 1s 4ms/step - loss: 0.1004 - accuracy: 0.9682\n"
     ]
    },
    {
     "data": {
      "text/plain": [
       "[0.10041294991970062, 0.9682000279426575]"
      ]
     },
     "execution_count": 192,
     "metadata": {},
     "output_type": "execute_result"
    }
   ],
   "source": [
    "model2.evaluate(X_test, y_test)"
   ]
  },
  {
   "cell_type": "code",
   "execution_count": 193,
   "metadata": {},
   "outputs": [],
   "source": [
    "def mnist_test1(x):\n",
    "    ind = np.random.choice(np.arange(len(X_test)),x,replace=False)\n",
    "    size = x\n",
    "    score = 0\n",
    "    for i in ind:\n",
    "        plt.imshow(X_test[i].reshape(28,28))\n",
    "        pred = np.where(model2.predict(X_test[[i]]) >0.5,1,0)\n",
    "        real = np.where(y_test[i]>0.5,1,0)\n",
    "        if pred == real:\n",
    "            result = '맞음'\n",
    "            score += 1\n",
    "        else:\n",
    "            result = '틀림'\n",
    "        score = (score/size)*100\n",
    "        print(f'정답은 ===> {real}  예측은 ===> {pred} 결과는 ===> {result}')\n",
    "        plt.show()"
   ]
  },
  {
   "cell_type": "code",
   "execution_count": 194,
   "metadata": {},
   "outputs": [
    {
     "name": "stdout",
     "output_type": "stream",
     "text": [
      "1/1 [==============================] - 0s 70ms/step\n"
     ]
    },
    {
     "data": {
      "text/plain": [
       "array([[0.9823178]], dtype=float32)"
      ]
     },
     "execution_count": 194,
     "metadata": {},
     "output_type": "execute_result"
    }
   ],
   "source": [
    "model2.predict(X_test[0:1])"
   ]
  },
  {
   "cell_type": "code",
   "execution_count": 195,
   "metadata": {},
   "outputs": [
    {
     "name": "stdout",
     "output_type": "stream",
     "text": [
      "1/1 [==============================] - 0s 27ms/step\n",
      "정답은 ===> 0  예측은 ===> [[0]] 결과는 ===> 맞음\n"
     ]
    },
    {
     "data": {
      "image/png": "[encoded data removed]",
      "text/plain": [
       "<Figure size 432x288 with 1 Axes>"
      ]
     },
     "metadata": {
      "needs_background": "light"
     },
     "output_type": "display_data"
    },
    {
     "name": "stdout",
     "output_type": "stream",
     "text": [
      "1/1 [==============================] - 0s 19ms/step\n",
      "정답은 ===> 0  예측은 ===> [[0]] 결과는 ===> 맞음\n"
     ]
    },
    {
     "data": {
      "image/png": "[encoded data removed]",
      "text/plain": [
       "<Figure size 432x288 with 1 Axes>"
      ]
     },
     "metadata": {
      "needs_background": "light"
     },
     "output_type": "display_data"
    },
    {
     "name": "stdout",
     "output_type": "stream",
     "text": [
      "1/1 [==============================] - 0s 18ms/step\n",
      "정답은 ===> 0  예측은 ===> [[0]] 결과는 ===> 맞음\n"
     ]
    },
    {
     "data": {
      "image/png": "[encoded data removed]",
      "text/plain": [
       "<Figure size 432x288 with 1 Axes>"
      ]
     },
     "metadata": {
      "needs_background": "light"
     },
     "output_type": "display_data"
    },
    {
     "name": "stdout",
     "output_type": "stream",
     "text": [
      "1/1 [==============================] - 0s 17ms/step\n",
      "정답은 ===> 0  예측은 ===> [[0]] 결과는 ===> 맞음\n"
     ]
    },
    {
     "data": {
      "image/png": "[encoded data removed]",
      "text/plain": [
       "<Figure size 432x288 with 1 Axes>"
      ]
     },
     "metadata": {
      "needs_background": "light"
     },
     "output_type": "display_data"
    },
    {
     "name": "stdout",
     "output_type": "stream",
     "text": [
      "1/1 [==============================] - 0s 20ms/step\n",
      "정답은 ===> 0  예측은 ===> [[0]] 결과는 ===> 맞음\n"
     ]
    },
    {
     "data": {
      "image/png": "[encoded data removed]",
      "text/plain": [
       "<Figure size 432x288 with 1 Axes>"
      ]
     },
     "metadata": {
      "needs_background": "light"
     },
     "output_type": "display_data"
    },
    {
     "name": "stdout",
     "output_type": "stream",
     "text": [
      "1/1 [==============================] - 0s 18ms/step\n",
      "정답은 ===> 0  예측은 ===> [[0]] 결과는 ===> 맞음\n"
     ]
    },
    {
     "data": {
      "image/png": "[encoded data removed]",
      "text/plain": [
       "<Figure size 432x288 with 1 Axes>"
      ]
     },
     "metadata": {
      "needs_background": "light"
     },
     "output_type": "display_data"
    },
    {
     "name": "stdout",
     "output_type": "stream",
     "text": [
      "1/1 [==============================] - 0s 18ms/step\n",
      "정답은 ===> 0  예측은 ===> [[0]] 결과는 ===> 맞음\n"
     ]
    },
    {
     "data": {
      "image/png": "[encoded data removed]",
      "text/plain": [
       "<Figure size 432x288 with 1 Axes>"
      ]
     },
     "metadata": {
      "needs_background": "light"
     },
     "output_type": "display_data"
    },
    {
     "name": "stdout",
     "output_type": "stream",
     "text": [
      "1/1 [==============================] - 0s 17ms/step\n",
      "정답은 ===> 1  예측은 ===> [[0]] 결과는 ===> 틀림\n"
     ]
    },
    {
     "data": {
      "image/png": "[encoded data removed]",
      "text/plain": [
       "<Figure size 432x288 with 1 Axes>"
      ]
     },
     "metadata": {
      "needs_background": "light"
     },
     "output_type": "display_data"
    },
    {
     "name": "stdout",
     "output_type": "stream",
     "text": [
      "1/1 [==============================] - 0s 21ms/step\n",
      "정답은 ===> 1  예측은 ===> [[1]] 결과는 ===> 맞음\n"
     ]
    },
    {
     "data": {
      "image/png": "[encoded data removed]",
      "text/plain": [
       "<Figure size 432x288 with 1 Axes>"
      ]
     },
     "metadata": {
      "needs_background": "light"
     },
     "output_type": "display_data"
    },
    {
     "name": "stdout",
     "output_type": "stream",
     "text": [
      "1/1 [==============================] - 0s 18ms/step\n",
      "정답은 ===> 1  예측은 ===> [[1]] 결과는 ===> 맞음\n"
     ]
    },
    {
     "data": {
      "image/png": "[encoded data removed]",
      "text/plain": [
       "<Figure size 432x288 with 1 Axes>"
      ]
     },
     "metadata": {
      "needs_background": "light"
     },
     "output_type": "display_data"
    }
   ],
   "source": [
    "mnist_test1(10)"
   ]
  },
  {
   "cell_type": "code",
   "execution_count": null,
   "metadata": {},
   "outputs": [],
   "source": []
  }
 ],
 "metadata": {
  "kernelspec": {
   "display_name": "Python 3.10.4 ('keras1')",
   "language": "python",
   "name": "python3"
  },
  "language_info": {
   "codemirror_mode": {
    "name": "ipython",
    "version": 3
   },
   "file_extension": ".py",
   "mimetype": "text/x-python",
   "name": "python",
   "nbconvert_exporter": "python",
   "pygments_lexer": "ipython3",
   "version": "3.10.4"
  },
  "orig_nbformat": 4,
  "vscode": {
   "interpreter": {
    "hash": "97d615c32c382542d37f2f9f703f3c770d4a36deabb2babf3fd797ec770d93cb"
   }
  }
 },
 "nbformat": 4,
 "nbformat_minor": 2
}
