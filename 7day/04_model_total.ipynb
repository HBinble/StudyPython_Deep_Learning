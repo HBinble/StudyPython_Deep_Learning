{
 "cells": [
  {
   "cell_type": "code",
   "execution_count": 17,
   "metadata": {},
   "outputs": [],
   "source": [
    "## 기본 모듈\n",
    "import numpy as np\n",
    "import pandas as pd\n",
    "import matplotlib.pyplot as plt\n",
    "import seaborn as sns\n",
    "from sklearn.model_selection import train_test_split\n",
    "\n",
    "## 모듈 import\n",
    "from tensorflow import keras\n",
    "from keras.models import Sequential\n",
    "from keras.layers import Dense\n",
    "from keras.utils import to_categorical, plot_model\n",
    "from keras.datasets import mnist"
   ]
  },
  {
   "cell_type": "markdown",
   "metadata": {},
   "source": [
    "## Model 1"
   ]
  },
  {
   "cell_type": "code",
   "execution_count": 18,
   "metadata": {},
   "outputs": [],
   "source": [
    "# dir(keras.datasets)\n",
    "# dir(keras.layers)\n",
    "# dir(keras.losses)"
   ]
  },
  {
   "cell_type": "code",
   "execution_count": 19,
   "metadata": {},
   "outputs": [],
   "source": [
    "## dataset 정리\n",
    "(X_train_full, y_train_full), (X_test, y_test) = mnist.load_data()\n",
    "X_train, X_val, y_train, y_val = train_test_split(X_train_full, y_train_full, test_size=.2)"
   ]
  },
  {
   "cell_type": "code",
   "execution_count": 20,
   "metadata": {},
   "outputs": [
    {
     "name": "stdout",
     "output_type": "stream",
     "text": [
      "(48000, 28, 28)\n",
      "(48000,)\n"
     ]
    }
   ],
   "source": [
    "print(X_train.shape)\n",
    "print(y_train.shape)"
   ]
  },
  {
   "cell_type": "code",
   "execution_count": 21,
   "metadata": {},
   "outputs": [
    {
     "data": {
      "text/plain": [
       "9"
      ]
     },
     "execution_count": 21,
     "metadata": {},
     "output_type": "execute_result"
    },
    {
     "data": {
      "image/png": "[encoded data removed]",
      "text/plain": [
       "<Figure size 432x288 with 1 Axes>"
      ]
     },
     "metadata": {
      "needs_background": "light"
     },
     "output_type": "display_data"
    }
   ],
   "source": [
    "plt.imshow(X_train[0])\n",
    "y_train[0]"
   ]
  },
  {
   "cell_type": "code",
   "execution_count": 22,
   "metadata": {},
   "outputs": [
    {
     "data": {
      "text/plain": [
       "(48000, 28, 28)"
      ]
     },
     "execution_count": 22,
     "metadata": {},
     "output_type": "execute_result"
    }
   ],
   "source": [
    "X_train.shape"
   ]
  },
  {
   "cell_type": "code",
   "execution_count": 23,
   "metadata": {},
   "outputs": [],
   "source": [
    "# reshape를 하더라도 데이터 변화는 없다.\n",
    "x = X_train.reshape(-1,784*1000)"
   ]
  },
  {
   "cell_type": "code",
   "execution_count": 24,
   "metadata": {},
   "outputs": [],
   "source": [
    "y = x.reshape(48000,28,28)"
   ]
  },
  {
   "cell_type": "code",
   "execution_count": 25,
   "metadata": {},
   "outputs": [
    {
     "data": {
      "text/plain": [
       "<matplotlib.image.AxesImage at 0x23524a75210>"
      ]
     },
     "execution_count": 25,
     "metadata": {},
     "output_type": "execute_result"
    },
    {
     "data": {
      "image/png": "[encoded data removed]",
      "text/plain": [
       "<Figure size 432x288 with 1 Axes>"
      ]
     },
     "metadata": {
      "needs_background": "light"
     },
     "output_type": "display_data"
    }
   ],
   "source": [
    "plt.imshow(y[0])"
   ]
  },
  {
   "cell_type": "code",
   "execution_count": 26,
   "metadata": {},
   "outputs": [],
   "source": [
    "# X 데이터 정리\n",
    "X_train = X_train.reshape(-1,784)\n",
    "X_val = X_val.reshape(-1,784)\n",
    "X_test = X_test.reshape(-1,784)"
   ]
  },
  {
   "cell_type": "code",
   "execution_count": 27,
   "metadata": {},
   "outputs": [],
   "source": [
    "# y 데이터 확인 및 정리\n",
    "np.unique(y_train)\n",
    "np.unique(y_train).size\n",
    "# categorical 데이터 확인\n",
    "# one-hot 변환\n",
    "y_train = to_categorical(y_train)\n",
    "y_val = to_categorical(y_val)\n",
    "y_test = to_categorical(y_test)"
   ]
  },
  {
   "cell_type": "code",
   "execution_count": 28,
   "metadata": {},
   "outputs": [],
   "source": [
    "# np.unique(y_train, return_counts=True)"
   ]
  },
  {
   "cell_type": "code",
   "execution_count": 29,
   "metadata": {},
   "outputs": [],
   "source": [
    "## 모델 생성\n",
    "model1 = Sequential()\n",
    "model1.add(Dense(1024,activation=\"relu\",input_dim=784))\n",
    "model1.add(Dense(512,activation=\"sigmoid\"))\n",
    "model1.add(Dense(10,activation=\"softmax\"))"
   ]
  },
  {
   "cell_type": "code",
   "execution_count": 30,
   "metadata": {},
   "outputs": [
    {
     "name": "stdout",
     "output_type": "stream",
     "text": [
      "Model: \"sequential_1\"\n",
      "_________________________________________________________________\n",
      " Layer (type)                Output Shape              Param #   \n",
      "=================================================================\n",
      " dense_3 (Dense)             (None, 1024)              803840    \n",
      "                                                                 \n",
      " dense_4 (Dense)             (None, 512)               524800    \n",
      "                                                                 \n",
      " dense_5 (Dense)             (None, 10)                5130      \n",
      "                                                                 \n",
      "=================================================================\n",
      "Total params: 1,333,770\n",
      "Trainable params: 1,333,770\n",
      "Non-trainable params: 0\n",
      "_________________________________________________________________\n"
     ]
    }
   ],
   "source": [
    "model1.summary()\n"
   ]
  },
  {
   "cell_type": "code",
   "execution_count": 31,
   "metadata": {},
   "outputs": [],
   "source": [
    "## 모델 설정\n",
    "optimizer = \"sgd\"\n",
    "loss = \"categorical_crossentropy\"\n",
    "metrics = [\"accuracy\"]\n",
    "model1.compile(\n",
    "    optimizer=optimizer,\n",
    "    loss=loss,\n",
    "    metrics=metrics\n",
    ")"
   ]
  },
  {
   "cell_type": "code",
   "execution_count": 32,
   "metadata": {},
   "outputs": [
    {
     "name": "stdout",
     "output_type": "stream",
     "text": [
      "Epoch 1/10\n",
      "1500/1500 [==============================] - 12s 8ms/step - loss: 0.4195 - accuracy: 0.8894 - val_loss: 0.2567 - val_accuracy: 0.9296\n",
      "Epoch 2/10\n",
      "1500/1500 [==============================] - 11s 7ms/step - loss: 0.2060 - accuracy: 0.9429 - val_loss: 0.1961 - val_accuracy: 0.9449\n",
      "Epoch 3/10\n",
      "1500/1500 [==============================] - 12s 8ms/step - loss: 0.1547 - accuracy: 0.9552 - val_loss: 0.1595 - val_accuracy: 0.9545\n",
      "Epoch 4/10\n",
      "1500/1500 [==============================] - 12s 8ms/step - loss: 0.1236 - accuracy: 0.9658 - val_loss: 0.1411 - val_accuracy: 0.9603\n",
      "Epoch 5/10\n",
      "1500/1500 [==============================] - 13s 8ms/step - loss: 0.0987 - accuracy: 0.9718 - val_loss: 0.1219 - val_accuracy: 0.9645\n",
      "Epoch 6/10\n",
      "1500/1500 [==============================] - 13s 8ms/step - loss: 0.0810 - accuracy: 0.9774 - val_loss: 0.1139 - val_accuracy: 0.9671\n",
      "Epoch 7/10\n",
      "1500/1500 [==============================] - 13s 9ms/step - loss: 0.0689 - accuracy: 0.9812 - val_loss: 0.1087 - val_accuracy: 0.9662\n",
      "Epoch 8/10\n",
      "1500/1500 [==============================] - 13s 9ms/step - loss: 0.0571 - accuracy: 0.9845 - val_loss: 0.0996 - val_accuracy: 0.9705\n",
      "Epoch 9/10\n",
      "1500/1500 [==============================] - 13s 9ms/step - loss: 0.0460 - accuracy: 0.9884 - val_loss: 0.0968 - val_accuracy: 0.9707\n",
      "Epoch 10/10\n",
      "1500/1500 [==============================] - 14s 9ms/step - loss: 0.0379 - accuracy: 0.9907 - val_loss: 0.0927 - val_accuracy: 0.9726\n"
     ]
    },
    {
     "data": {
      "text/plain": [
       "<keras.callbacks.History at 0x23524ac2170>"
      ]
     },
     "execution_count": 32,
     "metadata": {},
     "output_type": "execute_result"
    }
   ],
   "source": [
    "## 모델 학습\n",
    "model1.fit(\n",
    "    X_train,\n",
    "    y_train,\n",
    "    epochs = 10,\n",
    "    # batch_size=32,\n",
    "    validation_data = (X_val,y_val)\n",
    ")\n",
    "# batch_size = 32 -> 48000/32 = 1500"
   ]
  },
  {
   "cell_type": "code",
   "execution_count": 33,
   "metadata": {},
   "outputs": [
    {
     "name": "stdout",
     "output_type": "stream",
     "text": [
      "313/313 [==============================] - 1s 4ms/step - loss: 0.0817 - accuracy: 0.9748\n"
     ]
    },
    {
     "data": {
      "text/plain": [
       "[0.08168316632509232, 0.9747999906539917]"
      ]
     },
     "execution_count": 33,
     "metadata": {},
     "output_type": "execute_result"
    }
   ],
   "source": [
    "## test 정확도 검증\n",
    "model1.evaluate(X_test, y_test)"
   ]
  },
  {
   "cell_type": "code",
   "execution_count": 34,
   "metadata": {},
   "outputs": [],
   "source": [
    "# np.sum((np.argmax(model1.predict(X_test),axis=1) == np.argmax(y_test,axis=1))/y_test.size)"
   ]
  },
  {
   "cell_type": "code",
   "execution_count": 35,
   "metadata": {},
   "outputs": [
    {
     "name": "stdout",
     "output_type": "stream",
     "text": [
      "313/313 [==============================] - 1s 4ms/step\n"
     ]
    },
    {
     "data": {
      "text/plain": [
       "0.9748"
      ]
     },
     "execution_count": 35,
     "metadata": {},
     "output_type": "execute_result"
    }
   ],
   "source": [
    "np.sum(np.argmax(y_test,axis=1) == np.argmax(model1.predict(X_test),axis=1))/len(y_test)"
   ]
  },
  {
   "cell_type": "code",
   "execution_count": 36,
   "metadata": {},
   "outputs": [],
   "source": [
    "## 활용\n",
    "def mnist_test(x):\n",
    "    ind = np.random.choice(np.arange(len(X_test)),x, replace=False)\n",
    "    size = x\n",
    "    score = 0\n",
    "    for i in ind:\n",
    "        plt.imshow(X_test[i].reshape(28,28))\n",
    "        pred = np.argmax(model1.predict(X_test[[i]]))\n",
    "        real = np.argmax(y_test[i])\n",
    "        if pred == real:\n",
    "            result = \"맞음\"\n",
    "            score += 1\n",
    "        else:\n",
    "            result = \"틀림\"\n",
    "        score = (score/size)*100\n",
    "        print(f\"정답은 ===> {real}  예측은 ===> {pred}  결과는 ===> {result} \")\n",
    "        plt.show()\n",
    "    print(\"\\n\",f\"총 {size}를 예측한 결과 예측률은{score} %\")"
   ]
  },
  {
   "cell_type": "code",
   "execution_count": 37,
   "metadata": {},
   "outputs": [
    {
     "name": "stdout",
     "output_type": "stream",
     "text": [
      "1/1 [==============================] - 0s 21ms/step\n",
      "정답은 ===> 6  예측은 ===> 6  결과는 ===> 맞음 \n"
     ]
    },
    {
     "data": {
      "image/png": "[encoded data removed]",
      "text/plain": [
       "<Figure size 432x288 with 1 Axes>"
      ]
     },
     "metadata": {
      "needs_background": "light"
     },
     "output_type": "display_data"
    },
    {
     "name": "stdout",
     "output_type": "stream",
     "text": [
      "1/1 [==============================] - 0s 18ms/step\n",
      "정답은 ===> 4  예측은 ===> 4  결과는 ===> 맞음 \n"
     ]
    },
    {
     "data": {
      "image/png": "[encoded data removed]",
      "text/plain": [
       "<Figure size 432x288 with 1 Axes>"
      ]
     },
     "metadata": {
      "needs_background": "light"
     },
     "output_type": "display_data"
    },
    {
     "name": "stdout",
     "output_type": "stream",
     "text": [
      "1/1 [==============================] - 0s 17ms/step\n",
      "정답은 ===> 0  예측은 ===> 0  결과는 ===> 맞음 \n"
     ]
    },
    {
     "data": {
      "image/png": "[encoded data removed]",
      "text/plain": [
       "<Figure size 432x288 with 1 Axes>"
      ]
     },
     "metadata": {
      "needs_background": "light"
     },
     "output_type": "display_data"
    },
    {
     "name": "stdout",
     "output_type": "stream",
     "text": [
      "1/1 [==============================] - 0s 17ms/step\n",
      "정답은 ===> 1  예측은 ===> 1  결과는 ===> 맞음 \n"
     ]
    },
    {
     "data": {
      "image/png": "[encoded data removed]",
      "text/plain": [
       "<Figure size 432x288 with 1 Axes>"
      ]
     },
     "metadata": {
      "needs_background": "light"
     },
     "output_type": "display_data"
    },
    {
     "name": "stdout",
     "output_type": "stream",
     "text": [
      "1/1 [==============================] - 0s 19ms/step\n",
      "정답은 ===> 3  예측은 ===> 3  결과는 ===> 맞음 \n"
     ]
    },
    {
     "data": {
      "image/png": "[encoded data removed]",
      "text/plain": [
       "<Figure size 432x288 with 1 Axes>"
      ]
     },
     "metadata": {
      "needs_background": "light"
     },
     "output_type": "display_data"
    },
    {
     "name": "stdout",
     "output_type": "stream",
     "text": [
      "1/1 [==============================] - 0s 18ms/step\n",
      "정답은 ===> 7  예측은 ===> 7  결과는 ===> 맞음 \n"
     ]
    },
    {
     "data": {
      "image/png": "[encoded data removed]",
      "text/plain": [
       "<Figure size 432x288 with 1 Axes>"
      ]
     },
     "metadata": {
      "needs_background": "light"
     },
     "output_type": "display_data"
    },
    {
     "name": "stdout",
     "output_type": "stream",
     "text": [
      "1/1 [==============================] - 0s 16ms/step\n",
      "정답은 ===> 5  예측은 ===> 5  결과는 ===> 맞음 \n"
     ]
    },
    {
     "data": {
      "image/png": "[encoded data removed]",
      "text/plain": [
       "<Figure size 432x288 with 1 Axes>"
      ]
     },
     "metadata": {
      "needs_background": "light"
     },
     "output_type": "display_data"
    },
    {
     "name": "stdout",
     "output_type": "stream",
     "text": [
      "1/1 [==============================] - 0s 18ms/step\n",
      "정답은 ===> 4  예측은 ===> 4  결과는 ===> 맞음 \n"
     ]
    },
    {
     "data": {
      "image/png": "[encoded data removed]",
      "text/plain": [
       "<Figure size 432x288 with 1 Axes>"
      ]
     },
     "metadata": {
      "needs_background": "light"
     },
     "output_type": "display_data"
    },
    {
     "name": "stdout",
     "output_type": "stream",
     "text": [
      "1/1 [==============================] - 0s 17ms/step\n",
      "정답은 ===> 1  예측은 ===> 1  결과는 ===> 맞음 \n"
     ]
    },
    {
     "data": {
      "image/png": "[encoded data removed]",
      "text/plain": [
       "<Figure size 432x288 with 1 Axes>"
      ]
     },
     "metadata": {
      "needs_background": "light"
     },
     "output_type": "display_data"
    },
    {
     "name": "stdout",
     "output_type": "stream",
     "text": [
      "1/1 [==============================] - 0s 17ms/step\n",
      "정답은 ===> 5  예측은 ===> 5  결과는 ===> 맞음 \n"
     ]
    },
    {
     "data": {
      "image/png": "[encoded data removed]",
      "text/plain": [
       "<Figure size 432x288 with 1 Axes>"
      ]
     },
     "metadata": {
      "needs_background": "light"
     },
     "output_type": "display_data"
    },
    {
     "name": "stdout",
     "output_type": "stream",
     "text": [
      "\n",
      " 총 10를 예측한 결과 예측률은11111111110.000002 %\n"
     ]
    }
   ],
   "source": [
    "mnist_test(10)"
   ]
  },
  {
   "cell_type": "markdown",
   "metadata": {},
   "source": [
    "## Model 2"
   ]
  },
  {
   "cell_type": "code",
   "execution_count": 38,
   "metadata": {},
   "outputs": [],
   "source": [
    "## dataset 정리\n",
    "(X_train_full, y_train_full), (X_test, y_test) = mnist.load_data()"
   ]
  },
  {
   "cell_type": "code",
   "execution_count": 39,
   "metadata": {},
   "outputs": [],
   "source": [
    "y_train_full = np.where((y_train_full == 1) | (y_train_full == 7) | (y_train_full == 9)\n",
    "                        ,1,0)"
   ]
  },
  {
   "cell_type": "code",
   "execution_count": 40,
   "metadata": {},
   "outputs": [],
   "source": [
    "y_test = np.where((y_test == 1) | (y_test == 7) | (y_test == 9)\n",
    "                    ,1,0)"
   ]
  },
  {
   "cell_type": "code",
   "execution_count": 41,
   "metadata": {},
   "outputs": [],
   "source": [
    "X_train, X_val, y_train, y_val = train_test_split(X_train_full, y_train_full, test_size=.2)"
   ]
  },
  {
   "cell_type": "code",
   "execution_count": 42,
   "metadata": {},
   "outputs": [
    {
     "name": "stdout",
     "output_type": "stream",
     "text": [
      "(48000, 28, 28)\n",
      "(12000, 28, 28)\n",
      "(48000,)\n",
      "(12000,)\n"
     ]
    }
   ],
   "source": [
    "print(X_train.shape)\n",
    "print(X_val.shape)\n",
    "print(y_train.shape)\n",
    "print(y_val.shape)"
   ]
  },
  {
   "cell_type": "code",
   "execution_count": 43,
   "metadata": {},
   "outputs": [],
   "source": [
    "X_train = X_train.reshape(-1,28*28)\n",
    "X_val = X_val.reshape(-1,28*28)\n",
    "X_test = X_test.reshape(-1,28*28)"
   ]
  },
  {
   "cell_type": "code",
   "execution_count": 44,
   "metadata": {},
   "outputs": [
    {
     "data": {
      "text/plain": [
       "array([0, 1])"
      ]
     },
     "execution_count": 44,
     "metadata": {},
     "output_type": "execute_result"
    }
   ],
   "source": [
    "np.unique(y_train)"
   ]
  },
  {
   "cell_type": "code",
   "execution_count": 45,
   "metadata": {},
   "outputs": [],
   "source": [
    "model2 = Sequential()\n",
    "model2.add(Dense(1024,activation=\"relu\",input_shape=(784,)))\n",
    "model2.add(keras.layers.BatchNormalization())\n",
    "model2.add(keras.layers.Dense(512,activation=\"sigmoid\"))\n",
    "model2.add(keras.layers.Dense(1,activation=\"sigmoid\"))"
   ]
  },
  {
   "cell_type": "code",
   "execution_count": 46,
   "metadata": {},
   "outputs": [
    {
     "name": "stdout",
     "output_type": "stream",
     "text": [
      "Model: \"sequential_2\"\n",
      "_________________________________________________________________\n",
      " Layer (type)                Output Shape              Param #   \n",
      "=================================================================\n",
      " dense_6 (Dense)             (None, 1024)              803840    \n",
      "                                                                 \n",
      " batch_normalization (BatchN  (None, 1024)             4096      \n",
      " ormalization)                                                   \n",
      "                                                                 \n",
      " dense_7 (Dense)             (None, 512)               524800    \n",
      "                                                                 \n",
      " dense_8 (Dense)             (None, 1)                 513       \n",
      "                                                                 \n",
      "=================================================================\n",
      "Total params: 1,333,249\n",
      "Trainable params: 1,331,201\n",
      "Non-trainable params: 2,048\n",
      "_________________________________________________________________\n"
     ]
    }
   ],
   "source": [
    "model2.summary()"
   ]
  },
  {
   "cell_type": "code",
   "execution_count": 47,
   "metadata": {},
   "outputs": [],
   "source": [
    "## 모델 설정\n",
    "model2.compile(optimizer=\"sgd\",\n",
    "                loss=\"binary_crossentropy\",\n",
    "                metrics=[\"accuracy\"])\n",
    "\n",
    "# model2.compile(optimizer=keras.optimizers.SGD(),\n",
    "#                 loss=keras.losses.BinaryCrossentropy(),\n",
    "#                 metrics=[\"accuracy\"])"
   ]
  },
  {
   "cell_type": "code",
   "execution_count": 48,
   "metadata": {},
   "outputs": [
    {
     "data": {
      "text/plain": [
       "(12000, 784)"
      ]
     },
     "execution_count": 48,
     "metadata": {},
     "output_type": "execute_result"
    }
   ],
   "source": [
    "X_val.shape"
   ]
  },
  {
   "cell_type": "code",
   "execution_count": 49,
   "metadata": {},
   "outputs": [
    {
     "name": "stdout",
     "output_type": "stream",
     "text": [
      "Epoch 1/10\n",
      "120/120 [==============================] - 5s 36ms/step - loss: 0.3751 - accuracy: 0.8496 - val_loss: 0.2535 - val_accuracy: 0.8988\n",
      "Epoch 2/10\n",
      "120/120 [==============================] - 4s 37ms/step - loss: 0.2149 - accuracy: 0.9346 - val_loss: 0.1871 - val_accuracy: 0.9394\n",
      "Epoch 3/10\n",
      "120/120 [==============================] - 4s 35ms/step - loss: 0.1720 - accuracy: 0.9472 - val_loss: 0.1609 - val_accuracy: 0.9481\n",
      "Epoch 4/10\n",
      "120/120 [==============================] - 4s 35ms/step - loss: 0.1495 - accuracy: 0.9535 - val_loss: 0.1451 - val_accuracy: 0.9537\n",
      "Epoch 5/10\n",
      "120/120 [==============================] - 4s 36ms/step - loss: 0.1350 - accuracy: 0.9575 - val_loss: 0.1333 - val_accuracy: 0.9571\n",
      "Epoch 6/10\n",
      "120/120 [==============================] - 4s 35ms/step - loss: 0.1244 - accuracy: 0.9608 - val_loss: 0.1248 - val_accuracy: 0.9602\n",
      "Epoch 7/10\n",
      "120/120 [==============================] - 4s 36ms/step - loss: 0.1163 - accuracy: 0.9632 - val_loss: 0.1182 - val_accuracy: 0.9621\n",
      "Epoch 8/10\n",
      "120/120 [==============================] - 4s 35ms/step - loss: 0.1103 - accuracy: 0.9650 - val_loss: 0.1126 - val_accuracy: 0.9647\n",
      "Epoch 9/10\n",
      "120/120 [==============================] - 4s 36ms/step - loss: 0.1046 - accuracy: 0.9666 - val_loss: 0.1080 - val_accuracy: 0.9645\n",
      "Epoch 10/10\n",
      "120/120 [==============================] - 4s 35ms/step - loss: 0.1005 - accuracy: 0.9678 - val_loss: 0.1043 - val_accuracy: 0.9655\n"
     ]
    },
    {
     "data": {
      "text/plain": [
       "<keras.callbacks.History at 0x23518eb8c70>"
      ]
     },
     "execution_count": 49,
     "metadata": {},
     "output_type": "execute_result"
    }
   ],
   "source": [
    "## 모델 학습\n",
    "model2.fit(\n",
    "    X_train,\n",
    "    y_train,\n",
    "    epochs = 10,\n",
    "    batch_size=400,\n",
    "    validation_data = (X_val,y_val),\n",
    "    verbose=1\n",
    ")"
   ]
  },
  {
   "cell_type": "code",
   "execution_count": 50,
   "metadata": {},
   "outputs": [
    {
     "name": "stdout",
     "output_type": "stream",
     "text": [
      "313/313 [==============================] - 1s 4ms/step - loss: 0.1025 - accuracy: 0.9683\n"
     ]
    },
    {
     "data": {
      "text/plain": [
       "[0.10251104831695557, 0.9682999849319458]"
      ]
     },
     "execution_count": 50,
     "metadata": {},
     "output_type": "execute_result"
    }
   ],
   "source": [
    "model2.evaluate(X_test, y_test)"
   ]
  },
  {
   "cell_type": "code",
   "execution_count": 51,
   "metadata": {},
   "outputs": [],
   "source": [
    "def mnist_test1(x):\n",
    "    ind = np.random.choice(np.arange(len(X_test)),x,replace=False)\n",
    "    size = x\n",
    "    score = 0\n",
    "    for i in ind:\n",
    "        plt.imshow(X_test[i].reshape(28,28))\n",
    "        pred = np.where(model2.predict(X_test[[i]]) >0.5,1,0)\n",
    "        real = np.where(y_test[i]>0.5,1,0)\n",
    "        if pred == real:\n",
    "            result = '맞음'\n",
    "            score += 1\n",
    "        else:\n",
    "            result = '틀림'\n",
    "        score = (score/size)*100\n",
    "        print(f'정답은 ===> {real}  예측은 ===> {pred} 결과는 ===> {result}')\n",
    "        plt.show()"
   ]
  },
  {
   "cell_type": "code",
   "execution_count": 52,
   "metadata": {},
   "outputs": [
    {
     "name": "stdout",
     "output_type": "stream",
     "text": [
      "1/1 [==============================] - 0s 73ms/step\n"
     ]
    },
    {
     "data": {
      "text/plain": [
       "array([[0.98567665]], dtype=float32)"
      ]
     },
     "execution_count": 52,
     "metadata": {},
     "output_type": "execute_result"
    }
   ],
   "source": [
    "model2.predict(X_test[0:1])"
   ]
  },
  {
   "cell_type": "code",
   "execution_count": 53,
   "metadata": {},
   "outputs": [
    {
     "name": "stdout",
     "output_type": "stream",
     "text": [
      "1/1 [==============================] - 0s 18ms/step\n",
      "정답은 ===> 1  예측은 ===> [[1]] 결과는 ===> 맞음\n"
     ]
    },
    {
     "data": {
      "image/png": "[encoded data removed]",
      "text/plain": [
       "<Figure size 432x288 with 1 Axes>"
      ]
     },
     "metadata": {
      "needs_background": "light"
     },
     "output_type": "display_data"
    },
    {
     "name": "stdout",
     "output_type": "stream",
     "text": [
      "1/1 [==============================] - 0s 19ms/step\n",
      "정답은 ===> 0  예측은 ===> [[0]] 결과는 ===> 맞음\n"
     ]
    },
    {
     "data": {
      "image/png": "[encoded data removed]",
      "text/plain": [
       "<Figure size 432x288 with 1 Axes>"
      ]
     },
     "metadata": {
      "needs_background": "light"
     },
     "output_type": "display_data"
    },
    {
     "name": "stdout",
     "output_type": "stream",
     "text": [
      "1/1 [==============================] - 0s 19ms/step\n",
      "정답은 ===> 1  예측은 ===> [[1]] 결과는 ===> 맞음\n"
     ]
    },
    {
     "data": {
      "image/png": "[encoded data removed]",
      "text/plain": [
       "<Figure size 432x288 with 1 Axes>"
      ]
     },
     "metadata": {
      "needs_background": "light"
     },
     "output_type": "display_data"
    },
    {
     "name": "stdout",
     "output_type": "stream",
     "text": [
      "1/1 [==============================] - 0s 19ms/step\n",
      "정답은 ===> 1  예측은 ===> [[1]] 결과는 ===> 맞음\n"
     ]
    },
    {
     "data": {
      "image/png": "[encoded data removed]",
      "text/plain": [
       "<Figure size 432x288 with 1 Axes>"
      ]
     },
     "metadata": {
      "needs_background": "light"
     },
     "output_type": "display_data"
    },
    {
     "name": "stdout",
     "output_type": "stream",
     "text": [
      "1/1 [==============================] - 0s 18ms/step\n",
      "정답은 ===> 0  예측은 ===> [[0]] 결과는 ===> 맞음\n"
     ]
    },
    {
     "data": {
      "image/png": "[encoded data removed]",
      "text/plain": [
       "<Figure size 432x288 with 1 Axes>"
      ]
     },
     "metadata": {
      "needs_background": "light"
     },
     "output_type": "display_data"
    },
    {
     "name": "stdout",
     "output_type": "stream",
     "text": [
      "1/1 [==============================] - 0s 17ms/step\n",
      "정답은 ===> 0  예측은 ===> [[0]] 결과는 ===> 맞음\n"
     ]
    },
    {
     "data": {
      "image/png": "[encoded data removed]",
      "text/plain": [
       "<Figure size 432x288 with 1 Axes>"
      ]
     },
     "metadata": {
      "needs_background": "light"
     },
     "output_type": "display_data"
    },
    {
     "name": "stdout",
     "output_type": "stream",
     "text": [
      "1/1 [==============================] - 0s 17ms/step\n",
      "정답은 ===> 1  예측은 ===> [[1]] 결과는 ===> 맞음\n"
     ]
    },
    {
     "data": {
      "image/png": "[encoded data removed]",
      "text/plain": [
       "<Figure size 432x288 with 1 Axes>"
      ]
     },
     "metadata": {
      "needs_background": "light"
     },
     "output_type": "display_data"
    },
    {
     "name": "stdout",
     "output_type": "stream",
     "text": [
      "1/1 [==============================] - 0s 17ms/step\n",
      "정답은 ===> 0  예측은 ===> [[0]] 결과는 ===> 맞음\n"
     ]
    },
    {
     "data": {
      "image/png": "[encoded data removed]",
      "text/plain": [
       "<Figure size 432x288 with 1 Axes>"
      ]
     },
     "metadata": {
      "needs_background": "light"
     },
     "output_type": "display_data"
    },
    {
     "name": "stdout",
     "output_type": "stream",
     "text": [
      "1/1 [==============================] - 0s 18ms/step\n",
      "정답은 ===> 0  예측은 ===> [[0]] 결과는 ===> 맞음\n"
     ]
    },
    {
     "data": {
      "image/png": "[encoded data removed]",
      "text/plain": [
       "<Figure size 432x288 with 1 Axes>"
      ]
     },
     "metadata": {
      "needs_background": "light"
     },
     "output_type": "display_data"
    },
    {
     "name": "stdout",
     "output_type": "stream",
     "text": [
      "1/1 [==============================] - 0s 17ms/step\n",
      "정답은 ===> 0  예측은 ===> [[0]] 결과는 ===> 맞음\n"
     ]
    },
    {
     "data": {
      "image/png": "[encoded data removed]",
      "text/plain": [
       "<Figure size 432x288 with 1 Axes>"
      ]
     },
     "metadata": {
      "needs_background": "light"
     },
     "output_type": "display_data"
    }
   ],
   "source": [
    "mnist_test1(10)"
   ]
  },
  {
   "cell_type": "markdown",
   "metadata": {},
   "source": [
    "## Model 3"
   ]
  },
  {
   "cell_type": "code",
   "execution_count": 54,
   "metadata": {},
   "outputs": [],
   "source": [
    "from tensorflow import keras\n",
    "from keras.models import Sequential, Model\n",
    "from keras.layers import Dense, Input\n",
    "from keras.optimizers import RMSprop\n",
    "from keras.losses import CategoricalCrossentropy"
   ]
  },
  {
   "cell_type": "code",
   "execution_count": 55,
   "metadata": {},
   "outputs": [],
   "source": [
    "# 데이터 수집\n",
    "(X_train_full, y_train_full), (X_test, y_test) = mnist.load_data()"
   ]
  },
  {
   "cell_type": "code",
   "execution_count": 56,
   "metadata": {},
   "outputs": [
    {
     "name": "stdout",
     "output_type": "stream",
     "text": [
      "(60000, 28, 28)\n",
      "(60000,)\n",
      "10\n"
     ]
    }
   ],
   "source": [
    "print(X_train_full.shape)\n",
    "print(y_train_full.shape)\n",
    "print(np.unique(y_train_full).size)"
   ]
  },
  {
   "cell_type": "code",
   "execution_count": 57,
   "metadata": {},
   "outputs": [],
   "source": [
    "X_train, X_val, y_train, y_val = train_test_split(X_train_full, y_train_full)"
   ]
  },
  {
   "cell_type": "code",
   "execution_count": 58,
   "metadata": {},
   "outputs": [],
   "source": [
    "x1 = X_train.shape[1]\n",
    "x2 = X_train.shape[2]\n",
    "X_train = X_train.reshape(-1,x1*x2)\n",
    "X_val = X_val.reshape(-1,x1*x2)\n",
    "X_test = X_test.reshape(-1,x1*x2)"
   ]
  },
  {
   "cell_type": "code",
   "execution_count": 59,
   "metadata": {},
   "outputs": [],
   "source": [
    "y_train = to_categorical(y_train)\n",
    "y_test = to_categorical(y_test)\n",
    "y_val = to_categorical(y_val)"
   ]
  },
  {
   "cell_type": "code",
   "execution_count": 60,
   "metadata": {},
   "outputs": [
    {
     "name": "stdout",
     "output_type": "stream",
     "text": [
      "(784,)\n",
      "10\n"
     ]
    }
   ],
   "source": [
    "input_shape = X_train.shape[1:]\n",
    "output_shape = y_train.shape[1]\n",
    "print(input_shape)\n",
    "print(output_shape)"
   ]
  },
  {
   "cell_type": "code",
   "execution_count": 61,
   "metadata": {},
   "outputs": [],
   "source": [
    "model1 = Sequential()\n",
    "model1.add(Dense(1024,activation='relu',input_shape=input_shape))\n",
    "model1.add(Dense(512,activation='relu'))\n",
    "model1.add(Dense(output_shape,activation='softmax'))"
   ]
  },
  {
   "cell_type": "code",
   "execution_count": 62,
   "metadata": {},
   "outputs": [],
   "source": [
    "model2 = Sequential(\n",
    "    [\n",
    "        Dense(1024,activation='relu',input_shape=input_shape),\n",
    "        Dense(512,activation='relu'),\n",
    "        Dense(output_shape,activation='softmax')\n",
    "    ]\n",
    ")"
   ]
  },
  {
   "cell_type": "code",
   "execution_count": 63,
   "metadata": {},
   "outputs": [],
   "source": [
    "input_ = Input(shape=input_shape)\n",
    "l1 = Dense(1024,activation='relu')(input_)\n",
    "l2 = Dense(512,activation='relu')(l1)\n",
    "output_ = Dense(output_shape,activation='softmax')(l2)\n",
    "\n",
    "model3 = Model(inputs=[input_],outputs=[output_])"
   ]
  },
  {
   "cell_type": "code",
   "execution_count": 64,
   "metadata": {},
   "outputs": [],
   "source": [
    "optimizer = RMSprop()\n",
    "loss = CategoricalCrossentropy()\n",
    "metrics = ['accuracy']"
   ]
  },
  {
   "cell_type": "code",
   "execution_count": 65,
   "metadata": {},
   "outputs": [],
   "source": [
    "model1.compile(optimizer=optimizer,\n",
    "              loss =loss,\n",
    "              metrics=metrics)\n",
    "model2.compile(optimizer=optimizer,\n",
    "              loss =loss,\n",
    "              metrics=metrics)\n",
    "model3.compile(optimizer=optimizer,\n",
    "              loss =loss,\n",
    "              metrics=metrics)"
   ]
  },
  {
   "cell_type": "code",
   "execution_count": 66,
   "metadata": {},
   "outputs": [
    {
     "name": "stdout",
     "output_type": "stream",
     "text": [
      "Epoch 1/10\n",
      "113/113 [==============================] - 5s 38ms/step - loss: 15.6507 - accuracy: 0.8403 - val_loss: 0.8985 - val_accuracy: 0.9051\n",
      "Epoch 2/10\n",
      "113/113 [==============================] - 4s 38ms/step - loss: 0.5255 - accuracy: 0.9337 - val_loss: 0.3836 - val_accuracy: 0.9372\n",
      "Epoch 3/10\n",
      "113/113 [==============================] - 4s 37ms/step - loss: 0.3021 - accuracy: 0.9514 - val_loss: 0.5030 - val_accuracy: 0.9368\n",
      "Epoch 4/10\n",
      "113/113 [==============================] - 4s 38ms/step - loss: 0.2360 - accuracy: 0.9617 - val_loss: 0.4331 - val_accuracy: 0.9385\n",
      "Epoch 5/10\n",
      "113/113 [==============================] - 4s 38ms/step - loss: 0.2104 - accuracy: 0.9671 - val_loss: 0.3874 - val_accuracy: 0.9558\n",
      "Epoch 6/10\n",
      "113/113 [==============================] - 4s 39ms/step - loss: 0.1702 - accuracy: 0.9730 - val_loss: 1.0273 - val_accuracy: 0.9161\n",
      "Epoch 7/10\n",
      "113/113 [==============================] - 4s 37ms/step - loss: 0.1754 - accuracy: 0.9764 - val_loss: 0.5113 - val_accuracy: 0.9506\n",
      "Epoch 8/10\n",
      "113/113 [==============================] - 4s 38ms/step - loss: 0.1518 - accuracy: 0.9800 - val_loss: 0.4056 - val_accuracy: 0.9639\n",
      "Epoch 9/10\n",
      "113/113 [==============================] - 4s 37ms/step - loss: 0.1328 - accuracy: 0.9817 - val_loss: 0.6148 - val_accuracy: 0.9516\n",
      "Epoch 10/10\n",
      "113/113 [==============================] - 4s 37ms/step - loss: 0.1463 - accuracy: 0.9824 - val_loss: 0.3284 - val_accuracy: 0.9733\n",
      "Epoch 1/10\n",
      "113/113 [==============================] - 5s 40ms/step - loss: 14.6861 - accuracy: 0.8488 - val_loss: 0.6889 - val_accuracy: 0.9259\n",
      "Epoch 2/10\n",
      "113/113 [==============================] - 4s 37ms/step - loss: 0.5312 - accuracy: 0.9324 - val_loss: 1.0074 - val_accuracy: 0.8763\n",
      "Epoch 3/10\n",
      "113/113 [==============================] - 4s 38ms/step - loss: 0.3028 - accuracy: 0.9518 - val_loss: 0.3293 - val_accuracy: 0.9479\n",
      "Epoch 4/10\n",
      "113/113 [==============================] - 4s 37ms/step - loss: 0.2235 - accuracy: 0.9631 - val_loss: 0.3430 - val_accuracy: 0.9541\n",
      "Epoch 5/10\n",
      "113/113 [==============================] - 4s 39ms/step - loss: 0.1904 - accuracy: 0.9691 - val_loss: 0.3610 - val_accuracy: 0.9546\n",
      "Epoch 6/10\n",
      "113/113 [==============================] - 5s 40ms/step - loss: 0.1857 - accuracy: 0.9706 - val_loss: 0.5327 - val_accuracy: 0.9466\n",
      "Epoch 7/10\n",
      "113/113 [==============================] - 4s 38ms/step - loss: 0.1589 - accuracy: 0.9767 - val_loss: 0.4042 - val_accuracy: 0.9561\n",
      "Epoch 8/10\n",
      "113/113 [==============================] - 4s 37ms/step - loss: 0.1414 - accuracy: 0.9780 - val_loss: 0.3055 - val_accuracy: 0.9651\n",
      "Epoch 9/10\n",
      "113/113 [==============================] - 4s 38ms/step - loss: 0.1479 - accuracy: 0.9802 - val_loss: 0.3862 - val_accuracy: 0.9681\n",
      "Epoch 10/10\n",
      "113/113 [==============================] - 4s 37ms/step - loss: 0.1266 - accuracy: 0.9837 - val_loss: 0.3606 - val_accuracy: 0.9729\n",
      "Epoch 1/10\n",
      "113/113 [==============================] - 5s 39ms/step - loss: 18.4108 - accuracy: 0.8346 - val_loss: 0.9687 - val_accuracy: 0.9038\n",
      "Epoch 2/10\n",
      "113/113 [==============================] - 4s 37ms/step - loss: 0.5064 - accuracy: 0.9304 - val_loss: 0.3889 - val_accuracy: 0.9325\n",
      "Epoch 3/10\n",
      "113/113 [==============================] - 4s 38ms/step - loss: 0.2596 - accuracy: 0.9554 - val_loss: 0.4414 - val_accuracy: 0.9305\n",
      "Epoch 4/10\n",
      "113/113 [==============================] - 4s 38ms/step - loss: 0.2079 - accuracy: 0.9624 - val_loss: 0.3038 - val_accuracy: 0.9552\n",
      "Epoch 5/10\n",
      "113/113 [==============================] - 4s 37ms/step - loss: 0.1743 - accuracy: 0.9698 - val_loss: 0.4242 - val_accuracy: 0.9556\n",
      "Epoch 6/10\n",
      "113/113 [==============================] - 4s 39ms/step - loss: 0.1622 - accuracy: 0.9742 - val_loss: 0.3894 - val_accuracy: 0.9594\n",
      "Epoch 7/10\n",
      "113/113 [==============================] - 4s 38ms/step - loss: 0.1384 - accuracy: 0.9778 - val_loss: 0.3504 - val_accuracy: 0.9643\n",
      "Epoch 8/10\n",
      "113/113 [==============================] - 4s 39ms/step - loss: 0.1216 - accuracy: 0.9814 - val_loss: 0.4077 - val_accuracy: 0.9593\n",
      "Epoch 9/10\n",
      "113/113 [==============================] - 4s 39ms/step - loss: 0.1288 - accuracy: 0.9815 - val_loss: 0.4356 - val_accuracy: 0.9617\n",
      "Epoch 10/10\n",
      "113/113 [==============================] - 4s 37ms/step - loss: 0.1319 - accuracy: 0.9835 - val_loss: 0.4568 - val_accuracy: 0.9605\n",
      "313/313 [==============================] - 1s 4ms/step - loss: 0.2840 - accuracy: 0.9754\n",
      "313/313 [==============================] - 1s 4ms/step - loss: 0.2840 - accuracy: 0.9754\n",
      "313/313 [==============================] - 1s 4ms/step - loss: 0.2840 - accuracy: 0.9754\n"
     ]
    }
   ],
   "source": [
    "model1.fit(X_train,\n",
    "          y_train,\n",
    "          epochs=10,\n",
    "          batch_size=400,\n",
    "          validation_data=(X_val,y_val))\n",
    "model2.fit(X_train,\n",
    "          y_train,\n",
    "          epochs=10,\n",
    "          batch_size=400,\n",
    "          validation_data=(X_val,y_val))\n",
    "model3.fit(X_train,\n",
    "          y_train,\n",
    "          epochs=10,\n",
    "          batch_size=400,\n",
    "          validation_data=(X_val,y_val))\n",
    "model1_result = model1.evaluate(X_test,y_test)\n",
    "model2_result = model1.evaluate(X_test,y_test)\n",
    "model3_result = model1.evaluate(X_test,y_test)"
   ]
  },
  {
   "cell_type": "code",
   "execution_count": 67,
   "metadata": {},
   "outputs": [],
   "source": [
    "###"
   ]
  },
  {
   "cell_type": "code",
   "execution_count": 68,
   "metadata": {},
   "outputs": [],
   "source": [
    "input_shape = X_train.shape[1:]\n",
    "output_shape = y_train.shape[1]\n",
    "model1 = Sequential()\n",
    "l1 = Dense(1024, input_shape=input_shape,activation=\"sigmoid\")\n",
    "l2 = Dense(512, activation=\"sigmoid\")\n",
    "out = Dense(output_shape, activation=\"softmax\")\n",
    "model1.add(l1)\n",
    "model1.add(l2)\n",
    "model1.add(out)\n",
    "\n",
    "model2 = Sequential(\n",
    "    [\n",
    "        l1,\n",
    "        l2,\n",
    "        out\n",
    "    ]\n",
    ")\n",
    "\n",
    "input_ = Input(shape=input_shape)\n",
    "layer1 = l1(input_)\n",
    "layer2 = l2(layer1)\n",
    "output = out(layer2)\n",
    "\n",
    "model3 = Model(inputs=[input_], outputs=[output])"
   ]
  },
  {
   "cell_type": "code",
   "execution_count": 69,
   "metadata": {},
   "outputs": [
    {
     "data": {
      "text/plain": [
       "[array([[ 0.02733324, -0.01844987,  0.01520354, ..., -0.03895098,\n",
       "          0.03378566, -0.00515089],\n",
       "        [ 0.02083967, -0.00049322,  0.02888338, ...,  0.05198931,\n",
       "         -0.04716563, -0.01569875],\n",
       "        [-0.05253635, -0.04657527,  0.01363757, ..., -0.04069182,\n",
       "         -0.04675782,  0.03025938],\n",
       "        ...,\n",
       "        [-0.00631895, -0.05696465,  0.00383061, ..., -0.03452928,\n",
       "         -0.021409  , -0.02652087],\n",
       "        [-0.01658113,  0.02168145,  0.0387498 , ...,  0.01947442,\n",
       "         -0.01381716,  0.00960869],\n",
       "        [-0.05092891, -0.0138766 ,  0.04026165, ..., -0.0447078 ,\n",
       "          0.02044844, -0.05352367]], dtype=float32),\n",
       " array([0., 0., 0., ..., 0., 0., 0.], dtype=float32)]"
      ]
     },
     "execution_count": 69,
     "metadata": {},
     "output_type": "execute_result"
    }
   ],
   "source": [
    "model1.layers[0].get_weights()"
   ]
  },
  {
   "cell_type": "code",
   "execution_count": 70,
   "metadata": {},
   "outputs": [],
   "source": [
    "model2.layers[0].set_weights([model1.layers[0].get_weights()[0],\n",
    "                            model1.layers[0].get_weights()[1]])"
   ]
  },
  {
   "cell_type": "code",
   "execution_count": 71,
   "metadata": {},
   "outputs": [],
   "source": [
    "for i in range(len(model1.layers)):\n",
    "    model2.layers[i].set_weights([model1.layers[i].get_weights()[0],\n",
    "                                model1.layers[i].get_weights()[1]])\n",
    "    model3.layers[i+1].set_weights([model1.layers[i].get_weights()[0],\n",
    "                            model1.layers[i].get_weights()[1]])"
   ]
  },
  {
   "cell_type": "code",
   "execution_count": 72,
   "metadata": {},
   "outputs": [],
   "source": [
    "optimizer = \"rmsprop\"\n",
    "loss = \"categorical_crossentropy\"\n",
    "model1.compile(optimizer=optimizer,\n",
    "                loss = loss)\n",
    "model2.compile(optimizer=optimizer,\n",
    "                loss = loss)\n",
    "model3.compile(optimizer=optimizer,\n",
    "                loss = loss)"
   ]
  },
  {
   "cell_type": "code",
   "execution_count": 73,
   "metadata": {},
   "outputs": [
    {
     "name": "stdout",
     "output_type": "stream",
     "text": [
      "313/313 [==============================] - 1s 4ms/step - loss: 0.0921\n",
      "0.09208495169878006\n",
      "313/313 [==============================] - 1s 4ms/step - loss: 0.0921\n",
      "0.09208495169878006\n",
      "313/313 [==============================] - 1s 4ms/step - loss: 0.0921\n",
      "0.09208495169878006\n"
     ]
    }
   ],
   "source": [
    "model1.fit(X_train, y_train, epochs=10, batch_size=100, verbose=0)\n",
    "model2.fit(X_train, y_train, epochs=10, batch_size=100, verbose=0)\n",
    "model3.fit(X_train, y_train, epochs=10, batch_size=100, verbose=0)\n",
    "\n",
    "print(model1.evaluate(X_test,y_test))\n",
    "print(model2.evaluate(X_test,y_test))\n",
    "print(model3.evaluate(X_test,y_test))"
   ]
  },
  {
   "cell_type": "code",
   "execution_count": 74,
   "metadata": {},
   "outputs": [
    {
     "name": "stdout",
     "output_type": "stream",
     "text": [
      "313/313 [==============================] - 1s 4ms/step\n",
      "0.9741\n",
      "313/313 [==============================] - 1s 4ms/step\n",
      "0.9741\n",
      "313/313 [==============================] - 1s 4ms/step\n",
      "0.9741\n"
     ]
    }
   ],
   "source": [
    "print(np.sum(np.argmax(model1.predict(X_test),axis=1) == np.argmax(y_test, axis=1))/len(y_test))\n",
    "print(np.sum(np.argmax(model2.predict(X_test),axis=1) == np.argmax(y_test, axis=1))/len(y_test))\n",
    "print(np.sum(np.argmax(model3.predict(X_test),axis=1) == np.argmax(y_test, axis=1))/len(y_test))"
   ]
  },
  {
   "cell_type": "code",
   "execution_count": 75,
   "metadata": {},
   "outputs": [],
   "source": [
    "l_1_w = model1.layers[0].get_weights()[0]\n",
    "l_1_b = model1.layers[0].get_weights()[1]\n",
    "# sigmoid\n",
    "l_2_w = model1.layers[1].get_weights()[0]\n",
    "l_2_b = model1.layers[1].get_weights()[1]\n",
    "# sigmoid\n",
    "l_3_w = model1.layers[2].get_weights()[0]\n",
    "l_3_b = model1.layers[2].get_weights()[1]"
   ]
  },
  {
   "cell_type": "code",
   "execution_count": 76,
   "metadata": {},
   "outputs": [
    {
     "name": "stderr",
     "output_type": "stream",
     "text": [
      "C:\\Users\\admin\\AppData\\Local\\Temp\\ipykernel_15112\\1610975817.py:3: RuntimeWarning: overflow encountered in exp\n",
      "  a = 1/(1+np.exp(-a))\n"
     ]
    }
   ],
   "source": [
    "a = np.dot(X_test,l_1_w) + l_1_b\n",
    "### sigmoid\n",
    "a = 1/(1+np.exp(-a))\n",
    "a = np.dot(a, l_2_w) + l_2_b\n",
    "### sigmoid\n",
    "a = 1/(1+np.exp(-a))\n",
    "a = np.dot(a, l_3_w) + l_3_b"
   ]
  },
  {
   "cell_type": "code",
   "execution_count": 77,
   "metadata": {},
   "outputs": [
    {
     "data": {
      "text/plain": [
       "(10000, 10)"
      ]
     },
     "execution_count": 77,
     "metadata": {},
     "output_type": "execute_result"
    }
   ],
   "source": [
    "a.shape"
   ]
  },
  {
   "cell_type": "code",
   "execution_count": 78,
   "metadata": {},
   "outputs": [
    {
     "data": {
      "text/plain": [
       "0.9741"
      ]
     },
     "execution_count": 78,
     "metadata": {},
     "output_type": "execute_result"
    }
   ],
   "source": [
    "np.sum(np.argmax(a,axis=1) == np.argmax(y_test, axis=1)) / len(y_test)"
   ]
  },
  {
   "cell_type": "code",
   "execution_count": 79,
   "metadata": {},
   "outputs": [],
   "source": [
    "### Model 저장"
   ]
  },
  {
   "cell_type": "code",
   "execution_count": 80,
   "metadata": {},
   "outputs": [],
   "source": [
    "from keras.models import load_model, save_model"
   ]
  },
  {
   "cell_type": "code",
   "execution_count": 81,
   "metadata": {},
   "outputs": [
    {
     "name": "stdout",
     "output_type": "stream",
     "text": [
      " C ����̺��� ����: OS\n",
      " ���� �Ϸ� ��ȣ: E4F9-A6B2\n",
      "\n",
      " c:\\Users\\admin\\STUDY\\StudyPython_Deep_Learning\\7day ���͸�\n",
      "\n",
      "2022-08-24  ���� 02:52    <DIR>          .\n",
      "2022-08-24  ���� 02:52    <DIR>          ..\n",
      "2022-08-24  ���� 02:27            76,133 01_model1.ipynb\n",
      "2022-08-24  ���� 02:29           138,478 02_model2.ipynb\n",
      "2022-08-24  ���� 02:53            21,213 03_model3.ipynb\n",
      "2022-08-24  ���� 02:31           163,629 04_model_total.ipynb\n",
      "2022-08-24  ���� 02:52    <DIR>          model.h7\n",
      "2022-08-24  ���� 02:48    <DIR>          model1.h6\n",
      "2022-08-24  ���� 02:48        10,701,928 model2.h5\n",
      "               5�� ����          11,101,381 ����Ʈ\n",
      "               4�� ���͸�  120,361,631,744 ����Ʈ ����\n"
     ]
    }
   ],
   "source": [
    "!dir"
   ]
  },
  {
   "cell_type": "code",
   "execution_count": 82,
   "metadata": {},
   "outputs": [
    {
     "name": "stdout",
     "output_type": "stream",
     "text": [
      "INFO:tensorflow:Assets written to: model1.h6\\assets\n"
     ]
    }
   ],
   "source": [
    "### h6, h5, h7(h5가 가장 좋음)\n",
    "save_model(model1, \"model1.h6\")\n",
    "save_model(model2, \"model2.h5\")"
   ]
  },
  {
   "cell_type": "code",
   "execution_count": 83,
   "metadata": {},
   "outputs": [],
   "source": [
    "model1_1 = load_model(\"model1.h6\")\n",
    "model2_1 = load_model(\"model2.h5\")"
   ]
  },
  {
   "cell_type": "code",
   "execution_count": 84,
   "metadata": {},
   "outputs": [
    {
     "name": "stdout",
     "output_type": "stream",
     "text": [
      "313/313 [==============================] - 1s 4ms/step - loss: 0.0921\n"
     ]
    },
    {
     "data": {
      "text/plain": [
       "0.09208495169878006"
      ]
     },
     "execution_count": 84,
     "metadata": {},
     "output_type": "execute_result"
    }
   ],
   "source": [
    "model1_1.evaluate(X_test,y_test)"
   ]
  },
  {
   "cell_type": "code",
   "execution_count": 85,
   "metadata": {},
   "outputs": [
    {
     "name": "stdout",
     "output_type": "stream",
     "text": [
      "313/313 [==============================] - 1s 4ms/step - loss: 0.0921\n"
     ]
    },
    {
     "data": {
      "text/plain": [
       "0.09208495169878006"
      ]
     },
     "execution_count": 85,
     "metadata": {},
     "output_type": "execute_result"
    }
   ],
   "source": [
    "model2_1.evaluate(X_test,y_test)"
   ]
  },
  {
   "cell_type": "code",
   "execution_count": 86,
   "metadata": {},
   "outputs": [
    {
     "name": "stdout",
     "output_type": "stream",
     "text": [
      "INFO:tensorflow:Assets written to: model.h7\\assets\n"
     ]
    }
   ],
   "source": [
    "# h7\n",
    "save_model(model3, \"model.h7\")"
   ]
  },
  {
   "cell_type": "markdown",
   "metadata": {},
   "source": [
    "### 초기값의 중요성"
   ]
  },
  {
   "cell_type": "code",
   "execution_count": 109,
   "metadata": {},
   "outputs": [],
   "source": [
    "input_shape = X_train.shape[1:]\n",
    "output_shape = y_train.shape[1]\n",
    "\n",
    "model1  =Sequential(\n",
    "    [\n",
    "    Dense(1024, input_shape=input_shape, activation=\"relu\"),\n",
    "    Dense(512, activation=\"relu\"),\n",
    "    Dense(output_shape,activation=\"softmax\")\n",
    "    ]\n",
    ")\n",
    "\n",
    "model2  =Sequential(\n",
    "    [\n",
    "    Dense(1024, input_shape=input_shape, activation=\"relu\"),\n",
    "    Dense(512, activation=\"relu\"),\n",
    "    Dense(output_shape,activation=\"softmax\")\n",
    "    ]\n",
    ")\n",
    "\n",
    "model3  =Sequential(\n",
    "    [\n",
    "    Dense(1024, input_shape=input_shape, activation=\"relu\"),\n",
    "    Dense(512, activation=\"relu\"),\n",
    "    Dense(output_shape,activation=\"softmax\")\n",
    "    ]\n",
    ")"
   ]
  },
  {
   "cell_type": "code",
   "execution_count": 110,
   "metadata": {},
   "outputs": [
    {
     "data": {
      "text/plain": [
       "array([[0., 0., 0., ..., 0., 0., 0.],\n",
       "       [0., 0., 0., ..., 0., 0., 0.],\n",
       "       [0., 0., 0., ..., 0., 0., 0.],\n",
       "       ...,\n",
       "       [0., 0., 0., ..., 0., 0., 0.],\n",
       "       [0., 0., 0., ..., 0., 0., 0.],\n",
       "       [0., 0., 0., ..., 0., 0., 0.]], dtype=float32)"
      ]
     },
     "execution_count": 110,
     "metadata": {},
     "output_type": "execute_result"
    }
   ],
   "source": [
    "# np.zeros_like(model1.layers[0].get_weights()[0])"
   ]
  },
  {
   "cell_type": "code",
   "execution_count": 111,
   "metadata": {},
   "outputs": [],
   "source": [
    "model1.layers[0].set_weights([np.zeros_like(model1.layers[0].get_weights()[0]),\n",
    "                                np.zeros_like(model1.layers[0].get_weights()[1])])"
   ]
  },
  {
   "cell_type": "code",
   "execution_count": 116,
   "metadata": {},
   "outputs": [],
   "source": [
    "model2.layers[1].set_weights([np.ones_like(model1.layers[1].get_weights()[0]),\n",
    "                                np.zeros_like(model1.layers[1].get_weights()[1])])"
   ]
  },
  {
   "cell_type": "code",
   "execution_count": 117,
   "metadata": {},
   "outputs": [
    {
     "data": {
      "text/plain": [
       "True"
      ]
     },
     "execution_count": 117,
     "metadata": {},
     "output_type": "execute_result"
    }
   ],
   "source": [
    "np.sum(model2.layers[1].get_weights()[0]) == model2.layers[1].get_weights()[0].size"
   ]
  },
  {
   "cell_type": "code",
   "execution_count": 118,
   "metadata": {},
   "outputs": [],
   "source": [
    "optimizer = \"rmsprop\"\n",
    "loss = \"categorical_crossentropy\"\n",
    "metrics = [\"accuracy\"]\n",
    "\n",
    "model1.compile(optimizer=optimizer,\n",
    "            loss=loss,\n",
    "            metrics=metrics)\n",
    "model2.compile(optimizer=optimizer,\n",
    "            loss=loss,\n",
    "            metrics=metrics)\n",
    "model3.compile(optimizer=optimizer,\n",
    "            loss=loss,\n",
    "            metrics=metrics)"
   ]
  },
  {
   "cell_type": "code",
   "execution_count": 119,
   "metadata": {},
   "outputs": [
    {
     "name": "stdout",
     "output_type": "stream",
     "text": [
      "313/313 [==============================] - 2s 4ms/step - loss: 2.3010 - accuracy: 0.1135\n",
      "[2.3010337352752686, 0.11349999904632568]\n",
      "313/313 [==============================] - 1s 4ms/step - loss: 1.7348 - accuracy: 0.4634\n",
      "[1.7348146438598633, 0.4634000062942505]\n",
      "313/313 [==============================] - 1s 4ms/step - loss: 0.7322 - accuracy: 0.9717\n",
      "[0.7321624755859375, 0.9717000126838684]\n"
     ]
    }
   ],
   "source": [
    "model1.fit(X_train, \n",
    "        y_train, \n",
    "        epochs=10, \n",
    "        batch_size=400, \n",
    "        verbose=0)\n",
    "model2.fit(X_train, \n",
    "        y_train, \n",
    "        epochs=10, \n",
    "        batch_size=400, \n",
    "        verbose=0)\n",
    "model3.fit(X_train, \n",
    "        y_train, \n",
    "        epochs=10, \n",
    "        batch_size=400, \n",
    "        verbose=0)\n",
    "\n",
    "print(model1.evaluate(X_test,y_test))\n",
    "print(model2.evaluate(X_test,y_test))\n",
    "print(model3.evaluate(X_test,y_test))"
   ]
  },
  {
   "cell_type": "code",
   "execution_count": null,
   "metadata": {},
   "outputs": [],
   "source": [
    "### zeros_like -> ones_like"
   ]
  },
  {
   "cell_type": "code",
   "execution_count": 120,
   "metadata": {},
   "outputs": [],
   "source": [
    "model1.layers[0].set_weights([np.ones_like(model1.layers[0].get_weights()[0]),\n",
    "                                np.zeros_like(model1.layers[0].get_weights()[1])])\n",
    "model2.layers[1].set_weights([np.ones_like(model1.layers[1].get_weights()[0]),\n",
    "                                np.zeros_like(model1.layers[1].get_weights()[1])])"
   ]
  },
  {
   "cell_type": "code",
   "execution_count": 121,
   "metadata": {},
   "outputs": [],
   "source": [
    "optimizer = \"rmsprop\"\n",
    "loss = \"categorical_crossentropy\"\n",
    "metrics = [\"accuracy\"]\n",
    "\n",
    "model1.compile(optimizer=optimizer,\n",
    "            loss=loss,\n",
    "            metrics=metrics)\n",
    "model2.compile(optimizer=optimizer,\n",
    "            loss=loss,\n",
    "            metrics=metrics)\n",
    "model3.compile(optimizer=optimizer,\n",
    "            loss=loss,\n",
    "            metrics=metrics)"
   ]
  },
  {
   "cell_type": "code",
   "execution_count": 122,
   "metadata": {},
   "outputs": [
    {
     "name": "stdout",
     "output_type": "stream",
     "text": [
      "313/313 [==============================] - 2s 5ms/step - loss: 2.3011 - accuracy: 0.1135\n",
      "[2.3010735511779785, 0.11349999904632568]\n",
      "313/313 [==============================] - 2s 4ms/step - loss: 2.3063 - accuracy: 0.2544\n",
      "[2.3063290119171143, 0.25440001487731934]\n",
      "313/313 [==============================] - 2s 4ms/step - loss: 0.7521 - accuracy: 0.9770\n",
      "[0.7521308660507202, 0.9769999980926514]\n"
     ]
    }
   ],
   "source": [
    "model1.fit(X_train, \n",
    "        y_train, \n",
    "        epochs=10, \n",
    "        batch_size=400, \n",
    "        verbose=0)\n",
    "model2.fit(X_train, \n",
    "        y_train, \n",
    "        epochs=10, \n",
    "        batch_size=400, \n",
    "        verbose=0)\n",
    "model3.fit(X_train, \n",
    "        y_train, \n",
    "        epochs=10, \n",
    "        batch_size=400, \n",
    "        verbose=0)\n",
    "\n",
    "print(model1.evaluate(X_test,y_test))\n",
    "print(model2.evaluate(X_test,y_test))\n",
    "print(model3.evaluate(X_test,y_test))"
   ]
  },
  {
   "cell_type": "code",
   "execution_count": null,
   "metadata": {},
   "outputs": [],
   "source": []
  },
  {
   "cell_type": "code",
   "execution_count": null,
   "metadata": {},
   "outputs": [],
   "source": []
  },
  {
   "cell_type": "code",
   "execution_count": null,
   "metadata": {},
   "outputs": [],
   "source": []
  },
  {
   "cell_type": "code",
   "execution_count": null,
   "metadata": {},
   "outputs": [],
   "source": []
  }
 ],
 "metadata": {
  "kernelspec": {
   "display_name": "Python 3.10.4 ('keras1')",
   "language": "python",
   "name": "python3"
  },
  "language_info": {
   "codemirror_mode": {
    "name": "ipython",
    "version": 3
   },
   "file_extension": ".py",
   "mimetype": "text/x-python",
   "name": "python",
   "nbconvert_exporter": "python",
   "pygments_lexer": "ipython3",
   "version": "3.10.4"
  },
  "orig_nbformat": 4,
  "vscode": {
   "interpreter": {
    "hash": "97d615c32c382542d37f2f9f703f3c770d4a36deabb2babf3fd797ec770d93cb"
   }
  }
 },
 "nbformat": 4,
 "nbformat_minor": 2
}
