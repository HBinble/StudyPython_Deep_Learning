{
 "cells": [
  {
   "cell_type": "code",
   "execution_count": 1,
   "metadata": {},
   "outputs": [],
   "source": [
    "## 기본 모듈\n",
    "import numpy as np\n",
    "import pandas as pd\n",
    "import matplotlib.pyplot as plt\n",
    "\n",
    "from sklearn.model_selection import train_test_split\n",
    "\n",
    "## 딥러닝 모듈\n",
    "import tensorflow\n",
    "from tensorflow import keras\n",
    "from keras.models import Sequential, Model\n",
    "from keras.layers import Input, Dense, Flatten, Conv2D, MaxPooling2D\n",
    "from keras.layers import BatchNormalization, Dropout\n",
    "from keras.utils import to_categorical\n",
    "from keras.losses import MSE\n",
    "from keras.optimizers import Adam\n",
    "from keras.callbacks import TensorBoard, EarlyStopping, ModelCheckpoint"
   ]
  },
  {
   "cell_type": "markdown",
   "metadata": {},
   "source": [
    "## 1. boston_housing : 보스턴 주택 가격"
   ]
  },
  {
   "cell_type": "code",
   "execution_count": 3,
   "metadata": {},
   "outputs": [],
   "source": [
    "from keras.datasets import boston_housing"
   ]
  },
  {
   "cell_type": "code",
   "execution_count": 5,
   "metadata": {},
   "outputs": [],
   "source": [
    "(X_train, y_train), (X_test, y_test) = boston_housing.load_data()"
   ]
  },
  {
   "cell_type": "code",
   "execution_count": 13,
   "metadata": {},
   "outputs": [],
   "source": [
    "## scaling Robust\n",
    "# (X - median)/(Q3-Q1)\n",
    "\n",
    "# pd.DataFrame(X_train).describe().loc[[\"25%\",\"50%\",\"75%\"],:]\n",
    "# pd.DataFrame(X_train).describe().loc[[\"25%\",\"50%\",\"75%\"],:].values"
   ]
  },
  {
   "cell_type": "code",
   "execution_count": 20,
   "metadata": {},
   "outputs": [],
   "source": [
    "input_shape = X_train.shape[1:]\n",
    "model = Sequential(\n",
    "    [\n",
    "        Dense(64,activation=\"relu\",input_shape=input_shape),\n",
    "        Dense(64,activation=\"relu\"),\n",
    "        Dense(1, activation=\"linear\")\n",
    "    ]\n",
    ")"
   ]
  },
  {
   "cell_type": "code",
   "execution_count": 21,
   "metadata": {},
   "outputs": [],
   "source": [
    "model.compile(\n",
    "    optimizer=\"rmsprop\",\n",
    "    loss=\"mse\",\n",
    "    metrics=[\"mse\",\"mae\"]\n",
    ")"
   ]
  },
  {
   "cell_type": "code",
   "execution_count": 22,
   "metadata": {},
   "outputs": [
    {
     "name": "stdout",
     "output_type": "stream",
     "text": [
      "Epoch 1/20\n",
      "13/13 [==============================] - 1s 14ms/step - loss: 156.8271 - mse: 156.8271 - mae: 9.0836 - val_loss: 148.4613 - val_mse: 148.4613 - val_mae: 10.8784\n",
      "Epoch 2/20\n",
      "13/13 [==============================] - 0s 3ms/step - loss: 88.7503 - mse: 88.7503 - mae: 7.5190 - val_loss: 68.0786 - val_mse: 68.0786 - val_mae: 5.6134\n",
      "Epoch 3/20\n",
      "13/13 [==============================] - 0s 4ms/step - loss: 96.7397 - mse: 96.7397 - mae: 7.4362 - val_loss: 207.6299 - val_mse: 207.6299 - val_mae: 13.0372\n",
      "Epoch 4/20\n",
      "13/13 [==============================] - 0s 4ms/step - loss: 84.2742 - mse: 84.2742 - mae: 6.7267 - val_loss: 86.0157 - val_mse: 86.0157 - val_mae: 7.9523\n",
      "Epoch 5/20\n",
      "13/13 [==============================] - 0s 4ms/step - loss: 113.2129 - mse: 113.2129 - mae: 8.2640 - val_loss: 59.5948 - val_mse: 59.5948 - val_mae: 5.4302\n",
      "Epoch 6/20\n",
      "13/13 [==============================] - 0s 3ms/step - loss: 77.9103 - mse: 77.9103 - mae: 6.6112 - val_loss: 91.7477 - val_mse: 91.7477 - val_mae: 7.0209\n",
      "Epoch 7/20\n",
      "13/13 [==============================] - 0s 4ms/step - loss: 97.4401 - mse: 97.4401 - mae: 7.6696 - val_loss: 73.1168 - val_mse: 73.1168 - val_mae: 6.8893\n",
      "Epoch 8/20\n",
      "13/13 [==============================] - 0s 3ms/step - loss: 74.8466 - mse: 74.8466 - mae: 6.5539 - val_loss: 62.7751 - val_mse: 62.7751 - val_mae: 5.5170\n",
      "Epoch 9/20\n",
      "13/13 [==============================] - 0s 4ms/step - loss: 91.5223 - mse: 91.5223 - mae: 7.2664 - val_loss: 65.6200 - val_mse: 65.6200 - val_mae: 6.3049\n",
      "Epoch 10/20\n",
      "13/13 [==============================] - 0s 4ms/step - loss: 87.1285 - mse: 87.1285 - mae: 6.7437 - val_loss: 56.8489 - val_mse: 56.8489 - val_mae: 5.4164\n",
      "Epoch 11/20\n",
      "13/13 [==============================] - 0s 4ms/step - loss: 72.7530 - mse: 72.7530 - mae: 6.3600 - val_loss: 310.0339 - val_mse: 310.0339 - val_mae: 15.8812\n",
      "Epoch 12/20\n",
      "13/13 [==============================] - 0s 4ms/step - loss: 80.2308 - mse: 80.2308 - mae: 6.8463 - val_loss: 62.0671 - val_mse: 62.0671 - val_mae: 6.1588\n",
      "Epoch 13/20\n",
      "13/13 [==============================] - 0s 3ms/step - loss: 89.1712 - mse: 89.1712 - mae: 7.0528 - val_loss: 167.0397 - val_mse: 167.0397 - val_mae: 11.3650\n",
      "Epoch 14/20\n",
      "13/13 [==============================] - 0s 3ms/step - loss: 60.7780 - mse: 60.7780 - mae: 5.5572 - val_loss: 101.5417 - val_mse: 101.5417 - val_mae: 8.7273\n",
      "Epoch 15/20\n",
      "13/13 [==============================] - 0s 3ms/step - loss: 69.2697 - mse: 69.2697 - mae: 6.3251 - val_loss: 62.3047 - val_mse: 62.3047 - val_mae: 5.4824\n",
      "Epoch 16/20\n",
      "13/13 [==============================] - 0s 4ms/step - loss: 76.6445 - mse: 76.6445 - mae: 6.8870 - val_loss: 60.6666 - val_mse: 60.6666 - val_mae: 6.0494\n",
      "Epoch 17/20\n",
      "13/13 [==============================] - 0s 4ms/step - loss: 90.4809 - mse: 90.4809 - mae: 7.5561 - val_loss: 83.0434 - val_mse: 83.0434 - val_mae: 6.8224\n",
      "Epoch 18/20\n",
      "13/13 [==============================] - 0s 4ms/step - loss: 69.9472 - mse: 69.9472 - mae: 6.2369 - val_loss: 119.4694 - val_mse: 119.4694 - val_mae: 9.5349\n",
      "Epoch 19/20\n",
      "13/13 [==============================] - 0s 3ms/step - loss: 68.2457 - mse: 68.2457 - mae: 6.1336 - val_loss: 73.1645 - val_mse: 73.1645 - val_mae: 6.9822\n",
      "Epoch 20/20\n",
      "13/13 [==============================] - 0s 3ms/step - loss: 76.7978 - mse: 76.7978 - mae: 6.7796 - val_loss: 90.4097 - val_mse: 90.4097 - val_mae: 8.2604\n"
     ]
    },
    {
     "data": {
      "text/plain": [
       "<keras.callbacks.History at 0x1d99aac7ca0>"
      ]
     },
     "execution_count": 22,
     "metadata": {},
     "output_type": "execute_result"
    }
   ],
   "source": [
    "model.fit(X_train,\n",
    "            y_train,\n",
    "            epochs=20,\n",
    "            validation_data=(X_test,y_test))"
   ]
  },
  {
   "cell_type": "code",
   "execution_count": 23,
   "metadata": {},
   "outputs": [
    {
     "name": "stdout",
     "output_type": "stream",
     "text": [
      "4/4 [==============================] - 0s 2ms/step - loss: 90.4097 - mse: 90.4097 - mae: 8.2604\n"
     ]
    },
    {
     "data": {
      "text/plain": [
       "[90.40972900390625, 90.40972900390625, 8.26041030883789]"
      ]
     },
     "execution_count": 23,
     "metadata": {},
     "output_type": "execute_result"
    }
   ],
   "source": [
    "model.evaluate(X_test,y_test)"
   ]
  },
  {
   "cell_type": "code",
   "execution_count": 24,
   "metadata": {},
   "outputs": [
    {
     "data": {
      "text/plain": [
       "9.508403073277144"
      ]
     },
     "execution_count": 24,
     "metadata": {},
     "output_type": "execute_result"
    }
   ],
   "source": [
    "np.sqrt(90.40972900390625)"
   ]
  },
  {
   "cell_type": "code",
   "execution_count": null,
   "metadata": {},
   "outputs": [],
   "source": []
  },
  {
   "cell_type": "code",
   "execution_count": null,
   "metadata": {},
   "outputs": [],
   "source": []
  },
  {
   "cell_type": "code",
   "execution_count": null,
   "metadata": {},
   "outputs": [],
   "source": []
  },
  {
   "cell_type": "code",
   "execution_count": null,
   "metadata": {},
   "outputs": [],
   "source": []
  }
 ],
 "metadata": {
  "kernelspec": {
   "display_name": "Python 3.10.4 ('keras1')",
   "language": "python",
   "name": "python3"
  },
  "language_info": {
   "codemirror_mode": {
    "name": "ipython",
    "version": 3
   },
   "file_extension": ".py",
   "mimetype": "text/x-python",
   "name": "python",
   "nbconvert_exporter": "python",
   "pygments_lexer": "ipython3",
   "version": "3.10.4"
  },
  "orig_nbformat": 4,
  "vscode": {
   "interpreter": {
    "hash": "97d615c32c382542d37f2f9f703f3c770d4a36deabb2babf3fd797ec770d93cb"
   }
  }
 },
 "nbformat": 4,
 "nbformat_minor": 2
}
