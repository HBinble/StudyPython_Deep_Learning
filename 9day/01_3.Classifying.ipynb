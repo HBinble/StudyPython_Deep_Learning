{
 "cells": [
  {
   "cell_type": "code",
   "execution_count": 2,
   "metadata": {},
   "outputs": [],
   "source": [
    "## 기본 모듈\n",
    "import numpy as np\n",
    "import pandas as pd\n",
    "import matplotlib.pyplot as plt\n",
    "\n",
    "from sklearn.model_selection import train_test_split\n",
    "\n",
    "## 딥러닝 모듈\n",
    "import tensorflow\n",
    "from tensorflow import keras\n",
    "from keras.models import Sequential, Model\n",
    "from keras.layers import Input, Dense, Flatten, Conv2D, MaxPooling2D\n",
    "from keras.layers import BatchNormalization, Dropout\n",
    "from keras.utils import to_categorical\n",
    "from keras.losses import MSE\n",
    "from keras.optimizers import Adam\n",
    "from keras.callbacks import TensorBoard, EarlyStopping, ModelCheckpoint"
   ]
  },
  {
   "cell_type": "markdown",
   "metadata": {},
   "source": [
    "## 1. imdb : 영화 리뷰 분류"
   ]
  },
  {
   "cell_type": "code",
   "execution_count": 3,
   "metadata": {},
   "outputs": [],
   "source": [
    "from keras.datasets import imdb"
   ]
  },
  {
   "cell_type": "code",
   "execution_count": 4,
   "metadata": {},
   "outputs": [
    {
     "data": {
      "text/plain": [
       "['__builtins__',\n",
       " '__cached__',\n",
       " '__doc__',\n",
       " '__file__',\n",
       " '__loader__',\n",
       " '__name__',\n",
       " '__package__',\n",
       " '__spec__',\n",
       " '_remove_long_seq',\n",
       " 'get_file',\n",
       " 'get_word_index',\n",
       " 'json',\n",
       " 'keras_export',\n",
       " 'load_data',\n",
       " 'logging',\n",
       " 'np']"
      ]
     },
     "execution_count": 4,
     "metadata": {},
     "output_type": "execute_result"
    }
   ],
   "source": [
    "dir(imdb)"
   ]
  },
  {
   "cell_type": "code",
   "execution_count": 5,
   "metadata": {},
   "outputs": [],
   "source": [
    "(X_train_full, y_train_full), (X_test, y_test) = imdb.load_data(num_words=10000)"
   ]
  },
  {
   "cell_type": "code",
   "execution_count": 6,
   "metadata": {},
   "outputs": [],
   "source": [
    "# pd.Series(X_train_full).apply(len).sum()"
   ]
  },
  {
   "cell_type": "code",
   "execution_count": 7,
   "metadata": {},
   "outputs": [
    {
     "name": "stdout",
     "output_type": "stream",
     "text": [
      "2494\n",
      "11\n"
     ]
    }
   ],
   "source": [
    "print(pd.Series(X_train_full).apply(len).max())\n",
    "print(pd.Series(X_train_full).apply(len).min())\n",
    "# np.apply_along_axis 로도 사용 가능"
   ]
  },
  {
   "cell_type": "code",
   "execution_count": 8,
   "metadata": {},
   "outputs": [],
   "source": [
    "# word_index는 단어와 정수 인덱스를 매핑한 딕셔너리\n",
    "word_index = imdb.get_word_index()\n",
    "# 정수 인덱스와 단어를 매핑하도록 뒤집기\n",
    "index_word = {v:k for k,v in word_index.items()}"
   ]
  },
  {
   "cell_type": "code",
   "execution_count": 9,
   "metadata": {},
   "outputs": [
    {
     "data": {
      "text/plain": [
       "\"the as you with out themselves powerful lets loves their becomes reaching had journalist of lot from anyone to have after out atmosphere never more room and it so heart shows to years of every never going and help moments or of every chest visual movie except her was several of enough more with is now current film as you of mine potentially unfortunately of you than him that with out themselves her get for was camp of you movie sometimes movie that with scary but and to story wonderful that in seeing in character to of 70s musicians with heart had shadows they of here that with her serious to have does when from why what have critics they is you that isn't one will very to as itself with other and in of seen over landed for anyone of and br show's to whether from than out themselves history he name half some br of and odd was two most of mean for 1 any an boat she he should is thought frog but of script you not while history he heart to real at barrel but when from one bit then have two of script their with her nobody most that with wasn't to with armed acting watch an for with heartfelt film want an\""
      ]
     },
     "execution_count": 9,
     "metadata": {},
     "output_type": "execute_result"
    }
   ],
   "source": [
    "word = []\n",
    "for i in X_train_full[0]:\n",
    "    word.append(index_word[i])\n",
    "sentence = \" \".join(word)\n",
    "sentence"
   ]
  },
  {
   "cell_type": "code",
   "execution_count": 10,
   "metadata": {},
   "outputs": [],
   "source": [
    "words = []\n",
    "for word in X_train_full:\n",
    "    words.extend(word)"
   ]
  },
  {
   "cell_type": "code",
   "execution_count": 11,
   "metadata": {},
   "outputs": [
    {
     "data": {
      "text/plain": [
       "9998"
      ]
     },
     "execution_count": 11,
     "metadata": {},
     "output_type": "execute_result"
    }
   ],
   "source": [
    "len(set(words))"
   ]
  },
  {
   "cell_type": "code",
   "execution_count": 12,
   "metadata": {},
   "outputs": [
    {
     "data": {
      "text/plain": [
       "9998"
      ]
     },
     "execution_count": 12,
     "metadata": {},
     "output_type": "execute_result"
    }
   ],
   "source": [
    "np.unique(np.concatenate(X_train_full)).size"
   ]
  },
  {
   "cell_type": "code",
   "execution_count": 13,
   "metadata": {},
   "outputs": [
    {
     "data": {
      "text/plain": [
       "5967841"
      ]
     },
     "execution_count": 13,
     "metadata": {},
     "output_type": "execute_result"
    }
   ],
   "source": [
    "len(words)"
   ]
  },
  {
   "cell_type": "code",
   "execution_count": 14,
   "metadata": {},
   "outputs": [],
   "source": [
    "def vectorizer(doc,dim):\n",
    "    result = np.zeros((len(doc),dim))\n",
    "    for idx, doc in enumerate(doc):\n",
    "        result[idx, doc] = 1\n",
    "    return result"
   ]
  },
  {
   "cell_type": "code",
   "execution_count": 15,
   "metadata": {},
   "outputs": [],
   "source": [
    "X_train_full = vectorizer(X_train_full,10000)\n",
    "X_test = vectorizer(X_test,10000)"
   ]
  },
  {
   "cell_type": "code",
   "execution_count": 16,
   "metadata": {},
   "outputs": [],
   "source": [
    "X_train, X_val, y_train, y_val = train_test_split(X_train_full, y_train_full)"
   ]
  },
  {
   "cell_type": "code",
   "execution_count": 17,
   "metadata": {},
   "outputs": [],
   "source": [
    "input_shape = X_train.shape[1:]\n",
    "model = Sequential(\n",
    "    [\n",
    "        Dense(16,activation=\"relu\",input_shape=input_shape),\n",
    "        Dense(16,activation=\"relu\"),\n",
    "        Dense(1,activation=\"relu\")        \n",
    "    ]\n",
    ")"
   ]
  },
  {
   "cell_type": "code",
   "execution_count": 18,
   "metadata": {},
   "outputs": [],
   "source": [
    "model.compile(optimizer='rmsprop',\n",
    "                loss='binary_crossentropy',\n",
    "                metrics=['accuracy'])"
   ]
  },
  {
   "cell_type": "code",
   "execution_count": 19,
   "metadata": {},
   "outputs": [
    {
     "name": "stdout",
     "output_type": "stream",
     "text": [
      "Epoch 1/20\n",
      "37/37 [==============================] - 7s 125ms/step - loss: 0.5751 - accuracy: 0.7298 - val_loss: 0.3778 - val_accuracy: 0.8422\n",
      "Epoch 2/20\n",
      "37/37 [==============================] - 1s 17ms/step - loss: 0.2976 - accuracy: 0.8944 - val_loss: 0.3645 - val_accuracy: 0.8787\n",
      "Epoch 3/20\n",
      "37/37 [==============================] - 1s 18ms/step - loss: 0.2425 - accuracy: 0.9241 - val_loss: 0.4110 - val_accuracy: 0.8792\n",
      "Epoch 4/20\n",
      "37/37 [==============================] - 1s 16ms/step - loss: 0.1904 - accuracy: 0.9407 - val_loss: 0.4827 - val_accuracy: 0.8830\n",
      "Epoch 5/20\n",
      "37/37 [==============================] - 1s 16ms/step - loss: 0.1504 - accuracy: 0.9597 - val_loss: 0.6475 - val_accuracy: 0.8808\n",
      "Epoch 6/20\n",
      "37/37 [==============================] - 1s 15ms/step - loss: 0.1403 - accuracy: 0.9627 - val_loss: 0.7267 - val_accuracy: 0.8798\n",
      "Epoch 7/20\n",
      "37/37 [==============================] - 1s 17ms/step - loss: 0.1046 - accuracy: 0.9767 - val_loss: 0.7369 - val_accuracy: 0.8832\n",
      "Epoch 8/20\n",
      "37/37 [==============================] - 1s 20ms/step - loss: 0.0977 - accuracy: 0.9797 - val_loss: 0.8489 - val_accuracy: 0.8810\n",
      "Epoch 9/20\n",
      "37/37 [==============================] - 1s 19ms/step - loss: 0.0819 - accuracy: 0.9869 - val_loss: 0.9030 - val_accuracy: 0.8794\n",
      "Epoch 10/20\n",
      "37/37 [==============================] - 1s 17ms/step - loss: 0.0691 - accuracy: 0.9896 - val_loss: 1.0793 - val_accuracy: 0.8672\n",
      "Epoch 11/20\n",
      "37/37 [==============================] - 1s 16ms/step - loss: 0.0653 - accuracy: 0.9929 - val_loss: 1.0233 - val_accuracy: 0.8762\n",
      "Epoch 12/20\n",
      "37/37 [==============================] - 1s 16ms/step - loss: 0.0644 - accuracy: 0.9918 - val_loss: 1.0400 - val_accuracy: 0.8766\n",
      "Epoch 13/20\n",
      "37/37 [==============================] - 1s 20ms/step - loss: 0.0657 - accuracy: 0.9922 - val_loss: 1.0575 - val_accuracy: 0.8768\n",
      "Epoch 14/20\n",
      "37/37 [==============================] - 1s 16ms/step - loss: 0.0487 - accuracy: 0.9967 - val_loss: 1.3026 - val_accuracy: 0.8570\n",
      "Epoch 15/20\n",
      "37/37 [==============================] - 1s 16ms/step - loss: 0.0581 - accuracy: 0.9944 - val_loss: 1.1037 - val_accuracy: 0.8760\n",
      "Epoch 16/20\n",
      "37/37 [==============================] - 1s 17ms/step - loss: 0.0473 - accuracy: 0.9969 - val_loss: 1.1709 - val_accuracy: 0.8754\n",
      "Epoch 17/20\n",
      "37/37 [==============================] - 1s 16ms/step - loss: 0.0547 - accuracy: 0.9953 - val_loss: 1.1467 - val_accuracy: 0.8736\n",
      "Epoch 18/20\n",
      "37/37 [==============================] - 1s 17ms/step - loss: 0.0538 - accuracy: 0.9949 - val_loss: 1.1595 - val_accuracy: 0.8714\n",
      "Epoch 19/20\n",
      "37/37 [==============================] - 1s 18ms/step - loss: 0.0527 - accuracy: 0.9956 - val_loss: 1.6458 - val_accuracy: 0.8403\n",
      "Epoch 20/20\n",
      "37/37 [==============================] - 1s 16ms/step - loss: 0.0474 - accuracy: 0.9966 - val_loss: 1.2038 - val_accuracy: 0.8730\n"
     ]
    },
    {
     "data": {
      "text/plain": [
       "<keras.callbacks.History at 0x2380c30f610>"
      ]
     },
     "execution_count": 19,
     "metadata": {},
     "output_type": "execute_result"
    }
   ],
   "source": [
    "model.fit(X_train,\n",
    "            y_train,\n",
    "            epochs=20,\n",
    "            batch_size=512,\n",
    "            validation_data=(X_val, y_val))"
   ]
  },
  {
   "cell_type": "code",
   "execution_count": 23,
   "metadata": {},
   "outputs": [],
   "source": [
    "# x = np.random.randint(1,100,100)"
   ]
  },
  {
   "cell_type": "code",
   "execution_count": 24,
   "metadata": {},
   "outputs": [],
   "source": [
    "# X_train_full = vectorizer(X_train_full,10000)\n",
    "# X_test = vectorizer(X_test,10000)"
   ]
  },
  {
   "cell_type": "markdown",
   "metadata": {},
   "source": [
    "## 2. reuters : 뉴스 기사 분류"
   ]
  },
  {
   "cell_type": "code",
   "execution_count": 25,
   "metadata": {},
   "outputs": [],
   "source": [
    "from keras.datasets import reuters"
   ]
  },
  {
   "cell_type": "code",
   "execution_count": 26,
   "metadata": {},
   "outputs": [],
   "source": [
    "(X_train_full, y_train_full), (X_test, y_test) = reuters.load_data(num_words=10000)"
   ]
  },
  {
   "cell_type": "code",
   "execution_count": 27,
   "metadata": {},
   "outputs": [
    {
     "data": {
      "text/plain": [
       "2246"
      ]
     },
     "execution_count": 27,
     "metadata": {},
     "output_type": "execute_result"
    }
   ],
   "source": [
    "len(X_train_full)\n",
    "len(X_test)"
   ]
  },
  {
   "cell_type": "code",
   "execution_count": 28,
   "metadata": {},
   "outputs": [
    {
     "data": {
      "text/plain": [
       "9999"
      ]
     },
     "execution_count": 28,
     "metadata": {},
     "output_type": "execute_result"
    }
   ],
   "source": [
    "np.unique(np.concatenate(X_train_full)).size\n",
    "np.unique(np.concatenate(X_train_full)).max()"
   ]
  },
  {
   "cell_type": "code",
   "execution_count": 29,
   "metadata": {},
   "outputs": [],
   "source": [
    "X_train_full = vectorizer(X_train_full,10000)"
   ]
  },
  {
   "cell_type": "code",
   "execution_count": 30,
   "metadata": {},
   "outputs": [],
   "source": [
    "X_test = vectorizer(X_test,10000)"
   ]
  },
  {
   "cell_type": "code",
   "execution_count": 31,
   "metadata": {},
   "outputs": [],
   "source": [
    "X_train, X_val, y_train, y_val = train_test_split(X_train_full, y_train_full)"
   ]
  },
  {
   "cell_type": "code",
   "execution_count": 32,
   "metadata": {},
   "outputs": [],
   "source": [
    "y_train = to_categorical(y_train)\n",
    "y_val = to_categorical(y_val)\n",
    "y_test = to_categorical(y_test)"
   ]
  },
  {
   "cell_type": "code",
   "execution_count": 33,
   "metadata": {},
   "outputs": [],
   "source": [
    "input_shape = X_train.shape[1:]\n",
    "output_shape = y_train.shape[1]\n",
    "model = Sequential(\n",
    "    [\n",
    "        Dense(64,activation=\"relu\",input_shape=input_shape),\n",
    "        Dense(64,activation=\"relu\"),\n",
    "        Dense(output_shape,activation=\"softmax\")\n",
    "    ]\n",
    ")"
   ]
  },
  {
   "cell_type": "code",
   "execution_count": 34,
   "metadata": {},
   "outputs": [],
   "source": [
    "model.compile(optimizer='rmsprop',\n",
    "                loss='categorical_crossentropy',\n",
    "                metrics=['accuracy'])"
   ]
  },
  {
   "cell_type": "code",
   "execution_count": 35,
   "metadata": {},
   "outputs": [],
   "source": [
    "file_path = \"./reuter/checkpoint\"\n",
    "my_callback = [ModelCheckpoint(filepath=file_path,\n",
    "                                save_best_only=True,\n",
    "                                monitor=\"val_loss\"),\n",
    "                EarlyStopping(patience=10)]"
   ]
  },
  {
   "cell_type": "code",
   "execution_count": 36,
   "metadata": {},
   "outputs": [
    {
     "name": "stdout",
     "output_type": "stream",
     "text": [
      "Epoch 1/20\n",
      "13/14 [==========================>...] - ETA: 0s - loss: 2.6900 - accuracy: 0.5243INFO:tensorflow:Assets written to: ./reuter\\checkpoint\\assets\n",
      "14/14 [==============================] - 3s 162ms/step - loss: 2.6776 - accuracy: 0.5261 - val_loss: 1.8343 - val_accuracy: 0.6398\n",
      "Epoch 2/20\n",
      "13/14 [==========================>...] - ETA: 0s - loss: 1.4786 - accuracy: 0.6959INFO:tensorflow:Assets written to: ./reuter\\checkpoint\\assets\n",
      "14/14 [==============================] - 1s 63ms/step - loss: 1.4727 - accuracy: 0.6971 - val_loss: 1.4389 - val_accuracy: 0.6759\n",
      "Epoch 3/20\n",
      "13/14 [==========================>...] - ETA: 0s - loss: 1.1015 - accuracy: 0.7653INFO:tensorflow:Assets written to: ./reuter\\checkpoint\\assets\n",
      "14/14 [==============================] - 1s 65ms/step - loss: 1.1021 - accuracy: 0.7648 - val_loss: 1.2790 - val_accuracy: 0.7182\n",
      "Epoch 4/20\n",
      "13/14 [==========================>...] - ETA: 0s - loss: 0.8829 - accuracy: 0.8125INFO:tensorflow:Assets written to: ./reuter\\checkpoint\\assets\n",
      "14/14 [==============================] - 1s 61ms/step - loss: 0.8810 - accuracy: 0.8126 - val_loss: 1.1919 - val_accuracy: 0.7302\n",
      "Epoch 5/20\n",
      "13/14 [==========================>...] - ETA: 0s - loss: 0.7126 - accuracy: 0.8516INFO:tensorflow:Assets written to: ./reuter\\checkpoint\\assets\n",
      "14/14 [==============================] - 1s 64ms/step - loss: 0.7148 - accuracy: 0.8508 - val_loss: 1.1480 - val_accuracy: 0.7507\n",
      "Epoch 6/20\n",
      "13/14 [==========================>...] - ETA: 0s - loss: 0.5809 - accuracy: 0.8834INFO:tensorflow:Assets written to: ./reuter\\checkpoint\\assets\n",
      "14/14 [==============================] - 1s 62ms/step - loss: 0.5808 - accuracy: 0.8832 - val_loss: 1.0834 - val_accuracy: 0.7614\n",
      "Epoch 7/20\n",
      "13/14 [==========================>...] - ETA: 0s - loss: 0.4787 - accuracy: 0.9029INFO:tensorflow:Assets written to: ./reuter\\checkpoint\\assets\n",
      "14/14 [==============================] - 1s 63ms/step - loss: 0.4769 - accuracy: 0.9034 - val_loss: 1.0517 - val_accuracy: 0.7796\n",
      "Epoch 8/20\n",
      "12/14 [========================>.....] - ETA: 0s - loss: 0.3878 - accuracy: 0.9211INFO:tensorflow:Assets written to: ./reuter\\checkpoint\\assets\n",
      "14/14 [==============================] - 1s 63ms/step - loss: 0.3874 - accuracy: 0.9215 - val_loss: 1.0409 - val_accuracy: 0.7832\n",
      "Epoch 9/20\n",
      "13/14 [==========================>...] - ETA: 0s - loss: 0.3142 - accuracy: 0.9386INFO:tensorflow:Assets written to: ./reuter\\checkpoint\\assets\n",
      "14/14 [==============================] - 1s 69ms/step - loss: 0.3158 - accuracy: 0.9382 - val_loss: 1.0387 - val_accuracy: 0.7850\n",
      "Epoch 10/20\n",
      "14/14 [==============================] - 0s 27ms/step - loss: 0.2669 - accuracy: 0.9434 - val_loss: 1.0796 - val_accuracy: 0.7774\n",
      "Epoch 11/20\n",
      "14/14 [==============================] - 0s 30ms/step - loss: 0.2261 - accuracy: 0.9513 - val_loss: 1.0549 - val_accuracy: 0.7752\n",
      "Epoch 12/20\n",
      "14/14 [==============================] - 0s 26ms/step - loss: 0.1917 - accuracy: 0.9553 - val_loss: 1.1031 - val_accuracy: 0.7823\n",
      "Epoch 13/20\n",
      "14/14 [==============================] - 0s 31ms/step - loss: 0.1697 - accuracy: 0.9556 - val_loss: 1.1733 - val_accuracy: 0.7716\n",
      "Epoch 14/20\n",
      "14/14 [==============================] - 0s 28ms/step - loss: 0.1529 - accuracy: 0.9589 - val_loss: 1.0871 - val_accuracy: 0.7876\n",
      "Epoch 15/20\n",
      "14/14 [==============================] - 0s 27ms/step - loss: 0.1368 - accuracy: 0.9599 - val_loss: 1.2548 - val_accuracy: 0.7502\n",
      "Epoch 16/20\n",
      "14/14 [==============================] - 0s 30ms/step - loss: 0.1315 - accuracy: 0.9617 - val_loss: 1.1504 - val_accuracy: 0.7752\n",
      "Epoch 17/20\n",
      "14/14 [==============================] - 0s 28ms/step - loss: 0.1192 - accuracy: 0.9621 - val_loss: 1.1803 - val_accuracy: 0.7832\n",
      "Epoch 18/20\n",
      "14/14 [==============================] - 0s 31ms/step - loss: 0.1090 - accuracy: 0.9635 - val_loss: 1.2047 - val_accuracy: 0.7707\n",
      "Epoch 19/20\n",
      "14/14 [==============================] - 0s 29ms/step - loss: 0.1060 - accuracy: 0.9639 - val_loss: 1.2331 - val_accuracy: 0.7720\n"
     ]
    },
    {
     "data": {
      "text/plain": [
       "<keras.callbacks.History at 0x23813d3a650>"
      ]
     },
     "execution_count": 36,
     "metadata": {},
     "output_type": "execute_result"
    }
   ],
   "source": [
    "model.fit(X_train, \n",
    "            y_train,\n",
    "            epochs=20,\n",
    "            batch_size=512,\n",
    "            validation_data=(X_val,y_val),\n",
    "            callbacks=my_callback)"
   ]
  },
  {
   "cell_type": "code",
   "execution_count": 37,
   "metadata": {},
   "outputs": [
    {
     "name": "stdout",
     "output_type": "stream",
     "text": [
      "71/71 [==============================] - 0s 3ms/step - loss: 1.2392 - accuracy: 0.7729\n"
     ]
    },
    {
     "data": {
      "text/plain": [
       "[1.2392115592956543, 0.7729296684265137]"
      ]
     },
     "execution_count": 37,
     "metadata": {},
     "output_type": "execute_result"
    }
   ],
   "source": [
    "model.evaluate(X_test, y_test)"
   ]
  },
  {
   "cell_type": "code",
   "execution_count": null,
   "metadata": {},
   "outputs": [],
   "source": [
    "### modual check 하는법\n",
    "# dir(ModelCheckpoint)\n",
    "# ModelCheckpoint??"
   ]
  },
  {
   "cell_type": "markdown",
   "metadata": {},
   "source": [
    "## 3. mnist"
   ]
  },
  {
   "cell_type": "code",
   "execution_count": 39,
   "metadata": {},
   "outputs": [],
   "source": [
    "from keras.datasets import mnist"
   ]
  },
  {
   "cell_type": "code",
   "execution_count": 40,
   "metadata": {},
   "outputs": [],
   "source": [
    "(X_train, y_train), (X_test, y_test) = mnist.load_data()"
   ]
  },
  {
   "cell_type": "code",
   "execution_count": 43,
   "metadata": {},
   "outputs": [
    {
     "data": {
      "text/plain": [
       "(60000, 28, 28)"
      ]
     },
     "execution_count": 43,
     "metadata": {},
     "output_type": "execute_result"
    }
   ],
   "source": [
    "X_train.shape"
   ]
  },
  {
   "cell_type": "code",
   "execution_count": 52,
   "metadata": {},
   "outputs": [],
   "source": [
    "input_shape = X_train.shape[1:]\n",
    "\n",
    "model = Sequential(\n",
    "    [\n",
    "        Flatten(input_shape=input_shape),\n",
    "        Dense(100,activation=\"relu\"),\n",
    "        Dense(100,activation=\"relu\"),\n",
    "        Dense(10,activation=\"softmax\")\n",
    "    ]\n",
    ")"
   ]
  },
  {
   "cell_type": "code",
   "execution_count": 53,
   "metadata": {},
   "outputs": [],
   "source": [
    "optimizer = \"rmsprop\"\n",
    "loss = \"sparse_categorical_crossentropy\"\n",
    "metrics = [\"sparse_categorical_accuracy\"]\n",
    "\n",
    "model.compile(optimizer=optimizer,\n",
    "                loss=loss,\n",
    "                metrics=metrics)"
   ]
  },
  {
   "cell_type": "code",
   "execution_count": 54,
   "metadata": {},
   "outputs": [
    {
     "name": "stdout",
     "output_type": "stream",
     "text": [
      "Epoch 1/20\n",
      "60/60 [==============================] - 1s 9ms/step - loss: 11.0434 - sparse_categorical_accuracy: 0.7272 - val_loss: 2.5632 - val_sparse_categorical_accuracy: 0.8424\n",
      "Epoch 2/20\n",
      "60/60 [==============================] - 1s 10ms/step - loss: 1.5821 - sparse_categorical_accuracy: 0.8847 - val_loss: 1.0349 - val_sparse_categorical_accuracy: 0.9080\n",
      "Epoch 3/20\n",
      "60/60 [==============================] - 0s 8ms/step - loss: 0.8078 - sparse_categorical_accuracy: 0.9189 - val_loss: 0.7093 - val_sparse_categorical_accuracy: 0.9261\n",
      "Epoch 4/20\n",
      "60/60 [==============================] - 0s 8ms/step - loss: 0.5076 - sparse_categorical_accuracy: 0.9365 - val_loss: 0.6175 - val_sparse_categorical_accuracy: 0.9268\n",
      "Epoch 5/20\n",
      "60/60 [==============================] - 0s 8ms/step - loss: 0.3601 - sparse_categorical_accuracy: 0.9483 - val_loss: 0.4491 - val_sparse_categorical_accuracy: 0.9426\n",
      "Epoch 6/20\n",
      "60/60 [==============================] - 1s 9ms/step - loss: 0.2807 - sparse_categorical_accuracy: 0.9555 - val_loss: 0.4379 - val_sparse_categorical_accuracy: 0.9451\n",
      "Epoch 7/20\n",
      "60/60 [==============================] - 0s 8ms/step - loss: 0.2109 - sparse_categorical_accuracy: 0.9637 - val_loss: 0.4578 - val_sparse_categorical_accuracy: 0.9430\n",
      "Epoch 8/20\n",
      "60/60 [==============================] - 0s 8ms/step - loss: 0.1844 - sparse_categorical_accuracy: 0.9657 - val_loss: 0.4412 - val_sparse_categorical_accuracy: 0.9513\n",
      "Epoch 9/20\n",
      "60/60 [==============================] - 0s 8ms/step - loss: 0.1399 - sparse_categorical_accuracy: 0.9734 - val_loss: 0.4204 - val_sparse_categorical_accuracy: 0.9502\n",
      "Epoch 10/20\n",
      "60/60 [==============================] - 0s 8ms/step - loss: 0.1295 - sparse_categorical_accuracy: 0.9748 - val_loss: 0.4343 - val_sparse_categorical_accuracy: 0.9510\n",
      "Epoch 11/20\n",
      "60/60 [==============================] - 1s 10ms/step - loss: 0.1174 - sparse_categorical_accuracy: 0.9758 - val_loss: 0.3681 - val_sparse_categorical_accuracy: 0.9572\n",
      "Epoch 12/20\n",
      "60/60 [==============================] - 1s 9ms/step - loss: 0.0925 - sparse_categorical_accuracy: 0.9793 - val_loss: 0.4161 - val_sparse_categorical_accuracy: 0.9581\n",
      "Epoch 13/20\n",
      "60/60 [==============================] - 0s 8ms/step - loss: 0.0809 - sparse_categorical_accuracy: 0.9823 - val_loss: 0.3891 - val_sparse_categorical_accuracy: 0.9562\n",
      "Epoch 14/20\n",
      "60/60 [==============================] - 1s 9ms/step - loss: 0.0774 - sparse_categorical_accuracy: 0.9833 - val_loss: 0.4253 - val_sparse_categorical_accuracy: 0.9587\n",
      "Epoch 15/20\n",
      "60/60 [==============================] - 0s 8ms/step - loss: 0.0662 - sparse_categorical_accuracy: 0.9854 - val_loss: 0.4201 - val_sparse_categorical_accuracy: 0.9585\n",
      "Epoch 16/20\n",
      "60/60 [==============================] - 1s 9ms/step - loss: 0.0665 - sparse_categorical_accuracy: 0.9854 - val_loss: 0.5607 - val_sparse_categorical_accuracy: 0.9471\n",
      "Epoch 17/20\n",
      "60/60 [==============================] - 0s 8ms/step - loss: 0.0572 - sparse_categorical_accuracy: 0.9875 - val_loss: 0.4255 - val_sparse_categorical_accuracy: 0.9606\n",
      "Epoch 18/20\n",
      "60/60 [==============================] - 1s 9ms/step - loss: 0.0546 - sparse_categorical_accuracy: 0.9880 - val_loss: 0.3655 - val_sparse_categorical_accuracy: 0.9648\n",
      "Epoch 19/20\n",
      "60/60 [==============================] - 0s 8ms/step - loss: 0.0513 - sparse_categorical_accuracy: 0.9883 - val_loss: 0.3776 - val_sparse_categorical_accuracy: 0.9638\n",
      "Epoch 20/20\n",
      "60/60 [==============================] - 1s 10ms/step - loss: 0.0459 - sparse_categorical_accuracy: 0.9895 - val_loss: 0.4204 - val_sparse_categorical_accuracy: 0.9613\n"
     ]
    },
    {
     "data": {
      "text/plain": [
       "<keras.callbacks.History at 0x23813d2fb20>"
      ]
     },
     "execution_count": 54,
     "metadata": {},
     "output_type": "execute_result"
    }
   ],
   "source": [
    "model.fit(X_train,\n",
    "            y_train, \n",
    "            epochs=20,\n",
    "            batch_size=1000,\n",
    "            validation_data=(X_test,y_test))"
   ]
  },
  {
   "cell_type": "code",
   "execution_count": 55,
   "metadata": {},
   "outputs": [
    {
     "name": "stdout",
     "output_type": "stream",
     "text": [
      "313/313 [==============================] - 1s 1ms/step - loss: 0.4204 - sparse_categorical_accuracy: 0.9613\n"
     ]
    },
    {
     "data": {
      "text/plain": [
       "[0.42040297389030457, 0.9613000154495239]"
      ]
     },
     "execution_count": 55,
     "metadata": {},
     "output_type": "execute_result"
    }
   ],
   "source": [
    "model.evaluate(X_test, y_test)"
   ]
  }
 ],
 "metadata": {
  "kernelspec": {
   "display_name": "Python 3.10.4 ('keras1')",
   "language": "python",
   "name": "python3"
  },
  "language_info": {
   "codemirror_mode": {
    "name": "ipython",
    "version": 3
   },
   "file_extension": ".py",
   "mimetype": "text/x-python",
   "name": "python",
   "nbconvert_exporter": "python",
   "pygments_lexer": "ipython3",
   "version": "3.10.4"
  },
  "orig_nbformat": 4,
  "vscode": {
   "interpreter": {
    "hash": "97d615c32c382542d37f2f9f703f3c770d4a36deabb2babf3fd797ec770d93cb"
   }
  }
 },
 "nbformat": 4,
 "nbformat_minor": 2
}
