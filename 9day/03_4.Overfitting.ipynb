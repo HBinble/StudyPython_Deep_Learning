{
 "cells": [
  {
   "cell_type": "code",
   "execution_count": 9,
   "metadata": {},
   "outputs": [],
   "source": [
    "## 기본 모듈\n",
    "import numpy as np\n",
    "import pandas as pd\n",
    "import matplotlib.pyplot as plt\n",
    "\n",
    "from sklearn.model_selection import train_test_split\n",
    "\n",
    "## 딥러닝 모듈\n",
    "import tensorflow\n",
    "from tensorflow import keras\n",
    "from keras.models import Sequential, Model\n",
    "from keras.layers import Input, Dense, Flatten, Conv2D, MaxPooling2D\n",
    "from keras.layers import BatchNormalization, Dropout\n",
    "from keras.utils import to_categorical\n",
    "from keras.losses import MSE\n",
    "from keras.optimizers import Adam\n",
    "from keras.callbacks import TensorBoard, EarlyStopping, ModelCheckpoint"
   ]
  },
  {
   "cell_type": "markdown",
   "metadata": {},
   "source": [
    "## 1. imdb datasets --> Overfiiting / Underfitting"
   ]
  },
  {
   "cell_type": "code",
   "execution_count": 14,
   "metadata": {},
   "outputs": [],
   "source": [
    "from keras.datasets import imdb"
   ]
  },
  {
   "cell_type": "code",
   "execution_count": 15,
   "metadata": {},
   "outputs": [],
   "source": [
    "(X_train, y_train), (X_test, y_test) = imdb.load_data(num_words=10000)"
   ]
  },
  {
   "cell_type": "code",
   "execution_count": 16,
   "metadata": {},
   "outputs": [],
   "source": [
    "def vectorizer(doc,dim):\n",
    "    result = np.zeros((len(doc),dim))\n",
    "    for idx, doc in enumerate(doc):\n",
    "        result[idx, doc] = 1\n",
    "    return result"
   ]
  },
  {
   "cell_type": "code",
   "execution_count": 17,
   "metadata": {},
   "outputs": [],
   "source": [
    "X_train = vectorizer(X_train, 10000)\n",
    "X_test = vectorizer(X_test, 10000)\n",
    "\n",
    "input_shape = X_train.shape[1:]\n",
    "\n",
    "model1 = Sequential(\n",
    "    [\n",
    "        Dense(64,activation='relu',input_shape=input_shape),\n",
    "        Dense(64,activation='relu'),\n",
    "        Dense(1,activation='sigmoid')\n",
    "    ]\n",
    ")\n",
    "\n",
    "model2 = Sequential(\n",
    "    [\n",
    "        Dense(6,activation='relu',input_shape=input_shape),\n",
    "        Dense(6,activation='relu'),\n",
    "        Dense(1,activation='sigmoid')\n",
    "    ]\n",
    ")"
   ]
  },
  {
   "cell_type": "code",
   "execution_count": 19,
   "metadata": {},
   "outputs": [],
   "source": [
    "opt = 'rmsprop'\n",
    "loss = 'binary_crossentropy'\n",
    "metrics = ['accuracy']\n",
    "\n",
    "model1.compile(optimizer=opt,\n",
    "              loss=loss,\n",
    "              metrics=metrics)\n",
    "\n",
    "model2.compile(optimizer=opt,\n",
    "              loss=loss,\n",
    "              metrics=metrics)"
   ]
  },
  {
   "cell_type": "code",
   "execution_count": 36,
   "metadata": {},
   "outputs": [
    {
     "name": "stdout",
     "output_type": "stream",
     "text": [
      "Epoch 1/20\n",
      "49/49 [==============================] - 9s 189ms/step - loss: 0.0204 - accuracy: 0.9961 - val_loss: 1.1929 - val_accuracy: 0.8602\n",
      "Epoch 2/20\n",
      "49/49 [==============================] - 2s 38ms/step - loss: 5.1018e-05 - accuracy: 1.0000 - val_loss: 1.2369 - val_accuracy: 0.8604\n",
      "Epoch 3/20\n",
      "49/49 [==============================] - 2s 36ms/step - loss: 2.8734e-05 - accuracy: 1.0000 - val_loss: 1.3356 - val_accuracy: 0.8597\n",
      "Epoch 4/20\n",
      "49/49 [==============================] - 2s 33ms/step - loss: 0.0236 - accuracy: 0.9960 - val_loss: 1.3628 - val_accuracy: 0.8565\n",
      "Epoch 5/20\n",
      "49/49 [==============================] - 2s 34ms/step - loss: 3.4561e-05 - accuracy: 1.0000 - val_loss: 1.3920 - val_accuracy: 0.8568\n",
      "Epoch 6/20\n",
      "49/49 [==============================] - 2s 34ms/step - loss: 1.3418e-05 - accuracy: 1.0000 - val_loss: 1.4294 - val_accuracy: 0.8576\n",
      "Epoch 7/20\n",
      "49/49 [==============================] - 2s 32ms/step - loss: 6.3864e-06 - accuracy: 1.0000 - val_loss: 1.5408 - val_accuracy: 0.8578\n",
      "Epoch 8/20\n",
      "49/49 [==============================] - 2s 31ms/step - loss: 0.0264 - accuracy: 0.9968 - val_loss: 1.5568 - val_accuracy: 0.8552\n",
      "Epoch 9/20\n",
      "49/49 [==============================] - 2s 31ms/step - loss: 6.8716e-06 - accuracy: 1.0000 - val_loss: 1.5629 - val_accuracy: 0.8557\n",
      "Epoch 10/20\n",
      "49/49 [==============================] - 2s 31ms/step - loss: 3.4437e-06 - accuracy: 1.0000 - val_loss: 1.5887 - val_accuracy: 0.8569\n",
      "Epoch 11/20\n",
      "49/49 [==============================] - 2s 33ms/step - loss: 1.8767e-06 - accuracy: 1.0000 - val_loss: 1.6552 - val_accuracy: 0.8570\n",
      "Epoch 12/20\n",
      "49/49 [==============================] - 1s 31ms/step - loss: 0.0230 - accuracy: 0.9966 - val_loss: 1.6623 - val_accuracy: 0.8573\n",
      "Epoch 13/20\n",
      "49/49 [==============================] - 2s 31ms/step - loss: 9.8080e-07 - accuracy: 1.0000 - val_loss: 1.6643 - val_accuracy: 0.8579\n",
      "Epoch 14/20\n",
      "49/49 [==============================] - 2s 33ms/step - loss: 7.3866e-07 - accuracy: 1.0000 - val_loss: 1.6719 - val_accuracy: 0.8573\n",
      "Epoch 15/20\n",
      "49/49 [==============================] - 2s 32ms/step - loss: 6.1669e-07 - accuracy: 1.0000 - val_loss: 1.6991 - val_accuracy: 0.8578\n",
      "Epoch 16/20\n",
      "49/49 [==============================] - 2s 33ms/step - loss: 4.3743e-07 - accuracy: 1.0000 - val_loss: 1.7830 - val_accuracy: 0.8576\n",
      "Epoch 17/20\n",
      "49/49 [==============================] - 1s 30ms/step - loss: 0.0305 - accuracy: 0.9969 - val_loss: 1.9150 - val_accuracy: 0.8482\n",
      "Epoch 18/20\n",
      "49/49 [==============================] - 2s 33ms/step - loss: 1.3089e-05 - accuracy: 1.0000 - val_loss: 1.8691 - val_accuracy: 0.8530\n",
      "Epoch 19/20\n",
      "49/49 [==============================] - 2s 35ms/step - loss: 2.0408e-06 - accuracy: 1.0000 - val_loss: 1.8747 - val_accuracy: 0.8550\n",
      "Epoch 20/20\n",
      "49/49 [==============================] - 2s 38ms/step - loss: 7.2582e-07 - accuracy: 1.0000 - val_loss: 1.8758 - val_accuracy: 0.8563\n",
      "Epoch 1/20\n",
      "49/49 [==============================] - 8s 159ms/step - loss: 0.0403 - accuracy: 0.9908 - val_loss: 0.5867 - val_accuracy: 0.8571\n",
      "Epoch 2/20\n",
      "49/49 [==============================] - 1s 27ms/step - loss: 0.0367 - accuracy: 0.9910 - val_loss: 0.6111 - val_accuracy: 0.8533\n",
      "Epoch 3/20\n",
      "49/49 [==============================] - 1s 22ms/step - loss: 0.0327 - accuracy: 0.9925 - val_loss: 0.6461 - val_accuracy: 0.8490\n",
      "Epoch 4/20\n",
      "49/49 [==============================] - 1s 23ms/step - loss: 0.0306 - accuracy: 0.9934 - val_loss: 0.6731 - val_accuracy: 0.8534\n",
      "Epoch 5/20\n",
      "49/49 [==============================] - 1s 22ms/step - loss: 0.0270 - accuracy: 0.9941 - val_loss: 0.7080 - val_accuracy: 0.8447\n",
      "Epoch 6/20\n",
      "49/49 [==============================] - 1s 22ms/step - loss: 0.0241 - accuracy: 0.9946 - val_loss: 0.7197 - val_accuracy: 0.8486\n",
      "Epoch 7/20\n",
      "49/49 [==============================] - 1s 21ms/step - loss: 0.0220 - accuracy: 0.9952 - val_loss: 0.7509 - val_accuracy: 0.8488\n",
      "Epoch 8/20\n",
      "49/49 [==============================] - 1s 23ms/step - loss: 0.0195 - accuracy: 0.9961 - val_loss: 0.7771 - val_accuracy: 0.8468\n",
      "Epoch 9/20\n",
      "49/49 [==============================] - 1s 21ms/step - loss: 0.0175 - accuracy: 0.9966 - val_loss: 0.8084 - val_accuracy: 0.8469\n",
      "Epoch 10/20\n",
      "49/49 [==============================] - 1s 21ms/step - loss: 0.0157 - accuracy: 0.9974 - val_loss: 0.8338 - val_accuracy: 0.8452\n",
      "Epoch 11/20\n",
      "49/49 [==============================] - 1s 21ms/step - loss: 0.0136 - accuracy: 0.9976 - val_loss: 0.8792 - val_accuracy: 0.8461\n",
      "Epoch 12/20\n",
      "49/49 [==============================] - 1s 21ms/step - loss: 0.0123 - accuracy: 0.9979 - val_loss: 0.9057 - val_accuracy: 0.8451\n",
      "Epoch 13/20\n",
      "49/49 [==============================] - 1s 21ms/step - loss: 0.0108 - accuracy: 0.9983 - val_loss: 0.9261 - val_accuracy: 0.8442\n",
      "Epoch 14/20\n",
      "49/49 [==============================] - 1s 21ms/step - loss: 0.0099 - accuracy: 0.9982 - val_loss: 0.9616 - val_accuracy: 0.8428\n",
      "Epoch 15/20\n",
      "49/49 [==============================] - 1s 22ms/step - loss: 0.0078 - accuracy: 0.9990 - val_loss: 0.9963 - val_accuracy: 0.8428\n",
      "Epoch 16/20\n",
      "49/49 [==============================] - 1s 22ms/step - loss: 0.0071 - accuracy: 0.9990 - val_loss: 1.0364 - val_accuracy: 0.8428\n",
      "Epoch 17/20\n",
      "49/49 [==============================] - 1s 21ms/step - loss: 0.0060 - accuracy: 0.9992 - val_loss: 1.0691 - val_accuracy: 0.8414\n",
      "Epoch 18/20\n",
      "49/49 [==============================] - 1s 23ms/step - loss: 0.0058 - accuracy: 0.9991 - val_loss: 1.0971 - val_accuracy: 0.8413\n",
      "Epoch 19/20\n",
      "49/49 [==============================] - 1s 21ms/step - loss: 0.0051 - accuracy: 0.9992 - val_loss: 1.1291 - val_accuracy: 0.8421\n",
      "Epoch 20/20\n",
      "49/49 [==============================] - 1s 21ms/step - loss: 0.0039 - accuracy: 0.9994 - val_loss: 1.1538 - val_accuracy: 0.8394\n"
     ]
    },
    {
     "data": {
      "text/plain": [
       "<keras.callbacks.History at 0x15f77b45270>"
      ]
     },
     "execution_count": 36,
     "metadata": {},
     "output_type": "execute_result"
    }
   ],
   "source": [
    "model1.fit(X_train,\n",
    "          y_train,\n",
    "          epochs=20,\n",
    "          batch_size=512,\n",
    "          validation_data=(X_test,y_test))\n",
    "\n",
    "model2.fit(X_train,\n",
    "          y_train,\n",
    "          epochs=20,\n",
    "          batch_size=512,\n",
    "          validation_data=(X_test,y_test))"
   ]
  },
  {
   "cell_type": "code",
   "execution_count": 21,
   "metadata": {},
   "outputs": [
    {
     "name": "stdout",
     "output_type": "stream",
     "text": [
      "782/782 [==============================] - 3s 4ms/step - loss: 1.2082 - accuracy: 0.8606\n",
      "782/782 [==============================] - 2s 3ms/step - loss: 0.5627 - accuracy: 0.8542\n"
     ]
    },
    {
     "data": {
      "text/plain": [
       "[0.5627316832542419, 0.8542400002479553]"
      ]
     },
     "execution_count": 21,
     "metadata": {},
     "output_type": "execute_result"
    }
   ],
   "source": [
    "# model1.evaluate(X_test, y_test)\n",
    "# model2.evaluate(X_test, y_test)"
   ]
  },
  {
   "cell_type": "code",
   "execution_count": 37,
   "metadata": {},
   "outputs": [
    {
     "data": {
      "text/plain": [
       "0.9964339941740036"
      ]
     },
     "execution_count": 37,
     "metadata": {},
     "output_type": "execute_result"
    }
   ],
   "source": [
    "np.array(model1.history.history[\"accuracy\"]).mean()\n",
    "np.array(model2.history.history[\"accuracy\"]).mean()"
   ]
  },
  {
   "cell_type": "code",
   "execution_count": 38,
   "metadata": {},
   "outputs": [
    {
     "data": {
      "text/plain": [
       "0.8460879981517792"
      ]
     },
     "execution_count": 38,
     "metadata": {},
     "output_type": "execute_result"
    }
   ],
   "source": [
    "np.array(model1.history.history[\"val_accuracy\"]).mean()\n",
    "np.array(model2.history.history[\"val_accuracy\"]).mean()"
   ]
  },
  {
   "cell_type": "code",
   "execution_count": 39,
   "metadata": {},
   "outputs": [
    {
     "data": {
      "text/plain": [
       "0.022603918519914723"
      ]
     },
     "execution_count": 39,
     "metadata": {},
     "output_type": "execute_result"
    }
   ],
   "source": [
    "np.sum(np.square(np.array(model2.history.history[\"accuracy\"]).mean() - np.array(model2.history.history[\"val_accuracy\"]).mean()))"
   ]
  },
  {
   "cell_type": "code",
   "execution_count": 40,
   "metadata": {},
   "outputs": [
    {
     "data": {
      "text/plain": [
       "0.020275480124892775"
      ]
     },
     "execution_count": 40,
     "metadata": {},
     "output_type": "execute_result"
    }
   ],
   "source": [
    "np.sum(np.square(np.array(model1.history.history[\"accuracy\"]).mean() - np.array(model1.history.history[\"val_accuracy\"]).mean()))"
   ]
  }
 ],
 "metadata": {
  "kernelspec": {
   "display_name": "Python 3.10.4 ('keras1')",
   "language": "python",
   "name": "python3"
  },
  "language_info": {
   "codemirror_mode": {
    "name": "ipython",
    "version": 3
   },
   "file_extension": ".py",
   "mimetype": "text/x-python",
   "name": "python",
   "nbconvert_exporter": "python",
   "pygments_lexer": "ipython3",
   "version": "3.10.4"
  },
  "orig_nbformat": 4,
  "vscode": {
   "interpreter": {
    "hash": "97d615c32c382542d37f2f9f703f3c770d4a36deabb2babf3fd797ec770d93cb"
   }
  }
 },
 "nbformat": 4,
 "nbformat_minor": 2
}
