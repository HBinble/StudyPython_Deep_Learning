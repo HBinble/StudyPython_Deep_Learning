{
 "cells": [
  {
   "cell_type": "code",
   "execution_count": 71,
   "metadata": {},
   "outputs": [],
   "source": [
    "## 기본 모듈\n",
    "import numpy as np\n",
    "import pandas as pd\n",
    "import matplotlib.pyplot as plt\n",
    "\n",
    "## 딥러닝 모듈\n",
    "import tensorflow\n",
    "from tensorflow import keras\n",
    "from keras.models import Sequential, Model\n",
    "from keras.layers import Dense, Flatten, BatchNormalization, Input\n",
    "from keras.layers import Conv2D, MaxPooling2D\n",
    "from keras.utils import to_categorical\n",
    "from sklearn.model_selection import train_test_split\n",
    "from keras.callbacks import TensorBoard, EarlyStopping"
   ]
  },
  {
   "cell_type": "code",
   "execution_count": 77,
   "metadata": {},
   "outputs": [],
   "source": [
    "### datasets\n",
    "from keras.datasets import cifar10"
   ]
  },
  {
   "cell_type": "code",
   "execution_count": 78,
   "metadata": {},
   "outputs": [],
   "source": [
    "(X_train_full, y_train_full), (X_test, y_test) = cifar10.load_data()"
   ]
  },
  {
   "cell_type": "code",
   "execution_count": 79,
   "metadata": {},
   "outputs": [],
   "source": [
    "X_train, X_val, y_train, y_val = train_test_split(X_train_full, y_train_full)"
   ]
  },
  {
   "cell_type": "code",
   "execution_count": 80,
   "metadata": {},
   "outputs": [
    {
     "name": "stdout",
     "output_type": "stream",
     "text": [
      "(37500, 32, 32, 3) (37500, 1)\n",
      "(10000, 32, 32, 3) (10000, 1)\n"
     ]
    }
   ],
   "source": [
    "print(X_train.shape, y_train.shape)\n",
    "print(X_test.shape, y_test.shape)"
   ]
  },
  {
   "cell_type": "code",
   "execution_count": 81,
   "metadata": {},
   "outputs": [
    {
     "data": {
      "image/png": "[encoded data removed]",
      "text/plain": [
       "<Figure size 432x288 with 1 Axes>"
      ]
     },
     "metadata": {
      "needs_background": "light"
     },
     "output_type": "display_data"
    }
   ],
   "source": [
    "plt.imshow(X_train[0])\n",
    "plt.show()"
   ]
  },
  {
   "cell_type": "code",
   "execution_count": 82,
   "metadata": {},
   "outputs": [],
   "source": [
    "y_train = to_categorical(y_train)\n",
    "y_val = to_categorical(y_val)\n",
    "y_test = to_categorical(y_test)"
   ]
  },
  {
   "cell_type": "code",
   "execution_count": 83,
   "metadata": {},
   "outputs": [],
   "source": [
    "cifar_dic = {\n",
    "    \"airplane\" : 0,\n",
    "    \"automobile\" : 1,\n",
    "    \"bird\" : 2,\n",
    "    \"cat\" : 3,\n",
    "    \"deer\" : 4,\n",
    "    \"dog\" : 5,\n",
    "    \"frog\" : 6,\n",
    "    \"horse\" : 7,\n",
    "    \"ship\" : 8,\n",
    "    \"truck\" : 9,\n",
    "}"
   ]
  },
  {
   "cell_type": "code",
   "execution_count": 84,
   "metadata": {},
   "outputs": [],
   "source": [
    "cifar_dic = {v:k for k,v in cifar_dic.items()}"
   ]
  },
  {
   "cell_type": "code",
   "execution_count": 85,
   "metadata": {},
   "outputs": [
    {
     "data": {
      "text/plain": [
       "'dog'"
      ]
     },
     "execution_count": 85,
     "metadata": {},
     "output_type": "execute_result"
    }
   ],
   "source": [
    "cifar_dic[5]"
   ]
  },
  {
   "cell_type": "code",
   "execution_count": 86,
   "metadata": {},
   "outputs": [
    {
     "data": {
      "text/plain": [
       "6"
      ]
     },
     "execution_count": 86,
     "metadata": {},
     "output_type": "execute_result"
    }
   ],
   "source": [
    "np.argmax(y_train[0])"
   ]
  },
  {
   "cell_type": "code",
   "execution_count": 87,
   "metadata": {},
   "outputs": [],
   "source": [
    "input_shape = X_train.shape[1:]\n",
    "output_shape = y_train.shape[1]"
   ]
  },
  {
   "cell_type": "code",
   "execution_count": 88,
   "metadata": {},
   "outputs": [
    {
     "data": {
      "text/plain": [
       "(32, 32, 3)"
      ]
     },
     "execution_count": 88,
     "metadata": {},
     "output_type": "execute_result"
    }
   ],
   "source": [
    "input_shape\n",
    "# 32*32*3"
   ]
  },
  {
   "cell_type": "code",
   "execution_count": 94,
   "metadata": {},
   "outputs": [],
   "source": [
    "model = Sequential(\n",
    "    [\n",
    "    Flatten(input_shape=input_shape),\n",
    "    Dense(1024,activation=\"relu\"),\n",
    "    Dense(512,activation=\"relu\"),\n",
    "    # Dense(256,activation=\"relu\"),\n",
    "    Dense(128,activation=\"relu\"),\n",
    "    Dense(output_shape,activation=\"softmax\"),\n",
    "    ]\n",
    ")"
   ]
  },
  {
   "cell_type": "code",
   "execution_count": 95,
   "metadata": {},
   "outputs": [
    {
     "name": "stdout",
     "output_type": "stream",
     "text": [
      "Model: \"sequential_5\"\n",
      "_________________________________________________________________\n",
      " Layer (type)                Output Shape              Param #   \n",
      "=================================================================\n",
      " flatten_4 (Flatten)         (None, 3072)              0         \n",
      "                                                                 \n",
      " dense_18 (Dense)            (None, 1024)              3146752   \n",
      "                                                                 \n",
      " dense_19 (Dense)            (None, 512)               524800    \n",
      "                                                                 \n",
      " dense_20 (Dense)            (None, 128)               65664     \n",
      "                                                                 \n",
      " dense_21 (Dense)            (None, 10)                1290      \n",
      "                                                                 \n",
      "=================================================================\n",
      "Total params: 3,738,506\n",
      "Trainable params: 3,738,506\n",
      "Non-trainable params: 0\n",
      "_________________________________________________________________\n"
     ]
    }
   ],
   "source": [
    "model.summary()"
   ]
  },
  {
   "cell_type": "code",
   "execution_count": 60,
   "metadata": {},
   "outputs": [],
   "source": [
    "opt = \"rmsprop\"\n",
    "loss = \"categorical_crossentropy\"\n",
    "metrics = [\"accuracy\"]\n",
    "model.compile(\n",
    "    optimizer=opt,\n",
    "    loss=loss,\n",
    "    metrics=metrics\n",
    ")"
   ]
  },
  {
   "cell_type": "code",
   "execution_count": 90,
   "metadata": {},
   "outputs": [],
   "source": [
    "cifar10_callback = [EarlyStopping(patience=20,\n",
    "                                restore_best_weights=True),\n",
    "                    TensorBoard(log_dir=\"./cifar10_logs\")]\n"
   ]
  },
  {
   "cell_type": "code",
   "execution_count": 62,
   "metadata": {},
   "outputs": [
    {
     "name": "stdout",
     "output_type": "stream",
     "text": [
      "Epoch 1/20\n",
      "94/94 [==============================] - 8s 80ms/step - loss: 352.9753 - accuracy: 0.1090 - val_loss: 2.8519 - val_accuracy: 0.0752\n",
      "Epoch 2/20\n",
      "94/94 [==============================] - 8s 88ms/step - loss: 6.6266 - accuracy: 0.1001 - val_loss: 2.3056 - val_accuracy: 0.1015\n",
      "Epoch 3/20\n",
      "94/94 [==============================] - 9s 96ms/step - loss: 5.2407 - accuracy: 0.1010 - val_loss: 13.6587 - val_accuracy: 0.0990\n",
      "Epoch 4/20\n",
      "94/94 [==============================] - 10s 101ms/step - loss: 2.4641 - accuracy: 0.0995 - val_loss: 2.3030 - val_accuracy: 0.0942\n",
      "Epoch 5/20\n",
      "94/94 [==============================] - 10s 104ms/step - loss: 2.5394 - accuracy: 0.1004 - val_loss: 2.3028 - val_accuracy: 0.0946\n",
      "Epoch 6/20\n",
      "94/94 [==============================] - 9s 99ms/step - loss: 2.3158 - accuracy: 0.1023 - val_loss: 2.3027 - val_accuracy: 0.0946\n",
      "Epoch 7/20\n",
      "94/94 [==============================] - 10s 105ms/step - loss: 2.3520 - accuracy: 0.1017 - val_loss: 2.3027 - val_accuracy: 0.0950\n",
      "Epoch 8/20\n",
      "94/94 [==============================] - 9s 98ms/step - loss: 2.3021 - accuracy: 0.1015 - val_loss: 2.3029 - val_accuracy: 0.0944\n",
      "Epoch 9/20\n",
      "94/94 [==============================] - 9s 97ms/step - loss: 2.3025 - accuracy: 0.0990 - val_loss: 2.3031 - val_accuracy: 0.0947\n",
      "Epoch 10/20\n",
      "94/94 [==============================] - 9s 95ms/step - loss: 2.3018 - accuracy: 0.1021 - val_loss: 2.3107 - val_accuracy: 0.0947\n",
      "Epoch 11/20\n",
      "94/94 [==============================] - 9s 101ms/step - loss: 2.3026 - accuracy: 0.1011 - val_loss: 2.3028 - val_accuracy: 0.0945\n",
      "Epoch 12/20\n",
      "94/94 [==============================] - 10s 104ms/step - loss: 2.3232 - accuracy: 0.1015 - val_loss: 2.3028 - val_accuracy: 0.0946\n",
      "Epoch 13/20\n",
      "94/94 [==============================] - 9s 101ms/step - loss: 2.3019 - accuracy: 0.1018 - val_loss: 2.3030 - val_accuracy: 0.0946\n",
      "Epoch 14/20\n",
      "94/94 [==============================] - 10s 107ms/step - loss: 2.3022 - accuracy: 0.1015 - val_loss: 2.3573 - val_accuracy: 0.0971\n",
      "Epoch 15/20\n",
      "94/94 [==============================] - 10s 106ms/step - loss: 2.3026 - accuracy: 0.1032 - val_loss: 2.3023 - val_accuracy: 0.0947\n",
      "Epoch 16/20\n",
      "94/94 [==============================] - 10s 103ms/step - loss: 2.3050 - accuracy: 0.1024 - val_loss: 2.3027 - val_accuracy: 0.0944\n",
      "Epoch 17/20\n",
      "94/94 [==============================] - 9s 99ms/step - loss: 2.3018 - accuracy: 0.1023 - val_loss: 2.3034 - val_accuracy: 0.0948\n",
      "Epoch 18/20\n",
      "94/94 [==============================] - 9s 99ms/step - loss: 2.3019 - accuracy: 0.1024 - val_loss: 2.3023 - val_accuracy: 0.0946\n",
      "Epoch 19/20\n",
      "94/94 [==============================] - 9s 100ms/step - loss: 2.3015 - accuracy: 0.1025 - val_loss: 2.3069 - val_accuracy: 0.0955\n",
      "Epoch 20/20\n",
      "94/94 [==============================] - 8s 87ms/step - loss: 2.3049 - accuracy: 0.1026 - val_loss: 2.3032 - val_accuracy: 0.0950\n"
     ]
    },
    {
     "data": {
      "text/plain": [
       "<keras.callbacks.History at 0x19bbda62d40>"
      ]
     },
     "execution_count": 62,
     "metadata": {},
     "output_type": "execute_result"
    }
   ],
   "source": [
    "model.fit(X_train,\n",
    "            y_train,\n",
    "            epochs=20,\n",
    "            batch_size=400,\n",
    "            validation_data=(X_val,y_val),\n",
    "            callbacks=cifar10_callback)"
   ]
  },
  {
   "cell_type": "code",
   "execution_count": 67,
   "metadata": {},
   "outputs": [
    {
     "data": {
      "text/plain": [
       "<matplotlib.image.AxesImage at 0x19bc1eb5270>"
      ]
     },
     "execution_count": 67,
     "metadata": {},
     "output_type": "execute_result"
    },
    {
     "data": {
      "image/png": "[encoded data removed]",
      "text/plain": [
       "<Figure size 432x288 with 1 Axes>"
      ]
     },
     "metadata": {
      "needs_background": "light"
     },
     "output_type": "display_data"
    }
   ],
   "source": [
    "plt.imshow(X_train[5])"
   ]
  },
  {
   "cell_type": "code",
   "execution_count": 128,
   "metadata": {},
   "outputs": [],
   "source": [
    "### Conv2D\n",
    "model1 = Sequential(\n",
    "    [\n",
    "        Conv2D(100,(3,3),activation=\"relu\",input_shape=input_shape),\n",
    "        MaxPooling2D((2,2)),\n",
    "        Conv2D(50,(2,2),activation=\"relu\"),\n",
    "        MaxPooling2D((3,3)),\n",
    "        Conv2D(30,(2,2),activation=\"relu\"),\n",
    "        MaxPooling2D((2,2)),\n",
    "        Flatten(),\n",
    "        Dense(512,activation=\"relu\"),\n",
    "        Dense(output_shape, activation=\"softmax\")\n",
    "    ]\n",
    ")\n",
    "\n",
    "model2 = Sequential(\n",
    "    [\n",
    "        Conv2D(30,(3,3),activation=\"relu\",input_shape=input_shape),\n",
    "        MaxPooling2D((2,2)),\n",
    "        Conv2D(50,(2,2),activation=\"relu\"),\n",
    "        MaxPooling2D((3,3)),\n",
    "        Conv2D(100,(2,2),activation=\"relu\"),\n",
    "        MaxPooling2D((2,2)),\n",
    "        Flatten(),\n",
    "        Dense(512,activation=\"relu\"),\n",
    "        Dense(output_shape, activation=\"softmax\")\n",
    "    ]\n",
    ")"
   ]
  },
  {
   "cell_type": "code",
   "execution_count": 129,
   "metadata": {},
   "outputs": [
    {
     "name": "stdout",
     "output_type": "stream",
     "text": [
      "Model: \"sequential_12\"\n",
      "_________________________________________________________________\n",
      " Layer (type)                Output Shape              Param #   \n",
      "=================================================================\n",
      " conv2d_17 (Conv2D)          (None, 30, 30, 100)       2800      \n",
      "                                                                 \n",
      " max_pooling2d_17 (MaxPoolin  (None, 15, 15, 100)      0         \n",
      " g2D)                                                            \n",
      "                                                                 \n",
      " conv2d_18 (Conv2D)          (None, 14, 14, 50)        20050     \n",
      "                                                                 \n",
      " max_pooling2d_18 (MaxPoolin  (None, 4, 4, 50)         0         \n",
      " g2D)                                                            \n",
      "                                                                 \n",
      " conv2d_19 (Conv2D)          (None, 3, 3, 30)          6030      \n",
      "                                                                 \n",
      " max_pooling2d_19 (MaxPoolin  (None, 1, 1, 30)         0         \n",
      " g2D)                                                            \n",
      "                                                                 \n",
      " flatten_9 (Flatten)         (None, 30)                0         \n",
      "                                                                 \n",
      " dense_28 (Dense)            (None, 512)               15872     \n",
      "                                                                 \n",
      " dense_29 (Dense)            (None, 10)                5130      \n",
      "                                                                 \n",
      "=================================================================\n",
      "Total params: 49,882\n",
      "Trainable params: 49,882\n",
      "Non-trainable params: 0\n",
      "_________________________________________________________________\n",
      "Model: \"sequential_13\"\n",
      "_________________________________________________________________\n",
      " Layer (type)                Output Shape              Param #   \n",
      "=================================================================\n",
      " conv2d_20 (Conv2D)          (None, 30, 30, 30)        840       \n",
      "                                                                 \n",
      " max_pooling2d_20 (MaxPoolin  (None, 15, 15, 30)       0         \n",
      " g2D)                                                            \n",
      "                                                                 \n",
      " conv2d_21 (Conv2D)          (None, 14, 14, 50)        6050      \n",
      "                                                                 \n",
      " max_pooling2d_21 (MaxPoolin  (None, 4, 4, 50)         0         \n",
      " g2D)                                                            \n",
      "                                                                 \n",
      " conv2d_22 (Conv2D)          (None, 3, 3, 100)         20100     \n",
      "                                                                 \n",
      " max_pooling2d_22 (MaxPoolin  (None, 1, 1, 100)        0         \n",
      " g2D)                                                            \n",
      "                                                                 \n",
      " flatten_10 (Flatten)        (None, 100)               0         \n",
      "                                                                 \n",
      " dense_30 (Dense)            (None, 512)               51712     \n",
      "                                                                 \n",
      " dense_31 (Dense)            (None, 10)                5130      \n",
      "                                                                 \n",
      "=================================================================\n",
      "Total params: 83,832\n",
      "Trainable params: 83,832\n",
      "Non-trainable params: 0\n",
      "_________________________________________________________________\n"
     ]
    }
   ],
   "source": [
    "model1.summary()\n",
    "model2.summary()"
   ]
  },
  {
   "cell_type": "code",
   "execution_count": 121,
   "metadata": {},
   "outputs": [
    {
     "data": {
      "text/plain": [
       "(1, 32, 32, 3, 3, 100)"
      ]
     },
     "execution_count": 121,
     "metadata": {},
     "output_type": "execute_result"
    }
   ],
   "source": [
    "# # \n",
    "# len(model.layers[0].get_weights())\n",
    "\n",
    "# model1.layers[0].get_weights()[0].shape\n",
    "\n",
    "# X_train[[0]].shape\n",
    "\n",
    "# np.dot(X_train[[0]],model.layers[0].get_weights()[0]).shape"
   ]
  },
  {
   "cell_type": "code",
   "execution_count": 130,
   "metadata": {},
   "outputs": [],
   "source": [
    "opt = \"rmsprop\"\n",
    "loss = \"categorical_crossentropy\"\n",
    "metrics = [\"accuracy\"]\n",
    "\n",
    "model1.compile(\n",
    "    optimizer=opt,\n",
    "    loss=loss,\n",
    "    metrics=metrics\n",
    ")\n",
    "\n",
    "model2.compile(\n",
    "    optimizer=opt,\n",
    "    loss=loss,\n",
    "    metrics=metrics\n",
    ")"
   ]
  },
  {
   "cell_type": "code",
   "execution_count": 132,
   "metadata": {},
   "outputs": [],
   "source": [
    "cifar10_callbacks = [\n",
    "    EarlyStopping(patience=20, restore_best_weights=True),\n",
    "    TensorBoard(log_dir=\"./cifar10_logs\")]\n",
    "\n",
    "# cifar10_callbacks = [\n",
    "#     keras.callbacks.EarlyStopping(patience=20, restore_best_weights=True),\n",
    "#     keras.callbacks.TensorBoard(log_dir=\"./cifar10_logs\")]"
   ]
  },
  {
   "cell_type": "code",
   "execution_count": 133,
   "metadata": {},
   "outputs": [
    {
     "name": "stdout",
     "output_type": "stream",
     "text": [
      "Epoch 1/20\n",
      "1172/1172 [==============================] - 50s 42ms/step - loss: 1.9932 - accuracy: 0.2821 - val_loss: 1.7561 - val_accuracy: 0.3556\n",
      "Epoch 2/20\n",
      "1172/1172 [==============================] - 55s 47ms/step - loss: 1.7280 - accuracy: 0.3742 - val_loss: 1.6627 - val_accuracy: 0.3887\n",
      "Epoch 3/20\n",
      "1172/1172 [==============================] - 56s 48ms/step - loss: 1.6280 - accuracy: 0.4174 - val_loss: 1.6284 - val_accuracy: 0.4186\n",
      "Epoch 4/20\n",
      "1172/1172 [==============================] - 56s 48ms/step - loss: 1.5767 - accuracy: 0.4354 - val_loss: 1.8457 - val_accuracy: 0.3856\n",
      "Epoch 5/20\n",
      "1172/1172 [==============================] - 56s 48ms/step - loss: 1.5484 - accuracy: 0.4462 - val_loss: 1.5806 - val_accuracy: 0.4300\n",
      "Epoch 6/20\n",
      "1172/1172 [==============================] - 56s 48ms/step - loss: 1.5289 - accuracy: 0.4601 - val_loss: 1.5413 - val_accuracy: 0.4549\n",
      "Epoch 7/20\n",
      "1172/1172 [==============================] - 58s 50ms/step - loss: 1.5152 - accuracy: 0.4630 - val_loss: 1.4829 - val_accuracy: 0.4588\n",
      "Epoch 8/20\n",
      "1172/1172 [==============================] - 58s 49ms/step - loss: 1.5021 - accuracy: 0.4671 - val_loss: 1.6720 - val_accuracy: 0.4256\n",
      "Epoch 9/20\n",
      "1172/1172 [==============================] - 57s 49ms/step - loss: 1.4995 - accuracy: 0.4710 - val_loss: 1.4905 - val_accuracy: 0.4650\n",
      "Epoch 10/20\n",
      "1172/1172 [==============================] - 57s 48ms/step - loss: 1.4987 - accuracy: 0.4743 - val_loss: 1.4654 - val_accuracy: 0.4770\n",
      "Epoch 11/20\n",
      "1172/1172 [==============================] - 57s 49ms/step - loss: 1.4924 - accuracy: 0.4739 - val_loss: 1.6882 - val_accuracy: 0.4464\n",
      "Epoch 12/20\n",
      "1172/1172 [==============================] - 56s 48ms/step - loss: 1.4907 - accuracy: 0.4778 - val_loss: 1.4736 - val_accuracy: 0.4816\n",
      "Epoch 13/20\n",
      "1172/1172 [==============================] - 57s 49ms/step - loss: 1.4795 - accuracy: 0.4823 - val_loss: 1.4768 - val_accuracy: 0.4822\n",
      "Epoch 14/20\n",
      "1172/1172 [==============================] - 56s 48ms/step - loss: 1.4718 - accuracy: 0.4835 - val_loss: 1.5944 - val_accuracy: 0.4711\n",
      "Epoch 15/20\n",
      "1172/1172 [==============================] - 56s 48ms/step - loss: 1.4662 - accuracy: 0.4843 - val_loss: 1.4597 - val_accuracy: 0.4948\n",
      "Epoch 16/20\n",
      "1172/1172 [==============================] - 57s 49ms/step - loss: 1.4692 - accuracy: 0.4830 - val_loss: 1.4836 - val_accuracy: 0.4853\n",
      "Epoch 17/20\n",
      "1172/1172 [==============================] - 59s 50ms/step - loss: 1.4597 - accuracy: 0.4910 - val_loss: 1.4798 - val_accuracy: 0.4667\n",
      "Epoch 18/20\n",
      "1172/1172 [==============================] - 59s 50ms/step - loss: 1.4514 - accuracy: 0.4960 - val_loss: 1.5359 - val_accuracy: 0.4649\n",
      "Epoch 19/20\n",
      "1172/1172 [==============================] - 58s 50ms/step - loss: 1.4587 - accuracy: 0.4913 - val_loss: 1.4516 - val_accuracy: 0.4949\n",
      "Epoch 20/20\n",
      "1172/1172 [==============================] - 59s 50ms/step - loss: 1.4647 - accuracy: 0.4905 - val_loss: 1.5887 - val_accuracy: 0.4366\n",
      "Epoch 1/20\n",
      "1172/1172 [==============================] - 32s 25ms/step - loss: 2.1051 - accuracy: 0.2909 - val_loss: 1.7869 - val_accuracy: 0.3597\n",
      "Epoch 2/20\n",
      "1172/1172 [==============================] - 29s 24ms/step - loss: 1.6671 - accuracy: 0.4018 - val_loss: 1.7204 - val_accuracy: 0.3852\n",
      "Epoch 3/20\n",
      "1172/1172 [==============================] - 28s 24ms/step - loss: 1.5861 - accuracy: 0.4398 - val_loss: 1.6156 - val_accuracy: 0.4405\n",
      "Epoch 4/20\n",
      "1172/1172 [==============================] - 28s 24ms/step - loss: 1.5556 - accuracy: 0.4565 - val_loss: 1.5423 - val_accuracy: 0.4635\n",
      "Epoch 5/20\n",
      "1172/1172 [==============================] - 29s 25ms/step - loss: 1.5273 - accuracy: 0.4657 - val_loss: 1.6314 - val_accuracy: 0.4335\n",
      "Epoch 6/20\n",
      "1172/1172 [==============================] - 29s 24ms/step - loss: 1.5119 - accuracy: 0.4719 - val_loss: 1.6409 - val_accuracy: 0.4362\n",
      "Epoch 7/20\n",
      "1172/1172 [==============================] - 29s 24ms/step - loss: 1.5110 - accuracy: 0.4751 - val_loss: 1.4783 - val_accuracy: 0.4702\n",
      "Epoch 8/20\n",
      "1172/1172 [==============================] - 29s 25ms/step - loss: 1.4973 - accuracy: 0.4774 - val_loss: 1.8230 - val_accuracy: 0.3986\n",
      "Epoch 9/20\n",
      "1172/1172 [==============================] - 29s 25ms/step - loss: 1.4788 - accuracy: 0.4833 - val_loss: 1.5528 - val_accuracy: 0.4712\n",
      "Epoch 10/20\n",
      "1172/1172 [==============================] - 30s 25ms/step - loss: 1.4800 - accuracy: 0.4859 - val_loss: 1.5174 - val_accuracy: 0.4599\n",
      "Epoch 11/20\n",
      "1172/1172 [==============================] - 29s 24ms/step - loss: 1.4770 - accuracy: 0.4886 - val_loss: 1.4358 - val_accuracy: 0.4964\n",
      "Epoch 12/20\n",
      "1172/1172 [==============================] - 29s 25ms/step - loss: 1.4729 - accuracy: 0.4905 - val_loss: 1.5289 - val_accuracy: 0.4767\n",
      "Epoch 13/20\n",
      "1172/1172 [==============================] - 29s 24ms/step - loss: 1.4571 - accuracy: 0.4947 - val_loss: 1.4378 - val_accuracy: 0.5070\n",
      "Epoch 14/20\n",
      "1172/1172 [==============================] - 34s 29ms/step - loss: 1.4498 - accuracy: 0.4968 - val_loss: 1.5045 - val_accuracy: 0.4877\n",
      "Epoch 15/20\n",
      "1172/1172 [==============================] - 30s 26ms/step - loss: 1.4487 - accuracy: 0.5011 - val_loss: 1.4543 - val_accuracy: 0.4892\n",
      "Epoch 16/20\n",
      "1172/1172 [==============================] - 31s 27ms/step - loss: 1.4428 - accuracy: 0.5015 - val_loss: 1.4932 - val_accuracy: 0.4890\n",
      "Epoch 17/20\n",
      "1172/1172 [==============================] - 30s 25ms/step - loss: 1.4295 - accuracy: 0.5088 - val_loss: 1.4039 - val_accuracy: 0.5089\n",
      "Epoch 18/20\n",
      "1172/1172 [==============================] - 30s 26ms/step - loss: 1.4329 - accuracy: 0.5069 - val_loss: 1.4532 - val_accuracy: 0.5110\n",
      "Epoch 19/20\n",
      "1172/1172 [==============================] - 30s 25ms/step - loss: 1.4220 - accuracy: 0.5157 - val_loss: 1.4955 - val_accuracy: 0.5055\n",
      "Epoch 20/20\n",
      "1172/1172 [==============================] - 28s 24ms/step - loss: 1.4227 - accuracy: 0.5101 - val_loss: 1.6234 - val_accuracy: 0.4426\n"
     ]
    },
    {
     "data": {
      "text/plain": [
       "<keras.callbacks.History at 0x19b82fe3af0>"
      ]
     },
     "execution_count": 133,
     "metadata": {},
     "output_type": "execute_result"
    }
   ],
   "source": [
    "model1.fit(X_train,\n",
    "            y_train,\n",
    "            epochs=20,\n",
    "            validation_data=(X_val,y_val),\n",
    "            callbacks=cifar10_callbacks)\n",
    "\n",
    "model2.fit(X_train,\n",
    "            y_train,\n",
    "            epochs=20,\n",
    "            validation_data=(X_val,y_val),\n",
    "            callbacks=cifar10_callbacks)"
   ]
  },
  {
   "cell_type": "code",
   "execution_count": 134,
   "metadata": {},
   "outputs": [
    {
     "name": "stdout",
     "output_type": "stream",
     "text": [
      "313/313 [==============================] - 4s 12ms/step - loss: 1.5978 - accuracy: 0.4339\n",
      "[1.59779691696167, 0.43389999866485596]\n",
      "313/313 [==============================] - 2s 7ms/step - loss: 1.6281 - accuracy: 0.4440\n",
      "[1.628085732460022, 0.4440000057220459]\n"
     ]
    }
   ],
   "source": [
    "print(model1.evaluate(X_test,y_test))\n",
    "print(model2.evaluate(X_test,y_test))"
   ]
  },
  {
   "cell_type": "code",
   "execution_count": 135,
   "metadata": {},
   "outputs": [
    {
     "data": {
      "text/plain": [
       "(1, 32, 32, 3, 3, 100)"
      ]
     },
     "execution_count": 135,
     "metadata": {},
     "output_type": "execute_result"
    }
   ],
   "source": [
    "(np.dot(X_train[0:1],model1.layers[0].get_weights()[0]) + model1.layers[0].get_weights()[1]).shape"
   ]
  },
  {
   "cell_type": "code",
   "execution_count": 136,
   "metadata": {},
   "outputs": [
    {
     "name": "stdout",
     "output_type": "stream",
     "text": [
      "Model: \"sequential_12\"\n",
      "_________________________________________________________________\n",
      " Layer (type)                Output Shape              Param #   \n",
      "=================================================================\n",
      " conv2d_17 (Conv2D)          (None, 30, 30, 100)       2800      \n",
      "                                                                 \n",
      " max_pooling2d_17 (MaxPoolin  (None, 15, 15, 100)      0         \n",
      " g2D)                                                            \n",
      "                                                                 \n",
      " conv2d_18 (Conv2D)          (None, 14, 14, 50)        20050     \n",
      "                                                                 \n",
      " max_pooling2d_18 (MaxPoolin  (None, 4, 4, 50)         0         \n",
      " g2D)                                                            \n",
      "                                                                 \n",
      " conv2d_19 (Conv2D)          (None, 3, 3, 30)          6030      \n",
      "                                                                 \n",
      " max_pooling2d_19 (MaxPoolin  (None, 1, 1, 30)         0         \n",
      " g2D)                                                            \n",
      "                                                                 \n",
      " flatten_9 (Flatten)         (None, 30)                0         \n",
      "                                                                 \n",
      " dense_28 (Dense)            (None, 512)               15872     \n",
      "                                                                 \n",
      " dense_29 (Dense)            (None, 10)                5130      \n",
      "                                                                 \n",
      "=================================================================\n",
      "Total params: 49,882\n",
      "Trainable params: 49,882\n",
      "Non-trainable params: 0\n",
      "_________________________________________________________________\n"
     ]
    }
   ],
   "source": [
    "model1.summary()"
   ]
  }
 ],
 "metadata": {
  "kernelspec": {
   "display_name": "Python 3.10.4 ('keras1')",
   "language": "python",
   "name": "python3"
  },
  "language_info": {
   "codemirror_mode": {
    "name": "ipython",
    "version": 3
   },
   "file_extension": ".py",
   "mimetype": "text/x-python",
   "name": "python",
   "nbconvert_exporter": "python",
   "pygments_lexer": "ipython3",
   "version": "3.10.4"
  },
  "orig_nbformat": 4,
  "vscode": {
   "interpreter": {
    "hash": "97d615c32c382542d37f2f9f703f3c770d4a36deabb2babf3fd797ec770d93cb"
   }
  }
 },
 "nbformat": 4,
 "nbformat_minor": 2
}
